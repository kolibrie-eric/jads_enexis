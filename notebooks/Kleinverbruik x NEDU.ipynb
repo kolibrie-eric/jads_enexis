{
 "metadata": {
  "language_info": {
   "codemirror_mode": {
    "name": "ipython",
    "version": 3
   },
   "file_extension": ".py",
   "mimetype": "text/x-python",
   "name": "python",
   "nbconvert_exporter": "python",
   "pygments_lexer": "ipython3",
   "version": "3.8.5-final"
  },
  "orig_nbformat": 2,
  "kernelspec": {
   "name": "python3",
   "display_name": "Python 3",
   "language": "python"
  }
 },
 "nbformat": 4,
 "nbformat_minor": 2,
 "cells": [
  {
   "source": [
    "## Verrijkte kleinverbruikergegevens\n",
    "Creer een nieuwe dataset obv de NEDU profielen en de kleinverbruikergegevens. De nieuwe dataset bevat dan het kleinverbruik per dag per postcode.\n",
    "\n",
    "De stappen die genomen worden zijn:\n",
    "\n",
    "1. Inlezen h5 bestanden met de NEDU profielen en kleinverbruikergegevens\n",
    "2. Voeg profiel toe aan kleinverbruikergegevens\n",
    "3. Transformeer NEDU profielen set tot een verbruik per dag ipv verbruik per kwartier\n",
    "4. Nieuw dataframe opbouwen met per dag de volgende data:\n",
    "* Datum\n",
    "* Verbruik\n",
    "* Postcode\n",
    "* Aantal aansluitingen\n",
    "\n",
    "Om het juiste profiel te bepalen nemen we 2 dingen mee:\n",
    "* Wat is percentage meters met een Laag/Hoog tarief. Als dit percentage lager is dan 30% wordt het gebied in een A profiel gezet.\n",
    "* Ligt het gebied in Noord of Zuid-Nederland. Dit wordt gebruikt om te bepalen of het gebied een E1B of E1C profiel krijgt.\n",
    "\n",
    "Het verbruik wordt berekend door het verbruik van het profiel behorende bij de postcode te sommeren voor een dag."
   ],
   "cell_type": "markdown",
   "metadata": {}
  },
  {
   "cell_type": "code",
   "execution_count": 1,
   "metadata": {},
   "outputs": [],
   "source": [
    "import pandas as pd\n",
    "import numpy as np\n",
    "import os\n",
    "\n",
    "# show all columns in the dataframe\n",
    "pd.set_option('max_columns', None)"
   ]
  },
  {
   "cell_type": "code",
   "execution_count": 2,
   "metadata": {},
   "outputs": [],
   "source": [
    "# variables used in script\n",
    "data_processed_location = '../data/processed'\n",
    "\n",
    "if 'processed' not in os.getcwd():\n",
    "    os.chdir(data_processed_location)\n",
    "\n",
    "# kleinverbruikgegevens gegevens inlezen\n",
    "df_verbruik = pd.read_hdf('kleinverbruikgegevens_data.h5')\n",
    "\n",
    "# NEDU profielen\n",
    "df_nedu_profielen = pd.read_hdf('nedu_files.h5')"
   ]
  },
  {
   "cell_type": "code",
   "execution_count": 3,
   "metadata": {},
   "outputs": [
    {
     "output_type": "execute_result",
     "data": {
      "text/plain": [
       "array(['1X25', '3X25', '1X35', '3X35', '3X63', '1X40', '3X80', '3X50',\n",
       "       '1X20', '3X40', '1x25', '3x25', '1x35', '1x40', '3x35', '3x63',\n",
       "       '3x80', '3x50', '3x40', '1x20'], dtype=object)"
      ]
     },
     "metadata": {},
     "execution_count": 3
    }
   ],
   "source": [
    "# Laat alle soorten aansluitingen zien\n",
    "df_verbruik.SOORT_AANSLUITING.unique()"
   ]
  },
  {
   "cell_type": "code",
   "execution_count": 4,
   "metadata": {
    "tags": []
   },
   "outputs": [
    {
     "output_type": "execute_result",
     "data": {
      "text/plain": [
       "  NETBEHEERDER NETGEBIED STRAATNAAM POSTCODE_VAN POSTCODE_TOT WOONPLAATS  \\\n",
       "0  Enexis B.V.    ENEXIS    Sasdijk       4251AB       4251AB  WERKENDAM   \n",
       "1  Enexis B.V.    ENEXIS    Sasdijk       4251AC       4251AC  WERKENDAM   \n",
       "2  Enexis B.V.    ENEXIS    Sasdijk       4251AD       4251AD  WERKENDAM   \n",
       "3  Enexis B.V.    ENEXIS  Nieuweweg       4251AE       4251AG  WERKENDAM   \n",
       "4  Enexis B.V.    ENEXIS  Koppenhof       4251AH       4251AH  WERKENDAM   \n",
       "\n",
       "  LANDCODE PRODUCTSOORT VERBRUIKSSEGMENT  LEVERINGSRICHTING_PERC  \\\n",
       "0       NL          ELK              KVB                   100.0   \n",
       "1       NL          ELK              KVB                   100.0   \n",
       "2       NL          ELK              KVB                   100.0   \n",
       "3       NL          ELK              KVB                   100.0   \n",
       "4       NL          ELK              KVB                   100.0   \n",
       "\n",
       "   AANSLUITINGEN_AANTAL  FYSIEKE_STATUS_PERC  SOORT_AANSLUITING_PERC  \\\n",
       "0                    16                  100                     0.0   \n",
       "1                    11                  100                     0.0   \n",
       "2                    30                  100                     0.0   \n",
       "3                    21                  100                     0.0   \n",
       "4                    12                  100                     0.0   \n",
       "\n",
       "  SOORT_AANSLUITING  SJV_GEMIDDELD  SJV_LAAG_TARIEF_PERC  SLIMME_METER_PERC  \\\n",
       "0              1X25         4282.0                  25.0                0.0   \n",
       "1              1X25         5113.0                  10.0                0.0   \n",
       "2              3X25         4809.0                  34.0                0.0   \n",
       "3              1X25         5015.0                  44.0                0.0   \n",
       "4              1X25         3074.0                  22.0                0.0   \n",
       "\n",
       "   JAAR   PC4  SJV_TOTAAL PROFIEL  \n",
       "0  2010  4251        69.0     E1A  \n",
       "1  2010  4251        56.0     E1A  \n",
       "2  2010  4251       144.0     E1C  \n",
       "3  2010  4251       105.0     E1C  \n",
       "4  2010  4251        37.0     E1A  "
      ],
      "text/html": "<div>\n<style scoped>\n    .dataframe tbody tr th:only-of-type {\n        vertical-align: middle;\n    }\n\n    .dataframe tbody tr th {\n        vertical-align: top;\n    }\n\n    .dataframe thead th {\n        text-align: right;\n    }\n</style>\n<table border=\"1\" class=\"dataframe\">\n  <thead>\n    <tr style=\"text-align: right;\">\n      <th></th>\n      <th>NETBEHEERDER</th>\n      <th>NETGEBIED</th>\n      <th>STRAATNAAM</th>\n      <th>POSTCODE_VAN</th>\n      <th>POSTCODE_TOT</th>\n      <th>WOONPLAATS</th>\n      <th>LANDCODE</th>\n      <th>PRODUCTSOORT</th>\n      <th>VERBRUIKSSEGMENT</th>\n      <th>LEVERINGSRICHTING_PERC</th>\n      <th>AANSLUITINGEN_AANTAL</th>\n      <th>FYSIEKE_STATUS_PERC</th>\n      <th>SOORT_AANSLUITING_PERC</th>\n      <th>SOORT_AANSLUITING</th>\n      <th>SJV_GEMIDDELD</th>\n      <th>SJV_LAAG_TARIEF_PERC</th>\n      <th>SLIMME_METER_PERC</th>\n      <th>JAAR</th>\n      <th>PC4</th>\n      <th>SJV_TOTAAL</th>\n      <th>PROFIEL</th>\n    </tr>\n  </thead>\n  <tbody>\n    <tr>\n      <th>0</th>\n      <td>Enexis B.V.</td>\n      <td>ENEXIS</td>\n      <td>Sasdijk</td>\n      <td>4251AB</td>\n      <td>4251AB</td>\n      <td>WERKENDAM</td>\n      <td>NL</td>\n      <td>ELK</td>\n      <td>KVB</td>\n      <td>100.0</td>\n      <td>16</td>\n      <td>100</td>\n      <td>0.0</td>\n      <td>1X25</td>\n      <td>4282.0</td>\n      <td>25.0</td>\n      <td>0.0</td>\n      <td>2010</td>\n      <td>4251</td>\n      <td>69.0</td>\n      <td>E1A</td>\n    </tr>\n    <tr>\n      <th>1</th>\n      <td>Enexis B.V.</td>\n      <td>ENEXIS</td>\n      <td>Sasdijk</td>\n      <td>4251AC</td>\n      <td>4251AC</td>\n      <td>WERKENDAM</td>\n      <td>NL</td>\n      <td>ELK</td>\n      <td>KVB</td>\n      <td>100.0</td>\n      <td>11</td>\n      <td>100</td>\n      <td>0.0</td>\n      <td>1X25</td>\n      <td>5113.0</td>\n      <td>10.0</td>\n      <td>0.0</td>\n      <td>2010</td>\n      <td>4251</td>\n      <td>56.0</td>\n      <td>E1A</td>\n    </tr>\n    <tr>\n      <th>2</th>\n      <td>Enexis B.V.</td>\n      <td>ENEXIS</td>\n      <td>Sasdijk</td>\n      <td>4251AD</td>\n      <td>4251AD</td>\n      <td>WERKENDAM</td>\n      <td>NL</td>\n      <td>ELK</td>\n      <td>KVB</td>\n      <td>100.0</td>\n      <td>30</td>\n      <td>100</td>\n      <td>0.0</td>\n      <td>3X25</td>\n      <td>4809.0</td>\n      <td>34.0</td>\n      <td>0.0</td>\n      <td>2010</td>\n      <td>4251</td>\n      <td>144.0</td>\n      <td>E1C</td>\n    </tr>\n    <tr>\n      <th>3</th>\n      <td>Enexis B.V.</td>\n      <td>ENEXIS</td>\n      <td>Nieuweweg</td>\n      <td>4251AE</td>\n      <td>4251AG</td>\n      <td>WERKENDAM</td>\n      <td>NL</td>\n      <td>ELK</td>\n      <td>KVB</td>\n      <td>100.0</td>\n      <td>21</td>\n      <td>100</td>\n      <td>0.0</td>\n      <td>1X25</td>\n      <td>5015.0</td>\n      <td>44.0</td>\n      <td>0.0</td>\n      <td>2010</td>\n      <td>4251</td>\n      <td>105.0</td>\n      <td>E1C</td>\n    </tr>\n    <tr>\n      <th>4</th>\n      <td>Enexis B.V.</td>\n      <td>ENEXIS</td>\n      <td>Koppenhof</td>\n      <td>4251AH</td>\n      <td>4251AH</td>\n      <td>WERKENDAM</td>\n      <td>NL</td>\n      <td>ELK</td>\n      <td>KVB</td>\n      <td>100.0</td>\n      <td>12</td>\n      <td>100</td>\n      <td>0.0</td>\n      <td>1X25</td>\n      <td>3074.0</td>\n      <td>22.0</td>\n      <td>0.0</td>\n      <td>2010</td>\n      <td>4251</td>\n      <td>37.0</td>\n      <td>E1A</td>\n    </tr>\n  </tbody>\n</table>\n</div>"
     },
     "metadata": {},
     "execution_count": 4
    }
   ],
   "source": [
    "provincie_limburg = ['61', '62', '63', '64']\n",
    "provincie_brabant = ['42', '46', '47', '48', '49', '50', '51', '52', '53', '44', '55', '56', '57', '58', '60', '97']\n",
    "profiel_E1 = ['1X25','3X25', '1X20'] # de rest is profiel E2\n",
    "\n",
    "# Voeg in de kleinverbruikgegevens, het bijpassende profiel voor de soort aansluiting toe\n",
    "def vervang_door_profiel(aansluiting, postcode, percentage):\n",
    "    # Bepaal basisprofiel\n",
    "    profiel = 'E1' if aansluiting in profiel_E1 else 'E2'\n",
    "\n",
    "    # Een laag tarief percentage lager dan 30% zetten we in een A profiel\n",
    "    lh_profiel = 'A' if percentage < 30 else 'B'\n",
    "\n",
    "    # Bepaal welk laag tarief gebied de postcode zit\n",
    "    if profiel == 'E1' and lh_profiel == 'B':\n",
    "        postcode_area = postcode[:2] # PC4\n",
    "        if postcode_area in provincie_brabant or postcode_area in provincie_limburg:\n",
    "            lh_profiel = 'C'\n",
    "    return profiel + lh_profiel\n",
    "\n",
    "df_verbruik[\"PROFIEL\"] = np.vectorize(vervang_door_profiel)(df_verbruik.SOORT_AANSLUITING, df_verbruik.POSTCODE_VAN, df_verbruik.SJV_LAAG_TARIEF_PERC)\n",
    "df_verbruik.head()"
   ]
  },
  {
   "cell_type": "code",
   "execution_count": 5,
   "metadata": {
    "tags": []
   },
   "outputs": [
    {
     "output_type": "stream",
     "name": "stdout",
     "text": [
      "Aantal rijen in de NEDU set = 4018\n"
     ]
    },
    {
     "output_type": "execute_result",
     "data": {
      "text/plain": [
       "                 E1A       E1B       E1C       E2A       E2B\n",
       "DATUM                                                       \n",
       "2010-01-01  0.003261  0.003344  0.003464  0.001992  0.002531\n",
       "2010-01-02  0.003144  0.003115  0.003006  0.003491  0.003126\n",
       "2010-01-03  0.003003  0.002898  0.002952  0.003190  0.002986\n",
       "2010-01-04  0.002622  0.002546  0.002759  0.003222  0.002895\n",
       "2010-01-05  0.002518  0.002503  0.002419  0.001884  0.002260"
      ],
      "text/html": "<div>\n<style scoped>\n    .dataframe tbody tr th:only-of-type {\n        vertical-align: middle;\n    }\n\n    .dataframe tbody tr th {\n        vertical-align: top;\n    }\n\n    .dataframe thead th {\n        text-align: right;\n    }\n</style>\n<table border=\"1\" class=\"dataframe\">\n  <thead>\n    <tr style=\"text-align: right;\">\n      <th></th>\n      <th>E1A</th>\n      <th>E1B</th>\n      <th>E1C</th>\n      <th>E2A</th>\n      <th>E2B</th>\n    </tr>\n    <tr>\n      <th>DATUM</th>\n      <th></th>\n      <th></th>\n      <th></th>\n      <th></th>\n      <th></th>\n    </tr>\n  </thead>\n  <tbody>\n    <tr>\n      <th>2010-01-01</th>\n      <td>0.003261</td>\n      <td>0.003344</td>\n      <td>0.003464</td>\n      <td>0.001992</td>\n      <td>0.002531</td>\n    </tr>\n    <tr>\n      <th>2010-01-02</th>\n      <td>0.003144</td>\n      <td>0.003115</td>\n      <td>0.003006</td>\n      <td>0.003491</td>\n      <td>0.003126</td>\n    </tr>\n    <tr>\n      <th>2010-01-03</th>\n      <td>0.003003</td>\n      <td>0.002898</td>\n      <td>0.002952</td>\n      <td>0.003190</td>\n      <td>0.002986</td>\n    </tr>\n    <tr>\n      <th>2010-01-04</th>\n      <td>0.002622</td>\n      <td>0.002546</td>\n      <td>0.002759</td>\n      <td>0.003222</td>\n      <td>0.002895</td>\n    </tr>\n    <tr>\n      <th>2010-01-05</th>\n      <td>0.002518</td>\n      <td>0.002503</td>\n      <td>0.002419</td>\n      <td>0.001884</td>\n      <td>0.002260</td>\n    </tr>\n  </tbody>\n</table>\n</div>"
     },
     "metadata": {},
     "execution_count": 5
    }
   ],
   "source": [
    "from datetime import datetime\n",
    "import math\n",
    "\n",
    "# Voeg een datum kolom toe zodat we kunnen aggreren per datum per profiel\n",
    "def haal_datum_op(datum):\n",
    "    datum = pd.to_datetime(datum)\n",
    "    # Laatste rij is blijkbaar NaN. \n",
    "    if math.isnan(datum.year):\n",
    "        return ''\n",
    "    return datetime(datum.year,datum.month,datum.day)\n",
    "df_nedu_profielen[\"DATUM\"] = np.vectorize(haal_datum_op)(df_nedu_profielen.Start)\n",
    "\n",
    "# Groepeer op datum en sommeer de profielen die we nodig hebben\n",
    "df_nedu_gereduceerd = df_nedu_profielen.groupby('DATUM').agg({'E1A':'sum', 'E1B':'sum', 'E1C':'sum', 'E2A':'sum', 'E2B':'sum'})\n",
    "\n",
    "# Sorteer op datum\n",
    "df_nedu_gereduceerd = df_nedu_gereduceerd.sort_values(by='DATUM')\n",
    "print (f\"Aantal rijen in de NEDU set = {df_nedu_gereduceerd.shape[0]}\")\n",
    "\n",
    "# Check de eerste paar rijen.\n",
    "df_nedu_gereduceerd.head()"
   ]
  },
  {
   "cell_type": "code",
   "execution_count": 6,
   "metadata": {
    "tags": []
   },
   "outputs": [
    {
     "output_type": "stream",
     "name": "stdout",
     "text": [
      "Aantal rijen voor reductie = 1391390\n",
      "Aantal rijen na reductie = 1647\n",
      "Aantal E1 profielen = 19\n",
      "Aantal E2 profielen = 1628\n"
     ]
    },
    {
     "output_type": "execute_result",
     "data": {
      "text/plain": [
       "     PROFIEL  SJV_GEMIDDELD  AANSLUITINGEN_AANTAL  LEVERINGSRICHTING_PERC\n",
       "PC4                                                                      \n",
       "4251     E2B    13465001.46                 54965               96.440601\n",
       "4254     E2B     6083345.90                 27539               92.992643\n",
       "4255     E2B     3748403.28                 18855               92.143663\n",
       "4261     E2B     7353945.13                 29104               96.062108\n",
       "4264     E2B     3598768.56                 14406               96.719964"
      ],
      "text/html": "<div>\n<style scoped>\n    .dataframe tbody tr th:only-of-type {\n        vertical-align: middle;\n    }\n\n    .dataframe tbody tr th {\n        vertical-align: top;\n    }\n\n    .dataframe thead th {\n        text-align: right;\n    }\n</style>\n<table border=\"1\" class=\"dataframe\">\n  <thead>\n    <tr style=\"text-align: right;\">\n      <th></th>\n      <th>PROFIEL</th>\n      <th>SJV_GEMIDDELD</th>\n      <th>AANSLUITINGEN_AANTAL</th>\n      <th>LEVERINGSRICHTING_PERC</th>\n    </tr>\n    <tr>\n      <th>PC4</th>\n      <th></th>\n      <th></th>\n      <th></th>\n      <th></th>\n    </tr>\n  </thead>\n  <tbody>\n    <tr>\n      <th>4251</th>\n      <td>E2B</td>\n      <td>13465001.46</td>\n      <td>54965</td>\n      <td>96.440601</td>\n    </tr>\n    <tr>\n      <th>4254</th>\n      <td>E2B</td>\n      <td>6083345.90</td>\n      <td>27539</td>\n      <td>92.992643</td>\n    </tr>\n    <tr>\n      <th>4255</th>\n      <td>E2B</td>\n      <td>3748403.28</td>\n      <td>18855</td>\n      <td>92.143663</td>\n    </tr>\n    <tr>\n      <th>4261</th>\n      <td>E2B</td>\n      <td>7353945.13</td>\n      <td>29104</td>\n      <td>96.062108</td>\n    </tr>\n    <tr>\n      <th>4264</th>\n      <td>E2B</td>\n      <td>3598768.56</td>\n      <td>14406</td>\n      <td>96.719964</td>\n    </tr>\n  </tbody>\n</table>\n</div>"
     },
     "metadata": {},
     "execution_count": 6
    }
   ],
   "source": [
    "# Manier 1. Eerst aantal rijen reduceren tot PC4 en daarna NEDU data invoegen. Wat doen we dan met het profiel?\n",
    "print (f\"Aantal rijen voor reductie = {df_verbruik.shape[0]}\")\n",
    "\n",
    "# groepeer de kleinverbruiker gegevens op PC4 level. Om het gemiddelde profiel te bepalen maken we een custom functie 'bepaal_profiel', die de profielen telt\n",
    "def bepaal_profiel(series):\n",
    "    profielen = series.value_counts()\n",
    "\n",
    "    e1_counts = e2_counts = 0\n",
    "    for index, value in profielen.items():\n",
    "        if index[:2] == 'E1':\n",
    "            e1_counts = e1_counts + value\n",
    "        else:\n",
    "            e2_counts = e2_counts + value\n",
    "    #print (e1_counts, e2_counts)\n",
    "#profiel = profielen[profielen == max(profielen)].index.values[0]            \n",
    "    return 'E1B' if e1_counts > e2_counts else 'E2B'\n",
    "\n",
    "df_verbruik_gereduceerd = df_verbruik.groupby('PC4').agg({'PROFIEL':bepaal_profiel, 'SJV_GEMIDDELD':'sum', 'AANSLUITINGEN_AANTAL':'sum', 'LEVERINGSRICHTING_PERC': 'mean'})\n",
    "\n",
    "print(f\"Aantal rijen na reductie = {df_verbruik_gereduceerd.shape[0]}\")\n",
    "\n",
    "print(f\"Aantal E1 profielen = {df_verbruik_gereduceerd[df_verbruik_gereduceerd.PROFIEL == 'E1B'].shape[0]}\")\n",
    "print(f\"Aantal E2 profielen = {df_verbruik_gereduceerd[df_verbruik_gereduceerd.PROFIEL == 'E2B'].shape[0]}\")\n",
    "\n",
    "df_verbruik_gereduceerd.head()"
   ]
  },
  {
   "cell_type": "code",
   "execution_count": 7,
   "metadata": {},
   "outputs": [
    {
     "output_type": "execute_result",
     "data": {
      "text/plain": [
       "           POSTCODE  AANSLUITINGEN_AANTAL  LEVERINGSRICHTING_PERC  VERBRUIK\n",
       "2010-01-01   4251AB                    10                      34        12\n",
       "2010-01-02   4251AB                    10                      34        15"
      ],
      "text/html": "<div>\n<style scoped>\n    .dataframe tbody tr th:only-of-type {\n        vertical-align: middle;\n    }\n\n    .dataframe tbody tr th {\n        vertical-align: top;\n    }\n\n    .dataframe thead th {\n        text-align: right;\n    }\n</style>\n<table border=\"1\" class=\"dataframe\">\n  <thead>\n    <tr style=\"text-align: right;\">\n      <th></th>\n      <th>POSTCODE</th>\n      <th>AANSLUITINGEN_AANTAL</th>\n      <th>LEVERINGSRICHTING_PERC</th>\n      <th>VERBRUIK</th>\n    </tr>\n  </thead>\n  <tbody>\n    <tr>\n      <th>2010-01-01</th>\n      <td>4251AB</td>\n      <td>10</td>\n      <td>34</td>\n      <td>12</td>\n    </tr>\n    <tr>\n      <th>2010-01-02</th>\n      <td>4251AB</td>\n      <td>10</td>\n      <td>34</td>\n      <td>15</td>\n    </tr>\n  </tbody>\n</table>\n</div>"
     },
     "metadata": {},
     "execution_count": 7
    }
   ],
   "source": [
    "# Manier 2. We maken een dictionary van postcode naar {#aansluitingen, dateframe met NEDU profiel data} en zetten die om naar een dataframe\n",
    "\n",
    "# Testje met een minimale dictionary\n",
    "data = { 'POSTCODE': '4251AB', 'AANSLUITINGEN_AANTAL' : 10, 'LEVERINGSRICHTING_PERC' : 34, 'VERBRUIK': {'2010-01-01': 12, '2010-01-02': 15}}\n",
    "pd.DataFrame.from_dict(data)"
   ]
  },
  {
   "cell_type": "code",
   "execution_count": 8,
   "metadata": {
    "tags": []
   },
   "outputs": [
    {
     "output_type": "execute_result",
     "data": {
      "text/plain": [
       "           Datum Profiel  Verbruik\n",
       "0     2010-01-01     E1A  0.003261\n",
       "1     2010-01-01     E1B  0.003344\n",
       "2     2010-01-01     E1C  0.003464\n",
       "3     2010-01-01     E2A  0.001992\n",
       "4     2010-01-01     E2B  0.002531\n",
       "...          ...     ...       ...\n",
       "20085 2021-12-31     E1A  0.003380\n",
       "20086 2021-12-31     E1B  0.003566\n",
       "20087 2021-12-31     E1C  0.003775\n",
       "20088 2021-12-31     E2A  0.002839\n",
       "20089 2021-12-31     E2B  0.002962\n",
       "\n",
       "[20090 rows x 3 columns]"
      ],
      "text/html": "<div>\n<style scoped>\n    .dataframe tbody tr th:only-of-type {\n        vertical-align: middle;\n    }\n\n    .dataframe tbody tr th {\n        vertical-align: top;\n    }\n\n    .dataframe thead th {\n        text-align: right;\n    }\n</style>\n<table border=\"1\" class=\"dataframe\">\n  <thead>\n    <tr style=\"text-align: right;\">\n      <th></th>\n      <th>Datum</th>\n      <th>Profiel</th>\n      <th>Verbruik</th>\n    </tr>\n  </thead>\n  <tbody>\n    <tr>\n      <th>0</th>\n      <td>2010-01-01</td>\n      <td>E1A</td>\n      <td>0.003261</td>\n    </tr>\n    <tr>\n      <th>1</th>\n      <td>2010-01-01</td>\n      <td>E1B</td>\n      <td>0.003344</td>\n    </tr>\n    <tr>\n      <th>2</th>\n      <td>2010-01-01</td>\n      <td>E1C</td>\n      <td>0.003464</td>\n    </tr>\n    <tr>\n      <th>3</th>\n      <td>2010-01-01</td>\n      <td>E2A</td>\n      <td>0.001992</td>\n    </tr>\n    <tr>\n      <th>4</th>\n      <td>2010-01-01</td>\n      <td>E2B</td>\n      <td>0.002531</td>\n    </tr>\n    <tr>\n      <th>...</th>\n      <td>...</td>\n      <td>...</td>\n      <td>...</td>\n    </tr>\n    <tr>\n      <th>20085</th>\n      <td>2021-12-31</td>\n      <td>E1A</td>\n      <td>0.003380</td>\n    </tr>\n    <tr>\n      <th>20086</th>\n      <td>2021-12-31</td>\n      <td>E1B</td>\n      <td>0.003566</td>\n    </tr>\n    <tr>\n      <th>20087</th>\n      <td>2021-12-31</td>\n      <td>E1C</td>\n      <td>0.003775</td>\n    </tr>\n    <tr>\n      <th>20088</th>\n      <td>2021-12-31</td>\n      <td>E2A</td>\n      <td>0.002839</td>\n    </tr>\n    <tr>\n      <th>20089</th>\n      <td>2021-12-31</td>\n      <td>E2B</td>\n      <td>0.002962</td>\n    </tr>\n  </tbody>\n</table>\n<p>20090 rows × 3 columns</p>\n</div>"
     },
     "metadata": {},
     "execution_count": 8
    }
   ],
   "source": [
    "# Manier 3. We gebruik de merge methode van pandas. We proberen te mergen op profiel. Hiervoor moet het profielen dataframe wel van structuur veranderen\n",
    "# Structuur moet worden datum, profiel, verbruik. Dan kunnen we op Profiel proberen te mergen.\n",
    "\n",
    "# Dit kan vast sneller met een goede pivot of eerst een dictionary opbouwen maar het werkt\n",
    "df_transform_nedu = pd.DataFrame(columns=[\"Datum\", \"Profiel\", \"Verbruik\"])\n",
    "for index,row in df_nedu_gereduceerd.iterrows():\n",
    "    df_transform_nedu = df_transform_nedu.append({\"Datum\":index, \"Profiel\":\"E1A\", \"Verbruik\":row.E1A}, ignore_index=True)\n",
    "    df_transform_nedu = df_transform_nedu.append({\"Datum\":index, \"Profiel\":\"E1B\", \"Verbruik\":row.E1B}, ignore_index=True)\n",
    "    df_transform_nedu = df_transform_nedu.append({\"Datum\":index, \"Profiel\":\"E1C\", \"Verbruik\":row.E1C}, ignore_index=True)\n",
    "    df_transform_nedu = df_transform_nedu.append({\"Datum\":index, \"Profiel\":\"E2A\", \"Verbruik\":row.E2A}, ignore_index=True)\n",
    "    df_transform_nedu = df_transform_nedu.append({\"Datum\":index, \"Profiel\":\"E2B\", \"Verbruik\":row.E2B}, ignore_index=True)\n",
    "df_transform_nedu"
   ]
  },
  {
   "cell_type": "code",
   "execution_count": 10,
   "metadata": {
    "tags": [
     "outputPrepend"
    ]
   },
   "outputs": [
    {
     "output_type": "stream",
     "name": "stdout",
     "text": [
      "nvoegen profielen en verbruiksdata voor 9655..done in 0.8s\n",
      "1359. Samenvoegen profielen en verbruiksdata voor 9656..done in 0.8s\n",
      "1360. Samenvoegen profielen en verbruiksdata voor 9657..done in 0.8s\n",
      "1361. Samenvoegen profielen en verbruiksdata voor 9658..done in 0.8s\n",
      "1362. Samenvoegen profielen en verbruiksdata voor 9659..done in 0.9s\n",
      "1363. Samenvoegen profielen en verbruiksdata voor 9661..done in 1.0s\n",
      "1364. Samenvoegen profielen en verbruiksdata voor 9662..done in 0.9s\n",
      "1365. Samenvoegen profielen en verbruiksdata voor 9663..done in 1.5s\n",
      "1366. Samenvoegen profielen en verbruiksdata voor 9665..done in 1.9s\n",
      "1367. Samenvoegen profielen en verbruiksdata voor 9671..done in 1.5s\n",
      "1368. Samenvoegen profielen en verbruiksdata voor 9672..done in 0.9s\n",
      "1369. Samenvoegen profielen en verbruiksdata voor 9673..done in 1.2s\n",
      "1370. Samenvoegen profielen en verbruiksdata voor 9674..done in 1.2s\n",
      "1371. Samenvoegen profielen en verbruiksdata voor 9675..done in 1.7s\n",
      "1372. Samenvoegen profielen en verbruiksdata voor 9677..done in 1.1s\n",
      "1373. Samenvoegen profielen en verbruiksdata voor 9678..done in 1.0s\n",
      "1374. Samenvoegen profielen en verbruiksdata voor 9679..done in 1.4s\n",
      "1375. Samenvoegen profielen en verbruiksdata voor 9681..done in 1.1s\n",
      "1376. Samenvoegen profielen en verbruiksdata voor 9682..done in 1.0s\n",
      "1377. Samenvoegen profielen en verbruiksdata voor 9684..done in 1.2s\n",
      "1378. Samenvoegen profielen en verbruiksdata voor 9685..done in 0.9s\n",
      "1379. Samenvoegen profielen en verbruiksdata voor 9686..done in 1.1s\n",
      "1380. Samenvoegen profielen en verbruiksdata voor 9687..done in 0.9s\n",
      "1381. Samenvoegen profielen en verbruiksdata voor 9688..done in 0.9s\n",
      "1382. Samenvoegen profielen en verbruiksdata voor 9693..done in 1.1s\n",
      "1383. Samenvoegen profielen en verbruiksdata voor 9695..done in 1.3s\n",
      "1384. Samenvoegen profielen en verbruiksdata voor 9696..done in 0.8s\n",
      "1385. Samenvoegen profielen en verbruiksdata voor 9697..done in 1.1s\n",
      "1386. Samenvoegen profielen en verbruiksdata voor 9698..done in 1.0s\n",
      "1387. Samenvoegen profielen en verbruiksdata voor 9699..done in 0.9s\n",
      "1388. Samenvoegen profielen en verbruiksdata voor 9711..done in 2.2s\n",
      "1389. Samenvoegen profielen en verbruiksdata voor 9712..done in 2.1s\n",
      "1390. Samenvoegen profielen en verbruiksdata voor 9713..done in 2.3s\n",
      "1391. Samenvoegen profielen en verbruiksdata voor 9714..done in 1.5s\n",
      "1392. Samenvoegen profielen en verbruiksdata voor 9715..done in 2.1s\n",
      "1393. Samenvoegen profielen en verbruiksdata voor 9716..done in 1.4s\n",
      "1394. Samenvoegen profielen en verbruiksdata voor 9717..done in 1.7s\n",
      "1395. Samenvoegen profielen en verbruiksdata voor 9718..done in 1.9s\n",
      "1396. Samenvoegen profielen en verbruiksdata voor 9721..done in 2.4s\n",
      "1397. Samenvoegen profielen en verbruiksdata voor 9722..done in 1.9s\n",
      "1398. Samenvoegen profielen en verbruiksdata voor 9723..done in 1.3s\n",
      "1399. Samenvoegen profielen en verbruiksdata voor 9724..done in 1.6s\n",
      "1400. Samenvoegen profielen en verbruiksdata voor 9725..done in 1.6s\n",
      "1401. Samenvoegen profielen en verbruiksdata voor 9726..done in 1.3s\n",
      "1402. Samenvoegen profielen en verbruiksdata voor 9727..done in 1.5s\n",
      "1403. Samenvoegen profielen en verbruiksdata voor 9728..done in 2.1s\n",
      "1404. Samenvoegen profielen en verbruiksdata voor 9731..done in 1.6s\n",
      "1405. Samenvoegen profielen en verbruiksdata voor 9732..done in 1.4s\n",
      "1406. Samenvoegen profielen en verbruiksdata voor 9733..done in 1.4s\n",
      "1407. Samenvoegen profielen en verbruiksdata voor 9734..done in 1.5s\n",
      "1408. Samenvoegen profielen en verbruiksdata voor 9735..done in 1.0s\n",
      "1409. Samenvoegen profielen en verbruiksdata voor 9736..done in 1.7s\n",
      "1410. Samenvoegen profielen en verbruiksdata voor 9737..done in 1.7s\n",
      "1411. Samenvoegen profielen en verbruiksdata voor 9738..done in 1.0s\n",
      "1412. Samenvoegen profielen en verbruiksdata voor 9741..done in 1.8s\n",
      "1413. Samenvoegen profielen en verbruiksdata voor 9742..done in 2.1s\n",
      "1414. Samenvoegen profielen en verbruiksdata voor 9743..done in 2.1s\n",
      "1415. Samenvoegen profielen en verbruiksdata voor 9744..done in 1.6s\n",
      "1416. Samenvoegen profielen en verbruiksdata voor 9745..done in 1.2s\n",
      "1417. Samenvoegen profielen en verbruiksdata voor 9746..done in 1.3s\n",
      "1418. Samenvoegen profielen en verbruiksdata voor 9747..done in 0.8s\n",
      "1419. Samenvoegen profielen en verbruiksdata voor 9749..done in 0.8s\n",
      "1420. Samenvoegen profielen en verbruiksdata voor 9751..done in 1.8s\n",
      "1421. Samenvoegen profielen en verbruiksdata voor 9752..done in 1.7s\n",
      "1422. Samenvoegen profielen en verbruiksdata voor 9753..done in 1.5s\n",
      "1423. Samenvoegen profielen en verbruiksdata voor 9755..done in 1.0s\n",
      "1424. Samenvoegen profielen en verbruiksdata voor 9756..done in 1.0s\n",
      "1425. Samenvoegen profielen en verbruiksdata voor 9761..done in 1.7s\n",
      "1426. Samenvoegen profielen en verbruiksdata voor 9765..done in 1.4s\n",
      "1427. Samenvoegen profielen en verbruiksdata voor 9766..done in 1.0s\n",
      "1428. Samenvoegen profielen en verbruiksdata voor 9771..done in 1.1s\n",
      "1429. Samenvoegen profielen en verbruiksdata voor 9773..done in 1.0s\n",
      "1430. Samenvoegen profielen en verbruiksdata voor 9774..done in 0.9s\n",
      "1431. Samenvoegen profielen en verbruiksdata voor 9781..done in 2.0s\n",
      "1432. Samenvoegen profielen en verbruiksdata voor 9784..done in 0.9s\n",
      "1433. Samenvoegen profielen en verbruiksdata voor 9785..done in 1.0s\n",
      "1434. Samenvoegen profielen en verbruiksdata voor 9791..done in 1.4s\n",
      "1435. Samenvoegen profielen en verbruiksdata voor 9792..done in 1.0s\n",
      "1436. Samenvoegen profielen en verbruiksdata voor 9793..done in 0.9s\n",
      "1437. Samenvoegen profielen en verbruiksdata voor 9794..done in 0.9s\n",
      "1438. Samenvoegen profielen en verbruiksdata voor 9795..done in 0.9s\n",
      "1439. Samenvoegen profielen en verbruiksdata voor 9796..done in 0.9s\n",
      "1440. Samenvoegen profielen en verbruiksdata voor 9797..done in 1.0s\n",
      "1441. Samenvoegen profielen en verbruiksdata voor 9798..done in 0.9s\n",
      "1442. Samenvoegen profielen en verbruiksdata voor 9801..done in 1.8s\n",
      "1443. Samenvoegen profielen en verbruiksdata voor 9804..done in 1.1s\n",
      "1444. Samenvoegen profielen en verbruiksdata voor 9805..done in 0.9s\n",
      "1445. Samenvoegen profielen en verbruiksdata voor 9811..done in 1.0s\n",
      "1446. Samenvoegen profielen en verbruiksdata voor 9812..done in 0.9s\n",
      "1447. Samenvoegen profielen en verbruiksdata voor 9821..done in 1.0s\n",
      "1448. Samenvoegen profielen en verbruiksdata voor 9822..done in 1.1s\n",
      "1449. Samenvoegen profielen en verbruiksdata voor 9824..done in 0.9s\n",
      "1450. Samenvoegen profielen en verbruiksdata voor 9825..done in 0.9s\n",
      "1451. Samenvoegen profielen en verbruiksdata voor 9827..done in 0.9s\n",
      "1452. Samenvoegen profielen en verbruiksdata voor 9828..done in 1.0s\n",
      "1453. Samenvoegen profielen en verbruiksdata voor 9831..done in 1.3s\n",
      "1454. Samenvoegen profielen en verbruiksdata voor 9832..done in 0.9s\n",
      "1455. Samenvoegen profielen en verbruiksdata voor 9833..done in 1.0s\n",
      "1456. Samenvoegen profielen en verbruiksdata voor 9842..done in 0.9s\n",
      "1457. Samenvoegen profielen en verbruiksdata voor 9843..done in 1.3s\n",
      "1458. Samenvoegen profielen en verbruiksdata voor 9844..done in 1.0s\n",
      "1459. Samenvoegen profielen en verbruiksdata voor 9845..done in 0.9s\n",
      "1460. Samenvoegen profielen en verbruiksdata voor 9861..done in 1.4s\n",
      "1461. Samenvoegen profielen en verbruiksdata voor 9862..done in 0.9s\n",
      "1462. Samenvoegen profielen en verbruiksdata voor 9863..done in 1.0s\n",
      "1463. Samenvoegen profielen en verbruiksdata voor 9864..done in 1.0s\n",
      "1464. Samenvoegen profielen en verbruiksdata voor 9865..done in 1.2s\n",
      "1465. Samenvoegen profielen en verbruiksdata voor 9866..done in 1.0s\n",
      "1466. Samenvoegen profielen en verbruiksdata voor 9881..done in 0.9s\n",
      "1467. Samenvoegen profielen en verbruiksdata voor 9882..done in 0.9s\n",
      "1468. Samenvoegen profielen en verbruiksdata voor 9883..done in 1.0s\n",
      "1469. Samenvoegen profielen en verbruiksdata voor 9884..done in 0.9s\n",
      "1470. Samenvoegen profielen en verbruiksdata voor 9885..done in 1.3s\n",
      "1471. Samenvoegen profielen en verbruiksdata voor 9886..done in 1.0s\n",
      "1472. Samenvoegen profielen en verbruiksdata voor 9891..done in 1.1s\n",
      "1473. Samenvoegen profielen en verbruiksdata voor 9892..done in 1.1s\n",
      "1474. Samenvoegen profielen en verbruiksdata voor 9893..done in 1.0s\n",
      "1475. Samenvoegen profielen en verbruiksdata voor 9901..done in 1.5s\n",
      "1476. Samenvoegen profielen en verbruiksdata voor 9902..done in 1.7s\n",
      "1477. Samenvoegen profielen en verbruiksdata voor 9903..done in 1.1s\n",
      "1478. Samenvoegen profielen en verbruiksdata voor 9904..done in 0.9s\n",
      "1479. Samenvoegen profielen en verbruiksdata voor 9905..done in 1.0s\n",
      "1480. Samenvoegen profielen en verbruiksdata voor 9906..done in 1.0s\n",
      "1481. Samenvoegen profielen en verbruiksdata voor 9907..done in 0.9s\n",
      "1482. Samenvoegen profielen en verbruiksdata voor 9908..done in 0.9s\n",
      "1483. Samenvoegen profielen en verbruiksdata voor 9909..done in 1.1s\n",
      "1484. Samenvoegen profielen en verbruiksdata voor 9911..done in 0.9s\n",
      "1485. Samenvoegen profielen en verbruiksdata voor 9912..done in 0.9s\n",
      "1486. Samenvoegen profielen en verbruiksdata voor 9913..done in 0.9s\n",
      "1487. Samenvoegen profielen en verbruiksdata voor 9914..done in 1.0s\n",
      "1488. Samenvoegen profielen en verbruiksdata voor 9915..done in 1.0s\n",
      "1489. Samenvoegen profielen en verbruiksdata voor 9917..done in 0.9s\n",
      "1490. Samenvoegen profielen en verbruiksdata voor 9918..done in 1.0s\n",
      "1491. Samenvoegen profielen en verbruiksdata voor 9919..done in 1.2s\n",
      "1492. Samenvoegen profielen en verbruiksdata voor 9921..done in 1.0s\n",
      "1493. Samenvoegen profielen en verbruiksdata voor 9922..done in 0.9s\n",
      "1494. Samenvoegen profielen en verbruiksdata voor 9923..done in 0.9s\n",
      "1495. Samenvoegen profielen en verbruiksdata voor 9931..done in 1.2s\n",
      "1496. Samenvoegen profielen en verbruiksdata voor 9932..done in 1.4s\n",
      "1497. Samenvoegen profielen en verbruiksdata voor 9933..done in 1.5s\n",
      "1498. Samenvoegen profielen en verbruiksdata voor 9934..done in 1.7s\n",
      "1499. Samenvoegen profielen en verbruiksdata voor 9936..done in 1.2s\n",
      "1500. Samenvoegen profielen en verbruiksdata voor 9937..done in 0.9s\n",
      "1501. Samenvoegen profielen en verbruiksdata voor 9939..done in 0.9s\n",
      "1502. Samenvoegen profielen en verbruiksdata voor 9942..done in 0.9s\n",
      "1503. Samenvoegen profielen en verbruiksdata voor 9943..done in 0.9s\n",
      "1504. Samenvoegen profielen en verbruiksdata voor 9944..done in 1.1s\n",
      "1505. Samenvoegen profielen en verbruiksdata voor 9945..done in 1.1s\n",
      "1506. Samenvoegen profielen en verbruiksdata voor 9946..done in 1.1s\n",
      "1507. Samenvoegen profielen en verbruiksdata voor 9947..done in 0.9s\n",
      "1508. Samenvoegen profielen en verbruiksdata voor 9948..done in 1.0s\n",
      "1509. Samenvoegen profielen en verbruiksdata voor 9949..done in 0.9s\n",
      "1510. Samenvoegen profielen en verbruiksdata voor 9951..done in 1.8s\n",
      "1511. Samenvoegen profielen en verbruiksdata voor 9953..done in 1.2s\n",
      "1512. Samenvoegen profielen en verbruiksdata voor 9954..done in 0.9s\n",
      "1513. Samenvoegen profielen en verbruiksdata voor 9955..done in 0.9s\n",
      "1514. Samenvoegen profielen en verbruiksdata voor 9956..done in 0.9s\n",
      "1515. Samenvoegen profielen en verbruiksdata voor 9959..done in 1.0s\n",
      "1516. Samenvoegen profielen en verbruiksdata voor 9961..done in 1.0s\n",
      "1517. Samenvoegen profielen en verbruiksdata voor 9962..done in 0.9s\n",
      "1518. Samenvoegen profielen en verbruiksdata voor 9963..done in 0.9s\n",
      "1519. Samenvoegen profielen en verbruiksdata voor 9964..done in 1.0s\n",
      "1520. Samenvoegen profielen en verbruiksdata voor 9965..done in 1.1s\n",
      "1521. Samenvoegen profielen en verbruiksdata voor 9966..done in 0.9s\n",
      "1522. Samenvoegen profielen en verbruiksdata voor 9967..done in 1.1s\n",
      "1523. Samenvoegen profielen en verbruiksdata voor 9968..done in 1.0s\n",
      "1524. Samenvoegen profielen en verbruiksdata voor 9969..done in 0.9s\n",
      "1525. Samenvoegen profielen en verbruiksdata voor 9971..done in 1.1s\n",
      "1526. Samenvoegen profielen en verbruiksdata voor 9972..done in 0.9s\n",
      "1527. Samenvoegen profielen en verbruiksdata voor 9973..done in 0.9s\n",
      "1528. Samenvoegen profielen en verbruiksdata voor 9974..done in 1.1s\n",
      "1529. Samenvoegen profielen en verbruiksdata voor 9975..done in 0.9s\n",
      "1530. Samenvoegen profielen en verbruiksdata voor 9976..done in 1.0s\n",
      "1531. Samenvoegen profielen en verbruiksdata voor 9977..done in 1.1s\n",
      "1532. Samenvoegen profielen en verbruiksdata voor 9978..done in 0.9s\n",
      "1533. Samenvoegen profielen en verbruiksdata voor 9981..done in 1.6s\n",
      "1534. Samenvoegen profielen en verbruiksdata voor 9982..done in 1.4s\n",
      "1535. Samenvoegen profielen en verbruiksdata voor 9983..done in 1.1s\n",
      "1536. Samenvoegen profielen en verbruiksdata voor 9984..done in 1.0s\n",
      "1537. Samenvoegen profielen en verbruiksdata voor 9985..done in 0.9s\n",
      "1538. Samenvoegen profielen en verbruiksdata voor 9986..done in 0.9s\n",
      "1539. Samenvoegen profielen en verbruiksdata voor 9987..done in 0.9s\n",
      "1540. Samenvoegen profielen en verbruiksdata voor 9988..done in 1.1s\n",
      "1541. Samenvoegen profielen en verbruiksdata voor 9989..done in 1.2s\n",
      "1542. Samenvoegen profielen en verbruiksdata voor 9991..done in 1.2s\n",
      "1543. Samenvoegen profielen en verbruiksdata voor 9992..done in 0.9s\n",
      "1544. Samenvoegen profielen en verbruiksdata voor 9993..done in 0.9s\n",
      "1545. Samenvoegen profielen en verbruiksdata voor 9994..done in 0.9s\n",
      "1546. Samenvoegen profielen en verbruiksdata voor 9995..done in 1.0s\n",
      "1547. Samenvoegen profielen en verbruiksdata voor 9996..done in 0.9s\n",
      "1548. Samenvoegen profielen en verbruiksdata voor 9997..done in 1.0s\n",
      "1549. Samenvoegen profielen en verbruiksdata voor 9998..done in 0.9s\n",
      "1550. Samenvoegen profielen en verbruiksdata voor 9999..done in 0.9s\n",
      "1551. Samenvoegen profielen en verbruiksdata voor 5456..done in 0.9s\n",
      "1552. Samenvoegen profielen en verbruiksdata voor 6353..done in 0.9s\n",
      "1553. Samenvoegen profielen en verbruiksdata voor 7985..done in 0.9s\n",
      "1554. Samenvoegen profielen en verbruiksdata voor 8051..done in 0.9s\n",
      "1555. Samenvoegen profielen en verbruiksdata voor 6167..done in 0.9s\n",
      "1556. Samenvoegen profielen en verbruiksdata voor 8045..done in 0.9s\n",
      "1557. Samenvoegen profielen en verbruiksdata voor 9085..done in 1.0s\n",
      "1558. Samenvoegen profielen en verbruiksdata voor 9613..done in 1.0s\n",
      "1559. Samenvoegen profielen en verbruiksdata voor 5616..done in 2.1s\n",
      "1560. Samenvoegen profielen en verbruiksdata voor 5617..done in 1.0s\n",
      "1561. Samenvoegen profielen en verbruiksdata voor 5652..done in 1.9s\n",
      "1562. Samenvoegen profielen en verbruiksdata voor 6004..done in 2.0s\n",
      "1563. Samenvoegen profielen en verbruiksdata voor 6199..done in 0.9s\n",
      "1564. Samenvoegen profielen en verbruiksdata voor 8153..done in 0.9s\n",
      "1565. Samenvoegen profielen en verbruiksdata voor 9924..done in 0.9s\n",
      "1566. Samenvoegen profielen en verbruiksdata voor 5057..done in 1.0s\n",
      "1567. Samenvoegen profielen en verbruiksdata voor 5651..done in 1.3s\n",
      "1568. Samenvoegen profielen en verbruiksdata voor 7732..done in 1.0s\n",
      "1569. Samenvoegen profielen en verbruiksdata voor 5612..done in 2.0s\n",
      "1570. Samenvoegen profielen en verbruiksdata voor 5613..done in 1.7s\n",
      "1571. Samenvoegen profielen en verbruiksdata voor 5614..done in 1.3s\n",
      "1572. Samenvoegen profielen en verbruiksdata voor 5615..done in 1.8s\n",
      "1573. Samenvoegen profielen en verbruiksdata voor 5621..done in 1.5s\n",
      "1574. Samenvoegen profielen en verbruiksdata voor 5622..done in 1.8s\n",
      "1575. Samenvoegen profielen en verbruiksdata voor 5623..done in 2.0s\n",
      "1576. Samenvoegen profielen en verbruiksdata voor 5624..done in 1.6s\n",
      "1577. Samenvoegen profielen en verbruiksdata voor 5625..done in 2.1s\n",
      "1578. Samenvoegen profielen en verbruiksdata voor 5626..done in 1.3s\n",
      "1579. Samenvoegen profielen en verbruiksdata voor 5627..done in 2.2s\n",
      "1580. Samenvoegen profielen en verbruiksdata voor 5628..done in 2.2s\n",
      "1581. Samenvoegen profielen en verbruiksdata voor 5629..done in 1.6s\n",
      "1582. Samenvoegen profielen en verbruiksdata voor 5631..done in 1.8s\n",
      "1583. Samenvoegen profielen en verbruiksdata voor 5632..done in 2.5s\n",
      "1584. Samenvoegen profielen en verbruiksdata voor 5641..done in 1.9s\n",
      "1585. Samenvoegen profielen en verbruiksdata voor 5642..done in 1.8s\n",
      "1586. Samenvoegen profielen en verbruiksdata voor 5643..done in 2.0s\n",
      "1587. Samenvoegen profielen en verbruiksdata voor 5644..done in 1.9s\n",
      "1588. Samenvoegen profielen en verbruiksdata voor 5645..done in 1.4s\n",
      "1589. Samenvoegen profielen en verbruiksdata voor 5646..done in 1.2s\n",
      "1590. Samenvoegen profielen en verbruiksdata voor 5653..done in 1.9s\n",
      "1591. Samenvoegen profielen en verbruiksdata voor 5654..done in 2.1s\n",
      "1592. Samenvoegen profielen en verbruiksdata voor 5655..done in 1.5s\n",
      "1593. Samenvoegen profielen en verbruiksdata voor 5657..done in 1.0s\n",
      "1594. Samenvoegen profielen en verbruiksdata voor 5658..done in 1.7s\n",
      "1595. Samenvoegen profielen en verbruiksdata voor 8362..done in 0.9s\n",
      "1596. Samenvoegen profielen en verbruiksdata voor 9614..done in 1.0s\n",
      "1597. Samenvoegen profielen en verbruiksdata voor 9622..done in 0.9s\n",
      "1598. Samenvoegen profielen en verbruiksdata voor 4766..done in 0.9s\n",
      "1599. Samenvoegen profielen en verbruiksdata voor 4859..done in 0.9s\n",
      "1600. Samenvoegen profielen en verbruiksdata voor 5352..done in 1.0s\n",
      "1601. Samenvoegen profielen en verbruiksdata voor 5353..done in 1.0s\n",
      "1602. Samenvoegen profielen en verbruiksdata voor 5354..done in 1.0s\n",
      "1603. Samenvoegen profielen en verbruiksdata voor 5355..done in 1.0s\n",
      "1604. Samenvoegen profielen en verbruiksdata voor 5356..done in 1.0s\n",
      "1605. Samenvoegen profielen en verbruiksdata voor 5357..done in 1.0s\n",
      "1606. Samenvoegen profielen en verbruiksdata voor 5358..done in 1.0s\n",
      "1607. Samenvoegen profielen en verbruiksdata voor 5359..done in 0.9s\n",
      "1608. Samenvoegen profielen en verbruiksdata voor 5449..done in 1.0s\n",
      "1609. Samenvoegen profielen en verbruiksdata voor 5647..done in 0.9s\n",
      "1610. Samenvoegen profielen en verbruiksdata voor 6002..done in 1.6s\n",
      "1611. Samenvoegen profielen en verbruiksdata voor 6003..done in 1.4s\n",
      "1612. Samenvoegen profielen en verbruiksdata voor 6005..done in 1.4s\n",
      "1613. Samenvoegen profielen en verbruiksdata voor 6006..done in 2.2s\n",
      "1614. Samenvoegen profielen en verbruiksdata voor 6040..done in 0.9s\n",
      "1615. Samenvoegen profielen en verbruiksdata voor 6170..done in 0.9s\n",
      "1616. Samenvoegen profielen en verbruiksdata voor 7426..done in 0.9s\n",
      "1617. Samenvoegen profielen en verbruiksdata voor 7601..done in 1.0s\n",
      "1618. Samenvoegen profielen en verbruiksdata voor 7607..done in 0.9s\n",
      "1619. Samenvoegen profielen en verbruiksdata voor 7609..done in 1.0s\n",
      "1620. Samenvoegen profielen en verbruiksdata voor 7638..done in 1.0s\n",
      "1621. Samenvoegen profielen en verbruiksdata voor 7647..done in 0.9s\n",
      "1622. Samenvoegen profielen en verbruiksdata voor 7792..done in 1.0s\n",
      "1623. Samenvoegen profielen en verbruiksdata voor 7903..done in 0.9s\n",
      "1624. Samenvoegen profielen en verbruiksdata voor 7915..done in 1.0s\n",
      "1625. Samenvoegen profielen en verbruiksdata voor 7929..done in 1.0s\n",
      "1626. Samenvoegen profielen en verbruiksdata voor 8334..done in 0.9s\n",
      "1627. Samenvoegen profielen en verbruiksdata voor 8343..done in 1.0s\n",
      "1628. Samenvoegen profielen en verbruiksdata voor 8387..done in 0.9s\n",
      "1629. Samenvoegen profielen en verbruiksdata voor 8433..done in 1.0s\n",
      "1630. Samenvoegen profielen en verbruiksdata voor 9231..done in 1.0s\n",
      "1631. Samenvoegen profielen en verbruiksdata voor 9486..done in 0.9s\n",
      "1632. Samenvoegen profielen en verbruiksdata voor 9489..done in 0.9s\n",
      "1633. Samenvoegen profielen en verbruiksdata voor 9609..done in 1.0s\n",
      "1634. Samenvoegen profielen en verbruiksdata voor 9691..done in 1.0s\n",
      "1635. Samenvoegen profielen en verbruiksdata voor 9925..done in 1.0s\n",
      "1636. Samenvoegen profielen en verbruiksdata voor 9957..done in 1.0s\n",
      "1637. Samenvoegen profielen en verbruiksdata voor 9979..done in 1.0s\n",
      "1638. Samenvoegen profielen en verbruiksdata voor 5156..done in 1.2s\n",
      "1639. Samenvoegen profielen en verbruiksdata voor 5157..done in 1.0s\n",
      "1640. Samenvoegen profielen en verbruiksdata voor 5158..done in 1.0s\n",
      "1641. Samenvoegen profielen en verbruiksdata voor 5255..done in 1.0s\n",
      "1642. Samenvoegen profielen en verbruiksdata voor 5257..done in 1.0s\n",
      "1643. Samenvoegen profielen en verbruiksdata voor 7608..done in 0.9s\n",
      "1644. Samenvoegen profielen en verbruiksdata voor 7610..done in 1.0s\n",
      "1645. Samenvoegen profielen en verbruiksdata voor 7928..done in 1.0s\n",
      "1646. Samenvoegen profielen en verbruiksdata voor 5722..done in 1.0s\n",
      "1647. Samenvoegen profielen en verbruiksdata voor 7576..done in 0.9s\n"
     ]
    },
    {
     "output_type": "execute_result",
     "data": {
      "text/plain": [
       "                 Verbruik\n",
       "Datum      PC4           \n",
       "2010-01-01 4251  0.571783\n",
       "2010-01-02 4251  0.774387\n",
       "2010-01-03 4251  0.730143\n",
       "2010-01-04 4251  0.716348\n",
       "2010-01-05 4251  0.517569"
      ],
      "text/html": "<div>\n<style scoped>\n    .dataframe tbody tr th:only-of-type {\n        vertical-align: middle;\n    }\n\n    .dataframe tbody tr th {\n        vertical-align: top;\n    }\n\n    .dataframe thead th {\n        text-align: right;\n    }\n</style>\n<table border=\"1\" class=\"dataframe\">\n  <thead>\n    <tr style=\"text-align: right;\">\n      <th></th>\n      <th></th>\n      <th>Verbruik</th>\n    </tr>\n    <tr>\n      <th>Datum</th>\n      <th>PC4</th>\n      <th></th>\n    </tr>\n  </thead>\n  <tbody>\n    <tr>\n      <th>2010-01-01</th>\n      <th>4251</th>\n      <td>0.571783</td>\n    </tr>\n    <tr>\n      <th>2010-01-02</th>\n      <th>4251</th>\n      <td>0.774387</td>\n    </tr>\n    <tr>\n      <th>2010-01-03</th>\n      <th>4251</th>\n      <td>0.730143</td>\n    </tr>\n    <tr>\n      <th>2010-01-04</th>\n      <th>4251</th>\n      <td>0.716348</td>\n    </tr>\n    <tr>\n      <th>2010-01-05</th>\n      <th>4251</th>\n      <td>0.517569</td>\n    </tr>\n  </tbody>\n</table>\n</div>"
     },
     "metadata": {},
     "execution_count": 10
    }
   ],
   "source": [
    "import time\n",
    "\n",
    "# Build a frame per PC4\n",
    "print (\"Lijst met PC4 codes samenstellen\", end=\"..\")\n",
    "PC4_list = df_verbruik.PC4.unique()\n",
    "pc4_count = len(PC4_list)\n",
    "print (f\"done. Er zijn {pc4_count} pc4 codes\")\n",
    "\n",
    "# First PC4 area in de lijst\n",
    "first_pc4 = PC4_list[0]\n",
    "\n",
    "# Schrijf het samengevoegde dataframe naar een bestand\n",
    "def write_h5(df):\n",
    "    file = f\"pc4_verbruiksdata\"\n",
    "\n",
    "    # Haal een eventuele vorige versie weg\n",
    "    try:\n",
    "        os.remove(file + '.h5')\n",
    "    except:\n",
    "        # Schrijf het bestand weg\n",
    "        store = pd.HDFStore(file + '.h5')\n",
    "        store[file] = df\n",
    "        store.close()\n",
    "\n",
    "# Gebruik data van 1 jaar. Anders krijgen we te veel\n",
    "print (\"Filter kleinverbruik data voor 2020\", end=\"..\")\n",
    "df_verbruik = df_verbruik[df_verbruik.JAAR == 2020]\n",
    "print (f\"done\")\n",
    "\n",
    "# Per pc4 area maak een samengevoegd dataframe\n",
    "i = 1\n",
    "df_end_frame = None\n",
    "def do_per_pc4(pc4):\n",
    "    global i, df_end_frame\n",
    "    start = time.time()\n",
    "\n",
    "    print(f'{format(i,\"04d\")}. Samenvoegen profielen en verbruiksdata voor {pc4}', end = '..')\n",
    "    i = i + 1\n",
    "\n",
    "    # Maak kleiner frame\n",
    "    df_verbruik_pc4 = df_verbruik[df_verbruik.PC4 == pc4]\n",
    "    \n",
    "    # Voeg samen met de profielen set\n",
    "    df_merge = pd.merge(df_verbruik_pc4, df_transform_nedu, left_on=['PROFIEL'], right_on=['Profiel'])\n",
    "\n",
    "    # Pak alleen de kolommen die we willen hebben\n",
    "    df_merge = df_merge[['Datum', 'JAAR', 'Verbruik', 'PC4', 'LEVERINGSRICHTING_PERC', 'AANSLUITINGEN_AANTAL', 'PROFIEL', 'SJV_GEMIDDELD', 'PROFIEL']]\n",
    "\n",
    "    # rol op per pc4 gebied\n",
    "    df_merge = df_merge.groupby(['Datum', 'PC4']).agg({'Verbruik': 'sum'})\n",
    "\n",
    "    if df_end_frame is None:\n",
    "        df_end_frame = df_merge.copy()\n",
    "    else:\n",
    "        df_end_frame = df_end_frame.append(df_merge)\n",
    "\n",
    "    end = time.time()\n",
    "    exec_tijd = format(end - start, '.1f')\n",
    "    print(f'done in {exec_tijd}s')\n",
    "\n",
    "    return df_merge\n",
    "\n",
    "# Doe voor alle pc4 entries\n",
    "for pc4 in PC4_list:\n",
    "    do_per_pc4(pc4)\n",
    "\n",
    "# Schrijf bestand weg\n",
    "write_h5(df_end_frame)"
   ]
  },
  {
   "cell_type": "code",
   "execution_count": 12,
   "metadata": {},
   "outputs": [
    {
     "output_type": "execute_result",
     "data": {
      "text/plain": [
       "                 Verbruik\n",
       "Datum      PC4           \n",
       "2010-01-01 4251  0.571783\n",
       "2010-01-02 4251  0.774387\n",
       "2010-01-03 4251  0.730143\n",
       "2010-01-04 4251  0.716348\n",
       "2010-01-05 4251  0.517569"
      ],
      "text/html": "<div>\n<style scoped>\n    .dataframe tbody tr th:only-of-type {\n        vertical-align: middle;\n    }\n\n    .dataframe tbody tr th {\n        vertical-align: top;\n    }\n\n    .dataframe thead th {\n        text-align: right;\n    }\n</style>\n<table border=\"1\" class=\"dataframe\">\n  <thead>\n    <tr style=\"text-align: right;\">\n      <th></th>\n      <th></th>\n      <th>Verbruik</th>\n    </tr>\n    <tr>\n      <th>Datum</th>\n      <th>PC4</th>\n      <th></th>\n    </tr>\n  </thead>\n  <tbody>\n    <tr>\n      <th>2010-01-01</th>\n      <th>4251</th>\n      <td>0.571783</td>\n    </tr>\n    <tr>\n      <th>2010-01-02</th>\n      <th>4251</th>\n      <td>0.774387</td>\n    </tr>\n    <tr>\n      <th>2010-01-03</th>\n      <th>4251</th>\n      <td>0.730143</td>\n    </tr>\n    <tr>\n      <th>2010-01-04</th>\n      <th>4251</th>\n      <td>0.716348</td>\n    </tr>\n    <tr>\n      <th>2010-01-05</th>\n      <th>4251</th>\n      <td>0.517569</td>\n    </tr>\n  </tbody>\n</table>\n</div>"
     },
     "metadata": {},
     "execution_count": 12
    }
   ],
   "source": [
    "df_end_frame.head()"
   ]
  },
  {
   "cell_type": "code",
   "execution_count": 13,
   "metadata": {},
   "outputs": [
    {
     "output_type": "execute_result",
     "data": {
      "text/plain": [
       "                 Verbruik\n",
       "Datum      PC4           \n",
       "2021-12-27 7928  0.002992\n",
       "2021-12-28 7928  0.003174\n",
       "2021-12-29 7928  0.003449\n",
       "2021-12-30 7928  0.003143\n",
       "2021-12-31 7928  0.002962"
      ],
      "text/html": "<div>\n<style scoped>\n    .dataframe tbody tr th:only-of-type {\n        vertical-align: middle;\n    }\n\n    .dataframe tbody tr th {\n        vertical-align: top;\n    }\n\n    .dataframe thead th {\n        text-align: right;\n    }\n</style>\n<table border=\"1\" class=\"dataframe\">\n  <thead>\n    <tr style=\"text-align: right;\">\n      <th></th>\n      <th></th>\n      <th>Verbruik</th>\n    </tr>\n    <tr>\n      <th>Datum</th>\n      <th>PC4</th>\n      <th></th>\n    </tr>\n  </thead>\n  <tbody>\n    <tr>\n      <th>2021-12-27</th>\n      <th>7928</th>\n      <td>0.002992</td>\n    </tr>\n    <tr>\n      <th>2021-12-28</th>\n      <th>7928</th>\n      <td>0.003174</td>\n    </tr>\n    <tr>\n      <th>2021-12-29</th>\n      <th>7928</th>\n      <td>0.003449</td>\n    </tr>\n    <tr>\n      <th>2021-12-30</th>\n      <th>7928</th>\n      <td>0.003143</td>\n    </tr>\n    <tr>\n      <th>2021-12-31</th>\n      <th>7928</th>\n      <td>0.002962</td>\n    </tr>\n  </tbody>\n</table>\n</div>"
     },
     "metadata": {},
     "execution_count": 13
    }
   ],
   "source": [
    "df_end_frame.tail()"
   ]
  },
  {
   "cell_type": "code",
   "execution_count": 14,
   "metadata": {},
   "outputs": [
    {
     "output_type": "stream",
     "name": "stdout",
     "text": [
      "<class 'pandas.core.frame.DataFrame'>\nMultiIndex: 6340404 entries, (Timestamp('2010-01-01 00:00:00'), '4251') to (Timestamp('2021-12-31 00:00:00'), '7928')\nData columns (total 1 columns):\n #   Column    Dtype  \n---  ------    -----  \n 0   Verbruik  float64\ndtypes: float64(1)\nmemory usage: 72.8+ MB\n"
     ]
    }
   ],
   "source": [
    "df_end_frame.info()"
   ]
  },
  {
   "cell_type": "code",
   "execution_count": null,
   "metadata": {},
   "outputs": [],
   "source": []
  }
 ]
}