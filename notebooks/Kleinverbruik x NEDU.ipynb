{
 "metadata": {
  "language_info": {
   "codemirror_mode": {
    "name": "ipython",
    "version": 3
   },
   "file_extension": ".py",
   "mimetype": "text/x-python",
   "name": "python",
   "nbconvert_exporter": "python",
   "pygments_lexer": "ipython3",
   "version": "3.8.5-final"
  },
  "orig_nbformat": 2,
  "kernelspec": {
   "name": "python3",
   "display_name": "Python 3",
   "language": "python"
  }
 },
 "nbformat": 4,
 "nbformat_minor": 2,
 "cells": [
  {
   "source": [
    "## Verrijkte kleinverbruikergegevens\n",
    "Creer een nieuwe dataset obv de NEDU profielen en de kleinverbruikergegevens. De nieuwe dataset bevat dan het kleinverbruik per dag per postcode.\n",
    "\n",
    "De stappen die genomen worden zijn:\n",
    "\n",
    "1. Inlezen h5 bestanden met de NEDU profielen en kleinverbruikergegevens\n",
    "2. Voeg profiel toe aan kleinverbruikergegevens\n",
    "3. Transformeer NEDU profielen set tot een verbruik per dag ipv verbruik per kwartier\n",
    "4. Nieuw dataframe opbouwen met per dag de volgende data:\n",
    "* Datum\n",
    "* Verbruik\n",
    "* Postcode\n",
    "* Aantal aansluitingen\n",
    "\n",
    "Om het juiste profiel te bepalen nemen we 2 dingen mee:\n",
    "* Wat is percentage meters met een Laag/Hoog tarief. Als dit percentage lager is dan 30% wordt het gebied in een A profiel gezet.\n",
    "* Ligt het gebied in Noord of Zuid-Nederland. Dit wordt gebruikt om te bepalen of het gebied een E1B of E1C profiel krijgt.\n",
    "\n",
    "Het verbruik wordt berekend door het verbruik van het profiel behorende bij de postcode te sommeren voor een dag."
   ],
   "cell_type": "markdown",
   "metadata": {}
  },
  {
   "cell_type": "code",
   "execution_count": 14,
   "metadata": {},
   "outputs": [],
   "source": [
    "import pandas as pd\n",
    "import numpy as np\n",
    "import os\n",
    "\n",
    "# show all columns in the dataframe\n",
    "pd.set_option('max_columns', None)"
   ]
  },
  {
   "cell_type": "code",
   "execution_count": 2,
   "metadata": {},
   "outputs": [],
   "source": [
    "# variables used in script\n",
    "data_processed_location = '../data/processed'\n",
    "\n",
    "if 'processed' not in os.getcwd():\n",
    "    os.chdir(data_processed_location)\n",
    "\n",
    "# kleinverbruikgegevens gegevens inlezen\n",
    "df_verbruik = pd.read_hdf('kleinverbruikgegevens_data.h5')\n",
    "\n",
    "# NEDU profielen\n",
    "df_nedu_profielen = pd.read_hdf('nedu_files.h5')"
   ]
  },
  {
   "cell_type": "code",
   "execution_count": 3,
   "metadata": {},
   "outputs": [
    {
     "output_type": "execute_result",
     "data": {
      "text/plain": [
       "array(['1X25', '3X25', '1X35', '3X35', '3X63', '1X40', '3X80', '3X50',\n",
       "       '1X20', '3X40', '1x25', '3x25', '1x35', '1x40', '3x35', '3x63',\n",
       "       '3x80', '3x50', '3x40', '1x20'], dtype=object)"
      ]
     },
     "metadata": {},
     "execution_count": 3
    }
   ],
   "source": [
    "# Laat alle soorten aansluitingen zien\n",
    "df_verbruik.SOORT_AANSLUITING.unique()"
   ]
  },
  {
   "cell_type": "code",
   "execution_count": 4,
   "metadata": {
    "tags": []
   },
   "outputs": [
    {
     "output_type": "execute_result",
     "data": {
      "text/plain": [
       "  NETBEHEERDER NETGEBIED STRAATNAAM POSTCODE_VAN POSTCODE_TOT WOONPLAATS  \\\n",
       "0  Enexis B.V.    ENEXIS    Sasdijk       4251AB       4251AB  WERKENDAM   \n",
       "1  Enexis B.V.    ENEXIS    Sasdijk       4251AC       4251AC  WERKENDAM   \n",
       "2  Enexis B.V.    ENEXIS    Sasdijk       4251AD       4251AD  WERKENDAM   \n",
       "3  Enexis B.V.    ENEXIS  Nieuweweg       4251AE       4251AG  WERKENDAM   \n",
       "4  Enexis B.V.    ENEXIS  Koppenhof       4251AH       4251AH  WERKENDAM   \n",
       "\n",
       "  LANDCODE PRODUCTSOORT VERBRUIKSSEGMENT  LEVERINGSRICHTING_PERC  ...  \\\n",
       "0       NL          ELK              KVB                   100.0  ...   \n",
       "1       NL          ELK              KVB                   100.0  ...   \n",
       "2       NL          ELK              KVB                   100.0  ...   \n",
       "3       NL          ELK              KVB                   100.0  ...   \n",
       "4       NL          ELK              KVB                   100.0  ...   \n",
       "\n",
       "   FYSIEKE_STATUS_PERC  SOORT_AANSLUITING_PERC  SOORT_AANSLUITING  \\\n",
       "0                  100                     0.0               1X25   \n",
       "1                  100                     0.0               1X25   \n",
       "2                  100                     0.0               3X25   \n",
       "3                  100                     0.0               1X25   \n",
       "4                  100                     0.0               1X25   \n",
       "\n",
       "  SJV_GEMIDDELD  SJV_LAAG_TARIEF_PERC  SLIMME_METER_PERC  JAAR   PC4  \\\n",
       "0        4282.0                  25.0                0.0  2010  4251   \n",
       "1        5113.0                  10.0                0.0  2010  4251   \n",
       "2        4809.0                  34.0                0.0  2010  4251   \n",
       "3        5015.0                  44.0                0.0  2010  4251   \n",
       "4        3074.0                  22.0                0.0  2010  4251   \n",
       "\n",
       "  SJV_TOTAAL  PROFIEL  \n",
       "0       69.0      E1A  \n",
       "1       56.0      E1A  \n",
       "2      144.0      E1C  \n",
       "3      105.0      E1C  \n",
       "4       37.0      E1A  \n",
       "\n",
       "[5 rows x 21 columns]"
      ],
      "text/html": "<div>\n<style scoped>\n    .dataframe tbody tr th:only-of-type {\n        vertical-align: middle;\n    }\n\n    .dataframe tbody tr th {\n        vertical-align: top;\n    }\n\n    .dataframe thead th {\n        text-align: right;\n    }\n</style>\n<table border=\"1\" class=\"dataframe\">\n  <thead>\n    <tr style=\"text-align: right;\">\n      <th></th>\n      <th>NETBEHEERDER</th>\n      <th>NETGEBIED</th>\n      <th>STRAATNAAM</th>\n      <th>POSTCODE_VAN</th>\n      <th>POSTCODE_TOT</th>\n      <th>WOONPLAATS</th>\n      <th>LANDCODE</th>\n      <th>PRODUCTSOORT</th>\n      <th>VERBRUIKSSEGMENT</th>\n      <th>LEVERINGSRICHTING_PERC</th>\n      <th>...</th>\n      <th>FYSIEKE_STATUS_PERC</th>\n      <th>SOORT_AANSLUITING_PERC</th>\n      <th>SOORT_AANSLUITING</th>\n      <th>SJV_GEMIDDELD</th>\n      <th>SJV_LAAG_TARIEF_PERC</th>\n      <th>SLIMME_METER_PERC</th>\n      <th>JAAR</th>\n      <th>PC4</th>\n      <th>SJV_TOTAAL</th>\n      <th>PROFIEL</th>\n    </tr>\n  </thead>\n  <tbody>\n    <tr>\n      <th>0</th>\n      <td>Enexis B.V.</td>\n      <td>ENEXIS</td>\n      <td>Sasdijk</td>\n      <td>4251AB</td>\n      <td>4251AB</td>\n      <td>WERKENDAM</td>\n      <td>NL</td>\n      <td>ELK</td>\n      <td>KVB</td>\n      <td>100.0</td>\n      <td>...</td>\n      <td>100</td>\n      <td>0.0</td>\n      <td>1X25</td>\n      <td>4282.0</td>\n      <td>25.0</td>\n      <td>0.0</td>\n      <td>2010</td>\n      <td>4251</td>\n      <td>69.0</td>\n      <td>E1A</td>\n    </tr>\n    <tr>\n      <th>1</th>\n      <td>Enexis B.V.</td>\n      <td>ENEXIS</td>\n      <td>Sasdijk</td>\n      <td>4251AC</td>\n      <td>4251AC</td>\n      <td>WERKENDAM</td>\n      <td>NL</td>\n      <td>ELK</td>\n      <td>KVB</td>\n      <td>100.0</td>\n      <td>...</td>\n      <td>100</td>\n      <td>0.0</td>\n      <td>1X25</td>\n      <td>5113.0</td>\n      <td>10.0</td>\n      <td>0.0</td>\n      <td>2010</td>\n      <td>4251</td>\n      <td>56.0</td>\n      <td>E1A</td>\n    </tr>\n    <tr>\n      <th>2</th>\n      <td>Enexis B.V.</td>\n      <td>ENEXIS</td>\n      <td>Sasdijk</td>\n      <td>4251AD</td>\n      <td>4251AD</td>\n      <td>WERKENDAM</td>\n      <td>NL</td>\n      <td>ELK</td>\n      <td>KVB</td>\n      <td>100.0</td>\n      <td>...</td>\n      <td>100</td>\n      <td>0.0</td>\n      <td>3X25</td>\n      <td>4809.0</td>\n      <td>34.0</td>\n      <td>0.0</td>\n      <td>2010</td>\n      <td>4251</td>\n      <td>144.0</td>\n      <td>E1C</td>\n    </tr>\n    <tr>\n      <th>3</th>\n      <td>Enexis B.V.</td>\n      <td>ENEXIS</td>\n      <td>Nieuweweg</td>\n      <td>4251AE</td>\n      <td>4251AG</td>\n      <td>WERKENDAM</td>\n      <td>NL</td>\n      <td>ELK</td>\n      <td>KVB</td>\n      <td>100.0</td>\n      <td>...</td>\n      <td>100</td>\n      <td>0.0</td>\n      <td>1X25</td>\n      <td>5015.0</td>\n      <td>44.0</td>\n      <td>0.0</td>\n      <td>2010</td>\n      <td>4251</td>\n      <td>105.0</td>\n      <td>E1C</td>\n    </tr>\n    <tr>\n      <th>4</th>\n      <td>Enexis B.V.</td>\n      <td>ENEXIS</td>\n      <td>Koppenhof</td>\n      <td>4251AH</td>\n      <td>4251AH</td>\n      <td>WERKENDAM</td>\n      <td>NL</td>\n      <td>ELK</td>\n      <td>KVB</td>\n      <td>100.0</td>\n      <td>...</td>\n      <td>100</td>\n      <td>0.0</td>\n      <td>1X25</td>\n      <td>3074.0</td>\n      <td>22.0</td>\n      <td>0.0</td>\n      <td>2010</td>\n      <td>4251</td>\n      <td>37.0</td>\n      <td>E1A</td>\n    </tr>\n  </tbody>\n</table>\n<p>5 rows × 21 columns</p>\n</div>"
     },
     "metadata": {},
     "execution_count": 4
    }
   ],
   "source": [
    "provincie_limburg = ['61', '62', '63', '64']\n",
    "provincie_brabant = ['42', '46', '47', '48', '49', '50', '51', '52', '53', '44', '55', '56', '57', '58', '60', '97']\n",
    "profiel_E1 = ['1X25','3X25', '1X20'] # de rest is profiel E2\n",
    "\n",
    "# Voeg in de kleinverbruikgegevens, het bijpassende profiel voor de soort aansluiting toe\n",
    "def vervang_door_profiel(aansluiting, postcode, percentage):\n",
    "    # Bepaal basisprofiel\n",
    "    profiel = 'E1' if aansluiting in profiel_E1 else 'E2'\n",
    "\n",
    "    # Een laag tarief percentage lager dan 30% zetten we in een A profiel\n",
    "    lh_profiel = 'A' if percentage < 30 else 'B'\n",
    "\n",
    "    # Bepaal welk laag tarief gebied de postcode zit\n",
    "    if profiel == 'E1' and lh_profiel == 'B':\n",
    "        postcode_area = postcode[:2] # PC4\n",
    "        if postcode_area in provincie_brabant or postcode_area in provincie_limburg:\n",
    "            lh_profiel = 'C'\n",
    "    return profiel + lh_profiel\n",
    "\n",
    "df_verbruik[\"PROFIEL\"] = np.vectorize(vervang_door_profiel)(df_verbruik.SOORT_AANSLUITING, df_verbruik.POSTCODE_VAN, df_verbruik.SJV_LAAG_TARIEF_PERC)\n",
    "df_verbruik.head()"
   ]
  },
  {
   "cell_type": "code",
   "execution_count": 5,
   "metadata": {
    "tags": []
   },
   "outputs": [
    {
     "output_type": "stream",
     "name": "stdout",
     "text": [
      "Aantal rijen in de NEDU set = 4018\n"
     ]
    },
    {
     "output_type": "execute_result",
     "data": {
      "text/plain": [
       "                 E1A       E1B       E1C       E2A       E2B\n",
       "DATUM                                                       \n",
       "2010-01-01  0.003261  0.003344  0.003464  0.001992  0.002531\n",
       "2010-01-02  0.003144  0.003115  0.003006  0.003491  0.003126\n",
       "2010-01-03  0.003003  0.002898  0.002952  0.003190  0.002986\n",
       "2010-01-04  0.002622  0.002546  0.002759  0.003222  0.002895\n",
       "2010-01-05  0.002518  0.002503  0.002419  0.001884  0.002260"
      ],
      "text/html": "<div>\n<style scoped>\n    .dataframe tbody tr th:only-of-type {\n        vertical-align: middle;\n    }\n\n    .dataframe tbody tr th {\n        vertical-align: top;\n    }\n\n    .dataframe thead th {\n        text-align: right;\n    }\n</style>\n<table border=\"1\" class=\"dataframe\">\n  <thead>\n    <tr style=\"text-align: right;\">\n      <th></th>\n      <th>E1A</th>\n      <th>E1B</th>\n      <th>E1C</th>\n      <th>E2A</th>\n      <th>E2B</th>\n    </tr>\n    <tr>\n      <th>DATUM</th>\n      <th></th>\n      <th></th>\n      <th></th>\n      <th></th>\n      <th></th>\n    </tr>\n  </thead>\n  <tbody>\n    <tr>\n      <th>2010-01-01</th>\n      <td>0.003261</td>\n      <td>0.003344</td>\n      <td>0.003464</td>\n      <td>0.001992</td>\n      <td>0.002531</td>\n    </tr>\n    <tr>\n      <th>2010-01-02</th>\n      <td>0.003144</td>\n      <td>0.003115</td>\n      <td>0.003006</td>\n      <td>0.003491</td>\n      <td>0.003126</td>\n    </tr>\n    <tr>\n      <th>2010-01-03</th>\n      <td>0.003003</td>\n      <td>0.002898</td>\n      <td>0.002952</td>\n      <td>0.003190</td>\n      <td>0.002986</td>\n    </tr>\n    <tr>\n      <th>2010-01-04</th>\n      <td>0.002622</td>\n      <td>0.002546</td>\n      <td>0.002759</td>\n      <td>0.003222</td>\n      <td>0.002895</td>\n    </tr>\n    <tr>\n      <th>2010-01-05</th>\n      <td>0.002518</td>\n      <td>0.002503</td>\n      <td>0.002419</td>\n      <td>0.001884</td>\n      <td>0.002260</td>\n    </tr>\n  </tbody>\n</table>\n</div>"
     },
     "metadata": {},
     "execution_count": 5
    }
   ],
   "source": [
    "from datetime import datetime\n",
    "import math\n",
    "\n",
    "# Voeg een datum kolom toe zodat we kunnen aggreren per datum per profiel\n",
    "def haal_datum_op(datum):\n",
    "    datum = pd.to_datetime(datum)\n",
    "    # Laatste rij is blijkbaar NaN. \n",
    "    if math.isnan(datum.year):\n",
    "        return ''\n",
    "    return datetime(datum.year,datum.month,datum.day)\n",
    "df_nedu_profielen[\"DATUM\"] = np.vectorize(haal_datum_op)(df_nedu_profielen.Start)\n",
    "\n",
    "# Groepeer op datum en sommeer de profielen die we nodig hebben\n",
    "df_nedu_gereduceerd = df_nedu_profielen.groupby('DATUM').agg({'E1A':'sum', 'E1B':'sum', 'E1C':'sum', 'E2A':'sum', 'E2B':'sum'})\n",
    "\n",
    "# Sorteer op datum\n",
    "df_nedu_gereduceerd = df_nedu_gereduceerd.sort_values(by='DATUM')\n",
    "print (f\"Aantal rijen in de NEDU set = {df_nedu_gereduceerd.shape[0]}\")\n",
    "\n",
    "# Check de eerste paar rijen.\n",
    "df_nedu_gereduceerd.head()"
   ]
  },
  {
   "cell_type": "code",
   "execution_count": 6,
   "metadata": {
    "tags": []
   },
   "outputs": [
    {
     "output_type": "stream",
     "name": "stdout",
     "text": [
      "Aantal rijen voor reductie = 1391390\n",
      "Aantal rijen na reductie = 1647\n",
      "Aantal E1 profielen = 19\n",
      "Aantal E2 profielen = 1628\n"
     ]
    },
    {
     "output_type": "execute_result",
     "data": {
      "text/plain": [
       "     PROFIEL  SJV_GEMIDDELD  AANSLUITINGEN_AANTAL  LEVERINGSRICHTING_PERC\n",
       "PC4                                                                      \n",
       "4251     E2B    13465001.46                 54965               96.440601\n",
       "4254     E2B     6083345.90                 27539               92.992643\n",
       "4255     E2B     3748403.28                 18855               92.143663\n",
       "4261     E2B     7353945.13                 29104               96.062108\n",
       "4264     E2B     3598768.56                 14406               96.719964"
      ],
      "text/html": "<div>\n<style scoped>\n    .dataframe tbody tr th:only-of-type {\n        vertical-align: middle;\n    }\n\n    .dataframe tbody tr th {\n        vertical-align: top;\n    }\n\n    .dataframe thead th {\n        text-align: right;\n    }\n</style>\n<table border=\"1\" class=\"dataframe\">\n  <thead>\n    <tr style=\"text-align: right;\">\n      <th></th>\n      <th>PROFIEL</th>\n      <th>SJV_GEMIDDELD</th>\n      <th>AANSLUITINGEN_AANTAL</th>\n      <th>LEVERINGSRICHTING_PERC</th>\n    </tr>\n    <tr>\n      <th>PC4</th>\n      <th></th>\n      <th></th>\n      <th></th>\n      <th></th>\n    </tr>\n  </thead>\n  <tbody>\n    <tr>\n      <th>4251</th>\n      <td>E2B</td>\n      <td>13465001.46</td>\n      <td>54965</td>\n      <td>96.440601</td>\n    </tr>\n    <tr>\n      <th>4254</th>\n      <td>E2B</td>\n      <td>6083345.90</td>\n      <td>27539</td>\n      <td>92.992643</td>\n    </tr>\n    <tr>\n      <th>4255</th>\n      <td>E2B</td>\n      <td>3748403.28</td>\n      <td>18855</td>\n      <td>92.143663</td>\n    </tr>\n    <tr>\n      <th>4261</th>\n      <td>E2B</td>\n      <td>7353945.13</td>\n      <td>29104</td>\n      <td>96.062108</td>\n    </tr>\n    <tr>\n      <th>4264</th>\n      <td>E2B</td>\n      <td>3598768.56</td>\n      <td>14406</td>\n      <td>96.719964</td>\n    </tr>\n  </tbody>\n</table>\n</div>"
     },
     "metadata": {},
     "execution_count": 6
    }
   ],
   "source": [
    "# Manier 1. Eerst aantal rijen reduceren tot PC4 en daarna NEDU data invoegen. Wat doen we dan met het profiel?\n",
    "print (f\"Aantal rijen voor reductie = {df_verbruik.shape[0]}\")\n",
    "\n",
    "# groepeer de kleinverbruiker gegevens op PC4 level. Om het gemiddelde profiel te bepalen maken we een custom functie 'bepaal_profiel', die de profielen telt\n",
    "def bepaal_profiel(series):\n",
    "    profielen = series.value_counts()\n",
    "\n",
    "    e1_counts = e2_counts = 0\n",
    "    for index, value in profielen.items():\n",
    "        if index[:2] == 'E1':\n",
    "            e1_counts = e1_counts + value\n",
    "        else:\n",
    "            e2_counts = e2_counts + value\n",
    "    #print (e1_counts, e2_counts)\n",
    "#profiel = profielen[profielen == max(profielen)].index.values[0]            \n",
    "    return 'E1B' if e1_counts > e2_counts else 'E2B'\n",
    "\n",
    "df_verbruik_gereduceerd = df_verbruik.groupby('PC4').agg({'PROFIEL':bepaal_profiel, 'SJV_GEMIDDELD':'sum', 'AANSLUITINGEN_AANTAL':'sum', 'LEVERINGSRICHTING_PERC': 'mean'})\n",
    "\n",
    "print(f\"Aantal rijen na reductie = {df_verbruik_gereduceerd.shape[0]}\")\n",
    "\n",
    "print(f\"Aantal E1 profielen = {df_verbruik_gereduceerd[df_verbruik_gereduceerd.PROFIEL == 'E1B'].shape[0]}\")\n",
    "print(f\"Aantal E2 profielen = {df_verbruik_gereduceerd[df_verbruik_gereduceerd.PROFIEL == 'E2B'].shape[0]}\")\n",
    "\n",
    "df_verbruik_gereduceerd.head()"
   ]
  },
  {
   "cell_type": "code",
   "execution_count": 7,
   "metadata": {},
   "outputs": [
    {
     "output_type": "execute_result",
     "data": {
      "text/plain": [
       "           POSTCODE  AANSLUITINGEN_AANTAL  LEVERINGSRICHTING_PERC  VERBRUIK\n",
       "2010-01-01   4251AB                    10                      34        12\n",
       "2010-01-02   4251AB                    10                      34        15"
      ],
      "text/html": "<div>\n<style scoped>\n    .dataframe tbody tr th:only-of-type {\n        vertical-align: middle;\n    }\n\n    .dataframe tbody tr th {\n        vertical-align: top;\n    }\n\n    .dataframe thead th {\n        text-align: right;\n    }\n</style>\n<table border=\"1\" class=\"dataframe\">\n  <thead>\n    <tr style=\"text-align: right;\">\n      <th></th>\n      <th>POSTCODE</th>\n      <th>AANSLUITINGEN_AANTAL</th>\n      <th>LEVERINGSRICHTING_PERC</th>\n      <th>VERBRUIK</th>\n    </tr>\n  </thead>\n  <tbody>\n    <tr>\n      <th>2010-01-01</th>\n      <td>4251AB</td>\n      <td>10</td>\n      <td>34</td>\n      <td>12</td>\n    </tr>\n    <tr>\n      <th>2010-01-02</th>\n      <td>4251AB</td>\n      <td>10</td>\n      <td>34</td>\n      <td>15</td>\n    </tr>\n  </tbody>\n</table>\n</div>"
     },
     "metadata": {},
     "execution_count": 7
    }
   ],
   "source": [
    "# Manier 2. We maken een dictionary van postcode naar {#aansluitingen, dateframe met NEDU profiel data} en zetten die om naar een dataframe\n",
    "\n",
    "# Testje met een minimale dictionary\n",
    "data = { 'POSTCODE': '4251AB', 'AANSLUITINGEN_AANTAL' : 10, 'LEVERINGSRICHTING_PERC' : 34, 'VERBRUIK': {'2010-01-01': 12, '2010-01-02': 15}}\n",
    "pd.DataFrame.from_dict(data)"
   ]
  },
  {
   "cell_type": "code",
   "execution_count": 8,
   "metadata": {
    "tags": []
   },
   "outputs": [
    {
     "output_type": "execute_result",
     "data": {
      "text/plain": [
       "           Datum Profiel  Verbruik\n",
       "0     2010-01-01     E1A  0.003261\n",
       "1     2010-01-01     E1B  0.003344\n",
       "2     2010-01-01     E1C  0.003464\n",
       "3     2010-01-01     E2A  0.001992\n",
       "4     2010-01-01     E2B  0.002531\n",
       "...          ...     ...       ...\n",
       "20085 2021-12-31     E1A  0.003380\n",
       "20086 2021-12-31     E1B  0.003566\n",
       "20087 2021-12-31     E1C  0.003775\n",
       "20088 2021-12-31     E2A  0.002839\n",
       "20089 2021-12-31     E2B  0.002962\n",
       "\n",
       "[20090 rows x 3 columns]"
      ],
      "text/html": "<div>\n<style scoped>\n    .dataframe tbody tr th:only-of-type {\n        vertical-align: middle;\n    }\n\n    .dataframe tbody tr th {\n        vertical-align: top;\n    }\n\n    .dataframe thead th {\n        text-align: right;\n    }\n</style>\n<table border=\"1\" class=\"dataframe\">\n  <thead>\n    <tr style=\"text-align: right;\">\n      <th></th>\n      <th>Datum</th>\n      <th>Profiel</th>\n      <th>Verbruik</th>\n    </tr>\n  </thead>\n  <tbody>\n    <tr>\n      <th>0</th>\n      <td>2010-01-01</td>\n      <td>E1A</td>\n      <td>0.003261</td>\n    </tr>\n    <tr>\n      <th>1</th>\n      <td>2010-01-01</td>\n      <td>E1B</td>\n      <td>0.003344</td>\n    </tr>\n    <tr>\n      <th>2</th>\n      <td>2010-01-01</td>\n      <td>E1C</td>\n      <td>0.003464</td>\n    </tr>\n    <tr>\n      <th>3</th>\n      <td>2010-01-01</td>\n      <td>E2A</td>\n      <td>0.001992</td>\n    </tr>\n    <tr>\n      <th>4</th>\n      <td>2010-01-01</td>\n      <td>E2B</td>\n      <td>0.002531</td>\n    </tr>\n    <tr>\n      <th>...</th>\n      <td>...</td>\n      <td>...</td>\n      <td>...</td>\n    </tr>\n    <tr>\n      <th>20085</th>\n      <td>2021-12-31</td>\n      <td>E1A</td>\n      <td>0.003380</td>\n    </tr>\n    <tr>\n      <th>20086</th>\n      <td>2021-12-31</td>\n      <td>E1B</td>\n      <td>0.003566</td>\n    </tr>\n    <tr>\n      <th>20087</th>\n      <td>2021-12-31</td>\n      <td>E1C</td>\n      <td>0.003775</td>\n    </tr>\n    <tr>\n      <th>20088</th>\n      <td>2021-12-31</td>\n      <td>E2A</td>\n      <td>0.002839</td>\n    </tr>\n    <tr>\n      <th>20089</th>\n      <td>2021-12-31</td>\n      <td>E2B</td>\n      <td>0.002962</td>\n    </tr>\n  </tbody>\n</table>\n<p>20090 rows × 3 columns</p>\n</div>"
     },
     "metadata": {},
     "execution_count": 8
    }
   ],
   "source": [
    "# Manier 3. We gebruik de merge methode van pandas. We proberen te mergen op profiel. Hiervoor moet het profielen dataframe wel van structuur veranderen\n",
    "# Structuur moet worden datum, profiel, verbruik. Dan kunnen we op Profiel proberen te mergen.\n",
    "\n",
    "# Dit kan vast sneller met een goede pivot of eerst een dictionary opbouwen maar het werkt\n",
    "df_transform_nedu = pd.DataFrame(columns=[\"Datum\", \"Profiel\", \"Verbruik\"])\n",
    "for index,row in df_nedu_gereduceerd.iterrows():\n",
    "    df_transform_nedu = df_transform_nedu.append({\"Datum\":index, \"Profiel\":\"E1A\", \"Verbruik\":row.E1A}, ignore_index=True)\n",
    "    df_transform_nedu = df_transform_nedu.append({\"Datum\":index, \"Profiel\":\"E1B\", \"Verbruik\":row.E1B}, ignore_index=True)\n",
    "    df_transform_nedu = df_transform_nedu.append({\"Datum\":index, \"Profiel\":\"E1C\", \"Verbruik\":row.E1C}, ignore_index=True)\n",
    "    df_transform_nedu = df_transform_nedu.append({\"Datum\":index, \"Profiel\":\"E2A\", \"Verbruik\":row.E2A}, ignore_index=True)\n",
    "    df_transform_nedu = df_transform_nedu.append({\"Datum\":index, \"Profiel\":\"E2B\", \"Verbruik\":row.E2B}, ignore_index=True)\n",
    "df_transform_nedu"
   ]
  },
  {
   "cell_type": "code",
   "execution_count": 32,
   "metadata": {},
   "outputs": [
    {
     "output_type": "stream",
     "name": "stdout",
     "text": [
      "Lijst met PC4 codes samenstellen..done. Er zijn 1647 pc4 codes\n",
      "1. Samenvoegen profielen en verbruiksdata voor 4251..done in 12.2s\n",
      "2. Samenvoegen profielen en verbruiksdata voor 4254..done in 6.1s\n",
      "3. Samenvoegen profielen en verbruiksdata voor 4255..done in 4.0s\n",
      "4. Samenvoegen profielen en verbruiksdata voor 4261..done in 5.9s\n",
      "5. Samenvoegen profielen en verbruiksdata voor 4264..done in 2.6s\n",
      "6. Samenvoegen profielen en verbruiksdata voor 4265..done in 1.8s\n",
      "7. Samenvoegen profielen en verbruiksdata voor 4266..done in 1.1s\n",
      "8. Samenvoegen profielen en verbruiksdata voor 4267..done in 0.5s\n",
      "9. Samenvoegen profielen en verbruiksdata voor 4268..done in 0.9s\n",
      "10. Samenvoegen profielen en verbruiksdata voor 4269..done in 0.5s\n",
      "11. Samenvoegen profielen en verbruiksdata voor 4271..done in 2.8s\n",
      "12. Samenvoegen profielen en verbruiksdata voor 4273..done in 4.4s\n",
      "13. Samenvoegen profielen en verbruiksdata voor 4281..done in 2.8s\n",
      "14. Samenvoegen profielen en verbruiksdata voor 4283..done in 1.8s\n",
      "15. Samenvoegen profielen en verbruiksdata voor 4284..done in 2.0s\n",
      "16. Samenvoegen profielen en verbruiksdata voor 4285.."
     ]
    },
    {
     "output_type": "error",
     "ename": "KeyboardInterrupt",
     "evalue": "",
     "traceback": [
      "\u001b[1;31m---------------------------------------------------------------------------\u001b[0m",
      "\u001b[1;31mKeyboardInterrupt\u001b[0m                         Traceback (most recent call last)",
      "\u001b[1;32m<ipython-input-32-6a6d5ef9c06e>\u001b[0m in \u001b[0;36m<module>\u001b[1;34m\u001b[0m\n\u001b[0;32m     60\u001b[0m \u001b[1;31m# Doe voor alle pc4 entries\u001b[0m\u001b[1;33m\u001b[0m\u001b[1;33m\u001b[0m\u001b[1;33m\u001b[0m\u001b[0m\n\u001b[0;32m     61\u001b[0m \u001b[1;32mfor\u001b[0m \u001b[0mpc4\u001b[0m \u001b[1;32min\u001b[0m \u001b[0mPC4_list\u001b[0m\u001b[1;33m:\u001b[0m\u001b[1;33m\u001b[0m\u001b[1;33m\u001b[0m\u001b[0m\n\u001b[1;32m---> 62\u001b[1;33m     \u001b[0mdo_per_pc4\u001b[0m\u001b[1;33m(\u001b[0m\u001b[0mpc4\u001b[0m\u001b[1;33m)\u001b[0m\u001b[1;33m\u001b[0m\u001b[1;33m\u001b[0m\u001b[0m\n\u001b[0m\u001b[0;32m     63\u001b[0m \u001b[1;33m\u001b[0m\u001b[0m\n\u001b[0;32m     64\u001b[0m \u001b[1;31m# Schrijf bestand weg\u001b[0m\u001b[1;33m\u001b[0m\u001b[1;33m\u001b[0m\u001b[1;33m\u001b[0m\u001b[0m\n",
      "\u001b[1;32m<ipython-input-32-6a6d5ef9c06e>\u001b[0m in \u001b[0;36mdo_per_pc4\u001b[1;34m(pc4)\u001b[0m\n\u001b[0;32m     39\u001b[0m \u001b[1;33m\u001b[0m\u001b[0m\n\u001b[0;32m     40\u001b[0m     \u001b[1;31m# Voeg samen met de profielen set\u001b[0m\u001b[1;33m\u001b[0m\u001b[1;33m\u001b[0m\u001b[1;33m\u001b[0m\u001b[0m\n\u001b[1;32m---> 41\u001b[1;33m     \u001b[0mdf_merge\u001b[0m \u001b[1;33m=\u001b[0m \u001b[0mpd\u001b[0m\u001b[1;33m.\u001b[0m\u001b[0mmerge\u001b[0m\u001b[1;33m(\u001b[0m\u001b[0mdf_verbruik_pc4\u001b[0m\u001b[1;33m,\u001b[0m \u001b[0mdf_transform_nedu\u001b[0m\u001b[1;33m,\u001b[0m \u001b[0mleft_on\u001b[0m\u001b[1;33m=\u001b[0m\u001b[1;33m[\u001b[0m\u001b[1;34m'PROFIEL'\u001b[0m\u001b[1;33m]\u001b[0m\u001b[1;33m,\u001b[0m \u001b[0mright_on\u001b[0m\u001b[1;33m=\u001b[0m\u001b[1;33m[\u001b[0m\u001b[1;34m'Profiel'\u001b[0m\u001b[1;33m]\u001b[0m\u001b[1;33m)\u001b[0m\u001b[1;33m\u001b[0m\u001b[1;33m\u001b[0m\u001b[0m\n\u001b[0m\u001b[0;32m     42\u001b[0m \u001b[1;33m\u001b[0m\u001b[0m\n\u001b[0;32m     43\u001b[0m     \u001b[1;31m# Pak alleen de kolommen die we willen hebben\u001b[0m\u001b[1;33m\u001b[0m\u001b[1;33m\u001b[0m\u001b[1;33m\u001b[0m\u001b[0m\n",
      "\u001b[1;32m~\\Anaconda3\\envs\\JADS\\lib\\site-packages\\pandas\\core\\reshape\\merge.py\u001b[0m in \u001b[0;36mmerge\u001b[1;34m(left, right, how, on, left_on, right_on, left_index, right_index, sort, suffixes, copy, indicator, validate)\u001b[0m\n\u001b[0;32m     87\u001b[0m         \u001b[0mvalidate\u001b[0m\u001b[1;33m=\u001b[0m\u001b[0mvalidate\u001b[0m\u001b[1;33m,\u001b[0m\u001b[1;33m\u001b[0m\u001b[1;33m\u001b[0m\u001b[0m\n\u001b[0;32m     88\u001b[0m     )\n\u001b[1;32m---> 89\u001b[1;33m     \u001b[1;32mreturn\u001b[0m \u001b[0mop\u001b[0m\u001b[1;33m.\u001b[0m\u001b[0mget_result\u001b[0m\u001b[1;33m(\u001b[0m\u001b[1;33m)\u001b[0m\u001b[1;33m\u001b[0m\u001b[1;33m\u001b[0m\u001b[0m\n\u001b[0m\u001b[0;32m     90\u001b[0m \u001b[1;33m\u001b[0m\u001b[0m\n\u001b[0;32m     91\u001b[0m \u001b[1;33m\u001b[0m\u001b[0m\n",
      "\u001b[1;32m~\\Anaconda3\\envs\\JADS\\lib\\site-packages\\pandas\\core\\reshape\\merge.py\u001b[0m in \u001b[0;36mget_result\u001b[1;34m(self)\u001b[0m\n\u001b[0;32m    691\u001b[0m         \u001b[0mrindexers\u001b[0m \u001b[1;33m=\u001b[0m \u001b[1;33m{\u001b[0m\u001b[1;36m1\u001b[0m\u001b[1;33m:\u001b[0m \u001b[0mright_indexer\u001b[0m\u001b[1;33m}\u001b[0m \u001b[1;32mif\u001b[0m \u001b[0mright_indexer\u001b[0m \u001b[1;32mis\u001b[0m \u001b[1;32mnot\u001b[0m \u001b[1;32mNone\u001b[0m \u001b[1;32melse\u001b[0m \u001b[1;33m{\u001b[0m\u001b[1;33m}\u001b[0m\u001b[1;33m\u001b[0m\u001b[1;33m\u001b[0m\u001b[0m\n\u001b[0;32m    692\u001b[0m \u001b[1;33m\u001b[0m\u001b[0m\n\u001b[1;32m--> 693\u001b[1;33m         result_data = concatenate_block_managers(\n\u001b[0m\u001b[0;32m    694\u001b[0m             \u001b[1;33m[\u001b[0m\u001b[1;33m(\u001b[0m\u001b[0mself\u001b[0m\u001b[1;33m.\u001b[0m\u001b[0mleft\u001b[0m\u001b[1;33m.\u001b[0m\u001b[0m_mgr\u001b[0m\u001b[1;33m,\u001b[0m \u001b[0mlindexers\u001b[0m\u001b[1;33m)\u001b[0m\u001b[1;33m,\u001b[0m \u001b[1;33m(\u001b[0m\u001b[0mself\u001b[0m\u001b[1;33m.\u001b[0m\u001b[0mright\u001b[0m\u001b[1;33m.\u001b[0m\u001b[0m_mgr\u001b[0m\u001b[1;33m,\u001b[0m \u001b[0mrindexers\u001b[0m\u001b[1;33m)\u001b[0m\u001b[1;33m]\u001b[0m\u001b[1;33m,\u001b[0m\u001b[1;33m\u001b[0m\u001b[1;33m\u001b[0m\u001b[0m\n\u001b[0;32m    695\u001b[0m             \u001b[0maxes\u001b[0m\u001b[1;33m=\u001b[0m\u001b[1;33m[\u001b[0m\u001b[0mllabels\u001b[0m\u001b[1;33m.\u001b[0m\u001b[0mappend\u001b[0m\u001b[1;33m(\u001b[0m\u001b[0mrlabels\u001b[0m\u001b[1;33m)\u001b[0m\u001b[1;33m,\u001b[0m \u001b[0mjoin_index\u001b[0m\u001b[1;33m]\u001b[0m\u001b[1;33m,\u001b[0m\u001b[1;33m\u001b[0m\u001b[1;33m\u001b[0m\u001b[0m\n",
      "\u001b[1;32m~\\Anaconda3\\envs\\JADS\\lib\\site-packages\\pandas\\core\\internals\\concat.py\u001b[0m in \u001b[0;36mconcatenate_block_managers\u001b[1;34m(mgrs_indexers, axes, concat_axis, copy)\u001b[0m\n\u001b[0;32m     81\u001b[0m         \u001b[1;32melse\u001b[0m\u001b[1;33m:\u001b[0m\u001b[1;33m\u001b[0m\u001b[1;33m\u001b[0m\u001b[0m\n\u001b[0;32m     82\u001b[0m             b = make_block(\n\u001b[1;32m---> 83\u001b[1;33m                 \u001b[0m_concatenate_join_units\u001b[0m\u001b[1;33m(\u001b[0m\u001b[0mjoin_units\u001b[0m\u001b[1;33m,\u001b[0m \u001b[0mconcat_axis\u001b[0m\u001b[1;33m,\u001b[0m \u001b[0mcopy\u001b[0m\u001b[1;33m=\u001b[0m\u001b[0mcopy\u001b[0m\u001b[1;33m)\u001b[0m\u001b[1;33m,\u001b[0m\u001b[1;33m\u001b[0m\u001b[1;33m\u001b[0m\u001b[0m\n\u001b[0m\u001b[0;32m     84\u001b[0m                 \u001b[0mplacement\u001b[0m\u001b[1;33m=\u001b[0m\u001b[0mplacement\u001b[0m\u001b[1;33m,\u001b[0m\u001b[1;33m\u001b[0m\u001b[1;33m\u001b[0m\u001b[0m\n\u001b[0;32m     85\u001b[0m                 \u001b[0mndim\u001b[0m\u001b[1;33m=\u001b[0m\u001b[0mlen\u001b[0m\u001b[1;33m(\u001b[0m\u001b[0maxes\u001b[0m\u001b[1;33m)\u001b[0m\u001b[1;33m,\u001b[0m\u001b[1;33m\u001b[0m\u001b[1;33m\u001b[0m\u001b[0m\n",
      "\u001b[1;32m~\\Anaconda3\\envs\\JADS\\lib\\site-packages\\pandas\\core\\internals\\concat.py\u001b[0m in \u001b[0;36m_concatenate_join_units\u001b[1;34m(join_units, concat_axis, copy)\u001b[0m\n\u001b[0;32m    311\u001b[0m     \u001b[0mempty_dtype\u001b[0m\u001b[1;33m,\u001b[0m \u001b[0mupcasted_na\u001b[0m \u001b[1;33m=\u001b[0m \u001b[0m_get_empty_dtype_and_na\u001b[0m\u001b[1;33m(\u001b[0m\u001b[0mjoin_units\u001b[0m\u001b[1;33m)\u001b[0m\u001b[1;33m\u001b[0m\u001b[1;33m\u001b[0m\u001b[0m\n\u001b[0;32m    312\u001b[0m \u001b[1;33m\u001b[0m\u001b[0m\n\u001b[1;32m--> 313\u001b[1;33m     to_concat = [\n\u001b[0m\u001b[0;32m    314\u001b[0m         \u001b[0mju\u001b[0m\u001b[1;33m.\u001b[0m\u001b[0mget_reindexed_values\u001b[0m\u001b[1;33m(\u001b[0m\u001b[0mempty_dtype\u001b[0m\u001b[1;33m=\u001b[0m\u001b[0mempty_dtype\u001b[0m\u001b[1;33m,\u001b[0m \u001b[0mupcasted_na\u001b[0m\u001b[1;33m=\u001b[0m\u001b[0mupcasted_na\u001b[0m\u001b[1;33m)\u001b[0m\u001b[1;33m\u001b[0m\u001b[1;33m\u001b[0m\u001b[0m\n\u001b[0;32m    315\u001b[0m         \u001b[1;32mfor\u001b[0m \u001b[0mju\u001b[0m \u001b[1;32min\u001b[0m \u001b[0mjoin_units\u001b[0m\u001b[1;33m\u001b[0m\u001b[1;33m\u001b[0m\u001b[0m\n",
      "\u001b[1;32m~\\Anaconda3\\envs\\JADS\\lib\\site-packages\\pandas\\core\\internals\\concat.py\u001b[0m in \u001b[0;36m<listcomp>\u001b[1;34m(.0)\u001b[0m\n\u001b[0;32m    312\u001b[0m \u001b[1;33m\u001b[0m\u001b[0m\n\u001b[0;32m    313\u001b[0m     to_concat = [\n\u001b[1;32m--> 314\u001b[1;33m         \u001b[0mju\u001b[0m\u001b[1;33m.\u001b[0m\u001b[0mget_reindexed_values\u001b[0m\u001b[1;33m(\u001b[0m\u001b[0mempty_dtype\u001b[0m\u001b[1;33m=\u001b[0m\u001b[0mempty_dtype\u001b[0m\u001b[1;33m,\u001b[0m \u001b[0mupcasted_na\u001b[0m\u001b[1;33m=\u001b[0m\u001b[0mupcasted_na\u001b[0m\u001b[1;33m)\u001b[0m\u001b[1;33m\u001b[0m\u001b[1;33m\u001b[0m\u001b[0m\n\u001b[0m\u001b[0;32m    315\u001b[0m         \u001b[1;32mfor\u001b[0m \u001b[0mju\u001b[0m \u001b[1;32min\u001b[0m \u001b[0mjoin_units\u001b[0m\u001b[1;33m\u001b[0m\u001b[1;33m\u001b[0m\u001b[0m\n\u001b[0;32m    316\u001b[0m     ]\n",
      "\u001b[1;32m~\\Anaconda3\\envs\\JADS\\lib\\site-packages\\pandas\\core\\internals\\concat.py\u001b[0m in \u001b[0;36mget_reindexed_values\u001b[1;34m(self, empty_dtype, upcasted_na)\u001b[0m\n\u001b[0;32m    296\u001b[0m         \u001b[1;32melse\u001b[0m\u001b[1;33m:\u001b[0m\u001b[1;33m\u001b[0m\u001b[1;33m\u001b[0m\u001b[0m\n\u001b[0;32m    297\u001b[0m             \u001b[1;32mfor\u001b[0m \u001b[0max\u001b[0m\u001b[1;33m,\u001b[0m \u001b[0mindexer\u001b[0m \u001b[1;32min\u001b[0m \u001b[0mself\u001b[0m\u001b[1;33m.\u001b[0m\u001b[0mindexers\u001b[0m\u001b[1;33m.\u001b[0m\u001b[0mitems\u001b[0m\u001b[1;33m(\u001b[0m\u001b[1;33m)\u001b[0m\u001b[1;33m:\u001b[0m\u001b[1;33m\u001b[0m\u001b[1;33m\u001b[0m\u001b[0m\n\u001b[1;32m--> 298\u001b[1;33m                 \u001b[0mvalues\u001b[0m \u001b[1;33m=\u001b[0m \u001b[0malgos\u001b[0m\u001b[1;33m.\u001b[0m\u001b[0mtake_nd\u001b[0m\u001b[1;33m(\u001b[0m\u001b[0mvalues\u001b[0m\u001b[1;33m,\u001b[0m \u001b[0mindexer\u001b[0m\u001b[1;33m,\u001b[0m \u001b[0maxis\u001b[0m\u001b[1;33m=\u001b[0m\u001b[0max\u001b[0m\u001b[1;33m,\u001b[0m \u001b[0mfill_value\u001b[0m\u001b[1;33m=\u001b[0m\u001b[0mfill_value\u001b[0m\u001b[1;33m)\u001b[0m\u001b[1;33m\u001b[0m\u001b[1;33m\u001b[0m\u001b[0m\n\u001b[0m\u001b[0;32m    299\u001b[0m \u001b[1;33m\u001b[0m\u001b[0m\n\u001b[0;32m    300\u001b[0m         \u001b[1;32mreturn\u001b[0m \u001b[0mvalues\u001b[0m\u001b[1;33m\u001b[0m\u001b[1;33m\u001b[0m\u001b[0m\n",
      "\u001b[1;31mKeyboardInterrupt\u001b[0m: "
     ]
    }
   ],
   "source": [
    "import time\n",
    "\n",
    "# Build a frame per PC4\n",
    "print (\"Lijst met PC4 codes samenstellen\", end=\"..\")\n",
    "PC4_list = df_verbruik.PC4.unique()\n",
    "pc4_count = len(PC4_list)\n",
    "print (f\"done. Er zijn {pc4_count} pc4 codes\")\n",
    "\n",
    "# First PC4 area in de lijst\n",
    "first_pc4 = PC4_list[0]\n",
    "\n",
    "# Schrijf het samengevoegde dataframe naar een bestand\n",
    "def write_h5(df):\n",
    "    file = f\"pc4_verbruiksdata\"\n",
    "\n",
    "    # Haal een eventuele vorige versie weg\n",
    "    try:\n",
    "        os.remove(file)\n",
    "    except:\n",
    "        x = 0\n",
    "\n",
    "    # Schrijf het bestand weg\n",
    "    store = pd.HDFStore(file)\n",
    "    store[file] = df\n",
    "    store.close()\n",
    "\n",
    "# Per pc4 area maak een samengevoegd dataframe\n",
    "i = 1\n",
    "df_end_frame = None\n",
    "def do_per_pc4(pc4):\n",
    "    global i, df_end_frame\n",
    "    start = time.time()\n",
    "\n",
    "    print(f'{format(i,\"04d\")}. Samenvoegen profielen en verbruiksdata voor {pc4}', end = '..')\n",
    "    i = i + 1\n",
    "\n",
    "    # Maak kleiner frame\n",
    "    df_verbruik_pc4 = df_verbruik[df_verbruik.PC4 == pc4]\n",
    "    \n",
    "    # Voeg samen met de profielen set\n",
    "    df_merge = pd.merge(df_verbruik_pc4, df_transform_nedu, left_on=['PROFIEL'], right_on=['Profiel'])\n",
    "\n",
    "    # Pak alleen de kolommen die we willen hebben\n",
    "    df_merge = df_merge[['Datum', 'JAAR', 'Verbruik', 'PC4', 'LEVERINGSRICHTING_PERC', 'AANSLUITINGEN_AANTAL', 'PROFIEL', 'SJV_GEMIDDELD', 'PROFIEL']]\n",
    "\n",
    "    # rol op per pc4 gebied\n",
    "    df_merge = df_merge.groupby(['Datum', 'PC4']).agg({'Verbruik': 'sum'})\n",
    "\n",
    "    if df_end_frame is None:\n",
    "        df_end_frame = df_merge.copy()\n",
    "    else:\n",
    "        df_end_frame = df_end_frame.append(df_merge)\n",
    "\n",
    "    end = time.time()\n",
    "    exec_tijd = format(end - start, '.1f')\n",
    "    print(f'done in {exec_tijd}s')\n",
    "\n",
    "    return df_merge\n",
    "\n",
    "# Doe voor alle pc4 entries\n",
    "for pc4 in PC4_list:\n",
    "    do_per_pc4(pc4)\n",
    "\n",
    "# Schrijf bestand weg\n",
    "write_h5(df_end_frame)\n",
    "\n",
    "df_end_frame.head()"
   ]
  },
  {
   "cell_type": "code",
   "execution_count": 30,
   "metadata": {},
   "outputs": [
    {
     "output_type": "execute_result",
     "data": {
      "text/plain": [
       "                 Verbruik\n",
       "Datum      PC4           \n",
       "2021-12-27 4254  4.419361\n",
       "2021-12-28 4254  4.586358\n",
       "2021-12-29 4254  4.934124\n",
       "2021-12-30 4254  4.629432\n",
       "2021-12-31 4254  4.399901"
      ],
      "text/html": "<div>\n<style scoped>\n    .dataframe tbody tr th:only-of-type {\n        vertical-align: middle;\n    }\n\n    .dataframe tbody tr th {\n        vertical-align: top;\n    }\n\n    .dataframe thead th {\n        text-align: right;\n    }\n</style>\n<table border=\"1\" class=\"dataframe\">\n  <thead>\n    <tr style=\"text-align: right;\">\n      <th></th>\n      <th></th>\n      <th>Verbruik</th>\n    </tr>\n    <tr>\n      <th>Datum</th>\n      <th>PC4</th>\n      <th></th>\n    </tr>\n  </thead>\n  <tbody>\n    <tr>\n      <th>2021-12-27</th>\n      <th>4254</th>\n      <td>4.419361</td>\n    </tr>\n    <tr>\n      <th>2021-12-28</th>\n      <th>4254</th>\n      <td>4.586358</td>\n    </tr>\n    <tr>\n      <th>2021-12-29</th>\n      <th>4254</th>\n      <td>4.934124</td>\n    </tr>\n    <tr>\n      <th>2021-12-30</th>\n      <th>4254</th>\n      <td>4.629432</td>\n    </tr>\n    <tr>\n      <th>2021-12-31</th>\n      <th>4254</th>\n      <td>4.399901</td>\n    </tr>\n  </tbody>\n</table>\n</div>"
     },
     "metadata": {},
     "execution_count": 30
    }
   ],
   "source": [
    "df_end_frame.tail()"
   ]
  },
  {
   "cell_type": "code",
   "execution_count": 31,
   "metadata": {},
   "outputs": [
    {
     "output_type": "stream",
     "name": "stdout",
     "text": [
      "<class 'pandas.core.frame.DataFrame'>\nMultiIndex: 8036 entries, (Timestamp('2010-01-01 00:00:00'), '4251') to (Timestamp('2021-12-31 00:00:00'), '4254')\nData columns (total 1 columns):\n #   Column    Non-Null Count  Dtype  \n---  ------    --------------  -----  \n 0   Verbruik  8036 non-null   float64\ndtypes: float64(1)\nmemory usage: 247.0+ KB\n"
     ]
    }
   ],
   "source": [
    "df_end_frame.info()"
   ]
  },
  {
   "cell_type": "code",
   "execution_count": null,
   "metadata": {},
   "outputs": [],
   "source": []
  }
 ]
}