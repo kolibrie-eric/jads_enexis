{
 "cells": [
  {
   "cell_type": "code",
   "execution_count": 1,
   "id": "sought-capacity",
   "metadata": {},
   "outputs": [],
   "source": [
    "# over welke periode gaat het dataframe: 10 jaar\n",
    "# aggregratie op jaar niveau, eventueel later op week niveau\n",
    "\n",
    "# welke X-en:\n",
    "# PC4\n",
    "# LON \n",
    "# LAT\n",
    "# Res Regio\n",
    "# Gemeente\n",
    "# tem: hoe warm was het jaar?\n",
    "\n",
    "# sjv_totaal\n",
    "# factor_maand\n",
    "# factor\n",
    "# week_verbruik_kw\n",
    "# laadpalen\n",
    "# electrische auto's\n",
    "# warmtepompen\n",
    "# Opwekking zonneenergie\n",
    "# Opwekking Windenergie\n",
    "# Decentrale opwekgegevens\n",
    "# Knelpunt indicatie (Provincie?)"
   ]
  },
  {
   "cell_type": "code",
   "execution_count": 2,
   "id": "fifth-supplement",
   "metadata": {},
   "outputs": [],
   "source": [
    "import pandas as pd\n",
    "import numpy as np\n",
    "import os\n",
    "import glob\n",
    "import zipfile\n",
    "import seaborn as sns"
   ]
  },
  {
   "cell_type": "code",
   "execution_count": 3,
   "id": "sublime-rates",
   "metadata": {},
   "outputs": [],
   "source": [
    "# show all columns in the dataframe\n",
    "pd.set_option('max_columns', None)"
   ]
  },
  {
   "cell_type": "code",
   "execution_count": 4,
   "id": "coastal-matthew",
   "metadata": {},
   "outputs": [],
   "source": [
    "# variables used in script\n",
    "data_processed_location = '../data/processed'\n",
    "\n",
    "if 'processed' not in os.getcwd():\n",
    "    os.chdir(data_processed_location)"
   ]
  },
  {
   "cell_type": "markdown",
   "id": "unlike-sydney",
   "metadata": {},
   "source": [
    "# Alle benodige ht5 dataframes inlezen"
   ]
  },
  {
   "cell_type": "code",
   "execution_count": 5,
   "id": "directed-shoot",
   "metadata": {},
   "outputs": [],
   "source": [
    "# decentrale_opwekkingsgegevens gegevens inlezen\n",
    "df_opwek = pd.read_hdf('decentrale_opwekkingsgegevens_data.h5')\n",
    "# kleinverbruikgegevens gegevens inlezen\n",
    "df_verbruik = pd.read_hdf('kleinverbruikgegevens_data.h5')\n",
    "# mapping van CBS buurt naar PC4\n",
    "df_cbs_buurt_pc4 = pd.read_hdf('cbs_buurt_pc4.h5')\n",
    "# mapping van PC4 buurt naar RES regio\n",
    "df_pc4_res = pd.read_hdf('pc4_res.h5')"
   ]
  },
  {
   "cell_type": "markdown",
   "id": "seventh-place",
   "metadata": {},
   "source": [
    "# Nieuw master dataframe maken"
   ]
  },
  {
   "cell_type": "code",
   "execution_count": 6,
   "id": "heated-lawsuit",
   "metadata": {},
   "outputs": [],
   "source": [
    "# maak nieuw dataframe met de jaren\n",
    "df = pd.DataFrame(pd.date_range(start='1/1/2010', end='31/12/2020' , freq='Y'), columns=['DATUM']).sort_values(by='DATUM', ascending=False)\n",
    "df['JAAR'] = df['DATUM'].dt.year"
   ]
  },
  {
   "cell_type": "markdown",
   "id": "useful-radical",
   "metadata": {},
   "source": [
    "# Vebruik toevoegen aan dataframe"
   ]
  },
  {
   "cell_type": "code",
   "execution_count": 7,
   "id": "random-mercy",
   "metadata": {},
   "outputs": [],
   "source": [
    "# df_verbruik is nog per pc6, dus eerst omzetten naar pc4\n",
    "df_verbruik_pc4 = df_verbruik.groupby(['PC4','JAAR']\n",
    "                                      , as_index=False\n",
    "                                     ).agg({'SJV_TOTAAL': 'sum'\n",
    "                                            ,'AANSLUITINGEN_AANTAL': 'sum'  \n",
    "                                            ,'LEVERINGSRICHTING_PERC': 'mean'\n",
    "                                           }\n",
    "                                          )\n",
    "\n",
    "# join df met df_verbruik\n",
    "df = pd.merge(df, df_verbruik_pc4, on='JAAR', how='left')"
   ]
  },
  {
   "cell_type": "markdown",
   "id": "accepted-immune",
   "metadata": {},
   "source": [
    "# Opwek toevoegen aan dataframe"
   ]
  },
  {
   "cell_type": "code",
   "execution_count": 8,
   "id": "racial-project",
   "metadata": {},
   "outputs": [],
   "source": [
    "# jaar toevoegen\n",
    "# 2020-07-01 verwijderen, de maand van de peildatum moet januari zijn\n",
    "df_opwek = df_opwek[df_opwek['Peildatum'].dt.month == 1]\n",
    "# 2020-01-01 wordt 2019, 2021-01-01 wordt 2020\n",
    "df_opwek['JAAR'] = df_opwek['Peildatum'].dt.year - 1\n",
    "# PC4 toevoegen\n",
    "df_cbs_buurt_pc4 = df_cbs_buurt_pc4.rename(columns={'Buurt2020': 'CBS Buurtcode'})\n",
    "df_opwek = pd.merge(df_opwek, df_cbs_buurt_pc4, on='CBS Buurtcode', how='left', suffixes=('','_2'))\n",
    "# df_opwek group by PC4 en JAAR\n",
    "df_opwek_pc4 = df_opwek.groupby(['PC4','JAAR'], as_index=False).agg({'Gemeente':'max'\n",
    "                                                                     , 'Aantal aansluitingen in CBS-buurt': 'sum'\n",
    "                                                                     , 'Aantal aansluitingen met opwekinstallatie':'sum'\n",
    "                                                                     , 'Opgesteld vermogen':'sum'\n",
    "                                                                    }\n",
    "                                                                   )\n",
    "# rename columns\n",
    "df_opwek_pc4 = df_opwek_pc4.rename(columns={'Aantal aansluitingen in CBS-buurt': 'AANTAL AANSLUITINGEN IN PC4'\n",
    "                                            , 'Gemeente': 'GEMEENTE'\n",
    "                                            , 'Aantal aansluitingen met opwekinstallatie': 'AANTAL AANSLUITINGEN MET OPWEKINSTALLATIE'\n",
    "                                            , 'Opgesteld vermogen': 'OPGESTELD VERMOGEN'\n",
    "                                           }\n",
    "                                  )\n",
    "\n",
    "# join df met df_opwek_pc4\n",
    "df = pd.merge(df, df_opwek_pc4, on=['JAAR','PC4'], how='left')"
   ]
  },
  {
   "cell_type": "markdown",
   "id": "honey-documentation",
   "metadata": {},
   "source": [
    "# RES regio toevoegen aan dataframe"
   ]
  },
  {
   "cell_type": "code",
   "execution_count": 9,
   "id": "spectacular-refund",
   "metadata": {},
   "outputs": [],
   "source": [
    "df = pd.merge(df, df_pc4_res, on=['PC4'], how='left')"
   ]
  },
  {
   "cell_type": "markdown",
   "id": "forty-vegetarian",
   "metadata": {},
   "source": [
    "# Save dataframe "
   ]
  },
  {
   "cell_type": "code",
   "execution_count": 10,
   "id": "current-prime",
   "metadata": {},
   "outputs": [],
   "source": [
    "# data locatie om de ht5 file op te slaan\n",
    "data_processed_location = '../processed'\n",
    "\n",
    "if 'processed' not in os.getcwd():\n",
    "    os.chdir(data_processed_location)"
   ]
  },
  {
   "cell_type": "code",
   "execution_count": 12,
   "id": "bridal-factor",
   "metadata": {},
   "outputs": [],
   "source": [
    "try:\n",
    "    os.remove('master_data.h5')\n",
    "except:\n",
    "    print ('File nog in gebruik of niet gevonden')\n",
    "\n",
    "store = pd.HDFStore('master_data.h5')\n",
    "store['master_data'] = df\n",
    "store.close()"
   ]
  },
  {
   "cell_type": "code",
   "execution_count": null,
   "id": "olive-horizon",
   "metadata": {},
   "outputs": [],
   "source": []
  }
 ],
 "metadata": {
  "kernelspec": {
   "display_name": "Python [conda env:jads_enexis] *",
   "language": "python",
   "name": "conda-env-jads_enexis-py"
  },
  "language_info": {
   "codemirror_mode": {
    "name": "ipython",
    "version": 3
   },
   "file_extension": ".py",
   "mimetype": "text/x-python",
   "name": "python",
   "nbconvert_exporter": "python",
   "pygments_lexer": "ipython3",
   "version": "3.8.5"
  }
 },
 "nbformat": 4,
 "nbformat_minor": 5
}
