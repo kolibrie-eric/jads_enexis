{
 "cells": [
  {
   "cell_type": "markdown",
   "id": "supported-tomato",
   "metadata": {},
   "source": [
    "### Enexis Kleinverbruikgegevens dataset\n",
    "https://www.enexis.nl/over-ons/wat-bieden-we/andere-diensten/open-data \n",
    "\n",
    "\n",
    "Beschrijving:\n",
    "\n",
    "https://www.enexis.nl/over-ons/-/media/documenten/open-data/toelichting-kleinverbruiksgegevens-open-data-enexis-netbeheer.pdf?modified=00010101000000&la=nl-nl&hash=1A66620D8DBA0D55A55767B507C535BC218B0B14\n",
    "\n",
    "We hadden al de csv files per jaar vanaf 2010 maar er is nu ook een nieuwe csv file voor 2021 beschikbaar. op de website van Enexis staan alleen de laatste 3 jaar.\n",
    "\n",
    "Belangrijkste attributen in de dataset:\n",
    "- POSTCODE_VAN en POSTCODE_TOT, PC6\n",
    "- PRODUCTSOORT, zowel Gas als Elektriciteit. Filter toepassen op alleen Elektriciteit\n",
    "- AANSLUITINGEN_AANTAL, aantal aansluitingen in het postcode gebied\n",
    "- LEVERINGSRICHTING_PERC, Percentage van de aansluitingen dat netto elektriciteits- of gasverbruik heeft. Dit percentage wordt lager naarmate er meer teruglevering plaatsvindt (b.v. vanwege zonnepanelen) \n",
    "- SOORT_AANSLUITING  de meest voorkomende ‘Soort aansluiting’, Opties voor elektriciteit: (”#zekeringen x # ampère”) 1x25, 1x35, 1x50, 3x25, 3x35, 3x50, 3x63, 3x80\n",
    "- SJV_GEMIDDELD, Het gemiddeld standaardjaarverbruik (SJV) in kWh. Het verwachte jaarverbruik van een afnemer op een netaansluiting bij gestandaardiseerde condities en op basis van een genormaliseerd jaar. Bij teruglevering dan is het SJV gesaldeerd."
   ]
  },
  {
   "cell_type": "code",
   "execution_count": 166,
   "id": "acknowledged-gather",
   "metadata": {},
   "outputs": [],
   "source": [
    "import pandas as pd\n",
    "import numpy as np\n",
    "import os\n",
    "import glob\n",
    "import zipfile\n",
    "import seaborn as sns"
   ]
  },
  {
   "cell_type": "code",
   "execution_count": 169,
   "id": "southeast-hospital",
   "metadata": {},
   "outputs": [],
   "source": [
    "# show all columns in the dataframe\n",
    "pd.set_option('max_columns', None)"
   ]
  },
  {
   "cell_type": "code",
   "execution_count": 172,
   "id": "banned-contrary",
   "metadata": {},
   "outputs": [
    {
     "output_type": "execute_result",
     "data": {
      "text/plain": [
       "'c:\\\\Users\\\\ericr\\\\OneDrive - Actondata\\\\Projecten\\\\jads_enexis\\\\notebooks'"
      ]
     },
     "metadata": {},
     "execution_count": 172
    }
   ],
   "source": [
    "os.getcwd()"
   ]
  },
  {
   "cell_type": "code",
   "execution_count": 175,
   "id": "later-apparel",
   "metadata": {},
   "outputs": [],
   "source": [
    "# variables used in script\n",
    "# path to Data folder\n",
    "DATA = '../data/raw/Enexis_kleinverbruikgegevens'\n",
    "\n",
    "# Ga naar de folder waarin de data staat\n",
    "if 'Enexis_kleinverbruikgegevens' not in os.getcwd():\n",
    "    os.chdir(DATA)"
   ]
  },
  {
   "cell_type": "code",
   "execution_count": 178,
   "id": "italic-composite",
   "metadata": {},
   "outputs": [
    {
     "output_type": "stream",
     "name": "stdout",
     "text": [
      "Enexis_kleinverbruiksgegevens_01012010.zip\n",
      "Enexis_kleinverbruiksgegevens_01012011.zip\n",
      "Enexis_kleinverbruiksgegevens_01012012.zip\n",
      "Enexis_kleinverbruiksgegevens_01012013.zip\n",
      "Enexis_kleinverbruiksgegevens_01012014.zip\n",
      "Enexis_kleinverbruiksgegevens_01012015.zip\n",
      "Enexis_kleinverbruiksgegevens_01012016.zip\n",
      "Enexis_kleinverbruiksgegevens_01012017.zip\n",
      "Enexis_kleinverbruiksgegevens_01012018.zip\n",
      "Enexis_kleinverbruiksgegevens_01012019.zip\n",
      "Enexis_kleinverbruiksgegevens_01012020.zip\n",
      "Enexis_kleinverbruiksgegevens_01012021.zip\n"
     ]
    }
   ],
   "source": [
    "df = pd.DataFrame()\n",
    "for j in glob.glob('Enexis_kleinverbruiksgegevens*.zip'):\n",
    "    print(j)\n",
    "    appenddata = pd.read_csv(j, sep=';', thousands='.', decimal=',',  encoding= 'unicode_escape')\n",
    "    # jaar kolom toevoegen op basis van de file name\n",
    "    appenddata['JAAR'] = j[-8:-4] # Het standaardjaarverbruik is het verwachte jaarverbruik gebaseerd op vorige jaar\n",
    "    df = df.append(appenddata,ignore_index=True)"
   ]
  },
  {
   "cell_type": "code",
   "execution_count": 181,
   "id": "unusual-nicaragua",
   "metadata": {},
   "outputs": [
    {
     "output_type": "execute_result",
     "data": {
      "text/plain": [
       "Index(['NETBEHEERDER', 'NETGEBIED', 'STRAATNAAM', 'POSTCODE_VAN',\n",
       "       'POSTCODE_TOT', 'WOONPLAATS', 'LANDCODE', 'PRODUCTSOORT',\n",
       "       'VERBRUIKSSEGMENT', 'LEVERINGSRICHTING_PERC', 'AANSLUITINGEN_AANTAL',\n",
       "       'FYSIEKE_STATUS_PERC', 'SOORT_AANSLUITING_PERC', 'SOORT_AANSLUITING',\n",
       "       'SJV_GEMIDDELD', 'SJV_LAAG_TARIEF_PERC', 'SLIMME_METER_PERC', 'JAAR'],\n",
       "      dtype='object')"
      ]
     },
     "metadata": {},
     "execution_count": 181
    }
   ],
   "source": [
    "df.columns"
   ]
  },
  {
   "cell_type": "code",
   "execution_count": 184,
   "id": "early-windows",
   "metadata": {},
   "outputs": [
    {
     "output_type": "stream",
     "name": "stdout",
     "text": [
      "<class 'pandas.core.frame.DataFrame'>\nRangeIndex: 2563201 entries, 0 to 2563200\nData columns (total 18 columns):\n #   Column                  Dtype  \n---  ------                  -----  \n 0   NETBEHEERDER            object \n 1   NETGEBIED               object \n 2   STRAATNAAM              object \n 3   POSTCODE_VAN            object \n 4   POSTCODE_TOT            object \n 5   WOONPLAATS              object \n 6   LANDCODE                object \n 7   PRODUCTSOORT            object \n 8   VERBRUIKSSEGMENT        object \n 9   LEVERINGSRICHTING_PERC  float64\n 10  AANSLUITINGEN_AANTAL    int64  \n 11  FYSIEKE_STATUS_PERC     int64  \n 12  SOORT_AANSLUITING_PERC  float64\n 13  SOORT_AANSLUITING       object \n 14  SJV_GEMIDDELD           float64\n 15  SJV_LAAG_TARIEF_PERC    float64\n 16  SLIMME_METER_PERC       float64\n 17  JAAR                    int64  \ndtypes: float64(5), int64(3), object(10)\nmemory usage: 352.0+ MB\n"
     ]
    }
   ],
   "source": [
    "#df[\"SOORT_AANSLUITING\"].value_counts(dropna=False)\n",
    "df = df.astype({'JAAR':'int64'})\n",
    "df.info()"
   ]
  },
  {
   "cell_type": "code",
   "execution_count": 187,
   "id": "fifty-freeware",
   "metadata": {},
   "outputs": [],
   "source": [
    "# filter op elektriciteit\n",
    "df = df[df['PRODUCTSOORT'] == 'ELK']"
   ]
  },
  {
   "cell_type": "code",
   "execution_count": 190,
   "id": "secondary-apparel",
   "metadata": {},
   "outputs": [
    {
     "output_type": "stream",
     "name": "stdout",
     "text": [
      "Number of attributes with Null values: 3\nSOORT_AANSLUITING         107581\nSOORT_AANSLUITING_PERC    107512\nLEVERINGSRICHTING_PERC       958\ndtype: int64\n"
     ]
    }
   ],
   "source": [
    "# check missing values\n",
    "missing_total = df.isna().sum().sort_values(ascending=False)\n",
    "print('Number of attributes with Null values: ' + str(len(missing_total[missing_total > 0])))\n",
    "print(missing_total[missing_total > 0])"
   ]
  },
  {
   "cell_type": "code",
   "execution_count": 193,
   "id": "hearing-prior",
   "metadata": {},
   "outputs": [],
   "source": [
    "# fill missing values \n",
    "df['SOORT_AANSLUITING'] = df['SOORT_AANSLUITING'].fillna('Onbekend')\n",
    "df['SOORT_AANSLUITING_PERC'] = df['SOORT_AANSLUITING_PERC'].fillna(0)\n",
    "df['LEVERINGSRICHTING_PERC'] = df['LEVERINGSRICHTING_PERC'].fillna(0)"
   ]
  },
  {
   "cell_type": "code",
   "execution_count": 196,
   "id": "maritime-combine",
   "metadata": {},
   "outputs": [
    {
     "output_type": "execute_result",
     "data": {
      "text/plain": [
       "  NETBEHEERDER NETGEBIED STRAATNAAM POSTCODE_VAN POSTCODE_TOT WOONPLAATS  \\\n",
       "0  Enexis B.V.    ENEXIS    Sasdijk       4251AB       4251AB  WERKENDAM   \n",
       "1  Enexis B.V.    ENEXIS    Sasdijk       4251AC       4251AC  WERKENDAM   \n",
       "2  Enexis B.V.    ENEXIS    Sasdijk       4251AD       4251AD  WERKENDAM   \n",
       "3  Enexis B.V.    ENEXIS  Nieuweweg       4251AE       4251AG  WERKENDAM   \n",
       "4  Enexis B.V.    ENEXIS  Koppenhof       4251AH       4251AH  WERKENDAM   \n",
       "\n",
       "  LANDCODE PRODUCTSOORT VERBRUIKSSEGMENT  LEVERINGSRICHTING_PERC  \\\n",
       "0       NL          ELK              KVB                   100.0   \n",
       "1       NL          ELK              KVB                   100.0   \n",
       "2       NL          ELK              KVB                   100.0   \n",
       "3       NL          ELK              KVB                   100.0   \n",
       "4       NL          ELK              KVB                   100.0   \n",
       "\n",
       "   AANSLUITINGEN_AANTAL  FYSIEKE_STATUS_PERC  SOORT_AANSLUITING_PERC  \\\n",
       "0                    16                  100                     0.0   \n",
       "1                    11                  100                     0.0   \n",
       "2                    30                  100                     0.0   \n",
       "3                    21                  100                     0.0   \n",
       "4                    12                  100                     0.0   \n",
       "\n",
       "  SOORT_AANSLUITING  SJV_GEMIDDELD  SJV_LAAG_TARIEF_PERC  SLIMME_METER_PERC  \\\n",
       "0          Onbekend         4282.0                  25.0                0.0   \n",
       "1          Onbekend         5113.0                  10.0                0.0   \n",
       "2          Onbekend         4809.0                  34.0                0.0   \n",
       "3          Onbekend         5015.0                  44.0                0.0   \n",
       "4          Onbekend         3074.0                  22.0                0.0   \n",
       "\n",
       "   JAAR  \n",
       "0  2010  \n",
       "1  2010  \n",
       "2  2010  \n",
       "3  2010  \n",
       "4  2010  "
      ],
      "text/html": "<div>\n<style scoped>\n    .dataframe tbody tr th:only-of-type {\n        vertical-align: middle;\n    }\n\n    .dataframe tbody tr th {\n        vertical-align: top;\n    }\n\n    .dataframe thead th {\n        text-align: right;\n    }\n</style>\n<table border=\"1\" class=\"dataframe\">\n  <thead>\n    <tr style=\"text-align: right;\">\n      <th></th>\n      <th>NETBEHEERDER</th>\n      <th>NETGEBIED</th>\n      <th>STRAATNAAM</th>\n      <th>POSTCODE_VAN</th>\n      <th>POSTCODE_TOT</th>\n      <th>WOONPLAATS</th>\n      <th>LANDCODE</th>\n      <th>PRODUCTSOORT</th>\n      <th>VERBRUIKSSEGMENT</th>\n      <th>LEVERINGSRICHTING_PERC</th>\n      <th>AANSLUITINGEN_AANTAL</th>\n      <th>FYSIEKE_STATUS_PERC</th>\n      <th>SOORT_AANSLUITING_PERC</th>\n      <th>SOORT_AANSLUITING</th>\n      <th>SJV_GEMIDDELD</th>\n      <th>SJV_LAAG_TARIEF_PERC</th>\n      <th>SLIMME_METER_PERC</th>\n      <th>JAAR</th>\n    </tr>\n  </thead>\n  <tbody>\n    <tr>\n      <th>0</th>\n      <td>Enexis B.V.</td>\n      <td>ENEXIS</td>\n      <td>Sasdijk</td>\n      <td>4251AB</td>\n      <td>4251AB</td>\n      <td>WERKENDAM</td>\n      <td>NL</td>\n      <td>ELK</td>\n      <td>KVB</td>\n      <td>100.0</td>\n      <td>16</td>\n      <td>100</td>\n      <td>0.0</td>\n      <td>Onbekend</td>\n      <td>4282.0</td>\n      <td>25.0</td>\n      <td>0.0</td>\n      <td>2010</td>\n    </tr>\n    <tr>\n      <th>1</th>\n      <td>Enexis B.V.</td>\n      <td>ENEXIS</td>\n      <td>Sasdijk</td>\n      <td>4251AC</td>\n      <td>4251AC</td>\n      <td>WERKENDAM</td>\n      <td>NL</td>\n      <td>ELK</td>\n      <td>KVB</td>\n      <td>100.0</td>\n      <td>11</td>\n      <td>100</td>\n      <td>0.0</td>\n      <td>Onbekend</td>\n      <td>5113.0</td>\n      <td>10.0</td>\n      <td>0.0</td>\n      <td>2010</td>\n    </tr>\n    <tr>\n      <th>2</th>\n      <td>Enexis B.V.</td>\n      <td>ENEXIS</td>\n      <td>Sasdijk</td>\n      <td>4251AD</td>\n      <td>4251AD</td>\n      <td>WERKENDAM</td>\n      <td>NL</td>\n      <td>ELK</td>\n      <td>KVB</td>\n      <td>100.0</td>\n      <td>30</td>\n      <td>100</td>\n      <td>0.0</td>\n      <td>Onbekend</td>\n      <td>4809.0</td>\n      <td>34.0</td>\n      <td>0.0</td>\n      <td>2010</td>\n    </tr>\n    <tr>\n      <th>3</th>\n      <td>Enexis B.V.</td>\n      <td>ENEXIS</td>\n      <td>Nieuweweg</td>\n      <td>4251AE</td>\n      <td>4251AG</td>\n      <td>WERKENDAM</td>\n      <td>NL</td>\n      <td>ELK</td>\n      <td>KVB</td>\n      <td>100.0</td>\n      <td>21</td>\n      <td>100</td>\n      <td>0.0</td>\n      <td>Onbekend</td>\n      <td>5015.0</td>\n      <td>44.0</td>\n      <td>0.0</td>\n      <td>2010</td>\n    </tr>\n    <tr>\n      <th>4</th>\n      <td>Enexis B.V.</td>\n      <td>ENEXIS</td>\n      <td>Koppenhof</td>\n      <td>4251AH</td>\n      <td>4251AH</td>\n      <td>WERKENDAM</td>\n      <td>NL</td>\n      <td>ELK</td>\n      <td>KVB</td>\n      <td>100.0</td>\n      <td>12</td>\n      <td>100</td>\n      <td>0.0</td>\n      <td>Onbekend</td>\n      <td>3074.0</td>\n      <td>22.0</td>\n      <td>0.0</td>\n      <td>2010</td>\n    </tr>\n  </tbody>\n</table>\n</div>"
     },
     "metadata": {},
     "execution_count": 196
    }
   ],
   "source": [
    "df.head()"
   ]
  },
  {
   "cell_type": "code",
   "execution_count": 199,
   "metadata": {},
   "outputs": [
    {
     "output_type": "execute_result",
     "data": {
      "text/plain": [
       "        NETBEHEERDER NETGEBIED            STRAATNAAM POSTCODE_VAN  \\\n",
       "190478   Enexis B.V.    ENEXIS               Sasdijk       4251AB   \n",
       "190479   Enexis B.V.    ENEXIS               Sasdijk       4251AC   \n",
       "190480   Enexis B.V.    ENEXIS               Sasdijk       4251AD   \n",
       "190481   Enexis B.V.    ENEXIS             Nieuweweg       4251AE   \n",
       "190482   Enexis B.V.    ENEXIS             Koppenhof       4251AH   \n",
       "...              ...       ...                   ...          ...   \n",
       "2563191  Enexis B.V.    ENEXIS  Jacob Tilbusscherweg      9998 XB   \n",
       "2563193  Enexis B.V.    ENEXIS           Jan Boerweg      9998 XC   \n",
       "2563195  Enexis B.V.    ENEXIS               Knolweg      9998 XE   \n",
       "2563197  Enexis B.V.    ENEXIS        Stitswerderweg      9999 XH   \n",
       "2563199  Enexis B.V.    ENEXIS                 Stiel      9999 XK   \n",
       "\n",
       "        POSTCODE_TOT WOONPLAATS LANDCODE PRODUCTSOORT VERBRUIKSSEGMENT  \\\n",
       "190478        4251AB  WERKENDAM       NL          ELK              KVB   \n",
       "190479        4251AC  WERKENDAM       NL          ELK              KVB   \n",
       "190480        4251AD  WERKENDAM       NL          ELK              KVB   \n",
       "190481        4251AG  WERKENDAM       NL          ELK              KVB   \n",
       "190482        4251AH  WERKENDAM       NL          ELK              KVB   \n",
       "...              ...        ...      ...          ...              ...   \n",
       "2563191      9998 XB  ROTTUM GN       NL          ELK              KVB   \n",
       "2563193      9998 XD  ROTTUM GN       NL          ELK              KVB   \n",
       "2563195      9999 XG  ROTTUM GN       NL          ELK              KVB   \n",
       "2563197      9999 XJ  STITSWERD       NL          ELK              KVB   \n",
       "2563199      9999 XL  STITSWERD       NL          ELK              KVB   \n",
       "\n",
       "         LEVERINGSRICHTING_PERC  AANSLUITINGEN_AANTAL  FYSIEKE_STATUS_PERC  \\\n",
       "190478                   100.00                    16                  100   \n",
       "190479                   100.00                    11                  100   \n",
       "190480                   100.00                    30                  100   \n",
       "190481                   100.00                    21                  100   \n",
       "190482                   100.00                    12                  100   \n",
       "...                         ...                   ...                  ...   \n",
       "2563191                   66.67                    21                  100   \n",
       "2563193                   55.00                    20                  100   \n",
       "2563195                    8.33                    12                  100   \n",
       "2563197                   50.00                    16                  100   \n",
       "2563199                   42.86                    21                  100   \n",
       "\n",
       "         SOORT_AANSLUITING_PERC SOORT_AANSLUITING  SJV_GEMIDDELD  \\\n",
       "190478                     50.0              1X25        4961.00   \n",
       "190479                     64.0              1X25        4517.00   \n",
       "190480                     43.0              3X25        3675.00   \n",
       "190481                     52.0              1X25        5249.00   \n",
       "190482                     33.0              1X25        3226.00   \n",
       "...                         ...               ...            ...   \n",
       "2563191                    61.9              3x25        7390.48   \n",
       "2563193                    55.0              3x25        2440.35   \n",
       "2563195                    50.0              3x25       11102.83   \n",
       "2563197                    62.5              3x25        6420.81   \n",
       "2563199                    61.9              3x25        2485.81   \n",
       "\n",
       "         SJV_LAAG_TARIEF_PERC  SLIMME_METER_PERC  JAAR  \n",
       "190478                  34.00               0.00  2011  \n",
       "190479                  13.00               0.00  2011  \n",
       "190480                  31.00               0.00  2011  \n",
       "190481                  48.00               0.00  2011  \n",
       "190482                  33.00               0.00  2011  \n",
       "...                       ...                ...   ...  \n",
       "2563191                 46.48              85.71  2021  \n",
       "2563193                 41.43              55.00  2021  \n",
       "2563195                 52.30             100.00  2021  \n",
       "2563197                 38.98              75.00  2021  \n",
       "2563199                 42.04              76.19  2021  \n",
       "\n",
       "[1284015 rows x 18 columns]"
      ],
      "text/html": "<div>\n<style scoped>\n    .dataframe tbody tr th:only-of-type {\n        vertical-align: middle;\n    }\n\n    .dataframe tbody tr th {\n        vertical-align: top;\n    }\n\n    .dataframe thead th {\n        text-align: right;\n    }\n</style>\n<table border=\"1\" class=\"dataframe\">\n  <thead>\n    <tr style=\"text-align: right;\">\n      <th></th>\n      <th>NETBEHEERDER</th>\n      <th>NETGEBIED</th>\n      <th>STRAATNAAM</th>\n      <th>POSTCODE_VAN</th>\n      <th>POSTCODE_TOT</th>\n      <th>WOONPLAATS</th>\n      <th>LANDCODE</th>\n      <th>PRODUCTSOORT</th>\n      <th>VERBRUIKSSEGMENT</th>\n      <th>LEVERINGSRICHTING_PERC</th>\n      <th>AANSLUITINGEN_AANTAL</th>\n      <th>FYSIEKE_STATUS_PERC</th>\n      <th>SOORT_AANSLUITING_PERC</th>\n      <th>SOORT_AANSLUITING</th>\n      <th>SJV_GEMIDDELD</th>\n      <th>SJV_LAAG_TARIEF_PERC</th>\n      <th>SLIMME_METER_PERC</th>\n      <th>JAAR</th>\n    </tr>\n  </thead>\n  <tbody>\n    <tr>\n      <th>190478</th>\n      <td>Enexis B.V.</td>\n      <td>ENEXIS</td>\n      <td>Sasdijk</td>\n      <td>4251AB</td>\n      <td>4251AB</td>\n      <td>WERKENDAM</td>\n      <td>NL</td>\n      <td>ELK</td>\n      <td>KVB</td>\n      <td>100.00</td>\n      <td>16</td>\n      <td>100</td>\n      <td>50.0</td>\n      <td>1X25</td>\n      <td>4961.00</td>\n      <td>34.00</td>\n      <td>0.00</td>\n      <td>2011</td>\n    </tr>\n    <tr>\n      <th>190479</th>\n      <td>Enexis B.V.</td>\n      <td>ENEXIS</td>\n      <td>Sasdijk</td>\n      <td>4251AC</td>\n      <td>4251AC</td>\n      <td>WERKENDAM</td>\n      <td>NL</td>\n      <td>ELK</td>\n      <td>KVB</td>\n      <td>100.00</td>\n      <td>11</td>\n      <td>100</td>\n      <td>64.0</td>\n      <td>1X25</td>\n      <td>4517.00</td>\n      <td>13.00</td>\n      <td>0.00</td>\n      <td>2011</td>\n    </tr>\n    <tr>\n      <th>190480</th>\n      <td>Enexis B.V.</td>\n      <td>ENEXIS</td>\n      <td>Sasdijk</td>\n      <td>4251AD</td>\n      <td>4251AD</td>\n      <td>WERKENDAM</td>\n      <td>NL</td>\n      <td>ELK</td>\n      <td>KVB</td>\n      <td>100.00</td>\n      <td>30</td>\n      <td>100</td>\n      <td>43.0</td>\n      <td>3X25</td>\n      <td>3675.00</td>\n      <td>31.00</td>\n      <td>0.00</td>\n      <td>2011</td>\n    </tr>\n    <tr>\n      <th>190481</th>\n      <td>Enexis B.V.</td>\n      <td>ENEXIS</td>\n      <td>Nieuweweg</td>\n      <td>4251AE</td>\n      <td>4251AG</td>\n      <td>WERKENDAM</td>\n      <td>NL</td>\n      <td>ELK</td>\n      <td>KVB</td>\n      <td>100.00</td>\n      <td>21</td>\n      <td>100</td>\n      <td>52.0</td>\n      <td>1X25</td>\n      <td>5249.00</td>\n      <td>48.00</td>\n      <td>0.00</td>\n      <td>2011</td>\n    </tr>\n    <tr>\n      <th>190482</th>\n      <td>Enexis B.V.</td>\n      <td>ENEXIS</td>\n      <td>Koppenhof</td>\n      <td>4251AH</td>\n      <td>4251AH</td>\n      <td>WERKENDAM</td>\n      <td>NL</td>\n      <td>ELK</td>\n      <td>KVB</td>\n      <td>100.00</td>\n      <td>12</td>\n      <td>100</td>\n      <td>33.0</td>\n      <td>1X25</td>\n      <td>3226.00</td>\n      <td>33.00</td>\n      <td>0.00</td>\n      <td>2011</td>\n    </tr>\n    <tr>\n      <th>...</th>\n      <td>...</td>\n      <td>...</td>\n      <td>...</td>\n      <td>...</td>\n      <td>...</td>\n      <td>...</td>\n      <td>...</td>\n      <td>...</td>\n      <td>...</td>\n      <td>...</td>\n      <td>...</td>\n      <td>...</td>\n      <td>...</td>\n      <td>...</td>\n      <td>...</td>\n      <td>...</td>\n      <td>...</td>\n      <td>...</td>\n    </tr>\n    <tr>\n      <th>2563191</th>\n      <td>Enexis B.V.</td>\n      <td>ENEXIS</td>\n      <td>Jacob Tilbusscherweg</td>\n      <td>9998 XB</td>\n      <td>9998 XB</td>\n      <td>ROTTUM GN</td>\n      <td>NL</td>\n      <td>ELK</td>\n      <td>KVB</td>\n      <td>66.67</td>\n      <td>21</td>\n      <td>100</td>\n      <td>61.9</td>\n      <td>3x25</td>\n      <td>7390.48</td>\n      <td>46.48</td>\n      <td>85.71</td>\n      <td>2021</td>\n    </tr>\n    <tr>\n      <th>2563193</th>\n      <td>Enexis B.V.</td>\n      <td>ENEXIS</td>\n      <td>Jan Boerweg</td>\n      <td>9998 XC</td>\n      <td>9998 XD</td>\n      <td>ROTTUM GN</td>\n      <td>NL</td>\n      <td>ELK</td>\n      <td>KVB</td>\n      <td>55.00</td>\n      <td>20</td>\n      <td>100</td>\n      <td>55.0</td>\n      <td>3x25</td>\n      <td>2440.35</td>\n      <td>41.43</td>\n      <td>55.00</td>\n      <td>2021</td>\n    </tr>\n    <tr>\n      <th>2563195</th>\n      <td>Enexis B.V.</td>\n      <td>ENEXIS</td>\n      <td>Knolweg</td>\n      <td>9998 XE</td>\n      <td>9999 XG</td>\n      <td>ROTTUM GN</td>\n      <td>NL</td>\n      <td>ELK</td>\n      <td>KVB</td>\n      <td>8.33</td>\n      <td>12</td>\n      <td>100</td>\n      <td>50.0</td>\n      <td>3x25</td>\n      <td>11102.83</td>\n      <td>52.30</td>\n      <td>100.00</td>\n      <td>2021</td>\n    </tr>\n    <tr>\n      <th>2563197</th>\n      <td>Enexis B.V.</td>\n      <td>ENEXIS</td>\n      <td>Stitswerderweg</td>\n      <td>9999 XH</td>\n      <td>9999 XJ</td>\n      <td>STITSWERD</td>\n      <td>NL</td>\n      <td>ELK</td>\n      <td>KVB</td>\n      <td>50.00</td>\n      <td>16</td>\n      <td>100</td>\n      <td>62.5</td>\n      <td>3x25</td>\n      <td>6420.81</td>\n      <td>38.98</td>\n      <td>75.00</td>\n      <td>2021</td>\n    </tr>\n    <tr>\n      <th>2563199</th>\n      <td>Enexis B.V.</td>\n      <td>ENEXIS</td>\n      <td>Stiel</td>\n      <td>9999 XK</td>\n      <td>9999 XL</td>\n      <td>STITSWERD</td>\n      <td>NL</td>\n      <td>ELK</td>\n      <td>KVB</td>\n      <td>42.86</td>\n      <td>21</td>\n      <td>100</td>\n      <td>61.9</td>\n      <td>3x25</td>\n      <td>2485.81</td>\n      <td>42.04</td>\n      <td>76.19</td>\n      <td>2021</td>\n    </tr>\n  </tbody>\n</table>\n<p>1284015 rows × 18 columns</p>\n</div>"
     },
     "metadata": {},
     "execution_count": 199
    }
   ],
   "source": [
    "df[df[\"JAAR\"] > 2010]"
   ]
  },
  {
   "cell_type": "code",
   "execution_count": 202,
   "metadata": {},
   "outputs": [],
   "source": [
    "# Poging 1. Veeeeerrrrry slow maar werkt wel. Om dit sneller te krijgen moeten we apply of np.vectorize gebruiken\n",
    "# print (\"Aansluitsoort bijwerken:\",end=\"\")\n",
    "# i = 0\n",
    "# for postcode in postcode_van:\n",
    "#     # Print een punt elke 1000 postcodes om de voortgang te kunnen zien\n",
    "#     if not i%1000:\n",
    "#         print (\".\", end=\"\")\n",
    "#     i = i + 1\n",
    "\n",
    "#     # haal het soort aansluiting op uit 2011. Filter geeft een 1x1 dataframe terug! (als er iets gevonden is). Vandaar de list conversie\n",
    "#     soort_aansluiting = postcode_aansluiting[postcode]\n",
    "\n",
    "#     # als er geen aansluiting is gevonden, ga verder met de volgende postcode\n",
    "#     if not soort_aansluiting:\n",
    "#         continue\n",
    "\n",
    "#     # Selecteer het eerstgevonden jaar de aanname is dat de aansluiting niet veranderd is\n",
    "#     soort_aansluiting = soort_aansluiting[0]\n",
    "#     # DEBUG: print (f\"{postcode} heeft aansluiting {soort_aansluiting}\")\n",
    "\n",
    "#     # Vervang Onbekend door de soort aansluiting die is gevonden in een later jaar voor dezelfde postcode_van\n",
    "#     df.loc[(df.POSTCODE_VAN == postcode) & (df.JAAR == 2010) & (df.SOORT_AANSLUITING == \"Onbekend\"), \"SOORT_AANSLUITING\"] = soort_aansluiting"
   ]
  },
  {
   "cell_type": "code",
   "execution_count": 205,
   "metadata": {},
   "outputs": [
    {
     "output_type": "stream",
     "name": "stdout",
     "text": [
      "Er zijn 107581 onbekende aansluitingen\nLijst met random indices met onbekende aansluiting = [ 25804 100110 131402 182100 118849 177825  62987 113018 101891  17308]\nEr zijn 107581 onbekende aansluitingen in 2010 en 2017\nGeselecteerde rijen:\n"
     ]
    },
    {
     "output_type": "execute_result",
     "data": {
      "text/plain": [
       "       NETBEHEERDER NETGEBIED               STRAATNAAM POSTCODE_VAN  \\\n",
       "25804   Enexis B.V.    ENEXIS       van Hogendorpplein       5051SV   \n",
       "100110  Enexis B.V.    ENEXIS  Jonker van Weerststraat       6441SW   \n",
       "131402  Enexis B.V.    ENEXIS                Zevenster       7918AV   \n",
       "182100  Enexis B.V.    ENEXIS             Voermanhaven       9742VR   \n",
       "118849  Enexis B.V.    ENEXIS            Vikkerhoekweg       7555PL   \n",
       "177825  Enexis B.V.    ENEXIS           Belcamposingel       9721ME   \n",
       "62987   Enexis B.V.    ENEXIS              Steenstraat       5831JH   \n",
       "113018  Enexis B.V.    ENEXIS           Veldkampstraat       7513ZB   \n",
       "101891  Enexis B.V.    ENEXIS                Schiltgen       6462GJ   \n",
       "17308   Enexis B.V.    ENEXIS          Leeuwerikstraat       4881WZ   \n",
       "\n",
       "       POSTCODE_TOT  WOONPLAATS LANDCODE PRODUCTSOORT VERBRUIKSSEGMENT  \\\n",
       "25804        5051SW      GOIRLE       NL          ELK              KVB   \n",
       "100110       6441SW    BRUNSSUM       NL          ELK              KVB   \n",
       "131402       7918TA  NIEUWLANDE       NL          ELK              KVB   \n",
       "182100       9742VR   GRONINGEN       NL          ELK              KVB   \n",
       "118849       7555PL  HENGELO OV       NL          ELK              KVB   \n",
       "177825       9721ME   GRONINGEN       NL          ELK              KVB   \n",
       "62987        5831JH     BOXMEER       NL          ELK              KVB   \n",
       "113018       7513ZE    ENSCHEDE       NL          ELK              KVB   \n",
       "101891       6462GJ    KERKRADE       NL          ELK              KVB   \n",
       "17308        4881WZ     ZUNDERT       NL          ELK              KVB   \n",
       "\n",
       "        LEVERINGSRICHTING_PERC  AANSLUITINGEN_AANTAL  FYSIEKE_STATUS_PERC  \\\n",
       "25804                    100.0                    20                  100   \n",
       "100110                   100.0                    31                  100   \n",
       "131402                   100.0                    29                  100   \n",
       "182100                   100.0                    28                  100   \n",
       "118849                   100.0                    19                  100   \n",
       "177825                   100.0                    15                  100   \n",
       "62987                    100.0                    17                  100   \n",
       "113018                   100.0                    34                  100   \n",
       "101891                   100.0                    19                  100   \n",
       "17308                    100.0                    50                  100   \n",
       "\n",
       "        SOORT_AANSLUITING_PERC SOORT_AANSLUITING  SJV_GEMIDDELD  \\\n",
       "25804                      0.0          Onbekend         6865.0   \n",
       "100110                     0.0          Onbekend         4558.0   \n",
       "131402                     0.0          Onbekend         4223.0   \n",
       "182100                     0.0          Onbekend         3414.0   \n",
       "118849                     0.0          Onbekend         5186.0   \n",
       "177825                     0.0          Onbekend         3797.0   \n",
       "62987                      0.0          Onbekend        24337.0   \n",
       "113018                     0.0          Onbekend         4019.0   \n",
       "101891                     0.0          Onbekend         3900.0   \n",
       "17308                      0.0          Onbekend         6077.0   \n",
       "\n",
       "        SJV_LAAG_TARIEF_PERC  SLIMME_METER_PERC  JAAR  \n",
       "25804                   31.0                0.0  2010  \n",
       "100110                  49.0                0.0  2010  \n",
       "131402                  33.0                0.0  2010  \n",
       "182100                  56.0                0.0  2010  \n",
       "118849                  51.0                0.0  2010  \n",
       "177825                   1.0                0.0  2010  \n",
       "62987                   59.0                0.0  2010  \n",
       "113018                  48.0                0.0  2010  \n",
       "101891                  43.0                0.0  2010  \n",
       "17308                   30.0                0.0  2010  "
      ],
      "text/html": "<div>\n<style scoped>\n    .dataframe tbody tr th:only-of-type {\n        vertical-align: middle;\n    }\n\n    .dataframe tbody tr th {\n        vertical-align: top;\n    }\n\n    .dataframe thead th {\n        text-align: right;\n    }\n</style>\n<table border=\"1\" class=\"dataframe\">\n  <thead>\n    <tr style=\"text-align: right;\">\n      <th></th>\n      <th>NETBEHEERDER</th>\n      <th>NETGEBIED</th>\n      <th>STRAATNAAM</th>\n      <th>POSTCODE_VAN</th>\n      <th>POSTCODE_TOT</th>\n      <th>WOONPLAATS</th>\n      <th>LANDCODE</th>\n      <th>PRODUCTSOORT</th>\n      <th>VERBRUIKSSEGMENT</th>\n      <th>LEVERINGSRICHTING_PERC</th>\n      <th>AANSLUITINGEN_AANTAL</th>\n      <th>FYSIEKE_STATUS_PERC</th>\n      <th>SOORT_AANSLUITING_PERC</th>\n      <th>SOORT_AANSLUITING</th>\n      <th>SJV_GEMIDDELD</th>\n      <th>SJV_LAAG_TARIEF_PERC</th>\n      <th>SLIMME_METER_PERC</th>\n      <th>JAAR</th>\n    </tr>\n  </thead>\n  <tbody>\n    <tr>\n      <th>25804</th>\n      <td>Enexis B.V.</td>\n      <td>ENEXIS</td>\n      <td>van Hogendorpplein</td>\n      <td>5051SV</td>\n      <td>5051SW</td>\n      <td>GOIRLE</td>\n      <td>NL</td>\n      <td>ELK</td>\n      <td>KVB</td>\n      <td>100.0</td>\n      <td>20</td>\n      <td>100</td>\n      <td>0.0</td>\n      <td>Onbekend</td>\n      <td>6865.0</td>\n      <td>31.0</td>\n      <td>0.0</td>\n      <td>2010</td>\n    </tr>\n    <tr>\n      <th>100110</th>\n      <td>Enexis B.V.</td>\n      <td>ENEXIS</td>\n      <td>Jonker van Weerststraat</td>\n      <td>6441SW</td>\n      <td>6441SW</td>\n      <td>BRUNSSUM</td>\n      <td>NL</td>\n      <td>ELK</td>\n      <td>KVB</td>\n      <td>100.0</td>\n      <td>31</td>\n      <td>100</td>\n      <td>0.0</td>\n      <td>Onbekend</td>\n      <td>4558.0</td>\n      <td>49.0</td>\n      <td>0.0</td>\n      <td>2010</td>\n    </tr>\n    <tr>\n      <th>131402</th>\n      <td>Enexis B.V.</td>\n      <td>ENEXIS</td>\n      <td>Zevenster</td>\n      <td>7918AV</td>\n      <td>7918TA</td>\n      <td>NIEUWLANDE</td>\n      <td>NL</td>\n      <td>ELK</td>\n      <td>KVB</td>\n      <td>100.0</td>\n      <td>29</td>\n      <td>100</td>\n      <td>0.0</td>\n      <td>Onbekend</td>\n      <td>4223.0</td>\n      <td>33.0</td>\n      <td>0.0</td>\n      <td>2010</td>\n    </tr>\n    <tr>\n      <th>182100</th>\n      <td>Enexis B.V.</td>\n      <td>ENEXIS</td>\n      <td>Voermanhaven</td>\n      <td>9742VR</td>\n      <td>9742VR</td>\n      <td>GRONINGEN</td>\n      <td>NL</td>\n      <td>ELK</td>\n      <td>KVB</td>\n      <td>100.0</td>\n      <td>28</td>\n      <td>100</td>\n      <td>0.0</td>\n      <td>Onbekend</td>\n      <td>3414.0</td>\n      <td>56.0</td>\n      <td>0.0</td>\n      <td>2010</td>\n    </tr>\n    <tr>\n      <th>118849</th>\n      <td>Enexis B.V.</td>\n      <td>ENEXIS</td>\n      <td>Vikkerhoekweg</td>\n      <td>7555PL</td>\n      <td>7555PL</td>\n      <td>HENGELO OV</td>\n      <td>NL</td>\n      <td>ELK</td>\n      <td>KVB</td>\n      <td>100.0</td>\n      <td>19</td>\n      <td>100</td>\n      <td>0.0</td>\n      <td>Onbekend</td>\n      <td>5186.0</td>\n      <td>51.0</td>\n      <td>0.0</td>\n      <td>2010</td>\n    </tr>\n    <tr>\n      <th>177825</th>\n      <td>Enexis B.V.</td>\n      <td>ENEXIS</td>\n      <td>Belcamposingel</td>\n      <td>9721ME</td>\n      <td>9721ME</td>\n      <td>GRONINGEN</td>\n      <td>NL</td>\n      <td>ELK</td>\n      <td>KVB</td>\n      <td>100.0</td>\n      <td>15</td>\n      <td>100</td>\n      <td>0.0</td>\n      <td>Onbekend</td>\n      <td>3797.0</td>\n      <td>1.0</td>\n      <td>0.0</td>\n      <td>2010</td>\n    </tr>\n    <tr>\n      <th>62987</th>\n      <td>Enexis B.V.</td>\n      <td>ENEXIS</td>\n      <td>Steenstraat</td>\n      <td>5831JH</td>\n      <td>5831JH</td>\n      <td>BOXMEER</td>\n      <td>NL</td>\n      <td>ELK</td>\n      <td>KVB</td>\n      <td>100.0</td>\n      <td>17</td>\n      <td>100</td>\n      <td>0.0</td>\n      <td>Onbekend</td>\n      <td>24337.0</td>\n      <td>59.0</td>\n      <td>0.0</td>\n      <td>2010</td>\n    </tr>\n    <tr>\n      <th>113018</th>\n      <td>Enexis B.V.</td>\n      <td>ENEXIS</td>\n      <td>Veldkampstraat</td>\n      <td>7513ZB</td>\n      <td>7513ZE</td>\n      <td>ENSCHEDE</td>\n      <td>NL</td>\n      <td>ELK</td>\n      <td>KVB</td>\n      <td>100.0</td>\n      <td>34</td>\n      <td>100</td>\n      <td>0.0</td>\n      <td>Onbekend</td>\n      <td>4019.0</td>\n      <td>48.0</td>\n      <td>0.0</td>\n      <td>2010</td>\n    </tr>\n    <tr>\n      <th>101891</th>\n      <td>Enexis B.V.</td>\n      <td>ENEXIS</td>\n      <td>Schiltgen</td>\n      <td>6462GJ</td>\n      <td>6462GJ</td>\n      <td>KERKRADE</td>\n      <td>NL</td>\n      <td>ELK</td>\n      <td>KVB</td>\n      <td>100.0</td>\n      <td>19</td>\n      <td>100</td>\n      <td>0.0</td>\n      <td>Onbekend</td>\n      <td>3900.0</td>\n      <td>43.0</td>\n      <td>0.0</td>\n      <td>2010</td>\n    </tr>\n    <tr>\n      <th>17308</th>\n      <td>Enexis B.V.</td>\n      <td>ENEXIS</td>\n      <td>Leeuwerikstraat</td>\n      <td>4881WZ</td>\n      <td>4881WZ</td>\n      <td>ZUNDERT</td>\n      <td>NL</td>\n      <td>ELK</td>\n      <td>KVB</td>\n      <td>100.0</td>\n      <td>50</td>\n      <td>100</td>\n      <td>0.0</td>\n      <td>Onbekend</td>\n      <td>6077.0</td>\n      <td>30.0</td>\n      <td>0.0</td>\n      <td>2010</td>\n    </tr>\n  </tbody>\n</table>\n</div>"
     },
     "metadata": {},
     "execution_count": 205
    }
   ],
   "source": [
    "# Maak test set met random onbekende aansluitingen in 2010\n",
    "df_unknown = df[df.SOORT_AANSLUITING == \"Onbekend\"]\n",
    "count = df_unknown.shape[0]\n",
    "print (f\"Er zijn {count} onbekende aansluitingen\")\n",
    "\n",
    "# Maak een sample set met 10 rijen met onbekende aansluiting\n",
    "random_index_list = df_unknown.sample(n=10).index.values\n",
    "print (f\"Lijst met random indices met onbekende aansluiting = {random_index_list}\")\n",
    "\n",
    "# check aanname dat de onbekende aansluitingen alleen in 2010 zitten\n",
    "df_unknown = df[(df.SOORT_AANSLUITING == \"Onbekend\") & ((df.JAAR == 2010) | (df.JAAR == 2017))]\n",
    "re_count = df_unknown.shape[0]\n",
    "print (f\"Er zijn {count} onbekende aansluitingen in 2010 en 2017\")\n",
    "assert(count == re_count)\n",
    "\n",
    "# cross check tegen dataframe\n",
    "print (\"Geselecteerde rijen:\")\n",
    "df.loc[random_index_list]"
   ]
  },
  {
   "cell_type": "code",
   "execution_count": 208,
   "metadata": {
    "tags": []
   },
   "outputs": [
    {
     "output_type": "stream",
     "name": "stdout",
     "text": [
      "Aantal onbekende aansluitingen = 137\n",
      "Aansluitingen per postcode verzameld. Aantal postcodes = 243014\n",
      "Aansluitsoort bijwerken voor 2010 en 2017\n",
      "Aantal onbekende aansluitingen na aanvulling = 137\n",
      "Totale executie tijd: 0.8247146606445312 seconden\n"
     ]
    }
   ],
   "source": [
    "import time\n",
    "\n",
    "df = df.astype({'SOORT_AANSLUITING':'str'})\n",
    "\n",
    "start = time.time()\n",
    "# Onbekende aansluitingsoort in 2010 gaan we proberen aan te vullen door de postcode op te zoeken in latere jaren\n",
    "row_count = df[df.SOORT_AANSLUITING == \"Onbekend\"].shape[0]\n",
    "print (f\"Aantal onbekende aansluitingen = {row_count}\")\n",
    "\n",
    "# Voeg postcode toe met soort aansluiting aan de dictionary die we later gebruiken om de onbekende aansluitingen bij te werken\n",
    "postcode_aansluiting = {}\n",
    "def maak_dictionary(postcode, aansluiting):\n",
    "    global postcode_aansluiting\n",
    "    if not postcode in postcode_aansluiting:\n",
    "        postcode_aansluiting[postcode] = aansluiting\n",
    "\n",
    "# Verzamel eerst alle data die we hebben per postcode en soort aansluiting in een dictionary\n",
    "df_partial = df[df.JAAR > 2010]\n",
    "np.vectorize(maak_dictionary)(df_partial.POSTCODE_VAN, df_partial.SOORT_AANSLUITING)\n",
    "\n",
    "print (f\"Aansluitingen per postcode verzameld. Aantal postcodes = {len(postcode_aansluiting)}\")\n",
    "\n",
    "# Poging 2. Gebruik vectorization. \n",
    "print (\"Aansluitsoort bijwerken voor 2010 en 2017\")\n",
    "def werk_soort_aansluiting_bij(postcode):\n",
    "    if postcode in postcode_aansluiting:\n",
    "        return postcode_aansluiting[postcode]\n",
    "    return \"Onbekend\"\n",
    "df.loc[(df.JAAR == 2010) | (df.JAAR == 2017), 'SOORT_AANSLUITING'] = np.vectorize(werk_soort_aansluiting_bij)(df[(df.JAAR == 2010) | (df.JAAR == 2017)].POSTCODE_VAN)\n",
    "\n",
    "# wat hebben overgehouden?\n",
    "row_count = df[df.SOORT_AANSLUITING == \"Onbekend\"].shape[0]\n",
    "print (f\"Aantal onbekende aansluitingen na aanvulling = {row_count}\")\n",
    "\n",
    "end = time.time()\n",
    "print (f\"Totale executie tijd: {end - start} seconden\")"
   ]
  },
  {
   "cell_type": "code",
   "execution_count": 211,
   "metadata": {},
   "outputs": [
    {
     "output_type": "execute_result",
     "data": {
      "text/plain": [
       "       NETBEHEERDER NETGEBIED               STRAATNAAM POSTCODE_VAN  \\\n",
       "25804   Enexis B.V.    ENEXIS       van Hogendorpplein       5051SV   \n",
       "100110  Enexis B.V.    ENEXIS  Jonker van Weerststraat       6441SW   \n",
       "131402  Enexis B.V.    ENEXIS                Zevenster       7918AV   \n",
       "182100  Enexis B.V.    ENEXIS             Voermanhaven       9742VR   \n",
       "118849  Enexis B.V.    ENEXIS            Vikkerhoekweg       7555PL   \n",
       "177825  Enexis B.V.    ENEXIS           Belcamposingel       9721ME   \n",
       "62987   Enexis B.V.    ENEXIS              Steenstraat       5831JH   \n",
       "113018  Enexis B.V.    ENEXIS           Veldkampstraat       7513ZB   \n",
       "101891  Enexis B.V.    ENEXIS                Schiltgen       6462GJ   \n",
       "17308   Enexis B.V.    ENEXIS          Leeuwerikstraat       4881WZ   \n",
       "\n",
       "       POSTCODE_TOT  WOONPLAATS LANDCODE PRODUCTSOORT VERBRUIKSSEGMENT  \\\n",
       "25804        5051SW      GOIRLE       NL          ELK              KVB   \n",
       "100110       6441SW    BRUNSSUM       NL          ELK              KVB   \n",
       "131402       7918TA  NIEUWLANDE       NL          ELK              KVB   \n",
       "182100       9742VR   GRONINGEN       NL          ELK              KVB   \n",
       "118849       7555PL  HENGELO OV       NL          ELK              KVB   \n",
       "177825       9721ME   GRONINGEN       NL          ELK              KVB   \n",
       "62987        5831JH     BOXMEER       NL          ELK              KVB   \n",
       "113018       7513ZE    ENSCHEDE       NL          ELK              KVB   \n",
       "101891       6462GJ    KERKRADE       NL          ELK              KVB   \n",
       "17308        4881WZ     ZUNDERT       NL          ELK              KVB   \n",
       "\n",
       "        LEVERINGSRICHTING_PERC  AANSLUITINGEN_AANTAL  FYSIEKE_STATUS_PERC  \\\n",
       "25804                    100.0                    20                  100   \n",
       "100110                   100.0                    31                  100   \n",
       "131402                   100.0                    29                  100   \n",
       "182100                   100.0                    28                  100   \n",
       "118849                   100.0                    19                  100   \n",
       "177825                   100.0                    15                  100   \n",
       "62987                    100.0                    17                  100   \n",
       "113018                   100.0                    34                  100   \n",
       "101891                   100.0                    19                  100   \n",
       "17308                    100.0                    50                  100   \n",
       "\n",
       "        SOORT_AANSLUITING_PERC SOORT_AANSLUITING  SJV_GEMIDDELD  \\\n",
       "25804                      0.0              1X25         6865.0   \n",
       "100110                     0.0              1X25         4558.0   \n",
       "131402                     0.0              1X35         4223.0   \n",
       "182100                     0.0              1X40         3414.0   \n",
       "118849                     0.0              1X35         5186.0   \n",
       "177825                     0.0              3X25         3797.0   \n",
       "62987                      0.0              3X25        24337.0   \n",
       "113018                     0.0              1X35         4019.0   \n",
       "101891                     0.0              1X25         3900.0   \n",
       "17308                      0.0              3X25         6077.0   \n",
       "\n",
       "        SJV_LAAG_TARIEF_PERC  SLIMME_METER_PERC  JAAR  \n",
       "25804                   31.0                0.0  2010  \n",
       "100110                  49.0                0.0  2010  \n",
       "131402                  33.0                0.0  2010  \n",
       "182100                  56.0                0.0  2010  \n",
       "118849                  51.0                0.0  2010  \n",
       "177825                   1.0                0.0  2010  \n",
       "62987                   59.0                0.0  2010  \n",
       "113018                  48.0                0.0  2010  \n",
       "101891                  43.0                0.0  2010  \n",
       "17308                   30.0                0.0  2010  "
      ],
      "text/html": "<div>\n<style scoped>\n    .dataframe tbody tr th:only-of-type {\n        vertical-align: middle;\n    }\n\n    .dataframe tbody tr th {\n        vertical-align: top;\n    }\n\n    .dataframe thead th {\n        text-align: right;\n    }\n</style>\n<table border=\"1\" class=\"dataframe\">\n  <thead>\n    <tr style=\"text-align: right;\">\n      <th></th>\n      <th>NETBEHEERDER</th>\n      <th>NETGEBIED</th>\n      <th>STRAATNAAM</th>\n      <th>POSTCODE_VAN</th>\n      <th>POSTCODE_TOT</th>\n      <th>WOONPLAATS</th>\n      <th>LANDCODE</th>\n      <th>PRODUCTSOORT</th>\n      <th>VERBRUIKSSEGMENT</th>\n      <th>LEVERINGSRICHTING_PERC</th>\n      <th>AANSLUITINGEN_AANTAL</th>\n      <th>FYSIEKE_STATUS_PERC</th>\n      <th>SOORT_AANSLUITING_PERC</th>\n      <th>SOORT_AANSLUITING</th>\n      <th>SJV_GEMIDDELD</th>\n      <th>SJV_LAAG_TARIEF_PERC</th>\n      <th>SLIMME_METER_PERC</th>\n      <th>JAAR</th>\n    </tr>\n  </thead>\n  <tbody>\n    <tr>\n      <th>25804</th>\n      <td>Enexis B.V.</td>\n      <td>ENEXIS</td>\n      <td>van Hogendorpplein</td>\n      <td>5051SV</td>\n      <td>5051SW</td>\n      <td>GOIRLE</td>\n      <td>NL</td>\n      <td>ELK</td>\n      <td>KVB</td>\n      <td>100.0</td>\n      <td>20</td>\n      <td>100</td>\n      <td>0.0</td>\n      <td>1X25</td>\n      <td>6865.0</td>\n      <td>31.0</td>\n      <td>0.0</td>\n      <td>2010</td>\n    </tr>\n    <tr>\n      <th>100110</th>\n      <td>Enexis B.V.</td>\n      <td>ENEXIS</td>\n      <td>Jonker van Weerststraat</td>\n      <td>6441SW</td>\n      <td>6441SW</td>\n      <td>BRUNSSUM</td>\n      <td>NL</td>\n      <td>ELK</td>\n      <td>KVB</td>\n      <td>100.0</td>\n      <td>31</td>\n      <td>100</td>\n      <td>0.0</td>\n      <td>1X25</td>\n      <td>4558.0</td>\n      <td>49.0</td>\n      <td>0.0</td>\n      <td>2010</td>\n    </tr>\n    <tr>\n      <th>131402</th>\n      <td>Enexis B.V.</td>\n      <td>ENEXIS</td>\n      <td>Zevenster</td>\n      <td>7918AV</td>\n      <td>7918TA</td>\n      <td>NIEUWLANDE</td>\n      <td>NL</td>\n      <td>ELK</td>\n      <td>KVB</td>\n      <td>100.0</td>\n      <td>29</td>\n      <td>100</td>\n      <td>0.0</td>\n      <td>1X35</td>\n      <td>4223.0</td>\n      <td>33.0</td>\n      <td>0.0</td>\n      <td>2010</td>\n    </tr>\n    <tr>\n      <th>182100</th>\n      <td>Enexis B.V.</td>\n      <td>ENEXIS</td>\n      <td>Voermanhaven</td>\n      <td>9742VR</td>\n      <td>9742VR</td>\n      <td>GRONINGEN</td>\n      <td>NL</td>\n      <td>ELK</td>\n      <td>KVB</td>\n      <td>100.0</td>\n      <td>28</td>\n      <td>100</td>\n      <td>0.0</td>\n      <td>1X40</td>\n      <td>3414.0</td>\n      <td>56.0</td>\n      <td>0.0</td>\n      <td>2010</td>\n    </tr>\n    <tr>\n      <th>118849</th>\n      <td>Enexis B.V.</td>\n      <td>ENEXIS</td>\n      <td>Vikkerhoekweg</td>\n      <td>7555PL</td>\n      <td>7555PL</td>\n      <td>HENGELO OV</td>\n      <td>NL</td>\n      <td>ELK</td>\n      <td>KVB</td>\n      <td>100.0</td>\n      <td>19</td>\n      <td>100</td>\n      <td>0.0</td>\n      <td>1X35</td>\n      <td>5186.0</td>\n      <td>51.0</td>\n      <td>0.0</td>\n      <td>2010</td>\n    </tr>\n    <tr>\n      <th>177825</th>\n      <td>Enexis B.V.</td>\n      <td>ENEXIS</td>\n      <td>Belcamposingel</td>\n      <td>9721ME</td>\n      <td>9721ME</td>\n      <td>GRONINGEN</td>\n      <td>NL</td>\n      <td>ELK</td>\n      <td>KVB</td>\n      <td>100.0</td>\n      <td>15</td>\n      <td>100</td>\n      <td>0.0</td>\n      <td>3X25</td>\n      <td>3797.0</td>\n      <td>1.0</td>\n      <td>0.0</td>\n      <td>2010</td>\n    </tr>\n    <tr>\n      <th>62987</th>\n      <td>Enexis B.V.</td>\n      <td>ENEXIS</td>\n      <td>Steenstraat</td>\n      <td>5831JH</td>\n      <td>5831JH</td>\n      <td>BOXMEER</td>\n      <td>NL</td>\n      <td>ELK</td>\n      <td>KVB</td>\n      <td>100.0</td>\n      <td>17</td>\n      <td>100</td>\n      <td>0.0</td>\n      <td>3X25</td>\n      <td>24337.0</td>\n      <td>59.0</td>\n      <td>0.0</td>\n      <td>2010</td>\n    </tr>\n    <tr>\n      <th>113018</th>\n      <td>Enexis B.V.</td>\n      <td>ENEXIS</td>\n      <td>Veldkampstraat</td>\n      <td>7513ZB</td>\n      <td>7513ZE</td>\n      <td>ENSCHEDE</td>\n      <td>NL</td>\n      <td>ELK</td>\n      <td>KVB</td>\n      <td>100.0</td>\n      <td>34</td>\n      <td>100</td>\n      <td>0.0</td>\n      <td>1X35</td>\n      <td>4019.0</td>\n      <td>48.0</td>\n      <td>0.0</td>\n      <td>2010</td>\n    </tr>\n    <tr>\n      <th>101891</th>\n      <td>Enexis B.V.</td>\n      <td>ENEXIS</td>\n      <td>Schiltgen</td>\n      <td>6462GJ</td>\n      <td>6462GJ</td>\n      <td>KERKRADE</td>\n      <td>NL</td>\n      <td>ELK</td>\n      <td>KVB</td>\n      <td>100.0</td>\n      <td>19</td>\n      <td>100</td>\n      <td>0.0</td>\n      <td>1X25</td>\n      <td>3900.0</td>\n      <td>43.0</td>\n      <td>0.0</td>\n      <td>2010</td>\n    </tr>\n    <tr>\n      <th>17308</th>\n      <td>Enexis B.V.</td>\n      <td>ENEXIS</td>\n      <td>Leeuwerikstraat</td>\n      <td>4881WZ</td>\n      <td>4881WZ</td>\n      <td>ZUNDERT</td>\n      <td>NL</td>\n      <td>ELK</td>\n      <td>KVB</td>\n      <td>100.0</td>\n      <td>50</td>\n      <td>100</td>\n      <td>0.0</td>\n      <td>3X25</td>\n      <td>6077.0</td>\n      <td>30.0</td>\n      <td>0.0</td>\n      <td>2010</td>\n    </tr>\n  </tbody>\n</table>\n</div>"
     },
     "metadata": {},
     "execution_count": 211
    }
   ],
   "source": [
    "# Zijn alle onbekende aansluitingen verdwenen? (Het kan zijn dat er een enkele aansluiting onbekend is gebleven. Daar hebben we dan geen data van)\n",
    "df.loc[random_index_list]"
   ]
  },
  {
   "cell_type": "code",
   "execution_count": 214,
   "metadata": {},
   "outputs": [
    {
     "output_type": "execute_result",
     "data": {
      "text/plain": [
       "     NETBEHEERDER NETGEBIED           STRAATNAAM POSTCODE_VAN POSTCODE_TOT  \\\n",
       "60    Enexis B.V.    ENEXIS              Laantje       4251EL       4251EL   \n",
       "631   Enexis B.V.    ENEXIS      Oude Kerkstraat       4271BB       4271BB   \n",
       "851   Enexis B.V.    ENEXIS  Hugo de Grootstraat       4285AL       4285AL   \n",
       "2058  Enexis B.V.    ENEXIS       Markiezaatsweg       4616PC       4617AA   \n",
       "2272  Enexis B.V.    ENEXIS     Speenkruidstraat       4621AW       4621AZ   \n",
       "\n",
       "          WOONPLAATS LANDCODE PRODUCTSOORT VERBRUIKSSEGMENT  \\\n",
       "60         WERKENDAM       NL          ELK              KVB   \n",
       "631           DUSSEN       NL          ELK              KVB   \n",
       "851       WOUDRICHEM       NL          ELK              KVB   \n",
       "2058  BERGEN OP ZOOM       NL          ELK              KVB   \n",
       "2272  BERGEN OP ZOOM       NL          ELK              KVB   \n",
       "\n",
       "      LEVERINGSRICHTING_PERC  AANSLUITINGEN_AANTAL  FYSIEKE_STATUS_PERC  \\\n",
       "60                     100.0                    11                  100   \n",
       "631                    100.0                    13                  100   \n",
       "851                    100.0                    14                  100   \n",
       "2058                   100.0                    27                  100   \n",
       "2272                   100.0                    31                  100   \n",
       "\n",
       "      SOORT_AANSLUITING_PERC SOORT_AANSLUITING  SJV_GEMIDDELD  \\\n",
       "60                       0.0          Onbekend         7279.0   \n",
       "631                      0.0          Onbekend         4827.0   \n",
       "851                      0.0          Onbekend         3399.0   \n",
       "2058                     0.0          Onbekend         4143.0   \n",
       "2272                     0.0          Onbekend         1506.0   \n",
       "\n",
       "      SJV_LAAG_TARIEF_PERC  SLIMME_METER_PERC  JAAR  \n",
       "60                    25.0                0.0  2010  \n",
       "631                   33.0                0.0  2010  \n",
       "851                   44.0                0.0  2010  \n",
       "2058                   3.0                0.0  2010  \n",
       "2272                   8.0                0.0  2010  "
      ],
      "text/html": "<div>\n<style scoped>\n    .dataframe tbody tr th:only-of-type {\n        vertical-align: middle;\n    }\n\n    .dataframe tbody tr th {\n        vertical-align: top;\n    }\n\n    .dataframe thead th {\n        text-align: right;\n    }\n</style>\n<table border=\"1\" class=\"dataframe\">\n  <thead>\n    <tr style=\"text-align: right;\">\n      <th></th>\n      <th>NETBEHEERDER</th>\n      <th>NETGEBIED</th>\n      <th>STRAATNAAM</th>\n      <th>POSTCODE_VAN</th>\n      <th>POSTCODE_TOT</th>\n      <th>WOONPLAATS</th>\n      <th>LANDCODE</th>\n      <th>PRODUCTSOORT</th>\n      <th>VERBRUIKSSEGMENT</th>\n      <th>LEVERINGSRICHTING_PERC</th>\n      <th>AANSLUITINGEN_AANTAL</th>\n      <th>FYSIEKE_STATUS_PERC</th>\n      <th>SOORT_AANSLUITING_PERC</th>\n      <th>SOORT_AANSLUITING</th>\n      <th>SJV_GEMIDDELD</th>\n      <th>SJV_LAAG_TARIEF_PERC</th>\n      <th>SLIMME_METER_PERC</th>\n      <th>JAAR</th>\n    </tr>\n  </thead>\n  <tbody>\n    <tr>\n      <th>60</th>\n      <td>Enexis B.V.</td>\n      <td>ENEXIS</td>\n      <td>Laantje</td>\n      <td>4251EL</td>\n      <td>4251EL</td>\n      <td>WERKENDAM</td>\n      <td>NL</td>\n      <td>ELK</td>\n      <td>KVB</td>\n      <td>100.0</td>\n      <td>11</td>\n      <td>100</td>\n      <td>0.0</td>\n      <td>Onbekend</td>\n      <td>7279.0</td>\n      <td>25.0</td>\n      <td>0.0</td>\n      <td>2010</td>\n    </tr>\n    <tr>\n      <th>631</th>\n      <td>Enexis B.V.</td>\n      <td>ENEXIS</td>\n      <td>Oude Kerkstraat</td>\n      <td>4271BB</td>\n      <td>4271BB</td>\n      <td>DUSSEN</td>\n      <td>NL</td>\n      <td>ELK</td>\n      <td>KVB</td>\n      <td>100.0</td>\n      <td>13</td>\n      <td>100</td>\n      <td>0.0</td>\n      <td>Onbekend</td>\n      <td>4827.0</td>\n      <td>33.0</td>\n      <td>0.0</td>\n      <td>2010</td>\n    </tr>\n    <tr>\n      <th>851</th>\n      <td>Enexis B.V.</td>\n      <td>ENEXIS</td>\n      <td>Hugo de Grootstraat</td>\n      <td>4285AL</td>\n      <td>4285AL</td>\n      <td>WOUDRICHEM</td>\n      <td>NL</td>\n      <td>ELK</td>\n      <td>KVB</td>\n      <td>100.0</td>\n      <td>14</td>\n      <td>100</td>\n      <td>0.0</td>\n      <td>Onbekend</td>\n      <td>3399.0</td>\n      <td>44.0</td>\n      <td>0.0</td>\n      <td>2010</td>\n    </tr>\n    <tr>\n      <th>2058</th>\n      <td>Enexis B.V.</td>\n      <td>ENEXIS</td>\n      <td>Markiezaatsweg</td>\n      <td>4616PC</td>\n      <td>4617AA</td>\n      <td>BERGEN OP ZOOM</td>\n      <td>NL</td>\n      <td>ELK</td>\n      <td>KVB</td>\n      <td>100.0</td>\n      <td>27</td>\n      <td>100</td>\n      <td>0.0</td>\n      <td>Onbekend</td>\n      <td>4143.0</td>\n      <td>3.0</td>\n      <td>0.0</td>\n      <td>2010</td>\n    </tr>\n    <tr>\n      <th>2272</th>\n      <td>Enexis B.V.</td>\n      <td>ENEXIS</td>\n      <td>Speenkruidstraat</td>\n      <td>4621AW</td>\n      <td>4621AZ</td>\n      <td>BERGEN OP ZOOM</td>\n      <td>NL</td>\n      <td>ELK</td>\n      <td>KVB</td>\n      <td>100.0</td>\n      <td>31</td>\n      <td>100</td>\n      <td>0.0</td>\n      <td>Onbekend</td>\n      <td>1506.0</td>\n      <td>8.0</td>\n      <td>0.0</td>\n      <td>2010</td>\n    </tr>\n  </tbody>\n</table>\n</div>"
     },
     "metadata": {},
     "execution_count": 214
    }
   ],
   "source": [
    "# Overgebleven rijen in 2010 zonder aansluiting\n",
    "df[df['SOORT_AANSLUITING'] == \"Onbekend\"].head()"
   ]
  },
  {
   "cell_type": "code",
   "execution_count": 217,
   "metadata": {},
   "outputs": [
    {
     "output_type": "stream",
     "name": "stdout",
     "text": [
      "881852.0\n"
     ]
    }
   ],
   "source": [
    "# totale SJV voor alle onbekende aansluitingen\n",
    "som_onbekend = df.loc[df.SOORT_AANSLUITING == \"Onbekend\", \"SJV_GEMIDDELD\"].sum()\n",
    "print (som_onbekend)"
   ]
  },
  {
   "source": [
    "# totale SJV voor 2010\n",
    "som_totaal = df[df.JAAR == 2010].SJV_GEMIDDELD.sum()\n",
    "print (som_totaal)"
   ],
   "cell_type": "code",
   "metadata": {},
   "execution_count": 220,
   "outputs": [
    {
     "output_type": "stream",
     "name": "stdout",
     "text": [
      "526581294.0\n"
     ]
    }
   ]
  },
  {
   "cell_type": "code",
   "execution_count": 223,
   "metadata": {},
   "outputs": [
    {
     "output_type": "stream",
     "name": "stdout",
     "text": [
      "0.17%\n"
     ]
    }
   ],
   "source": [
    "# percentage gemist\n",
    "percentage = format(som_onbekend / som_totaal * 100, '.2f')\n",
    "print (percentage + \"%\")"
   ]
  },
  {
   "cell_type": "code",
   "execution_count": 226,
   "metadata": {},
   "outputs": [
    {
     "output_type": "stream",
     "name": "stdout",
     "text": [
      "<class 'pandas.core.frame.DataFrame'>\nInt64Index: 1391527 entries, 0 to 2563199\nData columns (total 18 columns):\n #   Column                  Non-Null Count    Dtype  \n---  ------                  --------------    -----  \n 0   NETBEHEERDER            1391527 non-null  object \n 1   NETGEBIED               1391527 non-null  object \n 2   STRAATNAAM              1391527 non-null  object \n 3   POSTCODE_VAN            1391527 non-null  object \n 4   POSTCODE_TOT            1391527 non-null  object \n 5   WOONPLAATS              1391527 non-null  object \n 6   LANDCODE                1391527 non-null  object \n 7   PRODUCTSOORT            1391527 non-null  object \n 8   VERBRUIKSSEGMENT        1391527 non-null  object \n 9   LEVERINGSRICHTING_PERC  1391527 non-null  float64\n 10  AANSLUITINGEN_AANTAL    1391527 non-null  int64  \n 11  FYSIEKE_STATUS_PERC     1391527 non-null  int64  \n 12  SOORT_AANSLUITING_PERC  1391527 non-null  float64\n 13  SOORT_AANSLUITING       1391527 non-null  object \n 14  SJV_GEMIDDELD           1391527 non-null  float64\n 15  SJV_LAAG_TARIEF_PERC    1391527 non-null  float64\n 16  SLIMME_METER_PERC       1391527 non-null  float64\n 17  JAAR                    1391527 non-null  int64  \ndtypes: float64(5), int64(3), object(10)\nmemory usage: 234.0+ MB\n"
     ]
    }
   ],
   "source": [
    "df.info()"
   ]
  },
  {
   "cell_type": "code",
   "execution_count": 229,
   "metadata": {},
   "outputs": [],
   "source": [
    "# Verwijder de rijen met onbekende aansluiting. Ze maken niet echt veel uit op het geheel\n",
    "df = df[df.SOORT_AANSLUITING != \"Onbekend\"]"
   ]
  },
  {
   "cell_type": "code",
   "execution_count": 232,
   "id": "obvious-geometry",
   "metadata": {},
   "outputs": [
    {
     "output_type": "stream",
     "name": "stdout",
     "text": [
      "<class 'pandas.core.frame.DataFrame'>\nInt64Index: 1391390 entries, 0 to 2563199\nData columns (total 18 columns):\n #   Column                  Non-Null Count    Dtype  \n---  ------                  --------------    -----  \n 0   NETBEHEERDER            1391390 non-null  object \n 1   NETGEBIED               1391390 non-null  object \n 2   STRAATNAAM              1391390 non-null  object \n 3   POSTCODE_VAN            1391390 non-null  object \n 4   POSTCODE_TOT            1391390 non-null  object \n 5   WOONPLAATS              1391390 non-null  object \n 6   LANDCODE                1391390 non-null  object \n 7   PRODUCTSOORT            1391390 non-null  object \n 8   VERBRUIKSSEGMENT        1391390 non-null  object \n 9   LEVERINGSRICHTING_PERC  1391390 non-null  float64\n 10  AANSLUITINGEN_AANTAL    1391390 non-null  int64  \n 11  FYSIEKE_STATUS_PERC     1391390 non-null  int64  \n 12  SOORT_AANSLUITING_PERC  1391390 non-null  float64\n 13  SOORT_AANSLUITING       1391390 non-null  object \n 14  SJV_GEMIDDELD           1391390 non-null  float64\n 15  SJV_LAAG_TARIEF_PERC    1391390 non-null  float64\n 16  SLIMME_METER_PERC       1391390 non-null  float64\n 17  JAAR                    1391390 non-null  int64  \ndtypes: float64(5), int64(3), object(10)\nmemory usage: 201.7+ MB\n"
     ]
    }
   ],
   "source": [
    "df.info()"
   ]
  },
  {
   "cell_type": "code",
   "execution_count": 235,
   "id": "proprietary-senior",
   "metadata": {},
   "outputs": [],
   "source": [
    "# voeg attibuut toe met numerieke deel van de postcode\n",
    "df['PC4'] = df['POSTCODE_VAN'].str[0:4]"
   ]
  },
  {
   "cell_type": "code",
   "execution_count": 238,
   "id": "desirable-treatment",
   "metadata": {},
   "outputs": [],
   "source": [
    "# extra attribuut toevoegen voor totale standaard jaarverbruik\n",
    "df['SJV_TOTAAL'] = round(df['AANSLUITINGEN_AANTAL'] * df['SJV_GEMIDDELD'] / 1000) # delen door 1000 om MW ipv KW te krijgen"
   ]
  },
  {
   "cell_type": "code",
   "execution_count": 241,
   "id": "still-tunnel",
   "metadata": {},
   "outputs": [
    {
     "output_type": "execute_result",
     "data": {
      "text/plain": [
       "'c:\\\\Users\\\\ericr\\\\OneDrive - Actondata\\\\Projecten\\\\jads_enexis\\\\data\\\\raw\\\\Enexis_kleinverbruikgegevens'"
      ]
     },
     "metadata": {},
     "execution_count": 241
    }
   ],
   "source": [
    "os.getcwd()"
   ]
  },
  {
   "cell_type": "code",
   "execution_count": 244,
   "id": "optimum-sterling",
   "metadata": {},
   "outputs": [],
   "source": [
    "# data locatie om de ht5 file op te slaan\n",
    "data_processed_location = '../../processed'\n",
    "\n",
    "if 'processed' not in os.getcwd():\n",
    "    os.chdir(data_processed_location)"
   ]
  },
  {
   "cell_type": "code",
   "execution_count": 247,
   "id": "powered-cursor",
   "metadata": {},
   "outputs": [],
   "source": [
    "try:\n",
    "    os.remove('kleinverbruikgegevens_data.h5')\n",
    "except:\n",
    "    print ('File nog in gebruik of niet gevonden')\n",
    "\n",
    "store = pd.HDFStore('kleinverbruikgegevens_data.h5')\n",
    "store['kleinverbruikgegevens_data'] = df\n",
    "store.close()"
   ]
  },
  {
   "cell_type": "code",
   "execution_count": 250,
   "id": "desirable-sandwich",
   "metadata": {},
   "outputs": [],
   "source": [
    "# group by pc4\n",
    "df_pc4 = df.groupby(['PC4','JAAR']\n",
    "                    , as_index=False\n",
    "                    ).agg({'SJV_TOTAAL': 'sum'\n",
    "                           ,'AANSLUITINGEN_AANTAL': 'sum'\n",
    "                           ,'LEVERINGSRICHTING_PERC': 'mean'\n",
    "                           }\n",
    "                         )"
   ]
  },
  {
   "cell_type": "code",
   "execution_count": 253,
   "id": "durable-bahrain",
   "metadata": {},
   "outputs": [
    {
     "output_type": "execute_result",
     "data": {
      "text/plain": [
       "    PC4  JAAR  SJV_TOTAAL  AANSLUITINGEN_AANTAL  LEVERINGSRICHTING_PERC\n",
       "0  4251  2010     21802.0                  4325               99.953704\n",
       "1  4251  2011     23084.0                  4413               99.953917\n",
       "2  4251  2012     24006.0                  4486               99.854545\n",
       "3  4251  2013     23728.0                  4512               99.660633\n",
       "4  4251  2014     23623.0                  4544               99.094595"
      ],
      "text/html": "<div>\n<style scoped>\n    .dataframe tbody tr th:only-of-type {\n        vertical-align: middle;\n    }\n\n    .dataframe tbody tr th {\n        vertical-align: top;\n    }\n\n    .dataframe thead th {\n        text-align: right;\n    }\n</style>\n<table border=\"1\" class=\"dataframe\">\n  <thead>\n    <tr style=\"text-align: right;\">\n      <th></th>\n      <th>PC4</th>\n      <th>JAAR</th>\n      <th>SJV_TOTAAL</th>\n      <th>AANSLUITINGEN_AANTAL</th>\n      <th>LEVERINGSRICHTING_PERC</th>\n    </tr>\n  </thead>\n  <tbody>\n    <tr>\n      <th>0</th>\n      <td>4251</td>\n      <td>2010</td>\n      <td>21802.0</td>\n      <td>4325</td>\n      <td>99.953704</td>\n    </tr>\n    <tr>\n      <th>1</th>\n      <td>4251</td>\n      <td>2011</td>\n      <td>23084.0</td>\n      <td>4413</td>\n      <td>99.953917</td>\n    </tr>\n    <tr>\n      <th>2</th>\n      <td>4251</td>\n      <td>2012</td>\n      <td>24006.0</td>\n      <td>4486</td>\n      <td>99.854545</td>\n    </tr>\n    <tr>\n      <th>3</th>\n      <td>4251</td>\n      <td>2013</td>\n      <td>23728.0</td>\n      <td>4512</td>\n      <td>99.660633</td>\n    </tr>\n    <tr>\n      <th>4</th>\n      <td>4251</td>\n      <td>2014</td>\n      <td>23623.0</td>\n      <td>4544</td>\n      <td>99.094595</td>\n    </tr>\n  </tbody>\n</table>\n</div>"
     },
     "metadata": {},
     "execution_count": 253
    }
   ],
   "source": [
    "df_pc4.head()"
   ]
  },
  {
   "cell_type": "code",
   "execution_count": 256,
   "id": "applicable-worthy",
   "metadata": {},
   "outputs": [],
   "source": [
    "NOTEBOOKS = \"../../notebooks\"\n",
    "\n",
    "if 'notebooks' not in os.getcwd():\n",
    "    os.chdir(NOTEBOOKS)"
   ]
  }
 ],
 "metadata": {
  "kernelspec": {
   "name": "python3",
   "display_name": "Python 3.8.5 64-bit ('JADS': conda)",
   "metadata": {
    "interpreter": {
     "hash": "a717e39e2ce076df9fbd5e1b1a18e8c570b37198a49b13a5670db8bdee762f3b"
    }
   }
  },
  "language_info": {
   "codemirror_mode": {
    "name": "ipython",
    "version": 3
   },
   "file_extension": ".py",
   "mimetype": "text/x-python",
   "name": "python",
   "nbconvert_exporter": "python",
   "pygments_lexer": "ipython3",
   "version": "3.8.5-final"
  }
 },
 "nbformat": 4,
 "nbformat_minor": 5
}