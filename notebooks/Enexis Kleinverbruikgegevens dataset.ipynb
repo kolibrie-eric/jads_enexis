{
 "cells": [
  {
   "cell_type": "markdown",
   "id": "supported-tomato",
   "metadata": {},
   "source": [
    "### Enexis Kleinverbruikgegevens dataset\n",
    "https://www.enexis.nl/over-ons/wat-bieden-we/andere-diensten/open-data \n",
    "\n",
    "\n",
    "Beschrijving:\n",
    "\n",
    "https://www.enexis.nl/over-ons/-/media/documenten/open-data/toelichting-kleinverbruiksgegevens-open-data-enexis-netbeheer.pdf?modified=00010101000000&la=nl-nl&hash=1A66620D8DBA0D55A55767B507C535BC218B0B14\n",
    "\n",
    "We hadden al de csv files per jaar vanaf 2010 maar er is nu ook een nieuwe csv file voor 2021 beschikbaar. op de website van Enexis staan alleen de laatste 3 jaar.\n",
    "\n",
    "Belangrijkste attributen in de dataset:\n",
    "- POSTCODE_VAN en POSTCODE_TOT, PC6\n",
    "- PRODUCTSOORT, zowel Gas als Elektriciteit. Filter toepassen op alleen Elektriciteit\n",
    "- AANSLUITINGEN_AANTAL, aantal aansluitingen in het postcode gebied\n",
    "- LEVERINGSRICHTING_PERC, Percentage van de aansluitingen dat netto elektriciteits- of gasverbruik heeft. Dit percentage wordt lager naarmate er meer teruglevering plaatsvindt (b.v. vanwege zonnepanelen) \n",
    "- SOORT_AANSLUITING  de meest voorkomende ‘Soort aansluiting’, Opties voor elektriciteit: (”#zekeringen x # ampère”) 1x25, 1x35, 1x50, 3x25, 3x35, 3x50, 3x63, 3x80\n",
    "- SJV_GEMIDDELD, Het gemiddeld standaardjaarverbruik (SJV) in kWh. Het verwachte jaarverbruik van een afnemer op een netaansluiting bij gestandaardiseerde condities en op basis van een genormaliseerd jaar. Bij teruglevering dan is het SJV gesaldeerd."
   ]
  },
  {
   "cell_type": "code",
   "execution_count": 1,
   "id": "acknowledged-gather",
   "metadata": {},
   "outputs": [],
   "source": [
    "import pandas as pd\n",
    "import numpy as np\n",
    "import os\n",
    "import glob\n",
    "import zipfile\n",
    "import seaborn as sns"
   ]
  },
  {
   "cell_type": "code",
   "execution_count": 2,
   "id": "southeast-hospital",
   "metadata": {},
   "outputs": [],
   "source": [
    "# show all columns in the dataframe\n",
    "pd.set_option('max_columns', None)"
   ]
  },
  {
   "cell_type": "code",
   "execution_count": 3,
   "id": "banned-contrary",
   "metadata": {},
   "outputs": [
    {
     "data": {
      "text/plain": [
       "'C:\\\\Users\\\\MarcelKoolwijk\\\\Documents\\\\SQL\\\\jads_enexis\\\\notebooks'"
      ]
     },
     "execution_count": 3,
     "metadata": {},
     "output_type": "execute_result"
    }
   ],
   "source": [
    "os.getcwd()"
   ]
  },
  {
   "cell_type": "code",
   "execution_count": 4,
   "id": "later-apparel",
   "metadata": {},
   "outputs": [],
   "source": [
    "# variables used in script\n",
    "# path to Data folder\n",
    "DATA = '../data/raw/Enexis_kleinverbruikgegevens'\n",
    "\n",
    "# Ga naar de folder waarin de data staat\n",
    "if 'Enexis_kleinverbruikgegevens' not in os.getcwd():\n",
    "    os.chdir(DATA)"
   ]
  },
  {
   "cell_type": "code",
   "execution_count": 5,
   "id": "italic-composite",
   "metadata": {},
   "outputs": [
    {
     "name": "stdout",
     "output_type": "stream",
     "text": [
      "Enexis_kleinverbruiksgegevens_01012010.zip\n",
      "Enexis_kleinverbruiksgegevens_01012011.zip\n",
      "Enexis_kleinverbruiksgegevens_01012012.zip\n",
      "Enexis_kleinverbruiksgegevens_01012013.zip\n",
      "Enexis_kleinverbruiksgegevens_01012014.zip\n",
      "Enexis_kleinverbruiksgegevens_01012015.zip\n",
      "Enexis_kleinverbruiksgegevens_01012016.zip\n",
      "Enexis_kleinverbruiksgegevens_01012017.zip\n",
      "Enexis_kleinverbruiksgegevens_01012018.zip\n",
      "Enexis_kleinverbruiksgegevens_01012019.zip\n",
      "Enexis_kleinverbruiksgegevens_01012020.zip\n",
      "Enexis_kleinverbruiksgegevens_01012021.zip\n"
     ]
    }
   ],
   "source": [
    "df = pd.DataFrame()\n",
    "for j in glob.glob('Enexis_kleinverbruiksgegevens*.zip'):\n",
    "    print(j)\n",
    "    appenddata = pd.read_csv(j, sep=';', thousands='.', decimal=',',  encoding= 'unicode_escape')\n",
    "    # jaar kolom toevoegen op basis van de file name\n",
    "    appenddata['JAAR'] = j[-8:-4] # Het standaardjaarverbruik is het verwachte jaarverbruik gebaseerd op vorige jaar\n",
    "    df = df.append(appenddata,ignore_index=True)"
   ]
  },
  {
   "cell_type": "code",
   "execution_count": 6,
   "id": "unusual-nicaragua",
   "metadata": {},
   "outputs": [
    {
     "data": {
      "text/plain": [
       "Index(['NETBEHEERDER', 'NETGEBIED', 'STRAATNAAM', 'POSTCODE_VAN',\n",
       "       'POSTCODE_TOT', 'WOONPLAATS', 'LANDCODE', 'PRODUCTSOORT',\n",
       "       'VERBRUIKSSEGMENT', 'LEVERINGSRICHTING_PERC', 'AANSLUITINGEN_AANTAL',\n",
       "       'FYSIEKE_STATUS_PERC', 'SOORT_AANSLUITING_PERC', 'SOORT_AANSLUITING',\n",
       "       'SJV_GEMIDDELD', 'SJV_LAAG_TARIEF_PERC', 'SLIMME_METER_PERC', 'JAAR'],\n",
       "      dtype='object')"
      ]
     },
     "execution_count": 6,
     "metadata": {},
     "output_type": "execute_result"
    }
   ],
   "source": [
    "df.columns"
   ]
  },
  {
   "cell_type": "code",
   "execution_count": 7,
   "id": "fifty-freeware",
   "metadata": {},
   "outputs": [],
   "source": [
    "# filter op elektriciteit\n",
    "df = df[df['PRODUCTSOORT'] == 'ELK']"
   ]
  },
  {
   "cell_type": "code",
   "execution_count": 8,
   "id": "secondary-apparel",
   "metadata": {},
   "outputs": [
    {
     "name": "stdout",
     "output_type": "stream",
     "text": [
      "Number of attributes with Null values: 3\n",
      "SOORT_AANSLUITING         107581\n",
      "SOORT_AANSLUITING_PERC    107512\n",
      "LEVERINGSRICHTING_PERC       958\n",
      "dtype: int64\n"
     ]
    }
   ],
   "source": [
    "# check missing values\n",
    "missing_total = df.isna().sum().sort_values(ascending=False)\n",
    "print('Number of attributes with Null values: ' + str(len(missing_total[missing_total > 0])))\n",
    "print(missing_total[missing_total > 0])"
   ]
  },
  {
   "cell_type": "code",
   "execution_count": 13,
   "id": "hearing-prior",
   "metadata": {},
   "outputs": [],
   "source": [
    "# fill missing values \n",
    "df['SOORT_AANSLUITING'] = df['SOORT_AANSLUITING'].fillna('Onbekend')\n",
    "df['SOORT_AANSLUITING_PERC'] = df['SOORT_AANSLUITING_PERC'].fillna(0)\n",
    "df['LEVERINGSRICHTING_PERC'] = df['LEVERINGSRICHTING_PERC'].fillna(0)"
   ]
  },
  {
   "cell_type": "code",
   "execution_count": 14,
   "id": "maritime-combine",
   "metadata": {},
   "outputs": [
    {
     "data": {
      "text/html": [
       "<div>\n",
       "<style scoped>\n",
       "    .dataframe tbody tr th:only-of-type {\n",
       "        vertical-align: middle;\n",
       "    }\n",
       "\n",
       "    .dataframe tbody tr th {\n",
       "        vertical-align: top;\n",
       "    }\n",
       "\n",
       "    .dataframe thead th {\n",
       "        text-align: right;\n",
       "    }\n",
       "</style>\n",
       "<table border=\"1\" class=\"dataframe\">\n",
       "  <thead>\n",
       "    <tr style=\"text-align: right;\">\n",
       "      <th></th>\n",
       "      <th>NETBEHEERDER</th>\n",
       "      <th>NETGEBIED</th>\n",
       "      <th>STRAATNAAM</th>\n",
       "      <th>POSTCODE_VAN</th>\n",
       "      <th>POSTCODE_TOT</th>\n",
       "      <th>WOONPLAATS</th>\n",
       "      <th>LANDCODE</th>\n",
       "      <th>PRODUCTSOORT</th>\n",
       "      <th>VERBRUIKSSEGMENT</th>\n",
       "      <th>LEVERINGSRICHTING_PERC</th>\n",
       "      <th>AANSLUITINGEN_AANTAL</th>\n",
       "      <th>FYSIEKE_STATUS_PERC</th>\n",
       "      <th>SOORT_AANSLUITING_PERC</th>\n",
       "      <th>SOORT_AANSLUITING</th>\n",
       "      <th>SJV_GEMIDDELD</th>\n",
       "      <th>SJV_LAAG_TARIEF_PERC</th>\n",
       "      <th>SLIMME_METER_PERC</th>\n",
       "      <th>JAAR</th>\n",
       "      <th>PC4</th>\n",
       "    </tr>\n",
       "  </thead>\n",
       "  <tbody>\n",
       "    <tr>\n",
       "      <th>0</th>\n",
       "      <td>Enexis B.V.</td>\n",
       "      <td>ENEXIS</td>\n",
       "      <td>Sasdijk</td>\n",
       "      <td>4251AB</td>\n",
       "      <td>4251AB</td>\n",
       "      <td>WERKENDAM</td>\n",
       "      <td>NL</td>\n",
       "      <td>ELK</td>\n",
       "      <td>KVB</td>\n",
       "      <td>100.0</td>\n",
       "      <td>16</td>\n",
       "      <td>100</td>\n",
       "      <td>0.0</td>\n",
       "      <td>Onbekend</td>\n",
       "      <td>4282.0</td>\n",
       "      <td>25.0</td>\n",
       "      <td>0.0</td>\n",
       "      <td>2010</td>\n",
       "      <td>4251</td>\n",
       "    </tr>\n",
       "    <tr>\n",
       "      <th>1</th>\n",
       "      <td>Enexis B.V.</td>\n",
       "      <td>ENEXIS</td>\n",
       "      <td>Sasdijk</td>\n",
       "      <td>4251AC</td>\n",
       "      <td>4251AC</td>\n",
       "      <td>WERKENDAM</td>\n",
       "      <td>NL</td>\n",
       "      <td>ELK</td>\n",
       "      <td>KVB</td>\n",
       "      <td>100.0</td>\n",
       "      <td>11</td>\n",
       "      <td>100</td>\n",
       "      <td>0.0</td>\n",
       "      <td>Onbekend</td>\n",
       "      <td>5113.0</td>\n",
       "      <td>10.0</td>\n",
       "      <td>0.0</td>\n",
       "      <td>2010</td>\n",
       "      <td>4251</td>\n",
       "    </tr>\n",
       "    <tr>\n",
       "      <th>2</th>\n",
       "      <td>Enexis B.V.</td>\n",
       "      <td>ENEXIS</td>\n",
       "      <td>Sasdijk</td>\n",
       "      <td>4251AD</td>\n",
       "      <td>4251AD</td>\n",
       "      <td>WERKENDAM</td>\n",
       "      <td>NL</td>\n",
       "      <td>ELK</td>\n",
       "      <td>KVB</td>\n",
       "      <td>100.0</td>\n",
       "      <td>30</td>\n",
       "      <td>100</td>\n",
       "      <td>0.0</td>\n",
       "      <td>Onbekend</td>\n",
       "      <td>4809.0</td>\n",
       "      <td>34.0</td>\n",
       "      <td>0.0</td>\n",
       "      <td>2010</td>\n",
       "      <td>4251</td>\n",
       "    </tr>\n",
       "    <tr>\n",
       "      <th>3</th>\n",
       "      <td>Enexis B.V.</td>\n",
       "      <td>ENEXIS</td>\n",
       "      <td>Nieuweweg</td>\n",
       "      <td>4251AE</td>\n",
       "      <td>4251AG</td>\n",
       "      <td>WERKENDAM</td>\n",
       "      <td>NL</td>\n",
       "      <td>ELK</td>\n",
       "      <td>KVB</td>\n",
       "      <td>100.0</td>\n",
       "      <td>21</td>\n",
       "      <td>100</td>\n",
       "      <td>0.0</td>\n",
       "      <td>Onbekend</td>\n",
       "      <td>5015.0</td>\n",
       "      <td>44.0</td>\n",
       "      <td>0.0</td>\n",
       "      <td>2010</td>\n",
       "      <td>4251</td>\n",
       "    </tr>\n",
       "    <tr>\n",
       "      <th>4</th>\n",
       "      <td>Enexis B.V.</td>\n",
       "      <td>ENEXIS</td>\n",
       "      <td>Koppenhof</td>\n",
       "      <td>4251AH</td>\n",
       "      <td>4251AH</td>\n",
       "      <td>WERKENDAM</td>\n",
       "      <td>NL</td>\n",
       "      <td>ELK</td>\n",
       "      <td>KVB</td>\n",
       "      <td>100.0</td>\n",
       "      <td>12</td>\n",
       "      <td>100</td>\n",
       "      <td>0.0</td>\n",
       "      <td>Onbekend</td>\n",
       "      <td>3074.0</td>\n",
       "      <td>22.0</td>\n",
       "      <td>0.0</td>\n",
       "      <td>2010</td>\n",
       "      <td>4251</td>\n",
       "    </tr>\n",
       "  </tbody>\n",
       "</table>\n",
       "</div>"
      ],
      "text/plain": [
       "  NETBEHEERDER NETGEBIED STRAATNAAM POSTCODE_VAN POSTCODE_TOT WOONPLAATS  \\\n",
       "0  Enexis B.V.    ENEXIS    Sasdijk       4251AB       4251AB  WERKENDAM   \n",
       "1  Enexis B.V.    ENEXIS    Sasdijk       4251AC       4251AC  WERKENDAM   \n",
       "2  Enexis B.V.    ENEXIS    Sasdijk       4251AD       4251AD  WERKENDAM   \n",
       "3  Enexis B.V.    ENEXIS  Nieuweweg       4251AE       4251AG  WERKENDAM   \n",
       "4  Enexis B.V.    ENEXIS  Koppenhof       4251AH       4251AH  WERKENDAM   \n",
       "\n",
       "  LANDCODE PRODUCTSOORT VERBRUIKSSEGMENT  LEVERINGSRICHTING_PERC  \\\n",
       "0       NL          ELK              KVB                   100.0   \n",
       "1       NL          ELK              KVB                   100.0   \n",
       "2       NL          ELK              KVB                   100.0   \n",
       "3       NL          ELK              KVB                   100.0   \n",
       "4       NL          ELK              KVB                   100.0   \n",
       "\n",
       "   AANSLUITINGEN_AANTAL  FYSIEKE_STATUS_PERC  SOORT_AANSLUITING_PERC  \\\n",
       "0                    16                  100                     0.0   \n",
       "1                    11                  100                     0.0   \n",
       "2                    30                  100                     0.0   \n",
       "3                    21                  100                     0.0   \n",
       "4                    12                  100                     0.0   \n",
       "\n",
       "  SOORT_AANSLUITING  SJV_GEMIDDELD  SJV_LAAG_TARIEF_PERC  SLIMME_METER_PERC  \\\n",
       "0          Onbekend         4282.0                  25.0                0.0   \n",
       "1          Onbekend         5113.0                  10.0                0.0   \n",
       "2          Onbekend         4809.0                  34.0                0.0   \n",
       "3          Onbekend         5015.0                  44.0                0.0   \n",
       "4          Onbekend         3074.0                  22.0                0.0   \n",
       "\n",
       "   JAAR   PC4  \n",
       "0  2010  4251  \n",
       "1  2010  4251  \n",
       "2  2010  4251  \n",
       "3  2010  4251  \n",
       "4  2010  4251  "
      ]
     },
     "execution_count": 14,
     "metadata": {},
     "output_type": "execute_result"
    }
   ],
   "source": [
    "df.head()"
   ]
  },
  {
   "cell_type": "code",
   "execution_count": 15,
   "id": "obvious-geometry",
   "metadata": {},
   "outputs": [
    {
     "name": "stdout",
     "output_type": "stream",
     "text": [
      "<class 'pandas.core.frame.DataFrame'>\n",
      "Int64Index: 1391527 entries, 0 to 2563199\n",
      "Data columns (total 19 columns):\n",
      " #   Column                  Non-Null Count    Dtype  \n",
      "---  ------                  --------------    -----  \n",
      " 0   NETBEHEERDER            1391527 non-null  object \n",
      " 1   NETGEBIED               1391527 non-null  object \n",
      " 2   STRAATNAAM              1391527 non-null  object \n",
      " 3   POSTCODE_VAN            1391527 non-null  object \n",
      " 4   POSTCODE_TOT            1391527 non-null  object \n",
      " 5   WOONPLAATS              1391527 non-null  object \n",
      " 6   LANDCODE                1391527 non-null  object \n",
      " 7   PRODUCTSOORT            1391527 non-null  object \n",
      " 8   VERBRUIKSSEGMENT        1391527 non-null  object \n",
      " 9   LEVERINGSRICHTING_PERC  1391527 non-null  float64\n",
      " 10  AANSLUITINGEN_AANTAL    1391527 non-null  int64  \n",
      " 11  FYSIEKE_STATUS_PERC     1391527 non-null  int64  \n",
      " 12  SOORT_AANSLUITING_PERC  1391527 non-null  float64\n",
      " 13  SOORT_AANSLUITING       1391527 non-null  object \n",
      " 14  SJV_GEMIDDELD           1391527 non-null  float64\n",
      " 15  SJV_LAAG_TARIEF_PERC    1391527 non-null  float64\n",
      " 16  SLIMME_METER_PERC       1391527 non-null  float64\n",
      " 17  JAAR                    1391527 non-null  object \n",
      " 18  PC4                     1391527 non-null  object \n",
      "dtypes: float64(5), int64(2), object(12)\n",
      "memory usage: 212.3+ MB\n"
     ]
    }
   ],
   "source": [
    "df.info()"
   ]
  },
  {
   "cell_type": "code",
   "execution_count": 16,
   "id": "durable-cholesterol",
   "metadata": {},
   "outputs": [],
   "source": [
    "# JAAR is nog object, omzetten naar float\n",
    "df['JAAR'] = df['JAAR'].astype(float)"
   ]
  },
  {
   "cell_type": "code",
   "execution_count": 18,
   "id": "proprietary-senior",
   "metadata": {},
   "outputs": [],
   "source": [
    "# voeg attibuut toe met numerieke deel van de postcode\n",
    "df['PC4'] = df['POSTCODE_VAN'].astype('str').str[0:4].astype('int64')"
   ]
  },
  {
   "cell_type": "code",
   "execution_count": 20,
   "id": "married-marriage",
   "metadata": {},
   "outputs": [
    {
     "name": "stdout",
     "output_type": "stream",
     "text": [
      "<class 'pandas.core.frame.DataFrame'>\n",
      "Int64Index: 1391527 entries, 0 to 2563199\n",
      "Data columns (total 19 columns):\n",
      " #   Column                  Non-Null Count    Dtype  \n",
      "---  ------                  --------------    -----  \n",
      " 0   NETBEHEERDER            1391527 non-null  object \n",
      " 1   NETGEBIED               1391527 non-null  object \n",
      " 2   STRAATNAAM              1391527 non-null  object \n",
      " 3   POSTCODE_VAN            1391527 non-null  object \n",
      " 4   POSTCODE_TOT            1391527 non-null  object \n",
      " 5   WOONPLAATS              1391527 non-null  object \n",
      " 6   LANDCODE                1391527 non-null  object \n",
      " 7   PRODUCTSOORT            1391527 non-null  object \n",
      " 8   VERBRUIKSSEGMENT        1391527 non-null  object \n",
      " 9   LEVERINGSRICHTING_PERC  1391527 non-null  float64\n",
      " 10  AANSLUITINGEN_AANTAL    1391527 non-null  int64  \n",
      " 11  FYSIEKE_STATUS_PERC     1391527 non-null  int64  \n",
      " 12  SOORT_AANSLUITING_PERC  1391527 non-null  float64\n",
      " 13  SOORT_AANSLUITING       1391527 non-null  object \n",
      " 14  SJV_GEMIDDELD           1391527 non-null  float64\n",
      " 15  SJV_LAAG_TARIEF_PERC    1391527 non-null  float64\n",
      " 16  SLIMME_METER_PERC       1391527 non-null  float64\n",
      " 17  JAAR                    1391527 non-null  float64\n",
      " 18  PC4                     1391527 non-null  int64  \n",
      "dtypes: float64(6), int64(3), object(10)\n",
      "memory usage: 212.3+ MB\n"
     ]
    }
   ],
   "source": [
    "df.info()"
   ]
  },
  {
   "cell_type": "code",
   "execution_count": 21,
   "id": "desirable-treatment",
   "metadata": {},
   "outputs": [],
   "source": [
    "# extra attribuut toevoegen voor totale standaard jaarverbruik\n",
    "df['SJV_TOTAAL'] = round(df['AANSLUITINGEN_AANTAL'] * df['SJV_GEMIDDELD'] / 1000) # delen door 1000 om MW ipv KW te krijgen"
   ]
  },
  {
   "cell_type": "markdown",
   "id": "seeing-essex",
   "metadata": {},
   "source": [
    "# Dataframe opslaan"
   ]
  },
  {
   "cell_type": "code",
   "execution_count": 22,
   "id": "still-tunnel",
   "metadata": {},
   "outputs": [
    {
     "data": {
      "text/plain": [
       "'C:\\\\Users\\\\MarcelKoolwijk\\\\Documents\\\\SQL\\\\jads_enexis\\\\data\\\\raw\\\\Enexis_kleinverbruikgegevens'"
      ]
     },
     "execution_count": 22,
     "metadata": {},
     "output_type": "execute_result"
    }
   ],
   "source": [
    "os.getcwd()"
   ]
  },
  {
   "cell_type": "code",
   "execution_count": 23,
   "id": "optimum-sterling",
   "metadata": {},
   "outputs": [],
   "source": [
    "# data locatie om de ht5 file op te slaan\n",
    "data_processed_location = '../../processed'\n",
    "\n",
    "if 'processed' not in os.getcwd():\n",
    "    os.chdir(data_processed_location)"
   ]
  },
  {
   "cell_type": "code",
   "execution_count": 24,
   "id": "powered-cursor",
   "metadata": {},
   "outputs": [],
   "source": [
    "try:\n",
    "    os.remove('kleinverbruikgegevens_data.h5')\n",
    "except:\n",
    "    print ('File nog in gebruik of niet gevonden')\n",
    "\n",
    "store = pd.HDFStore('kleinverbruikgegevens_data.h5')\n",
    "store['kleinverbruikgegevens_data'] = df\n",
    "store.close()"
   ]
  },
  {
   "cell_type": "markdown",
   "id": "promotional-alberta",
   "metadata": {},
   "source": [
    "# Group by PC4"
   ]
  },
  {
   "cell_type": "code",
   "execution_count": 24,
   "id": "desirable-sandwich",
   "metadata": {},
   "outputs": [],
   "source": [
    "# group by pc4\n",
    "df_pc4 = df.groupby(['PC4','JAAR']\n",
    "                    , as_index=False\n",
    "                    ).agg({'SJV_TOTAAL': 'sum'\n",
    "                           ,'AANSLUITINGEN_AANTAL': 'sum'\n",
    "                           ,'LEVERINGSRICHTING_PERC': 'mean'\n",
    "                           }\n",
    "                         )"
   ]
  },
  {
   "cell_type": "code",
   "execution_count": 25,
   "id": "durable-bahrain",
   "metadata": {},
   "outputs": [
    {
     "data": {
      "text/html": [
       "<div>\n",
       "<style scoped>\n",
       "    .dataframe tbody tr th:only-of-type {\n",
       "        vertical-align: middle;\n",
       "    }\n",
       "\n",
       "    .dataframe tbody tr th {\n",
       "        vertical-align: top;\n",
       "    }\n",
       "\n",
       "    .dataframe thead th {\n",
       "        text-align: right;\n",
       "    }\n",
       "</style>\n",
       "<table border=\"1\" class=\"dataframe\">\n",
       "  <thead>\n",
       "    <tr style=\"text-align: right;\">\n",
       "      <th></th>\n",
       "      <th>PC4</th>\n",
       "      <th>JAAR</th>\n",
       "      <th>SJV_TOTAAL</th>\n",
       "      <th>AANSLUITINGEN_AANTAL</th>\n",
       "      <th>LEVERINGSRICHTING_PERC</th>\n",
       "    </tr>\n",
       "  </thead>\n",
       "  <tbody>\n",
       "    <tr>\n",
       "      <th>0</th>\n",
       "      <td>4251</td>\n",
       "      <td>2010.0</td>\n",
       "      <td>21882.0</td>\n",
       "      <td>4336</td>\n",
       "      <td>99.953917</td>\n",
       "    </tr>\n",
       "    <tr>\n",
       "      <th>1</th>\n",
       "      <td>4251</td>\n",
       "      <td>2011.0</td>\n",
       "      <td>23084.0</td>\n",
       "      <td>4413</td>\n",
       "      <td>99.953917</td>\n",
       "    </tr>\n",
       "    <tr>\n",
       "      <th>2</th>\n",
       "      <td>4251</td>\n",
       "      <td>2012.0</td>\n",
       "      <td>24006.0</td>\n",
       "      <td>4486</td>\n",
       "      <td>99.854545</td>\n",
       "    </tr>\n",
       "    <tr>\n",
       "      <th>3</th>\n",
       "      <td>4251</td>\n",
       "      <td>2013.0</td>\n",
       "      <td>23728.0</td>\n",
       "      <td>4512</td>\n",
       "      <td>99.660633</td>\n",
       "    </tr>\n",
       "    <tr>\n",
       "      <th>4</th>\n",
       "      <td>4251</td>\n",
       "      <td>2014.0</td>\n",
       "      <td>23623.0</td>\n",
       "      <td>4544</td>\n",
       "      <td>99.094595</td>\n",
       "    </tr>\n",
       "  </tbody>\n",
       "</table>\n",
       "</div>"
      ],
      "text/plain": [
       "    PC4    JAAR  SJV_TOTAAL  AANSLUITINGEN_AANTAL  LEVERINGSRICHTING_PERC\n",
       "0  4251  2010.0     21882.0                  4336               99.953917\n",
       "1  4251  2011.0     23084.0                  4413               99.953917\n",
       "2  4251  2012.0     24006.0                  4486               99.854545\n",
       "3  4251  2013.0     23728.0                  4512               99.660633\n",
       "4  4251  2014.0     23623.0                  4544               99.094595"
      ]
     },
     "execution_count": 25,
     "metadata": {},
     "output_type": "execute_result"
    }
   ],
   "source": [
    "df_pc4.head()"
   ]
  },
  {
   "cell_type": "code",
   "execution_count": null,
   "id": "applicable-worthy",
   "metadata": {},
   "outputs": [],
   "source": []
  }
 ],
 "metadata": {
  "kernelspec": {
   "display_name": "Python [conda env:jads_enexis] *",
   "language": "python",
   "name": "conda-env-jads_enexis-py"
  },
  "language_info": {
   "codemirror_mode": {
    "name": "ipython",
    "version": 3
   },
   "file_extension": ".py",
   "mimetype": "text/x-python",
   "name": "python",
   "nbconvert_exporter": "python",
   "pygments_lexer": "ipython3",
   "version": "3.8.5"
  }
 },
 "nbformat": 4,
 "nbformat_minor": 5
}
