{
 "metadata": {
  "language_info": {
   "codemirror_mode": {
    "name": "ipython",
    "version": 3
   },
   "file_extension": ".py",
   "mimetype": "text/x-python",
   "name": "python",
   "nbconvert_exporter": "python",
   "pygments_lexer": "ipython3",
   "version": "3.8.5-final"
  },
  "orig_nbformat": 2,
  "kernelspec": {
   "name": "python3",
   "display_name": "Python 3.8.5 64-bit ('JADS': conda)",
   "metadata": {
    "interpreter": {
     "hash": "a717e39e2ce076df9fbd5e1b1a18e8c570b37198a49b13a5670db8bdee762f3b"
    }
   }
  }
 },
 "nbformat": 4,
 "nbformat_minor": 2,
 "cells": [
  {
   "cell_type": "code",
   "execution_count": 42,
   "metadata": {},
   "outputs": [
    {
     "output_type": "stream",
     "name": "stdout",
     "text": [
      "Huidige directory is niet notebooks. Probeer opnieuw maar dan vanuit 1 niveau dieper\nGevonden bestanden:\nAantal BEV, FCEV en PHEV personenauto’s in het wagenpark (2012-2020).xlsx\nAantal laadpunten per jaar naar schatting (2012-2020).xlsx\nAantallen BEV en FCEV bestelauto’s, vrachtwagens en bussen per jaar (2012-2020).xlsx\nSaldo in- en uitstroom personenauto's.xlsx\n\n                   Type     2012   2013   2014   2015   2016   2017   2018  \\\n0                   BEV   1943.0   4193   6856   9401  13140  21136  44994   \n1                  FCEV      5.0      6      8     26     33     42     55   \n2                  PHEV   4685.0  24824  37358  78591  99421  98773  98324   \n3    private laadpunten   5000.0  19000  29000  56000  65000  69000  83000   \n4   publieke laadpunten  unknown   3521   5421   7395  11768  15288  20228   \n5          semi-publiek  unknown   2249   6439  10391  14320  17587  15633   \n6        snellaadpunten  unknown    106    254    465    612    755   1116   \n7          Bestelauto's    516.0    693   1280   1478   1640   2230   3210   \n8           Vrachtwagen     61.0     74     79     81     98    109    125   \n9                   Bus     75.0     93     87     97    173    316    423   \n10                 PHEV   4346.0  20145  12533  41240  20839   -631   -425   \n11                  BEV    778.0   2252   2663   2545   3741   8012  23883   \n12                 FCEV      0.0      1      2     18      7      9     13   \n\n      2019    2020                                              groep  \n0   107335  182486  Aantal BEV, FCEV en PHEV personenauto’s in het...  \n1      215     390  Aantal BEV, FCEV en PHEV personenauto’s in het...  \n2    96521  109754  Aantal BEV, FCEV en PHEV personenauto’s in het...  \n3   118000  169000  Aantal laadpunten per jaar naar schatting (201...  \n4    27773   39968  Aantal laadpunten per jaar naar schatting (201...  \n5    21747   23609  Aantal laadpunten per jaar naar schatting (201...  \n6     1252    2027  Aantal laadpunten per jaar naar schatting (201...  \n7     4501    6145  Aantallen BEV en FCEV bestelauto’s, vrachtwage...  \n8      229     217  Aantallen BEV en FCEV bestelauto’s, vrachtwage...  \n9      797    1233  Aantallen BEV en FCEV bestelauto’s, vrachtwage...  \n10   -1791   13225              Saldo in- en uitstroom personenauto's  \n11   62357   75145              Saldo in- en uitstroom personenauto's  \n12     160     175              Saldo in- en uitstroom personenauto's  \n"
     ]
    }
   ],
   "source": [
    "import zipfile, glob, os\n",
    "import pandas as pd\n",
    "\n",
    "# data locatie als het notebook voor de eerste keer wordt opgestart is 'notebooks'\n",
    "data_location = '../data/raw/Elektrisch Rijden op - de - weg - voertuigen en laadpunten - jaaroverzicht 2020'\n",
    "\n",
    "# Ga naar de folder waarin de meteo data staat\n",
    "# Eenmaal chdir uitgevoerd blijft de current directory uiteraard 'Elektrisch Rijden op - de - weg - voertuigen en laadpunten - jaaroverzicht 2020'\n",
    "if 'Elektrisch Rijden op - de - weg - voertuigen en laadpunten - jaaroverzicht 2020' not in os.getcwd():\n",
    "    try:\n",
    "        os.chdir(data_location)\n",
    "    except:\n",
    "        print('Huidige directory is niet notebooks. Probeer opnieuw maar dan vanuit 1 niveau dieper')\n",
    "        os.chdir('..')\n",
    "        os.chdir(data_location)\n",
    "\n",
    "# Lees de excel bestanden\n",
    "combined_df = None\n",
    "print ('Gevonden bestanden:')\n",
    "for file in glob.glob('*.xlsx'):\n",
    "    print (file)\n",
    "    df = pd.read_excel(file)\n",
    "    df['groep'] = file[:-5]\n",
    "    if combined_df is None:\n",
    "        combined_df = df.copy()\n",
    "    else:\n",
    "        combined_df = combined_df.append(df, ignore_index=True)\n",
    "\n",
    "# Haal NaN weg\n",
    "combined_df = combined_df.fillna(value='unknown')\n",
    "\n",
    "# alles naar string\n",
    "combined_df = combined_df.astype(str)\n",
    "\n",
    "# geef eerste column een naam\n",
    "combined_df.columns.values[0] = 'Type'\n",
    "\n",
    "print('')\n",
    "print (combined_df)\n"
   ]
  },
  {
   "cell_type": "code",
   "execution_count": 43,
   "metadata": {},
   "outputs": [
    {
     "output_type": "stream",
     "name": "stderr",
     "text": [
      "<ipython-input-43-19ed4e8d2e1d>:16: PerformanceWarning: \nyour performance may suffer as PyTables will pickle object types that it cannot\nmap directly to c-types [inferred_type->mixed-integer,key->axis0] [items->None]\n\n  store[ht5_file[:-3]] = combined_df\n<ipython-input-43-19ed4e8d2e1d>:16: PerformanceWarning: \nyour performance may suffer as PyTables will pickle object types that it cannot\nmap directly to c-types [inferred_type->mixed-integer,key->block0_items] [items->None]\n\n  store[ht5_file[:-3]] = combined_df\n"
     ]
    }
   ],
   "source": [
    "# data locatie als het notebook voor de eerste keer wordt opgestart is 'notebooks'\n",
    "data_location = '../../processed'\n",
    "ht5_file = 'laadpalen_voertuigen.h5'\n",
    "\n",
    "# Ga naar de folder waarin de meteo data staat\n",
    "# Eenmaal chdir uitgevoerd blijft de current directory uiteraard 'processed'\n",
    "if 'processed' not in os.getcwd():\n",
    "    os.chdir(data_location)\n",
    "\n",
    "try:\n",
    "    os.remove(ht5_file)\n",
    "except:\n",
    "    print ('File nog in gebruik of niet gevonden')\n",
    "\n",
    "store = pd.HDFStore(ht5_file)\n",
    "store[ht5_file[:-3]] = combined_df\n",
    "store.close()    "
   ]
  },
  {
   "cell_type": "code",
   "execution_count": null,
   "metadata": {},
   "outputs": [],
   "source": []
  }
 ]
}