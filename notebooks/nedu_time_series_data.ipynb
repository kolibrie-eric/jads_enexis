{
 "cells": [
  {
   "cell_type": "code",
   "execution_count": 1,
   "id": "furnished-villa",
   "metadata": {},
   "outputs": [],
   "source": [
    "import pandas as pd\n",
    "import numpy as np\n",
    "import os\n",
    "import matplotlib.pyplot as plt\n",
    "import time\n",
    "\n",
    "# show all columns in the dataframe\n",
    "pd.set_option('max_columns', None)\n",
    "pd.set_option(\"display.precision\", 8)"
   ]
  },
  {
   "cell_type": "code",
   "execution_count": 2,
   "id": "african-fashion",
   "metadata": {},
   "outputs": [
    {
     "data": {
      "text/plain": [
       "'C:\\\\Users\\\\MarcelKoolwijk\\\\Documents\\\\SQL\\\\jads_enexis\\\\notebooks'"
      ]
     },
     "execution_count": 2,
     "metadata": {},
     "output_type": "execute_result"
    }
   ],
   "source": [
    "os.getcwd()"
   ]
  },
  {
   "cell_type": "code",
   "execution_count": 3,
   "id": "compressed-treasure",
   "metadata": {},
   "outputs": [],
   "source": [
    "# variables used in script\n",
    "data_processed_location = '../data/processed'\n",
    "\n",
    "if 'processed' not in os.getcwd():\n",
    "    os.chdir(data_processed_location)\n",
    "\n",
    "# NEDU profielen\n",
    "df_nedu_profielen = pd.read_hdf('nedu_files.h5')"
   ]
  },
  {
   "cell_type": "markdown",
   "id": "wired-consumption",
   "metadata": {},
   "source": [
    "# Profiel per dag"
   ]
  },
  {
   "cell_type": "code",
   "execution_count": 4,
   "id": "immune-tribe",
   "metadata": {},
   "outputs": [
    {
     "name": "stdout",
     "output_type": "stream",
     "text": [
      "Aantal rijen in de NEDU set = 4384\n"
     ]
    },
    {
     "data": {
      "text/html": [
       "<div>\n",
       "<style scoped>\n",
       "    .dataframe tbody tr th:only-of-type {\n",
       "        vertical-align: middle;\n",
       "    }\n",
       "\n",
       "    .dataframe tbody tr th {\n",
       "        vertical-align: top;\n",
       "    }\n",
       "\n",
       "    .dataframe thead th {\n",
       "        text-align: right;\n",
       "    }\n",
       "</style>\n",
       "<table border=\"1\" class=\"dataframe\">\n",
       "  <thead>\n",
       "    <tr style=\"text-align: right;\">\n",
       "      <th></th>\n",
       "      <th>E1A</th>\n",
       "      <th>E1B</th>\n",
       "      <th>E1C</th>\n",
       "      <th>E2A</th>\n",
       "      <th>E2B</th>\n",
       "    </tr>\n",
       "    <tr>\n",
       "      <th>DATUM</th>\n",
       "      <th></th>\n",
       "      <th></th>\n",
       "      <th></th>\n",
       "      <th></th>\n",
       "      <th></th>\n",
       "    </tr>\n",
       "  </thead>\n",
       "  <tbody>\n",
       "    <tr>\n",
       "      <th>2010-01-01</th>\n",
       "      <td>0.00323121</td>\n",
       "      <td>0.00331064</td>\n",
       "      <td>0.00342988</td>\n",
       "      <td>0.00196902</td>\n",
       "      <td>0.00250638</td>\n",
       "    </tr>\n",
       "    <tr>\n",
       "      <th>2010-01-02</th>\n",
       "      <td>0.00344795</td>\n",
       "      <td>0.00351351</td>\n",
       "      <td>0.00362044</td>\n",
       "      <td>0.00233157</td>\n",
       "      <td>0.00306114</td>\n",
       "    </tr>\n",
       "    <tr>\n",
       "      <th>2010-01-03</th>\n",
       "      <td>0.00331398</td>\n",
       "      <td>0.00344767</td>\n",
       "      <td>0.00339365</td>\n",
       "      <td>0.00199698</td>\n",
       "      <td>0.00265303</td>\n",
       "    </tr>\n",
       "    <tr>\n",
       "      <th>2010-01-04</th>\n",
       "      <td>0.00327535</td>\n",
       "      <td>0.00330301</td>\n",
       "      <td>0.00332266</td>\n",
       "      <td>0.00299861</td>\n",
       "      <td>0.00310272</td>\n",
       "    </tr>\n",
       "    <tr>\n",
       "      <th>2010-01-05</th>\n",
       "      <td>0.00323160</td>\n",
       "      <td>0.00317549</td>\n",
       "      <td>0.00322126</td>\n",
       "      <td>0.00313427</td>\n",
       "      <td>0.00325390</td>\n",
       "    </tr>\n",
       "  </tbody>\n",
       "</table>\n",
       "</div>"
      ],
      "text/plain": [
       "                   E1A         E1B         E1C         E2A         E2B\n",
       "DATUM                                                                 \n",
       "2010-01-01  0.00323121  0.00331064  0.00342988  0.00196902  0.00250638\n",
       "2010-01-02  0.00344795  0.00351351  0.00362044  0.00233157  0.00306114\n",
       "2010-01-03  0.00331398  0.00344767  0.00339365  0.00199698  0.00265303\n",
       "2010-01-04  0.00327535  0.00330301  0.00332266  0.00299861  0.00310272\n",
       "2010-01-05  0.00323160  0.00317549  0.00322126  0.00313427  0.00325390"
      ]
     },
     "execution_count": 4,
     "metadata": {},
     "output_type": "execute_result"
    }
   ],
   "source": [
    "from datetime import datetime\n",
    "import math\n",
    "\n",
    "# Voeg een datum kolom toe zodat we kunnen aggreren per datum per profiel\n",
    "def haal_datum_op(datum):\n",
    "    datum = pd.to_datetime(datum)\n",
    "    # Laatste rij is blijkbaar NaN. \n",
    "    if math.isnan(datum.year):\n",
    "        return ''\n",
    "    return datetime(datum.year,datum.month,datum.day)\n",
    "df_nedu_profielen[\"DATUM\"] = np.vectorize(haal_datum_op)(df_nedu_profielen.DatumTijd)\n",
    "\n",
    "# Groepeer op datum en sommeer de profielen die we nodig hebben\n",
    "df_nedu_gereduceerd = df_nedu_profielen.groupby('DATUM').agg({'E1A':'sum', 'E1B':'sum', 'E1C':'sum', 'E2A':'sum', 'E2B':'sum'})\n",
    "\n",
    "# Sorteer op datum\n",
    "df_nedu_gereduceerd = df_nedu_gereduceerd.sort_values(by='DATUM')\n",
    "print (f\"Aantal rijen in de NEDU set = {df_nedu_gereduceerd.shape[0]}\")\n",
    "\n",
    "# Check de eerste paar rijen.\n",
    "df_nedu_gereduceerd.head()"
   ]
  },
  {
   "cell_type": "code",
   "execution_count": 5,
   "id": "important-repository",
   "metadata": {},
   "outputs": [],
   "source": [
    "df_nedu_e1a = pd.DataFrame(df_nedu_gereduceerd['E1A']).reset_index().rename(columns={\"DATUM\": \"ds\", \"E1A\": \"y\"})\n",
    "df_nedu_e1b = pd.DataFrame(df_nedu_gereduceerd['E1B']).reset_index().rename(columns={\"DATUM\": \"ds\", \"E1B\": \"y\"})\n",
    "df_nedu_e1c = pd.DataFrame(df_nedu_gereduceerd['E1C']).reset_index().rename(columns={\"DATUM\": \"ds\", \"E1C\": \"y\"})\n",
    "df_nedu_e2a = pd.DataFrame(df_nedu_gereduceerd['E2A']).reset_index().rename(columns={\"DATUM\": \"ds\", \"E2A\": \"y\"})\n",
    "df_nedu_e2b = pd.DataFrame(df_nedu_gereduceerd['E2B']).reset_index().rename(columns={\"DATUM\": \"ds\", \"E2B\": \"y\"})"
   ]
  },
  {
   "cell_type": "code",
   "execution_count": 6,
   "id": "vulnerable-closure",
   "metadata": {},
   "outputs": [
    {
     "data": {
      "text/html": [
       "<div>\n",
       "<style scoped>\n",
       "    .dataframe tbody tr th:only-of-type {\n",
       "        vertical-align: middle;\n",
       "    }\n",
       "\n",
       "    .dataframe tbody tr th {\n",
       "        vertical-align: top;\n",
       "    }\n",
       "\n",
       "    .dataframe thead th {\n",
       "        text-align: right;\n",
       "    }\n",
       "</style>\n",
       "<table border=\"1\" class=\"dataframe\">\n",
       "  <thead>\n",
       "    <tr style=\"text-align: right;\">\n",
       "      <th></th>\n",
       "      <th>ds</th>\n",
       "      <th>y</th>\n",
       "    </tr>\n",
       "  </thead>\n",
       "  <tbody>\n",
       "    <tr>\n",
       "      <th>0</th>\n",
       "      <td>2010-01-01</td>\n",
       "      <td>0.00323121</td>\n",
       "    </tr>\n",
       "    <tr>\n",
       "      <th>1</th>\n",
       "      <td>2010-01-02</td>\n",
       "      <td>0.00344795</td>\n",
       "    </tr>\n",
       "    <tr>\n",
       "      <th>2</th>\n",
       "      <td>2010-01-03</td>\n",
       "      <td>0.00331398</td>\n",
       "    </tr>\n",
       "    <tr>\n",
       "      <th>3</th>\n",
       "      <td>2010-01-04</td>\n",
       "      <td>0.00327535</td>\n",
       "    </tr>\n",
       "    <tr>\n",
       "      <th>4</th>\n",
       "      <td>2010-01-05</td>\n",
       "      <td>0.00323160</td>\n",
       "    </tr>\n",
       "    <tr>\n",
       "      <th>...</th>\n",
       "      <td>...</td>\n",
       "      <td>...</td>\n",
       "    </tr>\n",
       "    <tr>\n",
       "      <th>4379</th>\n",
       "      <td>2021-12-28</td>\n",
       "      <td>0.00345675</td>\n",
       "    </tr>\n",
       "    <tr>\n",
       "      <th>4380</th>\n",
       "      <td>2021-12-29</td>\n",
       "      <td>0.00363576</td>\n",
       "    </tr>\n",
       "    <tr>\n",
       "      <th>4381</th>\n",
       "      <td>2021-12-30</td>\n",
       "      <td>0.00352695</td>\n",
       "    </tr>\n",
       "    <tr>\n",
       "      <th>4382</th>\n",
       "      <td>2021-12-31</td>\n",
       "      <td>0.00337718</td>\n",
       "    </tr>\n",
       "    <tr>\n",
       "      <th>4383</th>\n",
       "      <td>2022-01-01</td>\n",
       "      <td>0.00003751</td>\n",
       "    </tr>\n",
       "  </tbody>\n",
       "</table>\n",
       "<p>4384 rows × 2 columns</p>\n",
       "</div>"
      ],
      "text/plain": [
       "             ds           y\n",
       "0    2010-01-01  0.00323121\n",
       "1    2010-01-02  0.00344795\n",
       "2    2010-01-03  0.00331398\n",
       "3    2010-01-04  0.00327535\n",
       "4    2010-01-05  0.00323160\n",
       "...         ...         ...\n",
       "4379 2021-12-28  0.00345675\n",
       "4380 2021-12-29  0.00363576\n",
       "4381 2021-12-30  0.00352695\n",
       "4382 2021-12-31  0.00337718\n",
       "4383 2022-01-01  0.00003751\n",
       "\n",
       "[4384 rows x 2 columns]"
      ]
     },
     "execution_count": 6,
     "metadata": {},
     "output_type": "execute_result"
    }
   ],
   "source": [
    "df_nedu_e1a"
   ]
  },
  {
   "cell_type": "code",
   "execution_count": 7,
   "id": "southern-court",
   "metadata": {},
   "outputs": [],
   "source": [
    "data_processed_location = '../data/processed'\n",
    "\n",
    "if 'processed' not in os.getcwd():\n",
    "    os.chdir(data_processed_location)\n",
    "\n",
    "try:\n",
    "    os.remove('nedu_e1a.h5')\n",
    "except:\n",
    "    print ('File nog in gebruik of niet gevonden')\n",
    "\n",
    "store = pd.HDFStore('nedu_e1a.h5')\n",
    "store['nedu_e1a'] = df_nedu_e1a\n",
    "store.close()"
   ]
  },
  {
   "cell_type": "code",
   "execution_count": 8,
   "id": "preceding-antarctica",
   "metadata": {},
   "outputs": [],
   "source": [
    "data_processed_location = '../data/processed'\n",
    "\n",
    "if 'processed' not in os.getcwd():\n",
    "    os.chdir(data_processed_location)\n",
    "\n",
    "try:\n",
    "    os.remove('nedu_e1b.h5')\n",
    "except:\n",
    "    print ('File nog in gebruik of niet gevonden')\n",
    "\n",
    "store = pd.HDFStore('nedu_e1b.h5')\n",
    "store['nedu_e1b'] = df_nedu_e1b\n",
    "store.close()"
   ]
  },
  {
   "cell_type": "code",
   "execution_count": 9,
   "id": "treated-luther",
   "metadata": {},
   "outputs": [],
   "source": [
    "data_processed_location = '../data/processed'\n",
    "\n",
    "if 'processed' not in os.getcwd():\n",
    "    os.chdir(data_processed_location)\n",
    "\n",
    "try:\n",
    "    os.remove('nedu_e1c.h5')\n",
    "except:\n",
    "    print ('File nog in gebruik of niet gevonden')\n",
    "\n",
    "store = pd.HDFStore('nedu_e1c.h5')\n",
    "store['nedu_e1c'] = df_nedu_e1c\n",
    "store.close()"
   ]
  },
  {
   "cell_type": "code",
   "execution_count": 10,
   "id": "genetic-somalia",
   "metadata": {},
   "outputs": [],
   "source": [
    "data_processed_location = '../data/processed'\n",
    "\n",
    "if 'processed' not in os.getcwd():\n",
    "    os.chdir(data_processed_location)\n",
    "\n",
    "try:\n",
    "    os.remove('nedu_e2a.h5')\n",
    "except:\n",
    "    print ('File nog in gebruik of niet gevonden')\n",
    "\n",
    "store = pd.HDFStore('nedu_e2a.h5')\n",
    "store['nedu_e2a'] = df_nedu_e2a\n",
    "store.close()"
   ]
  },
  {
   "cell_type": "code",
   "execution_count": 11,
   "id": "mineral-server",
   "metadata": {},
   "outputs": [],
   "source": [
    "data_processed_location = '../data/processed'\n",
    "\n",
    "if 'processed' not in os.getcwd():\n",
    "    os.chdir(data_processed_location)\n",
    "\n",
    "try:\n",
    "    os.remove('nedu_e2b.h5')\n",
    "except:\n",
    "    print ('File nog in gebruik of niet gevonden')\n",
    "\n",
    "store = pd.HDFStore('nedu_e2b.h5')\n",
    "store['nedu_e2b'] = df_nedu_e2b\n",
    "store.close()"
   ]
  },
  {
   "cell_type": "code",
   "execution_count": null,
   "id": "norman-trail",
   "metadata": {},
   "outputs": [],
   "source": []
  },
  {
   "cell_type": "code",
   "execution_count": null,
   "id": "dense-breast",
   "metadata": {},
   "outputs": [],
   "source": []
  },
  {
   "cell_type": "code",
   "execution_count": null,
   "id": "blessed-relevance",
   "metadata": {},
   "outputs": [],
   "source": []
  }
 ],
 "metadata": {
  "kernelspec": {
   "display_name": "Python [conda env:jads_enexis_prophet] *",
   "language": "python",
   "name": "conda-env-jads_enexis_prophet-py"
  },
  "language_info": {
   "codemirror_mode": {
    "name": "ipython",
    "version": 3
   },
   "file_extension": ".py",
   "mimetype": "text/x-python",
   "name": "python",
   "nbconvert_exporter": "python",
   "pygments_lexer": "ipython3",
   "version": "3.8.8"
  }
 },
 "nbformat": 4,
 "nbformat_minor": 5
}
