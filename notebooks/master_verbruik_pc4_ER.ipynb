{
 "metadata": {
  "language_info": {
   "codemirror_mode": {
    "name": "ipython",
    "version": 3
   },
   "file_extension": ".py",
   "mimetype": "text/x-python",
   "name": "python",
   "nbconvert_exporter": "python",
   "pygments_lexer": "ipython3",
   "version": "3.8.5"
  },
  "orig_nbformat": 2,
  "kernelspec": {
   "name": "python385jvsc74a57bd0a717e39e2ce076df9fbd5e1b1a18e8c570b37198a49b13a5670db8bdee762f3b",
   "display_name": "Python 3.8.5 64-bit ('JADS': conda)"
  }
 },
 "nbformat": 4,
 "nbformat_minor": 2,
 "cells": [
  {
   "cell_type": "code",
   "execution_count": 1,
   "metadata": {},
   "outputs": [],
   "source": [
    "import pandas as pd\n",
    "import numpy as np\n",
    "import os\n",
    "import matplotlib.pyplot as plt\n",
    "import time\n",
    "import altair as alt\n",
    "from datetime import datetime\n",
    "import warnings\n",
    "\n",
    "warnings.filterwarnings(\"ignore\")\n",
    "\n",
    "# show all columns in the dataframe\n",
    "pd.set_option('max_columns', None)"
   ]
  },
  {
   "source": [
    "# Lees predictie functies"
   ],
   "cell_type": "markdown",
   "metadata": {}
  },
  {
   "cell_type": "code",
   "execution_count": 73,
   "metadata": {},
   "outputs": [
    {
     "output_type": "execute_result",
     "data": {
      "text/plain": [
       "<module 'verbruik_predictie' from 'c:\\\\Users\\\\ericr\\\\OneDrive - Actondata\\\\Projecten\\\\jads_enexis\\\\notebooks\\\\verbruik_predictie.py'>"
      ]
     },
     "metadata": {},
     "execution_count": 73
    }
   ],
   "source": [
    "# Zorg er voor dat de veranderingen in verbruik_predictie ook meegenomen worden\n",
    "from imp import reload\n",
    "import verbruik_predictie as vp\n",
    "reload(vp)\n"
   ]
  },
  {
   "source": [
    "# Lees kleinverbruik data"
   ],
   "cell_type": "markdown",
   "metadata": {}
  },
  {
   "cell_type": "code",
   "execution_count": 7,
   "metadata": {},
   "outputs": [],
   "source": [
    "# variables used in script\n",
    "data_processed_location = '../data/processed'\n",
    "\n",
    "if 'processed' not in os.getcwd():\n",
    "    os.chdir(data_processed_location)"
   ]
  },
  {
   "cell_type": "code",
   "execution_count": 8,
   "metadata": {},
   "outputs": [],
   "source": [
    "# kleinverbruikgegevens gegevens inlezen\n",
    "df = pd.read_hdf('kleinverbruikgegevens_data.h5')\n",
    "\n",
    "#Delete 2021 data by keeping JAAR < 2021\n",
    "df = df[df['JAAR'] < 2021]"
   ]
  },
  {
   "source": [
    "# Voeg Features toe\n",
    "Voeg profiel toe op basis van SOORT_AANSLUITING en de SJV_TOTAAL per profiel"
   ],
   "cell_type": "markdown",
   "metadata": {}
  },
  {
   "cell_type": "code",
   "execution_count": 9,
   "metadata": {},
   "outputs": [
    {
     "output_type": "stream",
     "name": "stdout",
     "text": [
      "#E1A = 956271\n#E1B = 52567\n#E1C = 257304\n"
     ]
    }
   ],
   "source": [
    "# Spoor 2. Voeg profiel toe aan verbruiksgegevens. SOORT_AANSLUITING bepaald het profiel\n",
    "# Omdat de E2 profielen in de NEDU set niet consistent zijn (verschil tussen 2010-2017 en 2018-), gebruiken we deze niet\n",
    "profiel_E1 = ['1X25','3X25', '1X20', '1x25', '3x25', '1x20'] # de rest is profiel E2\n",
    "\n",
    "# Voeg in de kleinverbruikgegevens, het bijpassende profiel voor de soort aansluiting toe\n",
    "def vervang_door_profiel(aansluiting, postcode, percentage):\n",
    "    # Bepaal basisprofiel\n",
    "    profiel = 'E1' # if aansluiting in profiel_E1 else 'E2' # Gebruiken als we wel een goed E2 profiel hebben\n",
    "\n",
    "    # Een laag tarief percentage lager dan 50% zetten we in een A profiel\n",
    "    lh_profiel = 'A' if percentage < 50 else 'B'\n",
    "\n",
    "    # Bepaal welk laag tarief gebied de postcode zit\n",
    "    if profiel == 'E1' and lh_profiel == 'B':\n",
    "        postcode_area = int(postcode[:2]) # PC4\n",
    "        # Postcodes < 65 is Noord-Brabant of Limburg\n",
    "        if postcode_area < 65:\n",
    "            lh_profiel = 'C'\n",
    "    return profiel + lh_profiel\n",
    "\n",
    "df[\"PROFIEL\"] = np.vectorize(vervang_door_profiel)(df.SOORT_AANSLUITING, df.POSTCODE_VAN, df.SJV_LAAG_TARIEF_PERC)\n",
    "df.PC4 = df.PC4.astype('int')\n",
    "print (f'#E1A = {df[df.PROFIEL == \"E1A\"].PROFIEL.count()}')\n",
    "print (f'#E1B = {df[df.PROFIEL == \"E1B\"].PROFIEL.count()}')\n",
    "print (f'#E1C = {df[df.PROFIEL == \"E1C\"].PROFIEL.count()}')"
   ]
  },
  {
   "cell_type": "code",
   "execution_count": 10,
   "metadata": {},
   "outputs": [],
   "source": [
    "# Voeg features toe per PC6\n",
    "df[\"E1A_TOTAAL\"] = df[df.PROFIEL == 'E1A'].SJV_TOTAAL\n",
    "df[\"E1B_TOTAAL\"] = df[df.PROFIEL == 'E1B'].SJV_TOTAAL\n",
    "df[\"E1C_TOTAAL\"] = df[df.PROFIEL == 'E1C'].SJV_TOTAAL\n",
    "df[\"WEIGHTED_LEVERINGSRICHTING_PERC\"] = df.AANSLUITINGEN_AANTAL * df.LEVERINGSRICHTING_PERC"
   ]
  },
  {
   "source": [
    "# Rol op tot PC4"
   ],
   "cell_type": "markdown",
   "metadata": {}
  },
  {
   "cell_type": "code",
   "execution_count": 11,
   "metadata": {},
   "outputs": [
    {
     "output_type": "execute_result",
     "data": {
      "text/plain": [
       "           SJV_TOTAAL  E1A_TOTAAL  E1B_TOTAAL  E1C_TOTAAL  \\\n",
       "PC4  JAAR                                                   \n",
       "4251 2010     21802.0     17114.0         0.0      4688.0   \n",
       "     2011     23084.0     18179.0         0.0      4905.0   \n",
       "     2012     24006.0     18172.0         0.0      5834.0   \n",
       "     2013     23728.0     18421.0         0.0      5307.0   \n",
       "     2014     23623.0     22610.0         0.0      1013.0   \n",
       "...               ...         ...         ...         ...   \n",
       "9999 2016        56.0        56.0         0.0         0.0   \n",
       "     2017        53.0        53.0         0.0         0.0   \n",
       "     2018       174.0       174.0         0.0         0.0   \n",
       "     2019       163.0       163.0         0.0         0.0   \n",
       "     2020       155.0       155.0         0.0         0.0   \n",
       "\n",
       "           AANSLUITINGEN_AANTAL  LEVERINGSRICHTING_PERC  \n",
       "PC4  JAAR                                                \n",
       "4251 2010                  4325               99.949133  \n",
       "     2011                  4413               99.950147  \n",
       "     2012                  4486               99.848417  \n",
       "     2013                  4512               99.578901  \n",
       "     2014                  4544               98.932218  \n",
       "...                         ...                     ...  \n",
       "9999 2016                    21               81.000000  \n",
       "     2017                    21               71.000000  \n",
       "     2018                    37               64.865676  \n",
       "     2019                    37               62.164054  \n",
       "     2020                    37               54.052432  \n",
       "\n",
       "[17130 rows x 6 columns]"
      ],
      "text/html": "<div>\n<style scoped>\n    .dataframe tbody tr th:only-of-type {\n        vertical-align: middle;\n    }\n\n    .dataframe tbody tr th {\n        vertical-align: top;\n    }\n\n    .dataframe thead th {\n        text-align: right;\n    }\n</style>\n<table border=\"1\" class=\"dataframe\">\n  <thead>\n    <tr style=\"text-align: right;\">\n      <th></th>\n      <th></th>\n      <th>SJV_TOTAAL</th>\n      <th>E1A_TOTAAL</th>\n      <th>E1B_TOTAAL</th>\n      <th>E1C_TOTAAL</th>\n      <th>AANSLUITINGEN_AANTAL</th>\n      <th>LEVERINGSRICHTING_PERC</th>\n    </tr>\n    <tr>\n      <th>PC4</th>\n      <th>JAAR</th>\n      <th></th>\n      <th></th>\n      <th></th>\n      <th></th>\n      <th></th>\n      <th></th>\n    </tr>\n  </thead>\n  <tbody>\n    <tr>\n      <th rowspan=\"5\" valign=\"top\">4251</th>\n      <th>2010</th>\n      <td>21802.0</td>\n      <td>17114.0</td>\n      <td>0.0</td>\n      <td>4688.0</td>\n      <td>4325</td>\n      <td>99.949133</td>\n    </tr>\n    <tr>\n      <th>2011</th>\n      <td>23084.0</td>\n      <td>18179.0</td>\n      <td>0.0</td>\n      <td>4905.0</td>\n      <td>4413</td>\n      <td>99.950147</td>\n    </tr>\n    <tr>\n      <th>2012</th>\n      <td>24006.0</td>\n      <td>18172.0</td>\n      <td>0.0</td>\n      <td>5834.0</td>\n      <td>4486</td>\n      <td>99.848417</td>\n    </tr>\n    <tr>\n      <th>2013</th>\n      <td>23728.0</td>\n      <td>18421.0</td>\n      <td>0.0</td>\n      <td>5307.0</td>\n      <td>4512</td>\n      <td>99.578901</td>\n    </tr>\n    <tr>\n      <th>2014</th>\n      <td>23623.0</td>\n      <td>22610.0</td>\n      <td>0.0</td>\n      <td>1013.0</td>\n      <td>4544</td>\n      <td>98.932218</td>\n    </tr>\n    <tr>\n      <th>...</th>\n      <th>...</th>\n      <td>...</td>\n      <td>...</td>\n      <td>...</td>\n      <td>...</td>\n      <td>...</td>\n      <td>...</td>\n    </tr>\n    <tr>\n      <th rowspan=\"5\" valign=\"top\">9999</th>\n      <th>2016</th>\n      <td>56.0</td>\n      <td>56.0</td>\n      <td>0.0</td>\n      <td>0.0</td>\n      <td>21</td>\n      <td>81.000000</td>\n    </tr>\n    <tr>\n      <th>2017</th>\n      <td>53.0</td>\n      <td>53.0</td>\n      <td>0.0</td>\n      <td>0.0</td>\n      <td>21</td>\n      <td>71.000000</td>\n    </tr>\n    <tr>\n      <th>2018</th>\n      <td>174.0</td>\n      <td>174.0</td>\n      <td>0.0</td>\n      <td>0.0</td>\n      <td>37</td>\n      <td>64.865676</td>\n    </tr>\n    <tr>\n      <th>2019</th>\n      <td>163.0</td>\n      <td>163.0</td>\n      <td>0.0</td>\n      <td>0.0</td>\n      <td>37</td>\n      <td>62.164054</td>\n    </tr>\n    <tr>\n      <th>2020</th>\n      <td>155.0</td>\n      <td>155.0</td>\n      <td>0.0</td>\n      <td>0.0</td>\n      <td>37</td>\n      <td>54.052432</td>\n    </tr>\n  </tbody>\n</table>\n<p>17130 rows × 6 columns</p>\n</div>"
     },
     "metadata": {},
     "execution_count": 11
    }
   ],
   "source": [
    "# Rol op tot PC4\n",
    "df_verbruik = df.groupby(['PC4','JAAR']).agg({'SJV_TOTAAL':'sum', 'E1A_TOTAAL' : 'sum', 'E1B_TOTAAL' : 'sum', 'E1C_TOTAAL': 'sum', 'AANSLUITINGEN_AANTAL':'sum', 'WEIGHTED_LEVERINGSRICHTING_PERC': 'sum'})\n",
    "df_verbruik['LEVERINGSRICHTING_PERC'] = df_verbruik['WEIGHTED_LEVERINGSRICHTING_PERC'] / df_verbruik['AANSLUITINGEN_AANTAL']\n",
    "df_verbruik = df_verbruik.drop(columns=['WEIGHTED_LEVERINGSRICHTING_PERC'])\n",
    "df_verbruik"
   ]
  },
  {
   "cell_type": "code",
   "execution_count": 12,
   "metadata": {},
   "outputs": [
    {
     "output_type": "execute_result",
     "data": {
      "text/plain": [
       "       SJV_TOTAAL  E1A_TOTAAL  E1B_TOTAAL  E1C_TOTAAL  AANSLUITINGEN_AANTAL  \\\n",
       "0           21802       17114           0        4688                  4325   \n",
       "1           23084       18179           0        4905                  4413   \n",
       "2           24006       18172           0        5834                  4486   \n",
       "3           23728       18421           0        5307                  4512   \n",
       "4           23623       22610           0        1013                  4544   \n",
       "...           ...         ...         ...         ...                   ...   \n",
       "17125          56          56           0           0                    21   \n",
       "17126          53          53           0           0                    21   \n",
       "17127         174         174           0           0                    37   \n",
       "17128         163         163           0           0                    37   \n",
       "17129         155         155           0           0                    37   \n",
       "\n",
       "       LEVERINGSRICHTING_PERC   PC4  JAAR  \n",
       "0                   99.949133  4251  2010  \n",
       "1                   99.950147  4251  2011  \n",
       "2                   99.848417  4251  2012  \n",
       "3                   99.578901  4251  2013  \n",
       "4                   98.932218  4251  2014  \n",
       "...                       ...   ...   ...  \n",
       "17125               81.000000  9999  2016  \n",
       "17126               71.000000  9999  2017  \n",
       "17127               64.865676  9999  2018  \n",
       "17128               62.164054  9999  2019  \n",
       "17129               54.052432  9999  2020  \n",
       "\n",
       "[17130 rows x 8 columns]"
      ],
      "text/html": "<div>\n<style scoped>\n    .dataframe tbody tr th:only-of-type {\n        vertical-align: middle;\n    }\n\n    .dataframe tbody tr th {\n        vertical-align: top;\n    }\n\n    .dataframe thead th {\n        text-align: right;\n    }\n</style>\n<table border=\"1\" class=\"dataframe\">\n  <thead>\n    <tr style=\"text-align: right;\">\n      <th></th>\n      <th>SJV_TOTAAL</th>\n      <th>E1A_TOTAAL</th>\n      <th>E1B_TOTAAL</th>\n      <th>E1C_TOTAAL</th>\n      <th>AANSLUITINGEN_AANTAL</th>\n      <th>LEVERINGSRICHTING_PERC</th>\n      <th>PC4</th>\n      <th>JAAR</th>\n    </tr>\n  </thead>\n  <tbody>\n    <tr>\n      <th>0</th>\n      <td>21802</td>\n      <td>17114</td>\n      <td>0</td>\n      <td>4688</td>\n      <td>4325</td>\n      <td>99.949133</td>\n      <td>4251</td>\n      <td>2010</td>\n    </tr>\n    <tr>\n      <th>1</th>\n      <td>23084</td>\n      <td>18179</td>\n      <td>0</td>\n      <td>4905</td>\n      <td>4413</td>\n      <td>99.950147</td>\n      <td>4251</td>\n      <td>2011</td>\n    </tr>\n    <tr>\n      <th>2</th>\n      <td>24006</td>\n      <td>18172</td>\n      <td>0</td>\n      <td>5834</td>\n      <td>4486</td>\n      <td>99.848417</td>\n      <td>4251</td>\n      <td>2012</td>\n    </tr>\n    <tr>\n      <th>3</th>\n      <td>23728</td>\n      <td>18421</td>\n      <td>0</td>\n      <td>5307</td>\n      <td>4512</td>\n      <td>99.578901</td>\n      <td>4251</td>\n      <td>2013</td>\n    </tr>\n    <tr>\n      <th>4</th>\n      <td>23623</td>\n      <td>22610</td>\n      <td>0</td>\n      <td>1013</td>\n      <td>4544</td>\n      <td>98.932218</td>\n      <td>4251</td>\n      <td>2014</td>\n    </tr>\n    <tr>\n      <th>...</th>\n      <td>...</td>\n      <td>...</td>\n      <td>...</td>\n      <td>...</td>\n      <td>...</td>\n      <td>...</td>\n      <td>...</td>\n      <td>...</td>\n    </tr>\n    <tr>\n      <th>17125</th>\n      <td>56</td>\n      <td>56</td>\n      <td>0</td>\n      <td>0</td>\n      <td>21</td>\n      <td>81.000000</td>\n      <td>9999</td>\n      <td>2016</td>\n    </tr>\n    <tr>\n      <th>17126</th>\n      <td>53</td>\n      <td>53</td>\n      <td>0</td>\n      <td>0</td>\n      <td>21</td>\n      <td>71.000000</td>\n      <td>9999</td>\n      <td>2017</td>\n    </tr>\n    <tr>\n      <th>17127</th>\n      <td>174</td>\n      <td>174</td>\n      <td>0</td>\n      <td>0</td>\n      <td>37</td>\n      <td>64.865676</td>\n      <td>9999</td>\n      <td>2018</td>\n    </tr>\n    <tr>\n      <th>17128</th>\n      <td>163</td>\n      <td>163</td>\n      <td>0</td>\n      <td>0</td>\n      <td>37</td>\n      <td>62.164054</td>\n      <td>9999</td>\n      <td>2019</td>\n    </tr>\n    <tr>\n      <th>17129</th>\n      <td>155</td>\n      <td>155</td>\n      <td>0</td>\n      <td>0</td>\n      <td>37</td>\n      <td>54.052432</td>\n      <td>9999</td>\n      <td>2020</td>\n    </tr>\n  </tbody>\n</table>\n<p>17130 rows × 8 columns</p>\n</div>"
     },
     "metadata": {},
     "execution_count": 12
    }
   ],
   "source": [
    "# Verhuis de multi-level index naar kolommen en maak de index een simpele range van getallen\n",
    "df_verbruik['PC4'] = df_verbruik.index.get_level_values('PC4')\n",
    "df_verbruik['JAAR'] = df_verbruik.index.get_level_values('JAAR')\n",
    "df_verbruik.index = range(len(df_verbruik))\n",
    "df_verbruik.SJV_TOTAAL = df_verbruik.SJV_TOTAAL.astype('int')\n",
    "df_verbruik.E1A_TOTAAL = df_verbruik.E1A_TOTAAL.astype('int')\n",
    "df_verbruik.E1B_TOTAAL = df_verbruik.E1B_TOTAAL.astype('int')\n",
    "df_verbruik.E1C_TOTAAL = df_verbruik.E1C_TOTAAL.astype('int')\n",
    "df_verbruik"
   ]
  },
  {
   "source": [
    "# Voeg predictie toe voor de jaren 2021 tot 2023"
   ],
   "cell_type": "markdown",
   "metadata": {}
  },
  {
   "cell_type": "code",
   "execution_count": 67,
   "metadata": {
    "tags": []
   },
   "outputs": [
    {
     "output_type": "stream",
     "name": "stderr",
     "text": [
      "100%|██████████| 1645/1645 [00:13<00:00, 119.15it/s]\n"
     ]
    },
    {
     "output_type": "execute_result",
     "data": {
      "text/plain": [
       "     SJV_TOTAAL    E1A_TOTAAL  E1B_TOTAAL   E1C_TOTAAL  AANSLUITINGEN_AANTAL  \\\n",
       "0  22442.327273  20900.509091         0.0  1541.218182           4797.254545   \n",
       "1  22369.336364  21107.381818         0.0  1261.254545           4835.509091   \n",
       "2  22296.345455  21314.254545         0.0   981.290909           4873.763636   \n",
       "\n",
       "   LEVERINGSRICHTING_PERC   PC4  JAAR  \n",
       "0               92.771728  4251  2021  \n",
       "1               92.011754  4251  2022  \n",
       "2               91.251780  4251  2023  "
      ],
      "text/html": "<div>\n<style scoped>\n    .dataframe tbody tr th:only-of-type {\n        vertical-align: middle;\n    }\n\n    .dataframe tbody tr th {\n        vertical-align: top;\n    }\n\n    .dataframe thead th {\n        text-align: right;\n    }\n</style>\n<table border=\"1\" class=\"dataframe\">\n  <thead>\n    <tr style=\"text-align: right;\">\n      <th></th>\n      <th>SJV_TOTAAL</th>\n      <th>E1A_TOTAAL</th>\n      <th>E1B_TOTAAL</th>\n      <th>E1C_TOTAAL</th>\n      <th>AANSLUITINGEN_AANTAL</th>\n      <th>LEVERINGSRICHTING_PERC</th>\n      <th>PC4</th>\n      <th>JAAR</th>\n    </tr>\n  </thead>\n  <tbody>\n    <tr>\n      <th>0</th>\n      <td>22442.327273</td>\n      <td>20900.509091</td>\n      <td>0.0</td>\n      <td>1541.218182</td>\n      <td>4797.254545</td>\n      <td>92.771728</td>\n      <td>4251</td>\n      <td>2021</td>\n    </tr>\n    <tr>\n      <th>1</th>\n      <td>22369.336364</td>\n      <td>21107.381818</td>\n      <td>0.0</td>\n      <td>1261.254545</td>\n      <td>4835.509091</td>\n      <td>92.011754</td>\n      <td>4251</td>\n      <td>2022</td>\n    </tr>\n    <tr>\n      <th>2</th>\n      <td>22296.345455</td>\n      <td>21314.254545</td>\n      <td>0.0</td>\n      <td>981.290909</td>\n      <td>4873.763636</td>\n      <td>91.251780</td>\n      <td>4251</td>\n      <td>2023</td>\n    </tr>\n  </tbody>\n</table>\n</div>"
     },
     "metadata": {},
     "execution_count": 67
    }
   ],
   "source": [
    "# Voorspel het verbruik met lineaire regressie\n",
    "df_pred = vp.predict_verbruik_lr(df_verbruik, predict_type='mid')\n",
    "df_pred[df_pred.PC4 == 4251]"
   ]
  },
  {
   "cell_type": "code",
   "execution_count": 74,
   "metadata": {},
   "outputs": [
    {
     "output_type": "execute_result",
     "data": {
      "text/plain": [
       "{'r2_train': 8.410242799850032e-06,\n",
       " 'r2_test': -0.003664233452043586,\n",
       " 'MSE_train': 54704272.756639056,\n",
       " 'MSE test': 50657203.6206131,\n",
       " 'RMSE train': 7396.233687265368,\n",
       " 'RMSE test': 7117.387415380246,\n",
       " 'MAE train': 5858.4002013110785,\n",
       " 'MAE test': 5728.186721532426,\n",
       " 'MAPE train': 503.7932697301765,\n",
       " 'MAPE test': 599.2498281955808}"
      ]
     },
     "metadata": {},
     "execution_count": 74
    }
   ],
   "source": [
    "accuracy = vp.calc_accuracy_lr(df_verbruik)\n",
    "accuracy"
   ]
  },
  {
   "cell_type": "code",
   "execution_count": 254,
   "metadata": {},
   "outputs": [
    {
     "output_type": "execute_result",
     "data": {
      "text/plain": [
       "         SJV_TOTAAL    E1A_TOTAAL  E1B_TOTAAL   E1C_TOTAAL  \\\n",
       "0      21802.000000  17114.000000         0.0  4688.000000   \n",
       "1      23084.000000  18179.000000         0.0  4905.000000   \n",
       "2      24006.000000  18172.000000         0.0  5834.000000   \n",
       "3      23728.000000  18421.000000         0.0  5307.000000   \n",
       "4      23623.000000  22610.000000         0.0  1013.000000   \n",
       "5      22848.000000  21964.000000         0.0   884.000000   \n",
       "6      22645.000000  21200.000000         0.0  1445.000000   \n",
       "7      22742.000000  19830.000000         0.0  2912.000000   \n",
       "8      22680.000000  20056.000000         0.0  2624.000000   \n",
       "9      22391.000000  19537.000000         0.0  2854.000000   \n",
       "10     22134.000000  19169.000000         0.0  2965.000000   \n",
       "17130  22442.327273  20900.509091         0.0  1541.218182   \n",
       "17131  22369.336364  21107.381818         0.0  1261.254545   \n",
       "17132  22296.345455  21314.254545         0.0   981.290909   \n",
       "\n",
       "       AANSLUITINGEN_AANTAL  LEVERINGSRICHTING_PERC   PC4  JAAR  \n",
       "0               4325.000000               99.949133  4251  2010  \n",
       "1               4413.000000               99.950147  4251  2011  \n",
       "2               4486.000000               99.848417  4251  2012  \n",
       "3               4512.000000               99.578901  4251  2013  \n",
       "4               4544.000000               98.932218  4251  2014  \n",
       "5               4570.000000               98.370897  4251  2015  \n",
       "6               4581.000000               97.923161  4251  2016  \n",
       "7               4661.000000               97.329758  4251  2017  \n",
       "8               4713.000000               95.501944  4251  2018  \n",
       "9               4720.000000               92.817822  4251  2019  \n",
       "10              4720.000000               90.444913  4251  2020  \n",
       "17130           4797.254545               92.771728  4251  2021  \n",
       "17131           4835.509091               92.011754  4251  2022  \n",
       "17132           4873.763636               91.251780  4251  2023  "
      ],
      "text/html": "<div>\n<style scoped>\n    .dataframe tbody tr th:only-of-type {\n        vertical-align: middle;\n    }\n\n    .dataframe tbody tr th {\n        vertical-align: top;\n    }\n\n    .dataframe thead th {\n        text-align: right;\n    }\n</style>\n<table border=\"1\" class=\"dataframe\">\n  <thead>\n    <tr style=\"text-align: right;\">\n      <th></th>\n      <th>SJV_TOTAAL</th>\n      <th>E1A_TOTAAL</th>\n      <th>E1B_TOTAAL</th>\n      <th>E1C_TOTAAL</th>\n      <th>AANSLUITINGEN_AANTAL</th>\n      <th>LEVERINGSRICHTING_PERC</th>\n      <th>PC4</th>\n      <th>JAAR</th>\n    </tr>\n  </thead>\n  <tbody>\n    <tr>\n      <th>0</th>\n      <td>21802.000000</td>\n      <td>17114.000000</td>\n      <td>0.0</td>\n      <td>4688.000000</td>\n      <td>4325.000000</td>\n      <td>99.949133</td>\n      <td>4251</td>\n      <td>2010</td>\n    </tr>\n    <tr>\n      <th>1</th>\n      <td>23084.000000</td>\n      <td>18179.000000</td>\n      <td>0.0</td>\n      <td>4905.000000</td>\n      <td>4413.000000</td>\n      <td>99.950147</td>\n      <td>4251</td>\n      <td>2011</td>\n    </tr>\n    <tr>\n      <th>2</th>\n      <td>24006.000000</td>\n      <td>18172.000000</td>\n      <td>0.0</td>\n      <td>5834.000000</td>\n      <td>4486.000000</td>\n      <td>99.848417</td>\n      <td>4251</td>\n      <td>2012</td>\n    </tr>\n    <tr>\n      <th>3</th>\n      <td>23728.000000</td>\n      <td>18421.000000</td>\n      <td>0.0</td>\n      <td>5307.000000</td>\n      <td>4512.000000</td>\n      <td>99.578901</td>\n      <td>4251</td>\n      <td>2013</td>\n    </tr>\n    <tr>\n      <th>4</th>\n      <td>23623.000000</td>\n      <td>22610.000000</td>\n      <td>0.0</td>\n      <td>1013.000000</td>\n      <td>4544.000000</td>\n      <td>98.932218</td>\n      <td>4251</td>\n      <td>2014</td>\n    </tr>\n    <tr>\n      <th>5</th>\n      <td>22848.000000</td>\n      <td>21964.000000</td>\n      <td>0.0</td>\n      <td>884.000000</td>\n      <td>4570.000000</td>\n      <td>98.370897</td>\n      <td>4251</td>\n      <td>2015</td>\n    </tr>\n    <tr>\n      <th>6</th>\n      <td>22645.000000</td>\n      <td>21200.000000</td>\n      <td>0.0</td>\n      <td>1445.000000</td>\n      <td>4581.000000</td>\n      <td>97.923161</td>\n      <td>4251</td>\n      <td>2016</td>\n    </tr>\n    <tr>\n      <th>7</th>\n      <td>22742.000000</td>\n      <td>19830.000000</td>\n      <td>0.0</td>\n      <td>2912.000000</td>\n      <td>4661.000000</td>\n      <td>97.329758</td>\n      <td>4251</td>\n      <td>2017</td>\n    </tr>\n    <tr>\n      <th>8</th>\n      <td>22680.000000</td>\n      <td>20056.000000</td>\n      <td>0.0</td>\n      <td>2624.000000</td>\n      <td>4713.000000</td>\n      <td>95.501944</td>\n      <td>4251</td>\n      <td>2018</td>\n    </tr>\n    <tr>\n      <th>9</th>\n      <td>22391.000000</td>\n      <td>19537.000000</td>\n      <td>0.0</td>\n      <td>2854.000000</td>\n      <td>4720.000000</td>\n      <td>92.817822</td>\n      <td>4251</td>\n      <td>2019</td>\n    </tr>\n    <tr>\n      <th>10</th>\n      <td>22134.000000</td>\n      <td>19169.000000</td>\n      <td>0.0</td>\n      <td>2965.000000</td>\n      <td>4720.000000</td>\n      <td>90.444913</td>\n      <td>4251</td>\n      <td>2020</td>\n    </tr>\n    <tr>\n      <th>17130</th>\n      <td>22442.327273</td>\n      <td>20900.509091</td>\n      <td>0.0</td>\n      <td>1541.218182</td>\n      <td>4797.254545</td>\n      <td>92.771728</td>\n      <td>4251</td>\n      <td>2021</td>\n    </tr>\n    <tr>\n      <th>17131</th>\n      <td>22369.336364</td>\n      <td>21107.381818</td>\n      <td>0.0</td>\n      <td>1261.254545</td>\n      <td>4835.509091</td>\n      <td>92.011754</td>\n      <td>4251</td>\n      <td>2022</td>\n    </tr>\n    <tr>\n      <th>17132</th>\n      <td>22296.345455</td>\n      <td>21314.254545</td>\n      <td>0.0</td>\n      <td>981.290909</td>\n      <td>4873.763636</td>\n      <td>91.251780</td>\n      <td>4251</td>\n      <td>2023</td>\n    </tr>\n  </tbody>\n</table>\n</div>"
     },
     "metadata": {},
     "execution_count": 254
    }
   ],
   "source": [
    "# Check de merge voor postcode 4251\n",
    "df_verbruik_en_pred = pd.merge(df_verbruik, df_pred, how='outer')\n",
    "df_verbruik_en_pred[df_verbruik_en_pred.PC4 == 4251].head(14)"
   ]
  },
  {
   "source": [
    "# Integratie met NEDU profielen - Deze code vervangen door code spoor 1 (Marcel)"
   ],
   "cell_type": "markdown",
   "metadata": {}
  },
  {
   "cell_type": "code",
   "execution_count": 255,
   "metadata": {},
   "outputs": [],
   "source": [
    "# Combineer met NEDU profielen. \n",
    "df_nedu_profielen = pd.read_hdf('nedu_files.h5')\n",
    "df_nedu_profielen_origineel = df_nedu_profielen"
   ]
  },
  {
   "cell_type": "code",
   "execution_count": 256,
   "metadata": {},
   "outputs": [],
   "source": [
    "df_nedu_profielen['jaar'] = df_nedu_profielen.DatumTijd.dt.year\n",
    "df_nedu_profielen['maand'] = df_nedu_profielen.DatumTijd.dt.month\n",
    "df_nedu_profielen['dag'] = df_nedu_profielen.DatumTijd.dt.day\n",
    "\n",
    "df_nedu_profielen = df_nedu_profielen.groupby(['jaar','maand','dag']).agg({'E1A':'sum', 'E1B':'sum', 'E1C':'sum', 'E2A':'sum', 'E2B':'sum'})\n",
    "\n",
    "def maak_datum(jaar,maand,dag):\n",
    "    return format(jaar,'04d') + '-' + format(maand,'02d') + '-' + format(dag,'02d'), jaar\n",
    "df_nedu_profielen.index, df_nedu_profielen[\"JAAR\"] = np.vectorize(maak_datum)(df_nedu_profielen.index.get_level_values('jaar'), df_nedu_profielen.index.get_level_values('maand'), df_nedu_profielen.index.get_level_values('dag'))\n",
    "df_nedu_profielen.index = pd.to_datetime(df_nedu_profielen.index)\n",
    "\n",
    "# Herorganiseren kolommen. Index is een rijteller. Datum moet een datetime worden\n",
    "df_nedu_profielen = df_nedu_profielen[df_nedu_profielen.JAAR < 2021]\n",
    "df_nedu_profielen = df_nedu_profielen.drop(columns=['E2A', 'E2B'])\n",
    "df_nedu_profielen['DATUM'] = df_nedu_profielen.index\n",
    "df_nedu_profielen.index = range(len(df_nedu_profielen))\n",
    "df_nedu_profielen.DATUM = pd.to_datetime(df_nedu_profielen.DATUM, format='%d-%m-%Y %H:%M')"
   ]
  },
  {
   "source": [
    "# Einde tijdelijke code - Vervangen door code spoor 1 (Marcel)"
   ],
   "cell_type": "markdown",
   "metadata": {}
  },
  {
   "cell_type": "code",
   "execution_count": null,
   "metadata": {},
   "outputs": [],
   "source": [
    "# Combinatiespoor\n",
    "Combineer de dataframes van de NEDU profielen met voorspelling en het dataframe van de kleinverbruikgegevens inclusief voorspelling"
   ]
  },
  {
   "cell_type": "code",
   "execution_count": 257,
   "metadata": {},
   "outputs": [],
   "source": [
    "# Combineer NEDU profielen met de kleinverbruikgegevens\n",
    "df_combined = pd.merge(df_nedu_profielen, df_verbruik, on=['JAAR'], how='left')"
   ]
  },
  {
   "cell_type": "code",
   "execution_count": 259,
   "metadata": {},
   "outputs": [
    {
     "output_type": "execute_result",
     "data": {
      "text/plain": [
       "            E1A       E1B       E1C  JAAR      DATUM  SJV_TOTAAL  E1A_TOTAAL  \\\n",
       "0      0.003231  0.003311  0.003430  2010 2010-01-01       21802       17114   \n",
       "1550   0.003448  0.003514  0.003620  2010 2010-01-02       21802       17114   \n",
       "3100   0.003314  0.003448  0.003394  2010 2010-01-03       21802       17114   \n",
       "4650   0.003275  0.003303  0.003323  2010 2010-01-04       21802       17114   \n",
       "6200   0.003232  0.003175  0.003221  2010 2010-01-05       21802       17114   \n",
       "7750   0.003287  0.003260  0.003194  2010 2010-01-06       21802       17114   \n",
       "9300   0.003249  0.003249  0.003284  2010 2010-01-07       21802       17114   \n",
       "10850  0.003326  0.003277  0.003315  2010 2010-01-08       21802       17114   \n",
       "12400  0.003397  0.003532  0.003541  2010 2010-01-09       21802       17114   \n",
       "13950  0.003383  0.003393  0.003414  2010 2010-01-10       21802       17114   \n",
       "15500  0.003201  0.003177  0.003134  2010 2010-01-11       21802       17114   \n",
       "17050  0.003120  0.003137  0.003159  2010 2010-01-12       21802       17114   \n",
       "18600  0.003221  0.003238  0.003128  2010 2010-01-13       21802       17114   \n",
       "20150  0.003261  0.003255  0.003175  2010 2010-01-14       21802       17114   \n",
       "\n",
       "       E1B_TOTAAL  E1C_TOTAAL  AANSLUITINGEN_AANTAL  LEVERINGSRICHTING_PERC  \\\n",
       "0               0        4688                  4325               99.949133   \n",
       "1550            0        4688                  4325               99.949133   \n",
       "3100            0        4688                  4325               99.949133   \n",
       "4650            0        4688                  4325               99.949133   \n",
       "6200            0        4688                  4325               99.949133   \n",
       "7750            0        4688                  4325               99.949133   \n",
       "9300            0        4688                  4325               99.949133   \n",
       "10850           0        4688                  4325               99.949133   \n",
       "12400           0        4688                  4325               99.949133   \n",
       "13950           0        4688                  4325               99.949133   \n",
       "15500           0        4688                  4325               99.949133   \n",
       "17050           0        4688                  4325               99.949133   \n",
       "18600           0        4688                  4325               99.949133   \n",
       "20150           0        4688                  4325               99.949133   \n",
       "\n",
       "        PC4  \n",
       "0      4251  \n",
       "1550   4251  \n",
       "3100   4251  \n",
       "4650   4251  \n",
       "6200   4251  \n",
       "7750   4251  \n",
       "9300   4251  \n",
       "10850  4251  \n",
       "12400  4251  \n",
       "13950  4251  \n",
       "15500  4251  \n",
       "17050  4251  \n",
       "18600  4251  \n",
       "20150  4251  "
      ],
      "text/html": "<div>\n<style scoped>\n    .dataframe tbody tr th:only-of-type {\n        vertical-align: middle;\n    }\n\n    .dataframe tbody tr th {\n        vertical-align: top;\n    }\n\n    .dataframe thead th {\n        text-align: right;\n    }\n</style>\n<table border=\"1\" class=\"dataframe\">\n  <thead>\n    <tr style=\"text-align: right;\">\n      <th></th>\n      <th>E1A</th>\n      <th>E1B</th>\n      <th>E1C</th>\n      <th>JAAR</th>\n      <th>DATUM</th>\n      <th>SJV_TOTAAL</th>\n      <th>E1A_TOTAAL</th>\n      <th>E1B_TOTAAL</th>\n      <th>E1C_TOTAAL</th>\n      <th>AANSLUITINGEN_AANTAL</th>\n      <th>LEVERINGSRICHTING_PERC</th>\n      <th>PC4</th>\n    </tr>\n  </thead>\n  <tbody>\n    <tr>\n      <th>0</th>\n      <td>0.003231</td>\n      <td>0.003311</td>\n      <td>0.003430</td>\n      <td>2010</td>\n      <td>2010-01-01</td>\n      <td>21802</td>\n      <td>17114</td>\n      <td>0</td>\n      <td>4688</td>\n      <td>4325</td>\n      <td>99.949133</td>\n      <td>4251</td>\n    </tr>\n    <tr>\n      <th>1550</th>\n      <td>0.003448</td>\n      <td>0.003514</td>\n      <td>0.003620</td>\n      <td>2010</td>\n      <td>2010-01-02</td>\n      <td>21802</td>\n      <td>17114</td>\n      <td>0</td>\n      <td>4688</td>\n      <td>4325</td>\n      <td>99.949133</td>\n      <td>4251</td>\n    </tr>\n    <tr>\n      <th>3100</th>\n      <td>0.003314</td>\n      <td>0.003448</td>\n      <td>0.003394</td>\n      <td>2010</td>\n      <td>2010-01-03</td>\n      <td>21802</td>\n      <td>17114</td>\n      <td>0</td>\n      <td>4688</td>\n      <td>4325</td>\n      <td>99.949133</td>\n      <td>4251</td>\n    </tr>\n    <tr>\n      <th>4650</th>\n      <td>0.003275</td>\n      <td>0.003303</td>\n      <td>0.003323</td>\n      <td>2010</td>\n      <td>2010-01-04</td>\n      <td>21802</td>\n      <td>17114</td>\n      <td>0</td>\n      <td>4688</td>\n      <td>4325</td>\n      <td>99.949133</td>\n      <td>4251</td>\n    </tr>\n    <tr>\n      <th>6200</th>\n      <td>0.003232</td>\n      <td>0.003175</td>\n      <td>0.003221</td>\n      <td>2010</td>\n      <td>2010-01-05</td>\n      <td>21802</td>\n      <td>17114</td>\n      <td>0</td>\n      <td>4688</td>\n      <td>4325</td>\n      <td>99.949133</td>\n      <td>4251</td>\n    </tr>\n    <tr>\n      <th>7750</th>\n      <td>0.003287</td>\n      <td>0.003260</td>\n      <td>0.003194</td>\n      <td>2010</td>\n      <td>2010-01-06</td>\n      <td>21802</td>\n      <td>17114</td>\n      <td>0</td>\n      <td>4688</td>\n      <td>4325</td>\n      <td>99.949133</td>\n      <td>4251</td>\n    </tr>\n    <tr>\n      <th>9300</th>\n      <td>0.003249</td>\n      <td>0.003249</td>\n      <td>0.003284</td>\n      <td>2010</td>\n      <td>2010-01-07</td>\n      <td>21802</td>\n      <td>17114</td>\n      <td>0</td>\n      <td>4688</td>\n      <td>4325</td>\n      <td>99.949133</td>\n      <td>4251</td>\n    </tr>\n    <tr>\n      <th>10850</th>\n      <td>0.003326</td>\n      <td>0.003277</td>\n      <td>0.003315</td>\n      <td>2010</td>\n      <td>2010-01-08</td>\n      <td>21802</td>\n      <td>17114</td>\n      <td>0</td>\n      <td>4688</td>\n      <td>4325</td>\n      <td>99.949133</td>\n      <td>4251</td>\n    </tr>\n    <tr>\n      <th>12400</th>\n      <td>0.003397</td>\n      <td>0.003532</td>\n      <td>0.003541</td>\n      <td>2010</td>\n      <td>2010-01-09</td>\n      <td>21802</td>\n      <td>17114</td>\n      <td>0</td>\n      <td>4688</td>\n      <td>4325</td>\n      <td>99.949133</td>\n      <td>4251</td>\n    </tr>\n    <tr>\n      <th>13950</th>\n      <td>0.003383</td>\n      <td>0.003393</td>\n      <td>0.003414</td>\n      <td>2010</td>\n      <td>2010-01-10</td>\n      <td>21802</td>\n      <td>17114</td>\n      <td>0</td>\n      <td>4688</td>\n      <td>4325</td>\n      <td>99.949133</td>\n      <td>4251</td>\n    </tr>\n    <tr>\n      <th>15500</th>\n      <td>0.003201</td>\n      <td>0.003177</td>\n      <td>0.003134</td>\n      <td>2010</td>\n      <td>2010-01-11</td>\n      <td>21802</td>\n      <td>17114</td>\n      <td>0</td>\n      <td>4688</td>\n      <td>4325</td>\n      <td>99.949133</td>\n      <td>4251</td>\n    </tr>\n    <tr>\n      <th>17050</th>\n      <td>0.003120</td>\n      <td>0.003137</td>\n      <td>0.003159</td>\n      <td>2010</td>\n      <td>2010-01-12</td>\n      <td>21802</td>\n      <td>17114</td>\n      <td>0</td>\n      <td>4688</td>\n      <td>4325</td>\n      <td>99.949133</td>\n      <td>4251</td>\n    </tr>\n    <tr>\n      <th>18600</th>\n      <td>0.003221</td>\n      <td>0.003238</td>\n      <td>0.003128</td>\n      <td>2010</td>\n      <td>2010-01-13</td>\n      <td>21802</td>\n      <td>17114</td>\n      <td>0</td>\n      <td>4688</td>\n      <td>4325</td>\n      <td>99.949133</td>\n      <td>4251</td>\n    </tr>\n    <tr>\n      <th>20150</th>\n      <td>0.003261</td>\n      <td>0.003255</td>\n      <td>0.003175</td>\n      <td>2010</td>\n      <td>2010-01-14</td>\n      <td>21802</td>\n      <td>17114</td>\n      <td>0</td>\n      <td>4688</td>\n      <td>4325</td>\n      <td>99.949133</td>\n      <td>4251</td>\n    </tr>\n  </tbody>\n</table>\n</div>"
     },
     "metadata": {},
     "execution_count": 259
    }
   ],
   "source": [
    "df_combined[df_combined.PC4 == 4251].head(14)"
   ]
  },
  {
   "cell_type": "code",
   "execution_count": 260,
   "metadata": {},
   "outputs": [],
   "source": [
    "# Voeg nieuwe kolom VERBRUIK toe die de som is van het verbruik van de verschillende profielen\n",
    "df_combined['VERBRUIK'] = df_combined.E1A * df_combined.E1A_TOTAAL + df_combined.E1B * df_combined.E1B_TOTAAL + df_combined.E1C * df_combined.E1C_TOTAAL\n",
    "\n",
    "# Gooi de tussenkolommen weg. Die hebben we niet meer nodig\n",
    "df_combined = df_combined.drop(columns=['E1A','E1B','E1C','E1A_TOTAAL','E1B_TOTAAL','E1C_TOTAAL','JAAR'])"
   ]
  },
  {
   "cell_type": "code",
   "execution_count": 261,
   "metadata": {},
   "outputs": [
    {
     "output_type": "stream",
     "name": "stdout",
     "text": [
      "Totaal verbruik = 21800.70682874\nSJV totaal = 21802\n"
     ]
    }
   ],
   "source": [
    "# cross check. Het totaal van een profiel over een heel jaar moet 1 zijn. Dat betekent dat het totaal van de verbruiken gelijk moet zijn aan SJV_TOTAAL\n",
    "print (f\"Totaal verbruik = {df_combined[(df_combined.DATUM < datetime(2011,1,1)) & (df_combined.PC4 == 4251)].agg({'VERBRUIK':'sum'}).values[0]}\")\n",
    "print (f\"SJV totaal = {df_combined[(df_combined.DATUM < datetime(2011,1,1)) & (df_combined.PC4 == 4251)].SJV_TOTAAL.values[0]}\")"
   ]
  },
  {
   "cell_type": "code",
   "execution_count": null,
   "metadata": {},
   "outputs": [],
   "source": []
  }
 ]
}