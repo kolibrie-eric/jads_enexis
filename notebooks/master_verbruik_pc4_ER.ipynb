{
 "cells": [
  {
   "cell_type": "code",
   "execution_count": null,
   "metadata": {},
   "outputs": [],
   "source": [
    "import pandas as pd\n",
    "import numpy as np\n",
    "import os\n",
    "import matplotlib.pyplot as plt\n",
    "import time\n",
    "import altair as alt\n",
    "from datetime import datetime\n",
    "import warnings\n",
    "from sklearn.metrics import mean_squared_error, r2_score, mean_absolute_error\n",
    "import altair as alt\n",
    "import geopandas as gpd\n",
    "from bokeh.io import output_notebook, show, output_file\n",
    "from bokeh.plotting import figure\n",
    "from bokeh.models import GeoJSONDataSource, LinearColorMapper, ColorBar, HoverTool\n",
    "from bokeh.palettes import brewer\n",
    "import json\n",
    "\n",
    "import nedu_prediction as nedu\n",
    "\n",
    "# show all columns in the dataframe\n",
    "pd.set_option('max_columns', None)\n",
    "\n",
    "warnings.filterwarnings(\"ignore\")\n",
    "\n",
    "# show all columns in the dataframe\n",
    "pd.set_option('max_columns', None)"
   ]
  },
  {
   "cell_type": "code",
   "execution_count": null,
   "metadata": {},
   "outputs": [],
   "source": [
    "orig_dir = os.getcwd()"
   ]
  },
  {
   "cell_type": "markdown",
   "metadata": {},
   "source": [
    "## Spoor 2\n",
    "1. Lees kleinverbruik bestand in (kleinverbruikgegevens_data.h5)\n",
    "2. Voeg PROFIEL kolom toe obv soort aansluiting  \n",
    "    * E1 profiel : 1x25, 3x25, 1x20 (met grote en kleine X in bestand), rest is E2\n",
    "    * Obv laag tarief percentage < 50%, profiel A anders B\n",
    "    * Als profiel E1 en B en postcodegebied (eerste 2 cijfers postcode) < 65 (zuiden) dan profiel C  \n",
    "    Bijv:  \n",
    "    SOORT_AANSLUITING = 1X25, SJV_LAAG_TARIEF_PERC = 60 en POSTCODE_AREA = 56 dan E1A  \n",
    "    SOORT_AANSLUITING = 1x40, SJV_LAAG_TARIEF_PERC = 60 en POSTCODE_AREA = 89 dan E2B  \n",
    "    SOORT_AANSLUITING = 3x25, SJV_LAAG_TARIEF_PERC = 40 en POSTCODE_AREA = 55 dan E1C  \n",
    "3. Verdeel in train en test set op split datum '2018-01-01'\n",
    "4. Creëer model en roep de fit functie aan op de train set\n",
    "5. Bepaal de voorspelling op de test set en bereken de nauwkeurigheid (MAPE, RME, R2, )\n",
    "6. Bepaal de voorspelling voor 2021-2023\n",
    "7. Visualiseer de voorspellingen in 1 plot met meerdere kleuren mbv altair\n",
    "8. Visualiseer de teruglevering in 1 plot met meerdere kleuren mbv altair"
   ]
  },
  {
   "cell_type": "markdown",
   "metadata": {},
   "source": [
    "# Lees predictie functies"
   ]
  },
  {
   "cell_type": "code",
   "execution_count": null,
   "metadata": {},
   "outputs": [],
   "source": [
    "# Zorg er voor dat de veranderingen in verbruik_predictie ook meegenomen worden\n",
    "from imp import reload\n",
    "import verbruik_predictie as vp\n",
    "reload(vp)\n"
   ]
  },
  {
   "cell_type": "markdown",
   "metadata": {},
   "source": [
    "# Lees kleinverbruik data"
   ]
  },
  {
   "cell_type": "code",
   "execution_count": null,
   "metadata": {},
   "outputs": [],
   "source": [
    "# variables used in script\n",
    "data_processed_location = '../data/processed'\n",
    "\n",
    "if 'processed' not in os.getcwd():\n",
    "    os.chdir(data_processed_location)"
   ]
  },
  {
   "cell_type": "code",
   "execution_count": null,
   "metadata": {},
   "outputs": [],
   "source": [
    "# kleinverbruikgegevens gegevens inlezen\n",
    "df = pd.read_hdf('kleinverbruikgegevens_data.h5')\n",
    "\n",
    "#Delete 2021 data by keeping JAAR < 2021\n",
    "df = df[df['JAAR'] < 2021]"
   ]
  },
  {
   "cell_type": "markdown",
   "metadata": {},
   "source": [
    "# Voeg Features toe\n",
    "Voeg profiel toe op basis van SOORT_AANSLUITING en de SJV_TOTAAL per profiel"
   ]
  },
  {
   "cell_type": "code",
   "execution_count": null,
   "metadata": {},
   "outputs": [],
   "source": [
    "# Spoor 2. Voeg profiel toe aan verbruiksgegevens. SOORT_AANSLUITING bepaald het profiel\n",
    "# Omdat de E2 profielen in de NEDU set niet consistent zijn (verschil tussen 2010-2017 en 2018-), gebruiken we deze niet\n",
    "profiel_E1 = ['1X25','3X25', '1X20', '1x25', '3x25', '1x20'] # de rest is profiel E2\n",
    "\n",
    "# Voeg in de kleinverbruikgegevens, het bijpassende profiel voor de soort aansluiting toe\n",
    "def vervang_door_profiel(aansluiting, postcode, percentage):\n",
    "    # Bepaal basisprofiel\n",
    "    profiel = 'E1' # if aansluiting in profiel_E1 else 'E2' # Gebruiken als we wel een goed E2 profiel hebben\n",
    "\n",
    "    # Een laag tarief percentage lager dan 50% zetten we in een A profiel\n",
    "    lh_profiel = 'A' if percentage < 50 else 'B'\n",
    "\n",
    "    # Bepaal welk laag tarief gebied de postcode zit\n",
    "    if profiel == 'E1' and lh_profiel == 'B':\n",
    "        postcode_area = int(postcode[:2]) # PC4\n",
    "        # Postcodes < 65 is Noord-Brabant of Limburg\n",
    "        if postcode_area < 65:\n",
    "            lh_profiel = 'C'\n",
    "    return profiel + lh_profiel\n",
    "\n",
    "df[\"PROFIEL\"] = np.vectorize(vervang_door_profiel)(df.SOORT_AANSLUITING, df.POSTCODE_VAN, df.SJV_LAAG_TARIEF_PERC)\n",
    "df.PC4 = df.PC4.astype('int')\n",
    "print (f'#E1A = {df[df.PROFIEL == \"E1A\"].PROFIEL.count()}')\n",
    "print (f'#E1B = {df[df.PROFIEL == \"E1B\"].PROFIEL.count()}')\n",
    "print (f'#E1C = {df[df.PROFIEL == \"E1C\"].PROFIEL.count()}')"
   ]
  },
  {
   "cell_type": "code",
   "execution_count": null,
   "metadata": {},
   "outputs": [],
   "source": [
    "# Voeg features toe per PC6\n",
    "df[\"E1A_TOTAAL\"] = df[df.PROFIEL == 'E1A'].SJV_TOTAAL\n",
    "df[\"E1B_TOTAAL\"] = df[df.PROFIEL == 'E1B'].SJV_TOTAAL\n",
    "df[\"E1C_TOTAAL\"] = df[df.PROFIEL == 'E1C'].SJV_TOTAAL\n",
    "df[\"WEIGHTED_LEVERINGSRICHTING_PERC\"] = df.AANSLUITINGEN_AANTAL * df.LEVERINGSRICHTING_PERC"
   ]
  },
  {
   "cell_type": "markdown",
   "metadata": {},
   "source": [
    "# Rol op tot PC4"
   ]
  },
  {
   "cell_type": "code",
   "execution_count": null,
   "metadata": {},
   "outputs": [],
   "source": [
    "# Rol op tot PC4\n",
    "df_verbruik = df.groupby(['PC4','JAAR']).agg({'SJV_TOTAAL':'sum', 'E1A_TOTAAL' : 'sum', 'E1B_TOTAAL' : 'sum', 'E1C_TOTAAL': 'sum', 'AANSLUITINGEN_AANTAL':'sum', 'WEIGHTED_LEVERINGSRICHTING_PERC': 'sum'})\n",
    "df_verbruik['LEVERINGSRICHTING_PERC'] = df_verbruik['WEIGHTED_LEVERINGSRICHTING_PERC'] / df_verbruik['AANSLUITINGEN_AANTAL']\n",
    "df_verbruik = df_verbruik.drop(columns=['WEIGHTED_LEVERINGSRICHTING_PERC'])\n",
    "df_verbruik"
   ]
  },
  {
   "cell_type": "code",
   "execution_count": null,
   "metadata": {},
   "outputs": [],
   "source": [
    "# Verhuis de multi-level index naar kolommen en maak de index een simpele range van getallen\n",
    "df_verbruik['PC4'] = df_verbruik.index.get_level_values('PC4')\n",
    "df_verbruik['JAAR'] = df_verbruik.index.get_level_values('JAAR')\n",
    "df_verbruik.index = range(len(df_verbruik))\n",
    "df_verbruik.SJV_TOTAAL = df_verbruik.SJV_TOTAAL.astype('int')\n",
    "df_verbruik.E1A_TOTAAL = df_verbruik.E1A_TOTAAL.astype('int')\n",
    "df_verbruik.E1B_TOTAAL = df_verbruik.E1B_TOTAAL.astype('int')\n",
    "df_verbruik.E1C_TOTAAL = df_verbruik.E1C_TOTAAL.astype('int')\n",
    "df_verbruik"
   ]
  },
  {
   "cell_type": "markdown",
   "metadata": {},
   "source": [
    "# Voeg predictie toe voor de jaren 2021 tot 2023"
   ]
  },
  {
   "cell_type": "code",
   "execution_count": null,
   "metadata": {
    "tags": []
   },
   "outputs": [],
   "source": [
    "# Voorspel het verbruik met lineaire regressie\n",
    "df_pred = vp.predict_verbruik_lr(df_verbruik, predict_type='mid')\n",
    "df_pred[df_pred.PC4 == 4251]"
   ]
  },
  {
   "cell_type": "code",
   "execution_count": null,
   "metadata": {},
   "outputs": [],
   "source": [
    "accuracy = vp.calc_accuracy_lr(df_verbruik)\n",
    "accuracy"
   ]
  },
  {
   "cell_type": "code",
   "execution_count": null,
   "metadata": {},
   "outputs": [],
   "source": [
    "# Check de merge voor postcode 4251\n",
    "df_verbruik_en_pred = pd.merge(df_verbruik, df_pred, how='outer')\n",
    "df_verbruik_en_pred[df_verbruik_en_pred.PC4 == 4251].head(14)"
   ]
  },
  {
   "cell_type": "markdown",
   "metadata": {},
   "source": [
    "# NEDU profielen\n",
    "\n",
    "## Spoor 1\n",
    "1. Lees NEDU profielen bestand in (nedu_files.h5)\n",
    "2. Verwijder alle niet gebruikte profielen (E3, E4) en jaar 2021\n",
    "3. Rol de kwartierdata op tot data per dag (optellen alle profielfactoren per kwartier)\n",
    "4. Transformeer het dataframe om samenvoegen met verbruikdata mogelijk te maken op profiel:\n",
    "    - Oud: (datum, E1A, E1B, E1C, E2A, E2B), bijv.:\n",
    "        2010-01-01  0.003448  0.003514  0.003620  0.002332  0.003061\n",
    "    - Nieuw: (datum, PROFIEL, FACTOR), bijv.:   \n",
    "        2010-01-01  E1A  0.003448  \n",
    "        2010-01-01  E1B  0.003514  \n",
    "        2010-01-01  E1C  0.003620  \n",
    "        2010-01-01  E2A  0.002332  \n",
    "        2010-01-01  E2B  0.003061  \n",
    "5. Vermenigvuldig de FACTOR kolom met 1e5 (stabiliteit model wordt dan beter)\n",
    "5. Verdeel in train en test set op split datum '2018-01-01'\n",
    "6. Creëer model en roep de fit functie aan op de train set\n",
    "7. Bepaal de voorspelling op de test set en bereken de nauwkeurigheid (MAPE, RME, R2, )\n",
    "8. Bepaal de voorspelling voor 2021-2023\n",
    "9. Visualiseer de voorspellingen in 1 plot met meerdere kleuren mbv altair"
   ]
  },
  {
   "cell_type": "code",
   "execution_count": null,
   "metadata": {},
   "outputs": [],
   "source": [
    "# Lees NEDU profielen bestand in (nedu_files.h5)\n",
    "# variables used in script\n",
    "data_processed_location = '../data/processed'\n",
    "\n",
    "if 'processed' not in os.getcwd():\n",
    "    os.chdir(data_processed_location)\n",
    "\n",
    "# NEDU profielen\n",
    "df_nedu_profielen = pd.read_hdf('nedu_files.h5')\n",
    "df_nedu_profielen_origineel = df_nedu_profielen\n",
    "\n",
    "# mapping van PC4 buurt naar RES regio\n",
    "df_pc4_res = pd.read_hdf('pc4_res.h5')"
   ]
  },
  {
   "cell_type": "code",
   "execution_count": null,
   "metadata": {},
   "outputs": [],
   "source": [
    "# Verwijder alle niet gebruikte profielen (E3, E4) \n",
    "drop_onnodige_profielen = {\"E3A\",\"E3B\", 'E3C', 'E3D', 'E4A'}\n",
    "df_nedu_profielen = df_nedu_profielen.drop(columns = drop_onnodige_profielen)\n",
    "# Verwijder jaar 2021\n",
    "df_nedu_profielen = df_nedu_profielen[df_nedu_profielen.DatumTijd < '2021-01-01']"
   ]
  },
  {
   "cell_type": "code",
   "execution_count": null,
   "metadata": {},
   "outputs": [],
   "source": [
    "# Rol de kwartierdata op tot data per dag (optellen alle profielfactoren per kwartier)\n",
    "# feautures toevoegen zodat functie groupby werkt: jaar, maand, dag\n",
    "df_nedu_profielen.info()"
   ]
  },
  {
   "cell_type": "code",
   "execution_count": null,
   "metadata": {},
   "outputs": [],
   "source": [
    "df_nedu_profielen['jaar'] = df_nedu_profielen.DatumTijd.dt.year\n",
    "df_nedu_profielen['maand'] = df_nedu_profielen.DatumTijd.dt.month\n",
    "df_nedu_profielen['dag'] = df_nedu_profielen.DatumTijd.dt.day\n",
    "\n",
    "df_nedu_profielen = df_nedu_profielen.groupby(['jaar','maand','dag']).agg({'E1A':'sum', 'E1B':'sum', 'E1C':'sum', 'E2A':'sum', 'E2B':'sum'})\n",
    "\n",
    "def maak_datum(jaar,maand,dag):\n",
    "    return format(jaar,'04d') + '-' + format(maand,'02d') + '-' + format(dag,'02d')\n",
    "df_nedu_profielen.index = np.vectorize(maak_datum)(df_nedu_profielen.index.get_level_values('jaar'), df_nedu_profielen.index.get_level_values('maand'), df_nedu_profielen.index.get_level_values('dag'))"
   ]
  },
  {
   "cell_type": "code",
   "execution_count": null,
   "metadata": {},
   "outputs": [],
   "source": [
    "# Verschillende dataframes maken voor de verschillende profielen\n",
    "# op basis van df_nedu_profielen dataframe\n",
    "df_nedu_e1a = pd.DataFrame(df_nedu_profielen['E1A']).reset_index().rename(columns={\"index\":\"DATUM\",\"E1A\": \"VERBRUIKS_FACTOR\"})\n",
    "df_nedu_e1b = pd.DataFrame(df_nedu_profielen['E1B']).reset_index().rename(columns={\"index\":\"DATUM\",\"E1B\": \"VERBRUIKS_FACTOR\"})\n",
    "df_nedu_e1c = pd.DataFrame(df_nedu_profielen['E1C']).reset_index().rename(columns={\"index\":\"DATUM\",\"E1C\": \"VERBRUIKS_FACTOR\"})\n",
    "df_nedu_e2a = pd.DataFrame(df_nedu_profielen['E2A']).reset_index().rename(columns={\"index\":\"DATUM\",\"E2A\": \"VERBRUIKS_FACTOR\"})\n",
    "df_nedu_e2b = pd.DataFrame(df_nedu_profielen['E2B']).reset_index().rename(columns={\"index\":\"DATUM\",\"E2B\": \"VERBRUIKS_FACTOR\"})\n",
    "\n",
    "# Vermenigvuldig de FACTOR kolom met 1e5 (stabiliteit model wordt dan beter)\n",
    "df_nedu_e1a['VERBRUIKS_FACTOR'] = df_nedu_e1a['VERBRUIKS_FACTOR'] * 1e5\n",
    "df_nedu_e1b['VERBRUIKS_FACTOR'] = df_nedu_e1b['VERBRUIKS_FACTOR'] * 1e5\n",
    "df_nedu_e1c['VERBRUIKS_FACTOR'] = df_nedu_e1c['VERBRUIKS_FACTOR'] * 1e5\n",
    "df_nedu_e2a['VERBRUIKS_FACTOR'] = df_nedu_e2a['VERBRUIKS_FACTOR'] * 1e5\n",
    "df_nedu_e2b['VERBRUIKS_FACTOR'] = df_nedu_e2b['VERBRUIKS_FACTOR'] * 1e5"
   ]
  },
  {
   "cell_type": "code",
   "execution_count": null,
   "metadata": {},
   "outputs": [],
   "source": [
    "# Prophet\n",
    "# train model per profiel voor bepaalde train periode\n",
    "from_date = '2010-01-01'\n",
    "split_date = '2019-01-01'\n",
    "\n",
    "nedu.train_model_nedu_profielen_prophet(df_nedu_e1a, profile='e1a', from_date=from_date, split_date=split_date)\n",
    "nedu.train_model_nedu_profielen_prophet(df_nedu_e1b, profile='e1b', from_date=from_date, split_date=split_date)\n",
    "nedu.train_model_nedu_profielen_prophet(df_nedu_e1c, profile='e1c', from_date=from_date, split_date=split_date)\n",
    "nedu.train_model_nedu_profielen_prophet(df_nedu_e2a, profile='e2a', from_date=from_date, split_date=split_date)\n",
    "nedu.train_model_nedu_profielen_prophet(df_nedu_e2b, profile='e2b', from_date=from_date, split_date=split_date)"
   ]
  },
  {
   "cell_type": "code",
   "execution_count": null,
   "metadata": {},
   "outputs": [],
   "source": [
    "# maak een LOW prediction voor een profiel voor een bepaalde periode\n",
    "predict_start = '2021-01-01'\n",
    "predict_end   = '2023-12-31'\n",
    "predict_type  = 'low'\n",
    "df_nedu_e1a_low_pred = nedu.predict_nedu_profielen_prophet(model='NEDU_PRO_e1a_'+split_date+'.pkl', start=predict_start, end=predict_end, predict_type=predict_type)\n",
    "df_nedu_e1b_low_pred = nedu.predict_nedu_profielen_prophet(model='NEDU_PRO_e1b_'+split_date+'.pkl', start=predict_start, end=predict_end, predict_type=predict_type)\n",
    "df_nedu_e1c_low_pred = nedu.predict_nedu_profielen_prophet(model='NEDU_PRO_e1c_'+split_date+'.pkl', start=predict_start, end=predict_end, predict_type=predict_type)\n",
    "df_nedu_e2a_low_pred = nedu.predict_nedu_profielen_prophet(model='NEDU_PRO_e2a_'+split_date+'.pkl', start=predict_start, end=predict_end, predict_type=predict_type)\n",
    "df_nedu_e2b_low_pred = nedu.predict_nedu_profielen_prophet(model='NEDU_PRO_e2b_'+split_date+'.pkl', start=predict_start, end=predict_end, predict_type=predict_type)"
   ]
  },
  {
   "cell_type": "code",
   "execution_count": null,
   "metadata": {},
   "outputs": [],
   "source": [
    "# maak een MID prediction voor een profiel voor een bepaalde periode\n",
    "predict_start = '2021-01-01'\n",
    "predict_end   = '2023-12-31'\n",
    "predict_type  = 'mid'\n",
    "df_nedu_e1a_mid_pred = nedu.predict_nedu_profielen_prophet(model='NEDU_PRO_e1a_'+split_date+'.pkl', start=predict_start, end=predict_end, predict_type=predict_type)\n",
    "df_nedu_e1b_mid_pred = nedu.predict_nedu_profielen_prophet(model='NEDU_PRO_e1b_'+split_date+'.pkl', start=predict_start, end=predict_end, predict_type=predict_type)\n",
    "df_nedu_e1c_mid_pred = nedu.predict_nedu_profielen_prophet(model='NEDU_PRO_e1c_'+split_date+'.pkl', start=predict_start, end=predict_end, predict_type=predict_type)\n",
    "df_nedu_e2a_mid_pred = nedu.predict_nedu_profielen_prophet(model='NEDU_PRO_e2a_'+split_date+'.pkl', start=predict_start, end=predict_end, predict_type=predict_type)\n",
    "df_nedu_e2b_mid_pred = nedu.predict_nedu_profielen_prophet(model='NEDU_PRO_e2b_'+split_date+'.pkl', start=predict_start, end=predict_end, predict_type=predict_type)"
   ]
  },
  {
   "cell_type": "code",
   "execution_count": null,
   "metadata": {},
   "outputs": [],
   "source": [
    "# maak een HIGH prediction voor een profiel voor een bepaalde periode\n",
    "predict_start = '2021-01-01'\n",
    "predict_end   = '2023-12-31'\n",
    "predict_type  = 'high'\n",
    "df_nedu_e1a_high_pred = nedu.predict_nedu_profielen_prophet(model='NEDU_PRO_e1a_'+split_date+'.pkl', start=predict_start, end=predict_end, predict_type=predict_type)\n",
    "df_nedu_e1b_high_pred = nedu.predict_nedu_profielen_prophet(model='NEDU_PRO_e1b_'+split_date+'.pkl', start=predict_start, end=predict_end, predict_type=predict_type)\n",
    "df_nedu_e1c_high_pred = nedu.predict_nedu_profielen_prophet(model='NEDU_PRO_e1c_'+split_date+'.pkl', start=predict_start, end=predict_end, predict_type=predict_type)\n",
    "df_nedu_e2a_high_pred = nedu.predict_nedu_profielen_prophet(model='NEDU_PRO_e2a_'+split_date+'.pkl', start=predict_start, end=predict_end, predict_type=predict_type)\n",
    "df_nedu_e2b_high_pred = nedu.predict_nedu_profielen_prophet(model='NEDU_PRO_e2b_'+split_date+'.pkl', start=predict_start, end=predict_end, predict_type=predict_type)"
   ]
  },
  {
   "cell_type": "code",
   "execution_count": null,
   "metadata": {},
   "outputs": [],
   "source": [
    "# DATUM aanpassen naar datetime formaat\n",
    "df_nedu_e1a['DATUM'] = pd.to_datetime(df_nedu_e1a['DATUM'])\n",
    "df_nedu_e1b['DATUM'] = pd.to_datetime(df_nedu_e1b['DATUM'])\n",
    "df_nedu_e1c['DATUM'] = pd.to_datetime(df_nedu_e1c['DATUM'])\n",
    "df_nedu_e2a['DATUM'] = pd.to_datetime(df_nedu_e2a['DATUM'])\n",
    "df_nedu_e2b['DATUM'] = pd.to_datetime(df_nedu_e2b['DATUM'])"
   ]
  },
  {
   "cell_type": "code",
   "execution_count": null,
   "metadata": {},
   "outputs": [],
   "source": [
    "# Interactive zoom on both X and Y axis with two lower graphs.\n",
    "df_nedu = df_nedu_e1a\n",
    "df_nedu_pred_low = df_nedu_e1a_low_pred\n",
    "df_nedu_pred_mid = df_nedu_e1a_mid_pred\n",
    "df_nedu_pred_high = df_nedu_e1a_high_pred\n",
    "\n",
    "interval = alt.selection_interval(encodings=['x'])\n",
    "verbruik_range = alt.selection_interval(encodings=['y'])\n",
    "\n",
    "base = alt.Chart(df_nedu.reset_index()).mark_line(clip=True).encode(\n",
    "    x='DATUM:T',\n",
    "    y='VERBRUIKS_FACTOR:Q'\n",
    ")\n",
    "\n",
    "forecast_low = alt.Chart(df_nedu_pred_low.reset_index()).mark_line(clip=True).encode(\n",
    "                     x='DATUM:T',\n",
    "                     y='VERBRUIKS_FACTOR:Q'\n",
    "                     )\n",
    "    \n",
    "forecast_mid = alt.Chart(df_nedu_pred_mid.reset_index()).mark_line(clip=True).encode(\n",
    "                     x='DATUM:T',\n",
    "                     y='VERBRUIKS_FACTOR:Q'\n",
    "                     )\n",
    "\n",
    "forecast_high = alt.Chart(df_nedu_pred_high.reset_index()).mark_line(clip=True).encode(\n",
    "                     x='DATUM:T',\n",
    "                     y='VERBRUIKS_FACTOR:Q'\n",
    "                     )\n",
    "    \n",
    "chart = base.encode(\n",
    "    x=alt.X('DATUM:T', scale=alt.Scale(domain=interval.ref())),\n",
    "    y=alt.Y('VERBRUIKS_FACTOR:Q', scale=alt.Scale(domain=verbruik_range.ref()))\n",
    ").properties(\n",
    "    width=800,\n",
    "    height=400)\n",
    "\n",
    "forecast_low_chart = forecast_low.encode(\n",
    "    x=alt.X('DATUM:T', scale=alt.Scale(domain=interval.ref())),\n",
    "    y=alt.Y('VERBRUIKS_FACTOR:Q', scale=alt.Scale(domain=verbruik_range.ref())),color=alt.value('orange')\n",
    ").properties(\n",
    "    width=800,\n",
    "    height=400)\n",
    "\n",
    "forecast_mid_chart = forecast_mid.encode(\n",
    "    x=alt.X('DATUM:T', scale=alt.Scale(domain=interval.ref())),\n",
    "    y=alt.Y('VERBRUIKS_FACTOR:Q', scale=alt.Scale(domain=verbruik_range.ref())),color=alt.value('red')\n",
    ").properties(\n",
    "    width=800,\n",
    "    height=400)\n",
    "\n",
    "forecast_high_chart = forecast_high.encode(\n",
    "    x=alt.X('DATUM:T', scale=alt.Scale(domain=interval.ref())),\n",
    "    y=alt.Y('VERBRUIKS_FACTOR:Q', scale=alt.Scale(domain=verbruik_range.ref())),color=alt.value('orange')\n",
    ").properties(\n",
    "    width=800,\n",
    "    height=400)\n",
    "    \n",
    "view = base+forecast_low.add_selection(\n",
    "    interval\n",
    ").properties(\n",
    "    width=800,\n",
    "    height=50,\n",
    ")\n",
    "\n",
    "window = base+forecast_low.add_selection(\n",
    "    verbruik_range\n",
    ").properties(\n",
    "    width=800,\n",
    "    height=100,\n",
    ")\n",
    "\n",
    "chart + forecast_low_chart + forecast_mid_chart + forecast_high_chart & view & window"
   ]
  },
  {
   "cell_type": "code",
   "execution_count": null,
   "metadata": {},
   "outputs": [],
   "source": [
    "# MID prediction dataframes samenvoegen met bestaande NEDU dataframes\n",
    "df_nedu_e1a_all = pd.concat([df_nedu_e1a[df_nedu_e1a['DATUM'] < predict_start], df_nedu_e1a_mid_pred])\n",
    "df_nedu_e1b_all = pd.concat([df_nedu_e1b[df_nedu_e1b['DATUM'] < predict_start], df_nedu_e1b_mid_pred])\n",
    "df_nedu_e1c_all = pd.concat([df_nedu_e1c[df_nedu_e1c['DATUM'] < predict_start], df_nedu_e1c_mid_pred])\n",
    "df_nedu_e2a_all = pd.concat([df_nedu_e2a[df_nedu_e2a['DATUM'] < predict_start], df_nedu_e2a_mid_pred])\n",
    "df_nedu_e2b_all = pd.concat([df_nedu_e2b[df_nedu_e2b['DATUM'] < predict_start], df_nedu_e2b_mid_pred])"
   ]
  },
  {
   "cell_type": "code",
   "execution_count": null,
   "metadata": {},
   "outputs": [],
   "source": [
    "# verbruiksfactor weer delen door 1e5\n",
    "df_nedu_e1a_all['VERBRUIKS_FACTOR'] = df_nedu_e1a_all['VERBRUIKS_FACTOR'] / 1e5\n",
    "df_nedu_e1b_all['VERBRUIKS_FACTOR'] = df_nedu_e1b_all['VERBRUIKS_FACTOR'] / 1e5\n",
    "df_nedu_e1c_all['VERBRUIKS_FACTOR'] = df_nedu_e1c_all['VERBRUIKS_FACTOR'] / 1e5\n",
    "df_nedu_e2a_all['VERBRUIKS_FACTOR'] = df_nedu_e2a_all['VERBRUIKS_FACTOR'] / 1e5\n",
    "df_nedu_e2b_all['VERBRUIKS_FACTOR'] = df_nedu_e2b_all['VERBRUIKS_FACTOR'] / 1e5"
   ]
  },
  {
   "cell_type": "code",
   "execution_count": null,
   "metadata": {},
   "outputs": [],
   "source": [
    "df_nedu_e1a_all2 = df_nedu_e1a_all.rename(columns={'VERBRUIKS_FACTOR': 'E1A'})\n",
    "df_nedu_e1b_all2 = df_nedu_e1b_all.rename(columns={'VERBRUIKS_FACTOR': 'E1B'})\n",
    "df_nedu_e1c_all2 = df_nedu_e1c_all.rename(columns={'VERBRUIKS_FACTOR': 'E1C'})\n",
    "df_nedu_e2a_all2 = df_nedu_e2a_all.rename(columns={'VERBRUIKS_FACTOR': 'E2A'})\n",
    "df_nedu_e2b_all2 = df_nedu_e2b_all.rename(columns={'VERBRUIKS_FACTOR': 'E2B'})"
   ]
  },
  {
   "cell_type": "code",
   "execution_count": null,
   "metadata": {},
   "outputs": [],
   "source": [
    "# de dataframes samenvoegen\n",
    "df_nedu_profielen = pd.merge(df_nedu_e1a_all2, df_nedu_e1b_all2, on='DATUM', how='left')\n",
    "df_nedu_profielen = pd.merge(df_nedu_profielen, df_nedu_e1c_all2, on='DATUM', how='left')\n",
    "df_nedu_profielen = pd.merge(df_nedu_profielen, df_nedu_e2a_all2, on='DATUM', how='left')\n",
    "df_nedu_profielen = pd.merge(df_nedu_profielen, df_nedu_e2b_all2, on='DATUM', how='left')"
   ]
  },
  {
   "cell_type": "code",
   "execution_count": null,
   "metadata": {},
   "outputs": [],
   "source": [
    "# jaar toevoegen aan nedu profielen om op te kunnen joinen met jaar verbruiksdata\n",
    "df_nedu_profielen['JAAR'] = df_nedu_profielen['DATUM'].dt.year"
   ]
  },
  {
   "cell_type": "code",
   "execution_count": null,
   "metadata": {},
   "outputs": [],
   "source": [
    "df_nedu_profielen[df_nedu_profielen['DATUM'] >= '2021-01-01'].head()"
   ]
  },
  {
   "cell_type": "markdown",
   "metadata": {},
   "source": [
    "# Combinatiespoor\n",
    "Combineer de dataframes van de NEDU profielen met voorspelling en het dataframe van de kleinverbruikgegevens inclusief voorspelling\n",
    "\n",
    "1. Voeg de profielen en kleinverbruik samen op de kolom PROFIEL (zorg er voor dat de kolommen DATUM, SJV_TOTAAL, FACTOR er in zitten)\n",
    "2. Rol op tot PC4 VERBRUIK, waarbij VERBRUIK = SJV_TOTAAL * FACTOR\n",
    "3. Lees bestand met PC4 en RES gegevens in (pc4_res.h5)\n",
    "4. Rol op tot RES VERBRUIK\n",
    "5. Creëer dataframe met de delta van jaar tot jaar per dag per RES"
   ]
  },
  {
   "cell_type": "code",
   "execution_count": null,
   "metadata": {},
   "outputs": [],
   "source": [
    "# Combineer NEDU profielen met de kleinverbruikgegevens\n",
    "df_combined = pd.merge(df_nedu_profielen, df_verbruik_en_pred, on=['JAAR'], how='left')"
   ]
  },
  {
   "cell_type": "code",
   "execution_count": null,
   "metadata": {},
   "outputs": [],
   "source": [
    "df_combined[df_combined.PC4 == 4251].tail(14)"
   ]
  },
  {
   "cell_type": "code",
   "execution_count": null,
   "metadata": {},
   "outputs": [],
   "source": [
    "# Voeg nieuwe kolom VERBRUIK toe die de som is van het verbruik van de verschillende profielen\n",
    "df_combined['VERBRUIK'] = df_combined.E1A * df_combined.E1A_TOTAAL + df_combined.E1B * df_combined.E1B_TOTAAL + df_combined.E1C * df_combined.E1C_TOTAAL\n",
    "\n",
    "# Gooi de tussenkolommen weg. Die hebben we niet meer nodig\n",
    "df_combined = df_combined.drop(columns=['E1A','E1B','E1C','E1A_TOTAAL','E1B_TOTAAL','E1C_TOTAAL','JAAR'])"
   ]
  },
  {
   "cell_type": "code",
   "execution_count": null,
   "metadata": {},
   "outputs": [],
   "source": [
    "# cross check. Het totaal van een profiel over een heel jaar moet 1 zijn. Dat betekent dat het totaal van de verbruiken gelijk moet zijn aan SJV_TOTAAL\n",
    "print (f\"Totaal verbruik = {df_combined[(df_combined.DATUM < datetime(2011,1,1)) & (df_combined.PC4 == 4251)].agg({'VERBRUIK':'sum'}).values[0]}\")\n",
    "print (f\"SJV totaal = {df_combined[(df_combined.DATUM < datetime(2011,1,1)) & (df_combined.PC4 == 4251)].SJV_TOTAAL.values[0]}\")"
   ]
  },
  {
   "cell_type": "code",
   "execution_count": null,
   "metadata": {},
   "outputs": [],
   "source": [
    "df_combined[df_combined.PC4 == 4251].tail(14)"
   ]
  },
  {
   "cell_type": "markdown",
   "metadata": {},
   "source": [
    "# RES Regios toevoegen"
   ]
  },
  {
   "cell_type": "code",
   "execution_count": null,
   "metadata": {},
   "outputs": [],
   "source": [
    "# Change type of PC4 for merge\n",
    "df_combined['PC4'] = df_combined['PC4'].astype('int64') \n",
    "\n",
    "# Merge in RES \n",
    "df_combined = pd.merge(df_combined, df_pc4_res, on=['PC4'], how='left')"
   ]
  },
  {
   "cell_type": "code",
   "execution_count": null,
   "metadata": {},
   "outputs": [],
   "source": [
    "df_combined[(df_combined['PC4'] == 4251) & (df_combined['DATUM'] == '2023-01-01')].head()"
   ]
  },
  {
   "cell_type": "markdown",
   "metadata": {},
   "source": [
    "# Delta Piekverbruik visualiseren"
   ]
  },
  {
   "cell_type": "code",
   "execution_count": null,
   "metadata": {},
   "outputs": [],
   "source": [
    "def bereken_piek_verbruik(df_combined, niveau='PC4'):\n",
    "    # jaar toevoegen aan nedu profielen om op te kunnen joinen met jaar verbruiksdata\n",
    "    df_combined['JAAR'] = df_combined['DATUM'].dt.year\n",
    "    \n",
    "    # piekverbruik per JAAR\n",
    "    df_piek = df_combined.groupby([niveau,'JAAR'], as_index=False).agg({'VERBRUIK': 'max'})\n",
    "    df_piek = df_piek.sort_values([niveau,'JAAR'], ascending=[True, True])\n",
    "    df_piek = df_piek.rename(columns={'VERBRUIK': 'PIEK_VERBRUIK'})\n",
    "    \n",
    "    # piekverbruik van vorige jaar, binnen groupby\n",
    "    df_piek['PIEK_VERBRUIK_VORIG_JAAR'] = df_piek.groupby(niveau)['PIEK_VERBRUIK'].shift(1)\n",
    "    # Delta piekverbruik tov vorig jaar\n",
    "    df_piek['DELTA_VORIG_JAAR'] = df_piek['PIEK_VERBRUIK'] - (df_piek.groupby(niveau)['PIEK_VERBRUIK'].shift(1))\n",
    "    df_piek['STIJGINGS_PERC'] = (df_piek['DELTA_VORIG_JAAR'] / df_piek['PIEK_VERBRUIK_VORIG_JAAR'] * 100)\n",
    "    \n",
    "    return df_piek"
   ]
  },
  {
   "cell_type": "code",
   "execution_count": null,
   "metadata": {},
   "outputs": [],
   "source": [
    "# delta piekverbruik berekenen tov vorige jaar voor PC4 en RES\n",
    "df_piek_pc4 = bereken_piek_verbruik(df_combined,niveau='PC4')\n",
    "df_piek_res = bereken_piek_verbruik(df_combined,niveau='RES')"
   ]
  },
  {
   "cell_type": "code",
   "execution_count": null,
   "metadata": {},
   "outputs": [],
   "source": [
    "#df_piek_pc4[df_piek_pc4['PC4'] == 4251]"
   ]
  },
  {
   "cell_type": "code",
   "execution_count": null,
   "metadata": {},
   "outputs": [],
   "source": [
    "#df_piek_res[df_piek_res['RES'] == 'West-Brabant']"
   ]
  },
  {
   "cell_type": "code",
   "execution_count": null,
   "metadata": {},
   "outputs": [],
   "source": [
    "# Polygonen toevoegen\n",
    "# Lees polygonen bestand in voor PC4\n",
    "data_raw_pc4_location = '../data/raw/Polygonen/Postcodevlakken_PC_4-shp/'\n",
    "\n",
    "os.chdir(orig_dir)\n",
    "if 'Postcodevlakken_PC_4-shp' not in os.getcwd():\n",
    "    os.chdir(data_raw_pc4_location)\n",
    "    \n",
    "file = 'PC4.shp'\n",
    "pc4 = gpd.read_file(file)"
   ]
  },
  {
   "cell_type": "code",
   "execution_count": null,
   "metadata": {},
   "outputs": [],
   "source": [
    "#mergen met df piek per pc4\n",
    "pc4['PC4'] = pc4['PC4'].astype('int64') \n",
    "df_piek_pc4_geo = pc4.merge(df_piek_pc4, on='PC4', how='left')"
   ]
  },
  {
   "cell_type": "code",
   "execution_count": null,
   "metadata": {},
   "outputs": [],
   "source": [
    "#df_piek_pc4_geo[df_piek_pc4_geo['PC4'] == 4251]"
   ]
  },
  {
   "cell_type": "code",
   "execution_count": null,
   "metadata": {},
   "outputs": [],
   "source": [
    "# plot\n",
    "jaar = 2023\n",
    "df_geopandas = df_piek_pc4_geo[df_piek_pc4_geo['JAAR']==jaar]\n",
    "\n",
    "p = df_geopandas.plot(column='STIJGINGS_PERC', legend=True, figsize = (15,7), cmap='OrRd', vmin=-10, vmax=+10)\n",
    "p.axis('off')\n",
    "p.set_title(f'Stijgingspercentage Piekverbruik in {jaar} tov {jaar-1} per PC4')"
   ]
  },
  {
   "cell_type": "code",
   "execution_count": null,
   "metadata": {},
   "outputs": [],
   "source": [
    "#Filter data voor een jaar.\n",
    "jaar=2020\n",
    "df_piek_pc4_geo_jaar = df_piek_pc4_geo[df_piek_pc4_geo['JAAR'] == jaar]\n",
    "merged = df_piek_pc4_geo_jaar[['geometry','JAAR','PC4','STIJGINGS_PERC']]\n",
    "\n",
    "#Read data to json.\n",
    "merged_json = json.loads(merged.to_json())\n",
    "#Convert to String like object.\n",
    "json_data = json.dumps(merged_json)\n",
    "\n",
    "#Input GeoJSON source that contains features for plotting.\n",
    "geosource = GeoJSONDataSource(geojson = json_data)\n",
    "\n",
    "#Define a sequential multi-hue color palette.\n",
    "palette = brewer['YlGnBu'][8]\n",
    "\n",
    "#Reverse color order so that dark blue is highest.\n",
    "palette = palette[::-1]\n",
    "\n",
    "#Instantiate LinearColorMapper that linearly maps numbers in a range, into a sequence of colors.\n",
    "color_mapper = LinearColorMapper(palette = palette, low = -10, high = 10)\n",
    "\n",
    "#Define custom tick labels for color bar.\n",
    "tick_labels = {'-10': '<-10%', '-5': '-5%', '0':'0%', '5':'5%', '10':'>10%'}\n",
    "\n",
    "#Add hover tool\n",
    "hover = HoverTool(tooltips = [ ('PC4','@PC4'),('% Stijging', '@STIJGINGS_PERC')])\n",
    "\n",
    "#Create color bar. \n",
    "color_bar = ColorBar(color_mapper=color_mapper, label_standoff=8,width = 400, height = 20,\n",
    "border_line_color=None,location = (0,0), orientation = 'horizontal', major_label_overrides = tick_labels)\n",
    "\n",
    "#Create figure object.\n",
    "p = figure(title = f'Stijgingspercentage Piekverbruik per PC4 in {jaar}', plot_height = 600 , plot_width = 450, toolbar_location = None, tools = [hover])\n",
    "p.xgrid.grid_line_color = None\n",
    "p.ygrid.grid_line_color = None\n",
    "\n",
    "#Add patch renderer to figure. \n",
    "p.patches('xs','ys', source = geosource,fill_color = {'field' :'STIJGINGS_PERC', 'transform' : color_mapper},\n",
    "          line_color = 'black', line_width = 0.25, fill_alpha = 1)\n",
    "\n",
    "#Specify figure layout.\n",
    "p.add_layout(color_bar, 'below')\n",
    "\n",
    "#Display figure inline in Jupyter Notebook.\n",
    "output_notebook()\n",
    "\n",
    "#Display figure.\n",
    "show(p)"
   ]
  },
  {
   "cell_type": "code",
   "execution_count": null,
   "metadata": {},
   "outputs": [],
   "source": [
    "# Stijgingspercentage Piekverbruik per RES regio"
   ]
  },
  {
   "cell_type": "code",
   "execution_count": null,
   "metadata": {},
   "outputs": [],
   "source": [
    "# Lees polygonen bestand in voor RES\n",
    "data_raw_res_location = '../data/raw/Polygonen/Regionale_Energiestrategie_RES_regios-shp/'\n",
    "\n",
    "os.chdir(orig_dir)\n",
    "if 'Regionale_Energiestrategie_RES_regios-shp' not in os.getcwd():\n",
    "    os.chdir(data_raw_res_location)\n",
    "    \n",
    "file = '837dfba3-69e2-48a9-9697-892a5c3c4be42020413-1-1z1r3u.mhsfp.shp'\n",
    "res = gpd.read_file(file).rename(columns={'Regio': 'RES'})"
   ]
  },
  {
   "cell_type": "code",
   "execution_count": null,
   "metadata": {},
   "outputs": [],
   "source": [
    "#mergen met df piek per res\n",
    "df_piek_res_geo = pd.merge(res, df_piek_res, on='RES', how='left')\n",
    "df_piek_res_geo = df_piek_res_geo.dropna()"
   ]
  },
  {
   "cell_type": "code",
   "execution_count": null,
   "metadata": {},
   "outputs": [],
   "source": [
    "# plot\n",
    "jaar = 2023\n",
    "df_geopandas = df_piek_res_geo[df_piek_res_geo['JAAR']==jaar]\n",
    "\n",
    "p = df_geopandas.plot(column='STIJGINGS_PERC', legend=True, figsize = (15,6), cmap='OrRd', vmin=-10, vmax=+10)\n",
    "p.axis('off')\n",
    "p.set_title(f'Stijgingspercentage in {jaar} tov {jaar-1} per RES')"
   ]
  },
  {
   "cell_type": "markdown",
   "metadata": {},
   "source": [
    "# Delta van Jaarverbruik visualiseren"
   ]
  },
  {
   "cell_type": "code",
   "execution_count": null,
   "metadata": {},
   "outputs": [],
   "source": [
    "def bereken_jaar_verbruik(df_combined, niveau='PC4'):\n",
    "    # jaar toevoegen aan nedu profielen om op te kunnen joinen met jaar verbruiksdata\n",
    "    df_combined['JAAR'] = df_combined['DATUM'].dt.year\n",
    "    \n",
    "    # SJV_TOTAAL per JAAR\n",
    "    df_sjv = df_combined.groupby([niveau,'JAAR'], as_index=False).agg({'SJV_TOTAAL': 'max'})\n",
    "    df_sjv = df_sjv.sort_values([niveau,'JAAR'], ascending=[True, True])\n",
    "    #df_sjv = df_sjv.rename(columns={'SJV_TOTAAL': 'SJV_TOTAAL'})\n",
    "    \n",
    "    # SJV_TOTAAL van vorige jaar, binnen groupby\n",
    "    df_sjv['SJV_TOTAAL_VORIG_JAAR'] = df_sjv.groupby(niveau)['SJV_TOTAAL'].shift(1)\n",
    "    # Delta SJV_TOTAAL tov vorig jaar\n",
    "    df_sjv['DELTA_VORIG_JAAR'] = df_sjv['SJV_TOTAAL'] - (df_sjv.groupby(niveau)['SJV_TOTAAL'].shift(1))\n",
    "    df_sjv['STIJGINGS_PERC'] = (df_sjv['DELTA_VORIG_JAAR'] / df_sjv['SJV_TOTAAL_VORIG_JAAR'] * 100)\n",
    "    \n",
    "    return df_sjv"
   ]
  },
  {
   "cell_type": "code",
   "execution_count": null,
   "metadata": {},
   "outputs": [],
   "source": [
    "# delta piekverbruik berekenen tov vorige jaar voor PC4 en RES\n",
    "df_sjv_pc4 = bereken_jaar_verbruik(df_combined,niveau='PC4')\n",
    "df_sjv_res = bereken_jaar_verbruik(df_combined,niveau='RES')"
   ]
  },
  {
   "cell_type": "code",
   "execution_count": null,
   "metadata": {},
   "outputs": [],
   "source": [
    "#mergen met df sjv per pc4\n",
    "pc4['PC4'] = pc4['PC4'].astype('int64') \n",
    "df_sjv_pc4_geo = pc4.merge(df_sjv_pc4, on='PC4', how='left')"
   ]
  },
  {
   "cell_type": "code",
   "execution_count": null,
   "metadata": {},
   "outputs": [],
   "source": [
    "#df_sjv_pc4_geo[df_sjv_pc4_geo['PC4'] ==  5245]"
   ]
  },
  {
   "cell_type": "code",
   "execution_count": null,
   "metadata": {},
   "outputs": [],
   "source": [
    "jaar = 2021\n",
    "df_geopandas = df_sjv_pc4_geo[df_sjv_pc4_geo['JAAR']==jaar]\n",
    "\n",
    "#p = df_geopandas.plot(column='DELTA_VORIG_JAAR', legend=True, figsize = (15,6), cmap='OrRd', vmin=-1000, vmax=1000)\n",
    "p = df_geopandas.plot(column='STIJGINGS_PERC', legend=True, figsize = (15,12), cmap='PuOr', vmin=-10, vmax=10)\n",
    "p.axis('off')\n",
    "p.set_title(f'Stijgingspercentage Jaarverbruik in {jaar} t.o.v. {jaar-1} per PC4')"
   ]
  },
  {
   "cell_type": "code",
   "execution_count": null,
   "metadata": {},
   "outputs": [],
   "source": [
    "#Filter data voor een jaar.\n",
    "jaar=2020\n",
    "df_sjv_pc4_geo_jaar = df_sjv_pc4_geo[df_sjv_pc4_geo['JAAR'] == jaar]\n",
    "merged = df_sjv_pc4_geo_jaar[['geometry','JAAR','PC4','STIJGINGS_PERC']]\n",
    "\n",
    "#Read data to json.\n",
    "merged_json = json.loads(merged.to_json())\n",
    "#Convert to String like object.\n",
    "json_data = json.dumps(merged_json)\n",
    "\n",
    "#Input GeoJSON source that contains features for plotting.\n",
    "geosource = GeoJSONDataSource(geojson = json_data)\n",
    "\n",
    "#Define a sequential multi-hue color palette.\n",
    "palette = brewer['YlGnBu'][8]\n",
    "\n",
    "#Reverse color order so that dark blue is highest.\n",
    "palette = palette[::-1]\n",
    "\n",
    "#Instantiate LinearColorMapper that linearly maps numbers in a range, into a sequence of colors.\n",
    "color_mapper = LinearColorMapper(palette = palette, low = -10, high = 10)\n",
    "\n",
    "#Define custom tick labels for color bar.\n",
    "tick_labels = {'-10': '<-10%', '-5': '-5%', '0':'0%', '5':'5%', '10':'>10%'}\n",
    "\n",
    "#Add hover tool\n",
    "hover = HoverTool(tooltips = [ ('PC4','@PC4'),('% Stijging', '@STIJGINGS_PERC')])\n",
    "\n",
    "#Create color bar. \n",
    "color_bar = ColorBar(color_mapper=color_mapper, label_standoff=8,width = 400, height = 20,\n",
    "border_line_color=None,location = (0,0), orientation = 'horizontal', major_label_overrides = tick_labels)\n",
    "\n",
    "#Create figure object.\n",
    "p = figure(title = f'Stijgingspercentage Jaarverbuik per PC4 in {jaar}', plot_height = 600 , plot_width = 450, toolbar_location = None, tools = [hover])\n",
    "p.xgrid.grid_line_color = None\n",
    "p.ygrid.grid_line_color = None\n",
    "\n",
    "#Add patch renderer to figure. \n",
    "p.patches('xs','ys', source = geosource,fill_color = {'field' :'STIJGINGS_PERC', 'transform' : color_mapper},\n",
    "          line_color = 'black', line_width = 0.25, fill_alpha = 1)\n",
    "\n",
    "#Specify figure layout.\n",
    "p.add_layout(color_bar, 'below')\n",
    "\n",
    "#Display figure inline in Jupyter Notebook.\n",
    "output_notebook()\n",
    "\n",
    "#Display figure.\n",
    "show(p)"
   ]
  },
  {
   "cell_type": "markdown",
   "metadata": {},
   "source": [
    "# Leveringsrichting percentage visualiseren"
   ]
  },
  {
   "cell_type": "code",
   "execution_count": null,
   "metadata": {},
   "outputs": [],
   "source": [
    "def bereken_jaar_lev_richting_prec(df_combined, niveau='PC4'):\n",
    "    # jaar toevoegen aan nedu profielen om op te kunnen joinen met jaar verbruiksdata\n",
    "    df_combined['JAAR'] = df_combined['DATUM'].dt.year\n",
    "    \n",
    "    # LEVERINGSRICHTING_PERC per JAAR\n",
    "    df_lr = df_combined.groupby([niveau,'JAAR'], as_index=False).agg({'LEVERINGSRICHTING_PERC': 'max'\n",
    "                                                                     , 'SJV_TOTAAL': 'max'\n",
    "                                                                     , 'RES': 'max'})\n",
    "    df_lr = df_lr.sort_values([niveau,'JAAR'], ascending=[True, True])\n",
    "    \n",
    "    # LEVERINGSRICHTING_PERC van vorige jaar, binnen groupby\n",
    "    df_lr['LEVERINGSRICHTING_PERC_VORIG_JAAR'] = df_lr.groupby(niveau)['LEVERINGSRICHTING_PERC'].shift(1)\n",
    "    # Delta LEVERINGSRICHTING_PERC tov vorig jaar\n",
    "    df_lr['DELTA_VORIG_JAAR'] = df_lr['LEVERINGSRICHTING_PERC'] - (df_lr.groupby(niveau)['LEVERINGSRICHTING_PERC'].shift(1))\n",
    "    df_lr['DALINGS_PERC'] = (df_lr['DELTA_VORIG_JAAR'] / df_lr['LEVERINGSRICHTING_PERC_VORIG_JAAR'] * 100 * -1)\n",
    "    \n",
    "    return df_lr"
   ]
  },
  {
   "cell_type": "code",
   "execution_count": null,
   "metadata": {},
   "outputs": [],
   "source": [
    "# delta lev richting percentage berekenen tov vorige jaar voor PC4 en RES\n",
    "df_lr_pc4 = bereken_jaar_lev_richting_prec(df_combined,niveau='PC4')\n",
    "df_lr_res = bereken_jaar_lev_richting_prec(df_combined,niveau='RES')"
   ]
  },
  {
   "cell_type": "code",
   "execution_count": null,
   "metadata": {},
   "outputs": [],
   "source": [
    "# Look at leveringsrichting as a function of verbruik (proxy for local electricity generation using solar) per year per RES.\n",
    "# [each dot is a PC4]\n",
    "\n",
    "alt.data_transformers.disable_max_rows()\n",
    "\n",
    "select_year = alt.selection_single(\n",
    "    name='select', fields=['JAAR'], init={'JAAR': 2010},\n",
    "    bind=alt.binding_range(min=2010, max=2023, step=1))\n",
    "\n",
    "alt.Chart(df_lr_pc4).mark_point(filled=True).encode(\n",
    "    alt.X('LEVERINGSRICHTING_PERC', scale=alt.Scale(domain=(0, 110))),\n",
    "    alt.Y('SJV_TOTAAL', scale=alt.Scale(domain=(0, 60000))),\n",
    "    alt.Color('RES:N')).add_selection(select_year).transform_filter(select_year).properties(\n",
    "    width=400,height=400)"
   ]
  },
  {
   "cell_type": "code",
   "execution_count": null,
   "metadata": {},
   "outputs": [],
   "source": [
    "#mergen met df lr per pc4\n",
    "pc4['PC4'] = pc4['PC4'].astype('int64') \n",
    "df_lr_pc4_geo = pc4.merge(df_lr_pc4, on='PC4', how='left')"
   ]
  },
  {
   "cell_type": "code",
   "execution_count": null,
   "metadata": {},
   "outputs": [],
   "source": [
    "#df_lr_pc4_geo[df_lr_pc4_geo['PC4'] == 4822]"
   ]
  },
  {
   "cell_type": "code",
   "execution_count": null,
   "metadata": {},
   "outputs": [],
   "source": [
    "jaar = 2023\n",
    "df_geopandas = df_lr_pc4_geo[df_lr_pc4_geo['JAAR']==jaar]\n",
    "\n",
    "p = df_geopandas.plot(column='DALINGS_PERC', legend=True, figsize = (15,12), cmap='PuOr', vmin=-15, vmax=15)\n",
    "p.axis('off')\n",
    "p.set_title(f'Dalingspercentage Leveringsrichtingpercentage in {jaar} t.o.v. {jaar-1} per PC4')"
   ]
  },
  {
   "cell_type": "code",
   "execution_count": null,
   "metadata": {},
   "outputs": [],
   "source": []
  }
 ],
 "metadata": {
  "kernelspec": {
   "display_name": "Python [conda env:jads_enexis_prophet] *",
   "language": "python",
   "name": "conda-env-jads_enexis_prophet-py"
  },
  "language_info": {
   "codemirror_mode": {
    "name": "ipython",
    "version": 3
   },
   "file_extension": ".py",
   "mimetype": "text/x-python",
   "name": "python",
   "nbconvert_exporter": "python",
   "pygments_lexer": "ipython3",
   "version": "3.8.8"
  }
 },
 "nbformat": 4,
 "nbformat_minor": 2
}
