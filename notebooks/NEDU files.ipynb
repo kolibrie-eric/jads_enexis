{
 "cells": [
  {
   "cell_type": "markdown",
   "metadata": {},
   "source": [
    "# Uitleg Notebook \n",
    "Dit Notebook is om de EDU files in te lezen en op te slaan als h5 file in GitHub\n",
    "\n",
    "## EDU files content \n",
    "korte beschrijving wat er in die data staat\n",
    "\n",
    "### plan van aanpak \n",
    "\n",
    "#### csv file exporten naar Github\n",
    "* temporary map aanmaken\n",
    "* Link naar Data invoeren\n",
    "* download de zipfile en plaats in temporary map\n",
    "* Unzippen in temporary map\n",
    "* cvs file selecteren die er toe doet: voorbeeld naam: profielen elektriciteit 2021 versie 1.00 of Prognoseprofielen-elektriciteit-2022-2023-2024-dd-2020\n",
    "* van csv file Dataframe maken\n",
    "* geselecteerd csv file plaatsen op Github, map data-raw, in nieuwe map genaamd EDU\n",
    "* temp folder leeggooien\n",
    "* herhalen voor alle zip files (in totaal zijn er 7 (6 profielen en 1 prognoseprofiel)\n",
    "\n",
    "\n",
    "#### Excell file omzetten naar DF\n",
    "\n",
    "\n",
    "\n",
    "\n"
   ]
  },
  {
   "cell_type": "code",
   "execution_count": 40,
   "metadata": {},
   "outputs": [],
   "source": [
    "import os  \n",
    "import requests\n",
    "import zipfile as zp\n",
    "from zipfile import ZipFile  # importeer van de module zipfile de Class ZipFile"
   ]
  },
  {
   "cell_type": "code",
   "execution_count": 50,
   "metadata": {},
   "outputs": [
    {
     "output_type": "stream",
     "name": "stdout",
     "text": [
      "Directory created temp_voor_EDU_files\nc:\\Users\\ericr\\OneDrive - Actondata\\Projecten\\jads_enexis\\notebooks\\temp_voor_EDU_files\n"
     ]
    }
   ],
   "source": [
    "# temporary variable aanmaken voor eventuele temp map\n",
    "tmp_directory = \"temp_voor_EDU_files\"\n",
    "\n",
    "#parent_dir = os.getcwd() # commando voor get Current Working Directory\n",
    "current_dir = os.getcwd()\n",
    "\n",
    "# ga naar temp directory toe\n",
    "\n",
    "if tmp_directory not in current_dir:\n",
    "    path = os.path.join(current_dir, tmp_directory) # extra variabele onder notebook (=cwd) wordt nu gemaakt\n",
    "    # maak temp directory als hij nog niet bestaat\n",
    "    try:\n",
    "        os.mkdir(path)  # extra directory onder notebook (=cwd) wordt nu gemaakt\n",
    "        print(f\"Directory created {tmp_directory}\") \n",
    "    except:\n",
    "        print ('directory bestaat al')\n",
    "    \n",
    "    os.chdir(path)  # veranderen naar de temp directory\n",
    "print(os.getcwd())\n"
   ]
  },
  {
   "cell_type": "code",
   "execution_count": 51,
   "metadata": {},
   "outputs": [],
   "source": [
    "EDU_files = [\n",
    "    'https://www.nedu.nl/wp-content/uploads/2020/07/Profielen-elektriciteit-2021-versie-1.00-Platform-Verbruiksprofielen-NEDU-20200701-002.1.1.zip',\n",
    "    'https://www.nedu.nl/wp-content/uploads/2019/07/Profielen-elektriciteit-2020-versie-1.00-Platform-Verbruiksprofielen-NEDU-20190703-002.1.1.zip',\n",
    "    'https://www.nedu.nl/wp-content/uploads/2018/07/Profielen-Elektriciteit-2019-versie-1.00-ALV-NEDU-20180704-011.1.1.zip',\n",
    "    'http://www.nedu.nl/wp-content/uploads/2017/07/Profielen-Elektriciteit-2018-versie-1.00-ALV-NEDU-20170705-011.1.1.zip',\n",
    "    'http://www.nedu.nl/wp-content/uploads/2016/04/Profielen-Elektriciteit-2017-versie-1.00-ALV-NEDU-20160413-012.1.1.zip',\n",
    "    'http://www.nedu.nl/wp-content/uploads/2015/09/Profielen-Elektriciteit-2016-versie-1.01-ALV-NEDU-20150916-012.2.zip'\n",
    "]\n",
    "\n",
    "def download_url(url, save_path, chunk_size=128): # downloaden in chuncks, stream, LET OP: path = directory + filenaam\n",
    "    r = requests.get(url, stream=True)\n",
    "    with open(save_path, 'wb') as fd:                    #wb = write binairy, text files gaan net iets anders (optimalisatie)\n",
    "        for chunk in r.iter_content(chunk_size=chunk_size):\n",
    "            fd.write(chunk)\n",
    "\n",
    "for EDU_file in EDU_files:\n",
    "    # definieren van variabele van de download URL\n",
    "    save_path = EDU_file.split(\"/\")[-1]\n",
    "\n",
    "    # Haal het bestand op en sla het op in de temporary directory\n",
    "    download_url(EDU_file, save_path)\n",
    "\n",
    "    # Creer een ZipFile Object met het pad naar de zip file\n",
    "    with ZipFile(save_path, 'r') as zipObj:\n",
    "        # Extract de zip file naar de huidige directory\n",
    "        zipObj.extractall(path=None, members=None, pwd=None)\n"
   ]
  },
  {
   "cell_type": "code",
   "execution_count": 52,
   "metadata": {},
   "outputs": [
    {
     "output_type": "stream",
     "name": "stdout",
     "text": [
      "<class 'pandas.core.frame.DataFrame'>\nInt64Index: 175392 entries, 0 to 35039\nData columns (total 12 columns):\n #   Column  Non-Null Count   Dtype \n---  ------  --------------   ----- \n 0   Start   175392 non-null  object\n 1   End     175392 non-null  object\n 2   E1A     175392 non-null  object\n 3   E1B     175392 non-null  object\n 4   E1C     175392 non-null  object\n 5   E2A     175392 non-null  object\n 6   E2B     175392 non-null  object\n 7   E3A     175392 non-null  object\n 8   E3B     175392 non-null  object\n 9   E3C     175392 non-null  object\n 10  E3D     175392 non-null  object\n 11  E4A     175392 non-null  object\ndtypes: object(12)\nmemory usage: 17.4+ MB\n"
     ]
    }
   ],
   "source": [
    "import glob\n",
    "from glob import glob\n",
    "\n",
    "import pandas as pd\n",
    "\n",
    "combined_df = None\n",
    "files = glob('profielen*.csv')  # resultaat = lijst met bestaandsnamen komt hier uit. Als er 1 bestandsnaam in zit is dit nog steeds een lijst\n",
    "\n",
    "# itereer door alle csv bestanden met het patroon. \n",
    "for file in files:\n",
    "    # Haal de data uit de csv file. De eerste 4 rijen bevatten alleen een beschrijving en geen data\n",
    "    df = pd.read_csv(file)\n",
    "    df = df.drop([0,1,2,3])\n",
    "\n",
    "    # De namen van de kolommen\n",
    "    df.columns = ('Meting', 'Start','End','E1A','E1B','E1C','E2A','E2B','E3A','E3B','E3C','E3D','E4A')\n",
    "\n",
    "    # De eerste kolom bevat het tijdstip van de meting. Deze hebben we ook niet nodig\n",
    "    df = df.drop(['Meting'], axis=1)\n",
    "\n",
    "    # Reindex het dataframe zodat het bij index 0 begint\n",
    "    df = df.reset_index(drop=True)\n",
    "\n",
    "    if combined_df is None:\n",
    "        combined_df = df.copy()\n",
    "    else:\n",
    "        combined_df = combined_df.append(df)\n",
    "\n",
    "# Het dataframe hoeft niet gevuld te worden op volgorde van tijd. Het wordt gevuld op volgorde van het\n",
    "# vinden van de bestanden door glob. Sorteer het daarom op de tijden in de start kolom\n",
    "combined_df = combined_df.sort_values(by='Start')\n",
    "\n",
    "combined_df.info()"
   ]
  },
  {
   "cell_type": "code",
   "execution_count": 53,
   "metadata": {},
   "outputs": [],
   "source": [
    "# data locatie als we hier komen is 'temp_voor_EDU_files'\n",
    "data_location = '../../data/processed'\n",
    "\n",
    "# Ga naar de folder waarin de processed data staat\n",
    "# Eenmaal chdir uitgevoerd blijft de current directory uiteraard 'processed'\n",
    "if 'processed' not in os.getcwd():\n",
    "    os.chdir(data_location)"
   ]
  },
  {
   "cell_type": "code",
   "execution_count": 54,
   "metadata": {},
   "outputs": [],
   "source": [
    "try:\n",
    "    os.remove('nedu_files.h5')\n",
    "except:\n",
    "    print ('File nog in gebruik of niet gevonden')\n",
    "\n",
    "store = pd.HDFStore('nedu_files.h5')\n",
    "store['nedu_files'] = combined_df\n",
    "store.close()"
   ]
  },
  {
   "cell_type": "code",
   "execution_count": 55,
   "metadata": {},
   "outputs": [],
   "source": [
    "# Gooi de temporary directory weg. Het dataframe is gemaakt en opgeslagen\n",
    "data_location = '../../notebooks'\n",
    "\n",
    "# Ga terug naar de notebooks directory\n",
    "if 'notebooks' not in os.getcwd():\n",
    "    os.chdir(data_location)"
   ]
  },
  {
   "cell_type": "code",
   "execution_count": 56,
   "metadata": {},
   "outputs": [],
   "source": [
    "import shutil\n",
    "\n",
    "try:\n",
    "    # Gooi de tijdelijke directory weg. Het dataframe is gemaakt en opgeslagen\n",
    "    shutil.rmtree(tmp_directory)\n",
    "except OSError as e:\n",
    "    print(f\"Error: {tmp_directory} : {e.strerror}\")"
   ]
  },
  {
   "cell_type": "code",
   "execution_count": null,
   "metadata": {},
   "outputs": [],
   "source": []
  }
 ],
 "metadata": {
  "kernelspec": {
   "display_name": "Python 3",
   "language": "python",
   "name": "python3"
  },
  "language_info": {
   "codemirror_mode": {
    "name": "ipython",
    "version": 3
   },
   "file_extension": ".py",
   "mimetype": "text/x-python",
   "name": "python",
   "nbconvert_exporter": "python",
   "pygments_lexer": "ipython3",
   "version": "3.8.5-final"
  }
 },
 "nbformat": 4,
 "nbformat_minor": 4
}