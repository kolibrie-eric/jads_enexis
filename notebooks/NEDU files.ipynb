{
 "cells": [
  {
   "cell_type": "markdown",
   "metadata": {},
   "source": [
    "# Uitleg Notebook \n",
    "Dit Notebook is om de EDU files in te lezen en op te slaan als h5 file in GitHub\n",
    "\n",
    "## EDU files content \n",
    "korte beschrijving wat er in die data staat\n",
    "\n",
    "### plan van aanpak \n",
    "\n",
    "#### csv file exporten naar Github\n",
    "* temporary map aanmaken\n",
    "* Link naar Data invoeren\n",
    "* download de zipfile en plaats in temporary map\n",
    "* Unzippen in temporary map\n",
    "* cvs file selecteren die er toe doet: voorbeeld naam: profielen elektriciteit 2021 versie 1.00 of Prognoseprofielen-elektriciteit-2022-2023-2024-dd-2020\n",
    "* van csv file Dataframe maken\n",
    "* geselecteerd csv file plaatsen op Github, map data-raw, in nieuwe map genaamd EDU\n",
    "* temp folder leeggooien\n",
    "* herhalen voor alle zip files (in totaal zijn er 7 (6 profielen en 1 prognoseprofiel)\n",
    "\n",
    "\n",
    "#### Excell file omzetten naar DF\n",
    "\n",
    "\n",
    "\n",
    "\n"
   ]
  },
  {
   "cell_type": "code",
   "execution_count": 13,
   "metadata": {},
   "outputs": [],
   "source": [
    "import os  \n",
    "import requests\n",
    "import zipfile as zp\n",
    "from zipfile import ZipFile  # importeer van de module zipfile de Class ZipFile"
   ]
  },
  {
   "cell_type": "code",
   "execution_count": 14,
   "metadata": {},
   "outputs": [
    {
     "output_type": "stream",
     "name": "stdout",
     "text": [
      "Directory created temp_voor_EDU_files\nc:\\Users\\ericr\\OneDrive - Actondata\\Projecten\\jads_enexis\\notebooks\\temp_voor_EDU_files\n"
     ]
    }
   ],
   "source": [
    "# temporary variable aanmaken voor eventuele temp map\n",
    "tmp_directory = \"temp_voor_EDU_files\"\n",
    "\n",
    "#parent_dir = os.getcwd() # commando voor get Current Working Directory\n",
    "current_dir = os.getcwd()\n",
    "\n",
    "# ga naar temp directory toe\n",
    "\n",
    "if tmp_directory not in current_dir:\n",
    "    path = os.path.join(current_dir, tmp_directory) # extra variabele onder notebook (=cwd) wordt nu gemaakt\n",
    "    # maak temp directory als hij nog niet bestaat\n",
    "    try:\n",
    "        os.mkdir(path)  # extra directory onder notebook (=cwd) wordt nu gemaakt\n",
    "        print(f\"Directory created {tmp_directory}\") \n",
    "    except:\n",
    "        print ('directory bestaat al')\n",
    "    \n",
    "    os.chdir(path)  # veranderen naar de temp directory\n",
    "print(os.getcwd())\n"
   ]
  },
  {
   "cell_type": "code",
   "execution_count": 15,
   "metadata": {},
   "outputs": [
    {
     "output_type": "stream",
     "name": "stdout",
     "text": [
      "Downloading https://www.nedu.nl/wp-content/uploads/2020/07/Profielen-elektriciteit-2021-versie-1.00-Platform-Verbruiksprofielen-NEDU-20200701-002.1.1.zip\n",
      "Downloading https://www.nedu.nl/wp-content/uploads/2019/07/Profielen-elektriciteit-2020-versie-1.00-Platform-Verbruiksprofielen-NEDU-20190703-002.1.1.zip\n",
      "Downloading https://www.nedu.nl/wp-content/uploads/2018/07/Profielen-Elektriciteit-2019-versie-1.00-ALV-NEDU-20180704-011.1.1.zip\n",
      "Downloading http://www.nedu.nl/wp-content/uploads/2017/07/Profielen-Elektriciteit-2018-versie-1.00-ALV-NEDU-20170705-011.1.1.zip\n",
      "Downloading http://www.nedu.nl/wp-content/uploads/2016/04/Profielen-Elektriciteit-2017-versie-1.00-ALV-NEDU-20160413-012.1.1.zip\n",
      "Downloading http://www.nedu.nl/wp-content/uploads/2015/09/Profielen-Elektriciteit-2016-versie-1.01-ALV-NEDU-20150916-012.2.zip\n",
      "Downloading http://www.deenergiemanager.nl/tools/profielen_E/E2010.zip\n",
      "Downloading http://www.deenergiemanager.nl/tools/profielen_E/E2011.zip\n",
      "Downloading http://www.deenergiemanager.nl/tools/profielen_E/E2012.zip\n",
      "Downloading http://www.deenergiemanager.nl/tools/profielen_E/E2013.zip\n",
      "Downloading http://www.deenergiemanager.nl/tools/profielen_E/E2014.zip\n",
      "Downloading http://www.deenergiemanager.nl/tools/profielen_E/E2015.zip\n"
     ]
    }
   ],
   "source": [
    "EDU_files = [\n",
    "    'https://www.nedu.nl/wp-content/uploads/2020/07/Profielen-elektriciteit-2021-versie-1.00-Platform-Verbruiksprofielen-NEDU-20200701-002.1.1.zip',\n",
    "    'https://www.nedu.nl/wp-content/uploads/2019/07/Profielen-elektriciteit-2020-versie-1.00-Platform-Verbruiksprofielen-NEDU-20190703-002.1.1.zip',\n",
    "    'https://www.nedu.nl/wp-content/uploads/2018/07/Profielen-Elektriciteit-2019-versie-1.00-ALV-NEDU-20180704-011.1.1.zip',\n",
    "    'http://www.nedu.nl/wp-content/uploads/2017/07/Profielen-Elektriciteit-2018-versie-1.00-ALV-NEDU-20170705-011.1.1.zip',\n",
    "    'http://www.nedu.nl/wp-content/uploads/2016/04/Profielen-Elektriciteit-2017-versie-1.00-ALV-NEDU-20160413-012.1.1.zip',\n",
    "    'http://www.nedu.nl/wp-content/uploads/2015/09/Profielen-Elektriciteit-2016-versie-1.01-ALV-NEDU-20150916-012.2.zip',\n",
    "    'http://www.deenergiemanager.nl/tools/profielen_E/E2010.zip',\n",
    "    'http://www.deenergiemanager.nl/tools/profielen_E/E2011.zip',\n",
    "    'http://www.deenergiemanager.nl/tools/profielen_E/E2012.zip',\n",
    "    'http://www.deenergiemanager.nl/tools/profielen_E/E2013.zip',\n",
    "    'http://www.deenergiemanager.nl/tools/profielen_E/E2014.zip',\n",
    "    'http://www.deenergiemanager.nl/tools/profielen_E/E2015.zip',\n",
    "]\n",
    "\n",
    "def download_url(url, save_path, chunk_size=128): # downloaden in chuncks, stream, LET OP: path = directory + filenaam\n",
    "    r = requests.get(url, stream=True)\n",
    "    with open(save_path, 'wb') as fd:                    #wb = write binairy, text files gaan net iets anders (optimalisatie)\n",
    "        for chunk in r.iter_content(chunk_size=chunk_size):\n",
    "            fd.write(chunk)\n",
    "\n",
    "for EDU_file in EDU_files:\n",
    "    print (f\"Downloading {EDU_file}\")\n",
    "    # definieren van variabele van de download URL\n",
    "    save_path = EDU_file.split(\"/\")[-1]\n",
    "\n",
    "    # Haal het bestand op en sla het op in de temporary directory\n",
    "    download_url(EDU_file, save_path)\n",
    "\n",
    "    # Creer een ZipFile Object met het pad naar de zip file\n",
    "    with ZipFile(save_path, 'r') as zipObj:\n",
    "        # Extract de zip file naar de huidige directory\n",
    "        zipObj.extractall(path=None, members=None, pwd=None)\n"
   ]
  },
  {
   "cell_type": "code",
   "execution_count": 16,
   "metadata": {},
   "outputs": [
    {
     "output_type": "stream",
     "name": "stdout",
     "text": [
      "Processing profielen Elektriciteit 2016 versie 1.01.csv\n",
      "Processing profielen elektriciteit 2017 versie 1.00.csv\n",
      "Processing profielen Elektriciteit 2018 versie 1.00.csv\n",
      "Processing profielen elektriciteit 2020 versie 1.00.csv\n",
      "Processing profielen elektriciteit 2021 versie 1.00.csv\n",
      "Processing Profielen Elektriciteit 2019 versie 1.00 (ALV NEDU 20180704-011.1.1)\\profielen Elektriciteit 2019 versie 1.00.csv\n",
      "Processing E2010.csv\n",
      "Processing E2011.csv\n",
      "Processing E2012.csv\n",
      "Processing E2013.csv\n",
      "Processing E2014.csv\n",
      "Processing E2015.csv\n",
      "Retyping kolommen\n",
      "Dataframe sorteren op start datum\n",
      "<class 'pandas.core.frame.DataFrame'>\n",
      "RangeIndex: 421015 entries, 0 to 421014\n",
      "Data columns (total 12 columns):\n",
      " #   Column  Non-Null Count   Dtype         \n",
      "---  ------  --------------   -----         \n",
      " 0   Start   420768 non-null  datetime64[ns]\n",
      " 1   End     420768 non-null  datetime64[ns]\n",
      " 2   E1A     420768 non-null  float64       \n",
      " 3   E1B     420768 non-null  float64       \n",
      " 4   E1C     420768 non-null  float64       \n",
      " 5   E2A     420768 non-null  float64       \n",
      " 6   E2B     420768 non-null  float64       \n",
      " 7   E3A     420768 non-null  float64       \n",
      " 8   E3B     420768 non-null  float64       \n",
      " 9   E3C     420768 non-null  float64       \n",
      " 10  E3D     420768 non-null  float64       \n",
      " 11  E4A     420768 non-null  float64       \n",
      "dtypes: datetime64[ns](2), float64(10)\n",
      "memory usage: 38.5 MB\n"
     ]
    }
   ],
   "source": [
    "import glob\n",
    "from glob import glob\n",
    "\n",
    "import pandas as pd\n",
    "\n",
    "combined_df = None\n",
    "files = glob('profielen*.csv')  # resultaat = lijst met bestaandsnamen komt hier uit. Als er 1 bestandsnaam in zit is dit nog steeds een lijst. Dit zijn de profielen van de NEDU site\n",
    "files.extend (glob('**/*.csv')) # Zoek ook naar .csv bestanden in eventuele subdirectories (voor zipfiles met een pad er in)\n",
    "files.extend (glob('E*.csv')) # profielen van de energiemanager site\n",
    "\n",
    "# itereer door alle csv bestanden met het patroon. \n",
    "for file in files:\n",
    "    print (f\"Processing {file}\")\n",
    "    # Haal de data uit de csv file. De eerste 4 rijen bevatten alleen een beschrijving en geen data\n",
    "    # Behalve voor de 2010 profielen. Deze csv bevat 8 rijen met beschrijving\n",
    "    df = pd.read_csv(file)\n",
    "    if file == 'E2010.csv':\n",
    "        df = df.drop([0,1,2,3,4,5,6,7,8])\n",
    "    else:\n",
    "        df = df.drop([0,1,2,3])\n",
    "\n",
    "    # De namen van de kolommen\n",
    "    df.columns = ('Meting', 'Start','End','E1A','E1B','E1C','E2A','E2B','E3A','E3B','E3C','E3D','E4A')\n",
    "\n",
    "    # De eerste kolom bevat het tijdstip van de meting. Deze hebben we ook niet nodig\n",
    "    df = df.drop(['Meting'], axis=1)\n",
    "\n",
    "    # Reindex het dataframe zodat het bij index 0 begint\n",
    "    df = df.reset_index(drop=True)\n",
    "\n",
    "    if combined_df is None:\n",
    "        combined_df = df.copy()\n",
    "    else:\n",
    "        combined_df = combined_df.append(df)\n",
    "\n",
    "# Pas de kolom types aan\n",
    "print (\"Retyping kolommen\")\n",
    "combined_df = combined_df.astype({'Start':'datetime64','End':'datetime64','E1A':'float64','E1B':'float64','E1C':'float64','E2A':'float64','E2B':'float64','E3A':'float64','E3B':'float64','E3C':'float64','E3D':'float64','E4A':'float64'})\n",
    "\n",
    "# Het dataframe hoeft niet gevuld te worden op volgorde van tijd. Het wordt gevuld op volgorde van het\n",
    "# vinden van de bestanden door glob. Sorteer het daarom op de tijden in de start kolom\n",
    "print (\"Dataframe sorteren op start datum\")\n",
    "combined_df = combined_df.sort_values(by='Start')\n",
    "\n",
    "# Reindex het hele dataframe\n",
    "combined_df = combined_df.reset_index(drop=True)\n",
    "\n",
    "combined_df.info()"
   ]
  },
  {
   "cell_type": "code",
   "execution_count": 17,
   "metadata": {},
   "outputs": [
    {
     "output_type": "execute_result",
     "data": {
      "text/plain": [
       "2016.0    35136\n",
       "2012.0    35136\n",
       "2020.0    35136\n",
       "2017.0    35040\n",
       "2011.0    35040\n",
       "2019.0    35040\n",
       "2014.0    35040\n",
       "2018.0    35040\n",
       "2013.0    35040\n",
       "2010.0    35040\n",
       "2021.0    35040\n",
       "2015.0    35040\n",
       "Name: Start, dtype: int64"
      ]
     },
     "metadata": {},
     "execution_count": 17
    }
   ],
   "source": [
    "combined_df.Start.dt.year.value_counts()"
   ]
  },
  {
   "cell_type": "code",
   "execution_count": 18,
   "metadata": {},
   "outputs": [
    {
     "output_type": "execute_result",
     "data": {
      "text/plain": [
       "                 Start                 End       E1A       E1B       E1C  \\\n",
       "0  2010-01-01 00:00:00 2010-01-01 00:15:00  0.000036  0.000042  0.000039   \n",
       "1  2010-01-01 00:15:00 2010-01-01 00:30:00  0.000036  0.000040  0.000038   \n",
       "2  2010-01-01 00:30:00 2010-01-01 00:45:00  0.000036  0.000038  0.000038   \n",
       "3  2010-01-01 00:45:00 2010-01-01 01:00:00  0.000035  0.000037  0.000037   \n",
       "4  2010-01-01 01:00:00 2010-01-01 01:15:00  0.000034  0.000035  0.000037   \n",
       "5  2010-01-01 01:15:00 2010-01-01 01:30:00  0.000031  0.000034  0.000035   \n",
       "6  2010-01-01 01:30:00 2010-01-01 01:45:00  0.000030  0.000033  0.000033   \n",
       "7  2010-01-01 01:45:00 2010-01-01 02:00:00  0.000029  0.000031  0.000030   \n",
       "8  2010-01-01 02:00:00 2010-01-01 02:15:00  0.000027  0.000029  0.000028   \n",
       "9  2010-01-01 02:15:00 2010-01-01 02:30:00  0.000025  0.000028  0.000026   \n",
       "10 2010-01-01 02:30:00 2010-01-01 02:45:00  0.000024  0.000026  0.000025   \n",
       "11 2010-01-01 02:45:00 2010-01-01 03:00:00  0.000022  0.000026  0.000025   \n",
       "12 2010-01-01 03:00:00 2010-01-01 03:15:00  0.000020  0.000024  0.000025   \n",
       "13 2010-01-01 03:15:00 2010-01-01 03:30:00  0.000018  0.000023  0.000025   \n",
       "14 2010-01-01 03:30:00 2010-01-01 03:45:00  0.000017  0.000022  0.000024   \n",
       "\n",
       "         E2A       E2B       E3A       E3B       E3C       E3D      E4A  \n",
       "0   0.000022  0.000026  0.000022  0.000019  0.000019  0.000025  0.00006  \n",
       "1   0.000024  0.000026  0.000024  0.000019  0.000019  0.000025  0.00006  \n",
       "2   0.000025  0.000025  0.000025  0.000019  0.000019  0.000025  0.00006  \n",
       "3   0.000024  0.000025  0.000024  0.000019  0.000019  0.000025  0.00006  \n",
       "4   0.000022  0.000024  0.000022  0.000019  0.000019  0.000025  0.00006  \n",
       "5   0.000021  0.000023  0.000021  0.000018  0.000018  0.000025  0.00006  \n",
       "6   0.000021  0.000023  0.000021  0.000018  0.000018  0.000025  0.00006  \n",
       "7   0.000021  0.000023  0.000021  0.000018  0.000018  0.000025  0.00006  \n",
       "8   0.000020  0.000022  0.000020  0.000018  0.000018  0.000025  0.00006  \n",
       "9   0.000021  0.000021  0.000021  0.000018  0.000018  0.000025  0.00006  \n",
       "10  0.000022  0.000020  0.000022  0.000018  0.000018  0.000025  0.00006  \n",
       "11  0.000021  0.000019  0.000021  0.000017  0.000017  0.000025  0.00006  \n",
       "12  0.000020  0.000018  0.000020  0.000017  0.000017  0.000025  0.00006  \n",
       "13  0.000018  0.000018  0.000018  0.000017  0.000017  0.000025  0.00006  \n",
       "14  0.000019  0.000018  0.000019  0.000017  0.000017  0.000025  0.00006  "
      ],
      "text/html": "<div>\n<style scoped>\n    .dataframe tbody tr th:only-of-type {\n        vertical-align: middle;\n    }\n\n    .dataframe tbody tr th {\n        vertical-align: top;\n    }\n\n    .dataframe thead th {\n        text-align: right;\n    }\n</style>\n<table border=\"1\" class=\"dataframe\">\n  <thead>\n    <tr style=\"text-align: right;\">\n      <th></th>\n      <th>Start</th>\n      <th>End</th>\n      <th>E1A</th>\n      <th>E1B</th>\n      <th>E1C</th>\n      <th>E2A</th>\n      <th>E2B</th>\n      <th>E3A</th>\n      <th>E3B</th>\n      <th>E3C</th>\n      <th>E3D</th>\n      <th>E4A</th>\n    </tr>\n  </thead>\n  <tbody>\n    <tr>\n      <th>0</th>\n      <td>2010-01-01 00:00:00</td>\n      <td>2010-01-01 00:15:00</td>\n      <td>0.000036</td>\n      <td>0.000042</td>\n      <td>0.000039</td>\n      <td>0.000022</td>\n      <td>0.000026</td>\n      <td>0.000022</td>\n      <td>0.000019</td>\n      <td>0.000019</td>\n      <td>0.000025</td>\n      <td>0.00006</td>\n    </tr>\n    <tr>\n      <th>1</th>\n      <td>2010-01-01 00:15:00</td>\n      <td>2010-01-01 00:30:00</td>\n      <td>0.000036</td>\n      <td>0.000040</td>\n      <td>0.000038</td>\n      <td>0.000024</td>\n      <td>0.000026</td>\n      <td>0.000024</td>\n      <td>0.000019</td>\n      <td>0.000019</td>\n      <td>0.000025</td>\n      <td>0.00006</td>\n    </tr>\n    <tr>\n      <th>2</th>\n      <td>2010-01-01 00:30:00</td>\n      <td>2010-01-01 00:45:00</td>\n      <td>0.000036</td>\n      <td>0.000038</td>\n      <td>0.000038</td>\n      <td>0.000025</td>\n      <td>0.000025</td>\n      <td>0.000025</td>\n      <td>0.000019</td>\n      <td>0.000019</td>\n      <td>0.000025</td>\n      <td>0.00006</td>\n    </tr>\n    <tr>\n      <th>3</th>\n      <td>2010-01-01 00:45:00</td>\n      <td>2010-01-01 01:00:00</td>\n      <td>0.000035</td>\n      <td>0.000037</td>\n      <td>0.000037</td>\n      <td>0.000024</td>\n      <td>0.000025</td>\n      <td>0.000024</td>\n      <td>0.000019</td>\n      <td>0.000019</td>\n      <td>0.000025</td>\n      <td>0.00006</td>\n    </tr>\n    <tr>\n      <th>4</th>\n      <td>2010-01-01 01:00:00</td>\n      <td>2010-01-01 01:15:00</td>\n      <td>0.000034</td>\n      <td>0.000035</td>\n      <td>0.000037</td>\n      <td>0.000022</td>\n      <td>0.000024</td>\n      <td>0.000022</td>\n      <td>0.000019</td>\n      <td>0.000019</td>\n      <td>0.000025</td>\n      <td>0.00006</td>\n    </tr>\n    <tr>\n      <th>5</th>\n      <td>2010-01-01 01:15:00</td>\n      <td>2010-01-01 01:30:00</td>\n      <td>0.000031</td>\n      <td>0.000034</td>\n      <td>0.000035</td>\n      <td>0.000021</td>\n      <td>0.000023</td>\n      <td>0.000021</td>\n      <td>0.000018</td>\n      <td>0.000018</td>\n      <td>0.000025</td>\n      <td>0.00006</td>\n    </tr>\n    <tr>\n      <th>6</th>\n      <td>2010-01-01 01:30:00</td>\n      <td>2010-01-01 01:45:00</td>\n      <td>0.000030</td>\n      <td>0.000033</td>\n      <td>0.000033</td>\n      <td>0.000021</td>\n      <td>0.000023</td>\n      <td>0.000021</td>\n      <td>0.000018</td>\n      <td>0.000018</td>\n      <td>0.000025</td>\n      <td>0.00006</td>\n    </tr>\n    <tr>\n      <th>7</th>\n      <td>2010-01-01 01:45:00</td>\n      <td>2010-01-01 02:00:00</td>\n      <td>0.000029</td>\n      <td>0.000031</td>\n      <td>0.000030</td>\n      <td>0.000021</td>\n      <td>0.000023</td>\n      <td>0.000021</td>\n      <td>0.000018</td>\n      <td>0.000018</td>\n      <td>0.000025</td>\n      <td>0.00006</td>\n    </tr>\n    <tr>\n      <th>8</th>\n      <td>2010-01-01 02:00:00</td>\n      <td>2010-01-01 02:15:00</td>\n      <td>0.000027</td>\n      <td>0.000029</td>\n      <td>0.000028</td>\n      <td>0.000020</td>\n      <td>0.000022</td>\n      <td>0.000020</td>\n      <td>0.000018</td>\n      <td>0.000018</td>\n      <td>0.000025</td>\n      <td>0.00006</td>\n    </tr>\n    <tr>\n      <th>9</th>\n      <td>2010-01-01 02:15:00</td>\n      <td>2010-01-01 02:30:00</td>\n      <td>0.000025</td>\n      <td>0.000028</td>\n      <td>0.000026</td>\n      <td>0.000021</td>\n      <td>0.000021</td>\n      <td>0.000021</td>\n      <td>0.000018</td>\n      <td>0.000018</td>\n      <td>0.000025</td>\n      <td>0.00006</td>\n    </tr>\n    <tr>\n      <th>10</th>\n      <td>2010-01-01 02:30:00</td>\n      <td>2010-01-01 02:45:00</td>\n      <td>0.000024</td>\n      <td>0.000026</td>\n      <td>0.000025</td>\n      <td>0.000022</td>\n      <td>0.000020</td>\n      <td>0.000022</td>\n      <td>0.000018</td>\n      <td>0.000018</td>\n      <td>0.000025</td>\n      <td>0.00006</td>\n    </tr>\n    <tr>\n      <th>11</th>\n      <td>2010-01-01 02:45:00</td>\n      <td>2010-01-01 03:00:00</td>\n      <td>0.000022</td>\n      <td>0.000026</td>\n      <td>0.000025</td>\n      <td>0.000021</td>\n      <td>0.000019</td>\n      <td>0.000021</td>\n      <td>0.000017</td>\n      <td>0.000017</td>\n      <td>0.000025</td>\n      <td>0.00006</td>\n    </tr>\n    <tr>\n      <th>12</th>\n      <td>2010-01-01 03:00:00</td>\n      <td>2010-01-01 03:15:00</td>\n      <td>0.000020</td>\n      <td>0.000024</td>\n      <td>0.000025</td>\n      <td>0.000020</td>\n      <td>0.000018</td>\n      <td>0.000020</td>\n      <td>0.000017</td>\n      <td>0.000017</td>\n      <td>0.000025</td>\n      <td>0.00006</td>\n    </tr>\n    <tr>\n      <th>13</th>\n      <td>2010-01-01 03:15:00</td>\n      <td>2010-01-01 03:30:00</td>\n      <td>0.000018</td>\n      <td>0.000023</td>\n      <td>0.000025</td>\n      <td>0.000018</td>\n      <td>0.000018</td>\n      <td>0.000018</td>\n      <td>0.000017</td>\n      <td>0.000017</td>\n      <td>0.000025</td>\n      <td>0.00006</td>\n    </tr>\n    <tr>\n      <th>14</th>\n      <td>2010-01-01 03:30:00</td>\n      <td>2010-01-01 03:45:00</td>\n      <td>0.000017</td>\n      <td>0.000022</td>\n      <td>0.000024</td>\n      <td>0.000019</td>\n      <td>0.000018</td>\n      <td>0.000019</td>\n      <td>0.000017</td>\n      <td>0.000017</td>\n      <td>0.000025</td>\n      <td>0.00006</td>\n    </tr>\n  </tbody>\n</table>\n</div>"
     },
     "metadata": {},
     "execution_count": 18
    }
   ],
   "source": [
    "combined_df.head(15)"
   ]
  },
  {
   "cell_type": "code",
   "execution_count": 19,
   "metadata": {},
   "outputs": [
    {
     "output_type": "execute_result",
     "data": {
      "text/plain": [
       "                    Start                 End       E1A       E1B       E1C  \\\n",
       "35030 2010-12-31 21:30:00 2010-12-31 21:45:00  0.000050  0.000046  0.000048   \n",
       "35031 2010-12-31 21:45:00 2010-12-31 22:00:00  0.000049  0.000045  0.000045   \n",
       "35032 2010-12-31 22:00:00 2010-12-31 22:15:00  0.000048  0.000044  0.000043   \n",
       "35033 2010-12-31 22:15:00 2010-12-31 22:30:00  0.000046  0.000043  0.000043   \n",
       "35034 2010-12-31 22:30:00 2010-12-31 22:45:00  0.000044  0.000042  0.000043   \n",
       "35035 2010-12-31 22:45:00 2010-12-31 23:00:00  0.000041  0.000043  0.000043   \n",
       "35036 2010-12-31 23:00:00 2010-12-31 23:15:00  0.000039  0.000044  0.000043   \n",
       "35037 2010-12-31 23:15:00 2010-12-31 23:30:00  0.000037  0.000044  0.000043   \n",
       "35038 2010-12-31 23:30:00 2010-12-31 23:45:00  0.000034  0.000041  0.000042   \n",
       "35039 2010-12-31 23:45:00 2011-01-01 00:00:00  0.000033  0.000038  0.000039   \n",
       "35040 2011-01-01 00:00:00 2011-01-01 00:15:00  0.000037  0.000040  0.000037   \n",
       "35041 2011-01-01 00:15:00 2011-01-01 00:30:00  0.000036  0.000038  0.000036   \n",
       "35042 2011-01-01 00:30:00 2011-01-01 00:45:00  0.000035  0.000037  0.000036   \n",
       "35043 2011-01-01 00:45:00 2011-01-01 01:00:00  0.000034  0.000036  0.000035   \n",
       "35044 2011-01-01 01:00:00 2011-01-01 01:15:00  0.000033  0.000034  0.000036   \n",
       "35045 2011-01-01 01:15:00 2011-01-01 01:30:00  0.000031  0.000033  0.000034   \n",
       "35046 2011-01-01 01:30:00 2011-01-01 01:45:00  0.000029  0.000032  0.000032   \n",
       "35047 2011-01-01 01:45:00 2011-01-01 02:00:00  0.000028  0.000031  0.000028   \n",
       "35048 2011-01-01 02:00:00 2011-01-01 02:15:00  0.000027  0.000029  0.000027   \n",
       "35049 2011-01-01 02:15:00 2011-01-01 02:30:00  0.000025  0.000028  0.000025   \n",
       "\n",
       "            E2A       E2B       E3A       E3B       E3C       E3D      E4A  \n",
       "35030  0.000025  0.000035  0.000025  0.000025  0.000025  0.000029  0.00006  \n",
       "35031  0.000025  0.000033  0.000025  0.000024  0.000024  0.000028  0.00006  \n",
       "35032  0.000024  0.000032  0.000024  0.000023  0.000023  0.000028  0.00006  \n",
       "35033  0.000023  0.000030  0.000023  0.000023  0.000023  0.000028  0.00006  \n",
       "35034  0.000022  0.000030  0.000022  0.000022  0.000022  0.000027  0.00006  \n",
       "35035  0.000022  0.000030  0.000022  0.000022  0.000022  0.000027  0.00006  \n",
       "35036  0.000022  0.000030  0.000022  0.000021  0.000021  0.000027  0.00006  \n",
       "35037  0.000023  0.000030  0.000023  0.000021  0.000021  0.000027  0.00006  \n",
       "35038  0.000022  0.000028  0.000022  0.000021  0.000021  0.000027  0.00006  \n",
       "35039  0.000022  0.000027  0.000022  0.000020  0.000020  0.000026  0.00006  \n",
       "35040  0.000024  0.000028  0.000024  0.000018  0.000018  0.000025  0.00006  \n",
       "35041  0.000024  0.000028  0.000024  0.000018  0.000018  0.000025  0.00006  \n",
       "35042  0.000024  0.000027  0.000024  0.000018  0.000018  0.000025  0.00006  \n",
       "35043  0.000023  0.000027  0.000023  0.000018  0.000018  0.000025  0.00006  \n",
       "35044  0.000023  0.000026  0.000023  0.000018  0.000018  0.000025  0.00006  \n",
       "35045  0.000022  0.000025  0.000022  0.000018  0.000018  0.000025  0.00006  \n",
       "35046  0.000022  0.000024  0.000022  0.000018  0.000018  0.000025  0.00006  \n",
       "35047  0.000022  0.000024  0.000022  0.000017  0.000017  0.000025  0.00006  \n",
       "35048  0.000022  0.000023  0.000022  0.000017  0.000017  0.000025  0.00006  \n",
       "35049  0.000022  0.000022  0.000022  0.000017  0.000017  0.000025  0.00006  "
      ],
      "text/html": "<div>\n<style scoped>\n    .dataframe tbody tr th:only-of-type {\n        vertical-align: middle;\n    }\n\n    .dataframe tbody tr th {\n        vertical-align: top;\n    }\n\n    .dataframe thead th {\n        text-align: right;\n    }\n</style>\n<table border=\"1\" class=\"dataframe\">\n  <thead>\n    <tr style=\"text-align: right;\">\n      <th></th>\n      <th>Start</th>\n      <th>End</th>\n      <th>E1A</th>\n      <th>E1B</th>\n      <th>E1C</th>\n      <th>E2A</th>\n      <th>E2B</th>\n      <th>E3A</th>\n      <th>E3B</th>\n      <th>E3C</th>\n      <th>E3D</th>\n      <th>E4A</th>\n    </tr>\n  </thead>\n  <tbody>\n    <tr>\n      <th>35030</th>\n      <td>2010-12-31 21:30:00</td>\n      <td>2010-12-31 21:45:00</td>\n      <td>0.000050</td>\n      <td>0.000046</td>\n      <td>0.000048</td>\n      <td>0.000025</td>\n      <td>0.000035</td>\n      <td>0.000025</td>\n      <td>0.000025</td>\n      <td>0.000025</td>\n      <td>0.000029</td>\n      <td>0.00006</td>\n    </tr>\n    <tr>\n      <th>35031</th>\n      <td>2010-12-31 21:45:00</td>\n      <td>2010-12-31 22:00:00</td>\n      <td>0.000049</td>\n      <td>0.000045</td>\n      <td>0.000045</td>\n      <td>0.000025</td>\n      <td>0.000033</td>\n      <td>0.000025</td>\n      <td>0.000024</td>\n      <td>0.000024</td>\n      <td>0.000028</td>\n      <td>0.00006</td>\n    </tr>\n    <tr>\n      <th>35032</th>\n      <td>2010-12-31 22:00:00</td>\n      <td>2010-12-31 22:15:00</td>\n      <td>0.000048</td>\n      <td>0.000044</td>\n      <td>0.000043</td>\n      <td>0.000024</td>\n      <td>0.000032</td>\n      <td>0.000024</td>\n      <td>0.000023</td>\n      <td>0.000023</td>\n      <td>0.000028</td>\n      <td>0.00006</td>\n    </tr>\n    <tr>\n      <th>35033</th>\n      <td>2010-12-31 22:15:00</td>\n      <td>2010-12-31 22:30:00</td>\n      <td>0.000046</td>\n      <td>0.000043</td>\n      <td>0.000043</td>\n      <td>0.000023</td>\n      <td>0.000030</td>\n      <td>0.000023</td>\n      <td>0.000023</td>\n      <td>0.000023</td>\n      <td>0.000028</td>\n      <td>0.00006</td>\n    </tr>\n    <tr>\n      <th>35034</th>\n      <td>2010-12-31 22:30:00</td>\n      <td>2010-12-31 22:45:00</td>\n      <td>0.000044</td>\n      <td>0.000042</td>\n      <td>0.000043</td>\n      <td>0.000022</td>\n      <td>0.000030</td>\n      <td>0.000022</td>\n      <td>0.000022</td>\n      <td>0.000022</td>\n      <td>0.000027</td>\n      <td>0.00006</td>\n    </tr>\n    <tr>\n      <th>35035</th>\n      <td>2010-12-31 22:45:00</td>\n      <td>2010-12-31 23:00:00</td>\n      <td>0.000041</td>\n      <td>0.000043</td>\n      <td>0.000043</td>\n      <td>0.000022</td>\n      <td>0.000030</td>\n      <td>0.000022</td>\n      <td>0.000022</td>\n      <td>0.000022</td>\n      <td>0.000027</td>\n      <td>0.00006</td>\n    </tr>\n    <tr>\n      <th>35036</th>\n      <td>2010-12-31 23:00:00</td>\n      <td>2010-12-31 23:15:00</td>\n      <td>0.000039</td>\n      <td>0.000044</td>\n      <td>0.000043</td>\n      <td>0.000022</td>\n      <td>0.000030</td>\n      <td>0.000022</td>\n      <td>0.000021</td>\n      <td>0.000021</td>\n      <td>0.000027</td>\n      <td>0.00006</td>\n    </tr>\n    <tr>\n      <th>35037</th>\n      <td>2010-12-31 23:15:00</td>\n      <td>2010-12-31 23:30:00</td>\n      <td>0.000037</td>\n      <td>0.000044</td>\n      <td>0.000043</td>\n      <td>0.000023</td>\n      <td>0.000030</td>\n      <td>0.000023</td>\n      <td>0.000021</td>\n      <td>0.000021</td>\n      <td>0.000027</td>\n      <td>0.00006</td>\n    </tr>\n    <tr>\n      <th>35038</th>\n      <td>2010-12-31 23:30:00</td>\n      <td>2010-12-31 23:45:00</td>\n      <td>0.000034</td>\n      <td>0.000041</td>\n      <td>0.000042</td>\n      <td>0.000022</td>\n      <td>0.000028</td>\n      <td>0.000022</td>\n      <td>0.000021</td>\n      <td>0.000021</td>\n      <td>0.000027</td>\n      <td>0.00006</td>\n    </tr>\n    <tr>\n      <th>35039</th>\n      <td>2010-12-31 23:45:00</td>\n      <td>2011-01-01 00:00:00</td>\n      <td>0.000033</td>\n      <td>0.000038</td>\n      <td>0.000039</td>\n      <td>0.000022</td>\n      <td>0.000027</td>\n      <td>0.000022</td>\n      <td>0.000020</td>\n      <td>0.000020</td>\n      <td>0.000026</td>\n      <td>0.00006</td>\n    </tr>\n    <tr>\n      <th>35040</th>\n      <td>2011-01-01 00:00:00</td>\n      <td>2011-01-01 00:15:00</td>\n      <td>0.000037</td>\n      <td>0.000040</td>\n      <td>0.000037</td>\n      <td>0.000024</td>\n      <td>0.000028</td>\n      <td>0.000024</td>\n      <td>0.000018</td>\n      <td>0.000018</td>\n      <td>0.000025</td>\n      <td>0.00006</td>\n    </tr>\n    <tr>\n      <th>35041</th>\n      <td>2011-01-01 00:15:00</td>\n      <td>2011-01-01 00:30:00</td>\n      <td>0.000036</td>\n      <td>0.000038</td>\n      <td>0.000036</td>\n      <td>0.000024</td>\n      <td>0.000028</td>\n      <td>0.000024</td>\n      <td>0.000018</td>\n      <td>0.000018</td>\n      <td>0.000025</td>\n      <td>0.00006</td>\n    </tr>\n    <tr>\n      <th>35042</th>\n      <td>2011-01-01 00:30:00</td>\n      <td>2011-01-01 00:45:00</td>\n      <td>0.000035</td>\n      <td>0.000037</td>\n      <td>0.000036</td>\n      <td>0.000024</td>\n      <td>0.000027</td>\n      <td>0.000024</td>\n      <td>0.000018</td>\n      <td>0.000018</td>\n      <td>0.000025</td>\n      <td>0.00006</td>\n    </tr>\n    <tr>\n      <th>35043</th>\n      <td>2011-01-01 00:45:00</td>\n      <td>2011-01-01 01:00:00</td>\n      <td>0.000034</td>\n      <td>0.000036</td>\n      <td>0.000035</td>\n      <td>0.000023</td>\n      <td>0.000027</td>\n      <td>0.000023</td>\n      <td>0.000018</td>\n      <td>0.000018</td>\n      <td>0.000025</td>\n      <td>0.00006</td>\n    </tr>\n    <tr>\n      <th>35044</th>\n      <td>2011-01-01 01:00:00</td>\n      <td>2011-01-01 01:15:00</td>\n      <td>0.000033</td>\n      <td>0.000034</td>\n      <td>0.000036</td>\n      <td>0.000023</td>\n      <td>0.000026</td>\n      <td>0.000023</td>\n      <td>0.000018</td>\n      <td>0.000018</td>\n      <td>0.000025</td>\n      <td>0.00006</td>\n    </tr>\n    <tr>\n      <th>35045</th>\n      <td>2011-01-01 01:15:00</td>\n      <td>2011-01-01 01:30:00</td>\n      <td>0.000031</td>\n      <td>0.000033</td>\n      <td>0.000034</td>\n      <td>0.000022</td>\n      <td>0.000025</td>\n      <td>0.000022</td>\n      <td>0.000018</td>\n      <td>0.000018</td>\n      <td>0.000025</td>\n      <td>0.00006</td>\n    </tr>\n    <tr>\n      <th>35046</th>\n      <td>2011-01-01 01:30:00</td>\n      <td>2011-01-01 01:45:00</td>\n      <td>0.000029</td>\n      <td>0.000032</td>\n      <td>0.000032</td>\n      <td>0.000022</td>\n      <td>0.000024</td>\n      <td>0.000022</td>\n      <td>0.000018</td>\n      <td>0.000018</td>\n      <td>0.000025</td>\n      <td>0.00006</td>\n    </tr>\n    <tr>\n      <th>35047</th>\n      <td>2011-01-01 01:45:00</td>\n      <td>2011-01-01 02:00:00</td>\n      <td>0.000028</td>\n      <td>0.000031</td>\n      <td>0.000028</td>\n      <td>0.000022</td>\n      <td>0.000024</td>\n      <td>0.000022</td>\n      <td>0.000017</td>\n      <td>0.000017</td>\n      <td>0.000025</td>\n      <td>0.00006</td>\n    </tr>\n    <tr>\n      <th>35048</th>\n      <td>2011-01-01 02:00:00</td>\n      <td>2011-01-01 02:15:00</td>\n      <td>0.000027</td>\n      <td>0.000029</td>\n      <td>0.000027</td>\n      <td>0.000022</td>\n      <td>0.000023</td>\n      <td>0.000022</td>\n      <td>0.000017</td>\n      <td>0.000017</td>\n      <td>0.000025</td>\n      <td>0.00006</td>\n    </tr>\n    <tr>\n      <th>35049</th>\n      <td>2011-01-01 02:15:00</td>\n      <td>2011-01-01 02:30:00</td>\n      <td>0.000025</td>\n      <td>0.000028</td>\n      <td>0.000025</td>\n      <td>0.000022</td>\n      <td>0.000022</td>\n      <td>0.000022</td>\n      <td>0.000017</td>\n      <td>0.000017</td>\n      <td>0.000025</td>\n      <td>0.00006</td>\n    </tr>\n  </tbody>\n</table>\n</div>"
     },
     "metadata": {},
     "execution_count": 19
    }
   ],
   "source": [
    "# Bereken de index van de jaarovergang van 2010 naar 2011 om te controleren of de sortering heeft gewerkt\n",
    "end_of_year = 4 * 24 * 365\n",
    "combined_df[end_of_year-10:end_of_year+10]"
   ]
  },
  {
   "cell_type": "code",
   "execution_count": 20,
   "metadata": {},
   "outputs": [
    {
     "output_type": "execute_result",
     "data": {
      "text/plain": [
       "                     Start                 End       E1A       E1B       E1C  \\\n",
       "210326 2015-12-31 21:30:00 2015-12-31 21:45:00  0.000049  0.000046  0.000050   \n",
       "210327 2015-12-31 21:45:00 2015-12-31 22:00:00  0.000049  0.000045  0.000051   \n",
       "210328 2015-12-31 22:00:00 2015-12-31 22:15:00  0.000048  0.000044  0.000051   \n",
       "210329 2015-12-31 22:15:00 2015-12-31 22:30:00  0.000046  0.000044  0.000049   \n",
       "210330 2015-12-31 22:30:00 2015-12-31 22:45:00  0.000044  0.000044  0.000046   \n",
       "210331 2015-12-31 22:45:00 2015-12-31 23:00:00  0.000042  0.000044  0.000043   \n",
       "210332 2015-12-31 23:00:00 2015-12-31 23:15:00  0.000041  0.000042  0.000040   \n",
       "210333 2015-12-31 23:15:00 2015-12-31 23:30:00  0.000041  0.000041  0.000039   \n",
       "210334 2015-12-31 23:30:00 2015-12-31 23:45:00  0.000040  0.000041  0.000038   \n",
       "210335 2015-12-31 23:45:00 2016-01-01 00:00:00  0.000040  0.000040  0.000037   \n",
       "210336 2016-01-01 00:00:00 2016-01-01 00:15:00  0.000040  0.000041  0.000037   \n",
       "210337 2016-01-01 00:15:00 2016-01-01 00:30:00  0.000039  0.000039  0.000035   \n",
       "210338 2016-01-01 00:30:00 2016-01-01 00:45:00  0.000037  0.000038  0.000034   \n",
       "210339 2016-01-01 00:45:00 2016-01-01 01:00:00  0.000036  0.000037  0.000036   \n",
       "210340 2016-01-01 01:00:00 2016-01-01 01:15:00  0.000034  0.000035  0.000037   \n",
       "210341 2016-01-01 01:15:00 2016-01-01 01:30:00  0.000032  0.000034  0.000038   \n",
       "210342 2016-01-01 01:30:00 2016-01-01 01:45:00  0.000030  0.000033  0.000038   \n",
       "210343 2016-01-01 01:45:00 2016-01-01 02:00:00  0.000027  0.000032  0.000037   \n",
       "210344 2016-01-01 02:00:00 2016-01-01 02:15:00  0.000026  0.000032  0.000034   \n",
       "210345 2016-01-01 02:15:00 2016-01-01 02:30:00  0.000024  0.000031  0.000032   \n",
       "\n",
       "             E2A       E2B       E3A       E3B       E3C       E3D      E4A  \n",
       "210326  0.000028  0.000025  0.000019  0.000022  0.000022  0.000028  0.00006  \n",
       "210327  0.000027  0.000025  0.000019  0.000021  0.000021  0.000027  0.00006  \n",
       "210328  0.000026  0.000024  0.000019  0.000021  0.000021  0.000027  0.00006  \n",
       "210329  0.000025  0.000024  0.000019  0.000021  0.000021  0.000027  0.00006  \n",
       "210330  0.000024  0.000023  0.000019  0.000021  0.000021  0.000027  0.00006  \n",
       "210331  0.000023  0.000023  0.000019  0.000021  0.000021  0.000026  0.00006  \n",
       "210332  0.000023  0.000024  0.000019  0.000021  0.000021  0.000026  0.00006  \n",
       "210333  0.000023  0.000024  0.000019  0.000021  0.000021  0.000026  0.00006  \n",
       "210334  0.000024  0.000024  0.000019  0.000021  0.000021  0.000026  0.00006  \n",
       "210335  0.000023  0.000024  0.000019  0.000021  0.000021  0.000026  0.00006  \n",
       "210336  0.000023  0.000025  0.000020  0.000020  0.000020  0.000025  0.00006  \n",
       "210337  0.000022  0.000025  0.000020  0.000021  0.000021  0.000025  0.00006  \n",
       "210338  0.000022  0.000025  0.000020  0.000021  0.000021  0.000025  0.00006  \n",
       "210339  0.000022  0.000025  0.000020  0.000021  0.000021  0.000025  0.00006  \n",
       "210340  0.000023  0.000025  0.000020  0.000021  0.000021  0.000025  0.00006  \n",
       "210341  0.000023  0.000024  0.000020  0.000021  0.000021  0.000025  0.00006  \n",
       "210342  0.000022  0.000024  0.000020  0.000021  0.000021  0.000025  0.00006  \n",
       "210343  0.000021  0.000023  0.000020  0.000021  0.000021  0.000025  0.00006  \n",
       "210344  0.000020  0.000022  0.000020  0.000021  0.000021  0.000025  0.00006  \n",
       "210345  0.000020  0.000022  0.000020  0.000021  0.000021  0.000025  0.00006  "
      ],
      "text/html": "<div>\n<style scoped>\n    .dataframe tbody tr th:only-of-type {\n        vertical-align: middle;\n    }\n\n    .dataframe tbody tr th {\n        vertical-align: top;\n    }\n\n    .dataframe thead th {\n        text-align: right;\n    }\n</style>\n<table border=\"1\" class=\"dataframe\">\n  <thead>\n    <tr style=\"text-align: right;\">\n      <th></th>\n      <th>Start</th>\n      <th>End</th>\n      <th>E1A</th>\n      <th>E1B</th>\n      <th>E1C</th>\n      <th>E2A</th>\n      <th>E2B</th>\n      <th>E3A</th>\n      <th>E3B</th>\n      <th>E3C</th>\n      <th>E3D</th>\n      <th>E4A</th>\n    </tr>\n  </thead>\n  <tbody>\n    <tr>\n      <th>210326</th>\n      <td>2015-12-31 21:30:00</td>\n      <td>2015-12-31 21:45:00</td>\n      <td>0.000049</td>\n      <td>0.000046</td>\n      <td>0.000050</td>\n      <td>0.000028</td>\n      <td>0.000025</td>\n      <td>0.000019</td>\n      <td>0.000022</td>\n      <td>0.000022</td>\n      <td>0.000028</td>\n      <td>0.00006</td>\n    </tr>\n    <tr>\n      <th>210327</th>\n      <td>2015-12-31 21:45:00</td>\n      <td>2015-12-31 22:00:00</td>\n      <td>0.000049</td>\n      <td>0.000045</td>\n      <td>0.000051</td>\n      <td>0.000027</td>\n      <td>0.000025</td>\n      <td>0.000019</td>\n      <td>0.000021</td>\n      <td>0.000021</td>\n      <td>0.000027</td>\n      <td>0.00006</td>\n    </tr>\n    <tr>\n      <th>210328</th>\n      <td>2015-12-31 22:00:00</td>\n      <td>2015-12-31 22:15:00</td>\n      <td>0.000048</td>\n      <td>0.000044</td>\n      <td>0.000051</td>\n      <td>0.000026</td>\n      <td>0.000024</td>\n      <td>0.000019</td>\n      <td>0.000021</td>\n      <td>0.000021</td>\n      <td>0.000027</td>\n      <td>0.00006</td>\n    </tr>\n    <tr>\n      <th>210329</th>\n      <td>2015-12-31 22:15:00</td>\n      <td>2015-12-31 22:30:00</td>\n      <td>0.000046</td>\n      <td>0.000044</td>\n      <td>0.000049</td>\n      <td>0.000025</td>\n      <td>0.000024</td>\n      <td>0.000019</td>\n      <td>0.000021</td>\n      <td>0.000021</td>\n      <td>0.000027</td>\n      <td>0.00006</td>\n    </tr>\n    <tr>\n      <th>210330</th>\n      <td>2015-12-31 22:30:00</td>\n      <td>2015-12-31 22:45:00</td>\n      <td>0.000044</td>\n      <td>0.000044</td>\n      <td>0.000046</td>\n      <td>0.000024</td>\n      <td>0.000023</td>\n      <td>0.000019</td>\n      <td>0.000021</td>\n      <td>0.000021</td>\n      <td>0.000027</td>\n      <td>0.00006</td>\n    </tr>\n    <tr>\n      <th>210331</th>\n      <td>2015-12-31 22:45:00</td>\n      <td>2015-12-31 23:00:00</td>\n      <td>0.000042</td>\n      <td>0.000044</td>\n      <td>0.000043</td>\n      <td>0.000023</td>\n      <td>0.000023</td>\n      <td>0.000019</td>\n      <td>0.000021</td>\n      <td>0.000021</td>\n      <td>0.000026</td>\n      <td>0.00006</td>\n    </tr>\n    <tr>\n      <th>210332</th>\n      <td>2015-12-31 23:00:00</td>\n      <td>2015-12-31 23:15:00</td>\n      <td>0.000041</td>\n      <td>0.000042</td>\n      <td>0.000040</td>\n      <td>0.000023</td>\n      <td>0.000024</td>\n      <td>0.000019</td>\n      <td>0.000021</td>\n      <td>0.000021</td>\n      <td>0.000026</td>\n      <td>0.00006</td>\n    </tr>\n    <tr>\n      <th>210333</th>\n      <td>2015-12-31 23:15:00</td>\n      <td>2015-12-31 23:30:00</td>\n      <td>0.000041</td>\n      <td>0.000041</td>\n      <td>0.000039</td>\n      <td>0.000023</td>\n      <td>0.000024</td>\n      <td>0.000019</td>\n      <td>0.000021</td>\n      <td>0.000021</td>\n      <td>0.000026</td>\n      <td>0.00006</td>\n    </tr>\n    <tr>\n      <th>210334</th>\n      <td>2015-12-31 23:30:00</td>\n      <td>2015-12-31 23:45:00</td>\n      <td>0.000040</td>\n      <td>0.000041</td>\n      <td>0.000038</td>\n      <td>0.000024</td>\n      <td>0.000024</td>\n      <td>0.000019</td>\n      <td>0.000021</td>\n      <td>0.000021</td>\n      <td>0.000026</td>\n      <td>0.00006</td>\n    </tr>\n    <tr>\n      <th>210335</th>\n      <td>2015-12-31 23:45:00</td>\n      <td>2016-01-01 00:00:00</td>\n      <td>0.000040</td>\n      <td>0.000040</td>\n      <td>0.000037</td>\n      <td>0.000023</td>\n      <td>0.000024</td>\n      <td>0.000019</td>\n      <td>0.000021</td>\n      <td>0.000021</td>\n      <td>0.000026</td>\n      <td>0.00006</td>\n    </tr>\n    <tr>\n      <th>210336</th>\n      <td>2016-01-01 00:00:00</td>\n      <td>2016-01-01 00:15:00</td>\n      <td>0.000040</td>\n      <td>0.000041</td>\n      <td>0.000037</td>\n      <td>0.000023</td>\n      <td>0.000025</td>\n      <td>0.000020</td>\n      <td>0.000020</td>\n      <td>0.000020</td>\n      <td>0.000025</td>\n      <td>0.00006</td>\n    </tr>\n    <tr>\n      <th>210337</th>\n      <td>2016-01-01 00:15:00</td>\n      <td>2016-01-01 00:30:00</td>\n      <td>0.000039</td>\n      <td>0.000039</td>\n      <td>0.000035</td>\n      <td>0.000022</td>\n      <td>0.000025</td>\n      <td>0.000020</td>\n      <td>0.000021</td>\n      <td>0.000021</td>\n      <td>0.000025</td>\n      <td>0.00006</td>\n    </tr>\n    <tr>\n      <th>210338</th>\n      <td>2016-01-01 00:30:00</td>\n      <td>2016-01-01 00:45:00</td>\n      <td>0.000037</td>\n      <td>0.000038</td>\n      <td>0.000034</td>\n      <td>0.000022</td>\n      <td>0.000025</td>\n      <td>0.000020</td>\n      <td>0.000021</td>\n      <td>0.000021</td>\n      <td>0.000025</td>\n      <td>0.00006</td>\n    </tr>\n    <tr>\n      <th>210339</th>\n      <td>2016-01-01 00:45:00</td>\n      <td>2016-01-01 01:00:00</td>\n      <td>0.000036</td>\n      <td>0.000037</td>\n      <td>0.000036</td>\n      <td>0.000022</td>\n      <td>0.000025</td>\n      <td>0.000020</td>\n      <td>0.000021</td>\n      <td>0.000021</td>\n      <td>0.000025</td>\n      <td>0.00006</td>\n    </tr>\n    <tr>\n      <th>210340</th>\n      <td>2016-01-01 01:00:00</td>\n      <td>2016-01-01 01:15:00</td>\n      <td>0.000034</td>\n      <td>0.000035</td>\n      <td>0.000037</td>\n      <td>0.000023</td>\n      <td>0.000025</td>\n      <td>0.000020</td>\n      <td>0.000021</td>\n      <td>0.000021</td>\n      <td>0.000025</td>\n      <td>0.00006</td>\n    </tr>\n    <tr>\n      <th>210341</th>\n      <td>2016-01-01 01:15:00</td>\n      <td>2016-01-01 01:30:00</td>\n      <td>0.000032</td>\n      <td>0.000034</td>\n      <td>0.000038</td>\n      <td>0.000023</td>\n      <td>0.000024</td>\n      <td>0.000020</td>\n      <td>0.000021</td>\n      <td>0.000021</td>\n      <td>0.000025</td>\n      <td>0.00006</td>\n    </tr>\n    <tr>\n      <th>210342</th>\n      <td>2016-01-01 01:30:00</td>\n      <td>2016-01-01 01:45:00</td>\n      <td>0.000030</td>\n      <td>0.000033</td>\n      <td>0.000038</td>\n      <td>0.000022</td>\n      <td>0.000024</td>\n      <td>0.000020</td>\n      <td>0.000021</td>\n      <td>0.000021</td>\n      <td>0.000025</td>\n      <td>0.00006</td>\n    </tr>\n    <tr>\n      <th>210343</th>\n      <td>2016-01-01 01:45:00</td>\n      <td>2016-01-01 02:00:00</td>\n      <td>0.000027</td>\n      <td>0.000032</td>\n      <td>0.000037</td>\n      <td>0.000021</td>\n      <td>0.000023</td>\n      <td>0.000020</td>\n      <td>0.000021</td>\n      <td>0.000021</td>\n      <td>0.000025</td>\n      <td>0.00006</td>\n    </tr>\n    <tr>\n      <th>210344</th>\n      <td>2016-01-01 02:00:00</td>\n      <td>2016-01-01 02:15:00</td>\n      <td>0.000026</td>\n      <td>0.000032</td>\n      <td>0.000034</td>\n      <td>0.000020</td>\n      <td>0.000022</td>\n      <td>0.000020</td>\n      <td>0.000021</td>\n      <td>0.000021</td>\n      <td>0.000025</td>\n      <td>0.00006</td>\n    </tr>\n    <tr>\n      <th>210345</th>\n      <td>2016-01-01 02:15:00</td>\n      <td>2016-01-01 02:30:00</td>\n      <td>0.000024</td>\n      <td>0.000031</td>\n      <td>0.000032</td>\n      <td>0.000020</td>\n      <td>0.000022</td>\n      <td>0.000020</td>\n      <td>0.000021</td>\n      <td>0.000021</td>\n      <td>0.000025</td>\n      <td>0.00006</td>\n    </tr>\n  </tbody>\n</table>\n</div>"
     },
     "metadata": {},
     "execution_count": 20
    }
   ],
   "source": [
    "# Controleer ook de jaarovergang van 2015 naar 2016\n",
    "end_of_year = 5 * (4 * 24 * 365) + 4 * 24 * 366\n",
    "combined_df[end_of_year-10:end_of_year+10]"
   ]
  },
  {
   "cell_type": "code",
   "execution_count": 21,
   "metadata": {},
   "outputs": [],
   "source": [
    "# data locatie als we hier komen is 'temp_voor_EDU_files'\n",
    "data_location = '../../data/processed'\n",
    "\n",
    "# Ga naar de folder waarin de processed data staat\n",
    "# Eenmaal chdir uitgevoerd blijft de current directory uiteraard 'processed'\n",
    "if 'processed' not in os.getcwd():\n",
    "    os.chdir(data_location)"
   ]
  },
  {
   "cell_type": "code",
   "execution_count": 22,
   "metadata": {},
   "outputs": [],
   "source": [
    "try:\n",
    "    os.remove('nedu_files.h5')\n",
    "except:\n",
    "    print ('File nog in gebruik of niet gevonden')\n",
    "\n",
    "store = pd.HDFStore('nedu_files.h5')\n",
    "store['nedu_files'] = combined_df\n",
    "store.close()"
   ]
  },
  {
   "cell_type": "code",
   "execution_count": 23,
   "metadata": {},
   "outputs": [],
   "source": [
    "# Gooi de temporary directory weg. Het dataframe is gemaakt en opgeslagen\n",
    "data_location = '../../notebooks'\n",
    "\n",
    "# Ga terug naar de notebooks directory\n",
    "if 'notebooks' not in os.getcwd():\n",
    "    os.chdir(data_location)"
   ]
  },
  {
   "cell_type": "code",
   "execution_count": 24,
   "metadata": {},
   "outputs": [],
   "source": [
    "import shutil\n",
    "\n",
    "try:\n",
    "    # Gooi de tijdelijke directory weg. Het dataframe is gemaakt en opgeslagen\n",
    "    shutil.rmtree(tmp_directory)\n",
    "except OSError as e:\n",
    "    print(f\"Error: {tmp_directory} : {e.strerror}\")"
   ]
  }
 ],
 "metadata": {
  "kernelspec": {
   "display_name": "Python 3",
   "language": "python",
   "name": "python3"
  },
  "language_info": {
   "codemirror_mode": {
    "name": "ipython",
    "version": 3
   },
   "file_extension": ".py",
   "mimetype": "text/x-python",
   "name": "python",
   "nbconvert_exporter": "python",
   "pygments_lexer": "ipython3",
   "version": "3.8.5-final"
  }
 },
 "nbformat": 4,
 "nbformat_minor": 4
}