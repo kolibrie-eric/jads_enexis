{
 "cells": [
  {
   "cell_type": "markdown",
   "metadata": {},
   "source": [
    "# Uitleg Notebook \n",
    "Dit Notebook is om de EDU files in te lezen en op te slaan als h5 file in GitHub\n",
    "\n",
    "## EDU files content \n",
    "korte beschrijving wat er in die data staat\n",
    "\n",
    "### plan van aanpak \n",
    "\n",
    "#### csv file exporten naar Github\n",
    "* temporary map aanmaken\n",
    "* Link naar Data invoeren\n",
    "* download de zipfile en plaats in temporary map\n",
    "* Unzippen in temporary map\n",
    "* cvs file selecteren die er toe doet: voorbeeld naam: profielen elektriciteit 2021 versie 1.00 of Prognoseprofielen-elektriciteit-2022-2023-2024-dd-2020\n",
    "* van csv file Dataframe maken\n",
    "* geselecteerd csv file plaatsen op Github, map data-raw, in nieuwe map genaamd EDU\n",
    "* temp folder leeggooien\n",
    "* herhalen voor alle zip files (in totaal zijn er 7 (6 profielen en 1 prognoseprofiel)\n",
    "\n",
    "\n",
    "#### Excell file omzetten naar DF\n",
    "\n",
    "\n",
    "\n",
    "\n"
   ]
  },
  {
   "cell_type": "code",
   "execution_count": 57,
   "metadata": {},
   "outputs": [],
   "source": [
    "import os  \n",
    "import requests\n",
    "import zipfile as zp\n",
    "from zipfile import ZipFile  # importeer van de module zipfile de Class ZipFile"
   ]
  },
  {
   "cell_type": "code",
   "execution_count": 58,
   "metadata": {},
   "outputs": [
    {
     "output_type": "stream",
     "name": "stdout",
     "text": [
      "Directory created temp_voor_EDU_files\nc:\\Users\\ericr\\OneDrive - Actondata\\Projecten\\jads_enexis\\notebooks\\temp_voor_EDU_files\n"
     ]
    }
   ],
   "source": [
    "# temporary variable aanmaken voor eventuele temp map\n",
    "tmp_directory = \"temp_voor_EDU_files\"\n",
    "\n",
    "#parent_dir = os.getcwd() # commando voor get Current Working Directory\n",
    "current_dir = os.getcwd()\n",
    "\n",
    "# ga naar temp directory toe\n",
    "\n",
    "if tmp_directory not in current_dir:\n",
    "    path = os.path.join(current_dir, tmp_directory) # extra variabele onder notebook (=cwd) wordt nu gemaakt\n",
    "    # maak temp directory als hij nog niet bestaat\n",
    "    try:\n",
    "        os.mkdir(path)  # extra directory onder notebook (=cwd) wordt nu gemaakt\n",
    "        print(f\"Directory created {tmp_directory}\") \n",
    "    except:\n",
    "        print ('directory bestaat al')\n",
    "    \n",
    "    os.chdir(path)  # veranderen naar de temp directory\n",
    "print(os.getcwd())\n"
   ]
  },
  {
   "cell_type": "code",
   "execution_count": 59,
   "metadata": {},
   "outputs": [],
   "source": [
    "EDU_files = [\n",
    "    'https://www.nedu.nl/wp-content/uploads/2020/07/Profielen-elektriciteit-2021-versie-1.00-Platform-Verbruiksprofielen-NEDU-20200701-002.1.1.zip',\n",
    "    'https://www.nedu.nl/wp-content/uploads/2019/07/Profielen-elektriciteit-2020-versie-1.00-Platform-Verbruiksprofielen-NEDU-20190703-002.1.1.zip',\n",
    "    'https://www.nedu.nl/wp-content/uploads/2018/07/Profielen-Elektriciteit-2019-versie-1.00-ALV-NEDU-20180704-011.1.1.zip',\n",
    "    'http://www.nedu.nl/wp-content/uploads/2017/07/Profielen-Elektriciteit-2018-versie-1.00-ALV-NEDU-20170705-011.1.1.zip',\n",
    "    'http://www.nedu.nl/wp-content/uploads/2016/04/Profielen-Elektriciteit-2017-versie-1.00-ALV-NEDU-20160413-012.1.1.zip',\n",
    "    'http://www.nedu.nl/wp-content/uploads/2015/09/Profielen-Elektriciteit-2016-versie-1.01-ALV-NEDU-20150916-012.2.zip'\n",
    "]\n",
    "\n",
    "def download_url(url, save_path, chunk_size=128): # downloaden in chuncks, stream, LET OP: path = directory + filenaam\n",
    "    r = requests.get(url, stream=True)\n",
    "    with open(save_path, 'wb') as fd:                    #wb = write binairy, text files gaan net iets anders (optimalisatie)\n",
    "        for chunk in r.iter_content(chunk_size=chunk_size):\n",
    "            fd.write(chunk)\n",
    "\n",
    "for EDU_file in EDU_files:\n",
    "    # definieren van variabele van de download URL\n",
    "    save_path = EDU_file.split(\"/\")[-1]\n",
    "\n",
    "    # Haal het bestand op en sla het op in de temporary directory\n",
    "    download_url(EDU_file, save_path)\n",
    "\n",
    "    # Creer een ZipFile Object met het pad naar de zip file\n",
    "    with ZipFile(save_path, 'r') as zipObj:\n",
    "        # Extract de zip file naar de huidige directory\n",
    "        zipObj.extractall(path=None, members=None, pwd=None)\n"
   ]
  },
  {
   "cell_type": "code",
   "execution_count": 76,
   "metadata": {},
   "outputs": [
    {
     "output_type": "stream",
     "name": "stdout",
     "text": [
      "<class 'pandas.core.frame.DataFrame'>\nRangeIndex: 175392 entries, 0 to 175391\nData columns (total 12 columns):\n #   Column  Non-Null Count   Dtype         \n---  ------  --------------   -----         \n 0   Start   175392 non-null  datetime64[ns]\n 1   End     175392 non-null  datetime64[ns]\n 2   E1A     175392 non-null  float64       \n 3   E1B     175392 non-null  float64       \n 4   E1C     175392 non-null  float64       \n 5   E2A     175392 non-null  float64       \n 6   E2B     175392 non-null  float64       \n 7   E3A     175392 non-null  float64       \n 8   E3B     175392 non-null  float64       \n 9   E3C     175392 non-null  float64       \n 10  E3D     175392 non-null  float64       \n 11  E4A     175392 non-null  float64       \ndtypes: datetime64[ns](2), float64(10)\nmemory usage: 16.1 MB\n"
     ]
    }
   ],
   "source": [
    "import glob\n",
    "from glob import glob\n",
    "\n",
    "import pandas as pd\n",
    "\n",
    "combined_df = None\n",
    "files = glob('profielen*.csv')  # resultaat = lijst met bestaandsnamen komt hier uit. Als er 1 bestandsnaam in zit is dit nog steeds een lijst\n",
    "\n",
    "# itereer door alle csv bestanden met het patroon. \n",
    "for file in files:\n",
    "    # Haal de data uit de csv file. De eerste 4 rijen bevatten alleen een beschrijving en geen data\n",
    "    df = pd.read_csv(file)\n",
    "    df = df.drop([0,1,2,3])\n",
    "\n",
    "    # De namen van de kolommen\n",
    "    df.columns = ('Meting', 'Start','End','E1A','E1B','E1C','E2A','E2B','E3A','E3B','E3C','E3D','E4A')\n",
    "\n",
    "    # De eerste kolom bevat het tijdstip van de meting. Deze hebben we ook niet nodig\n",
    "    df = df.drop(['Meting'], axis=1)\n",
    "\n",
    "    # Reindex het dataframe zodat het bij index 0 begint\n",
    "    df = df.reset_index(drop=True)\n",
    "\n",
    "    if combined_df is None:\n",
    "        combined_df = df.copy()\n",
    "    else:\n",
    "        combined_df = combined_df.append(df)\n",
    "\n",
    "# Pas de kolom types aan\n",
    "combined_df = combined_df.astype({'Start':'datetime64','End':'datetime64','E1A':'float64','E1B':'float64','E1C':'float64','E2A':'float64','E2B':'float64','E3A':'float64','E3B':'float64','E3C':'float64','E3D':'float64','E4A':'float64'})\n",
    "\n",
    "# Het dataframe hoeft niet gevuld te worden op volgorde van tijd. Het wordt gevuld op volgorde van het\n",
    "# vinden van de bestanden door glob. Sorteer het daarom op de tijden in de start kolom\n",
    "combined_df = combined_df.sort_values(by='Start')\n",
    "\n",
    "# Reindex het hele dataframe\n",
    "combined_df = combined_df.reset_index(drop=True)\n",
    "\n",
    "combined_df.info()"
   ]
  },
  {
   "cell_type": "code",
   "execution_count": 77,
   "metadata": {},
   "outputs": [
    {
     "output_type": "execute_result",
     "data": {
      "text/plain": [
       "                 Start                 End       E1A       E1B       E1C  \\\n",
       "0  2016-01-01 00:00:00 2016-01-01 00:15:00  0.000040  0.000041  0.000037   \n",
       "1  2016-01-01 00:15:00 2016-01-01 00:30:00  0.000039  0.000039  0.000035   \n",
       "2  2016-01-01 00:30:00 2016-01-01 00:45:00  0.000037  0.000038  0.000034   \n",
       "3  2016-01-01 00:45:00 2016-01-01 01:00:00  0.000036  0.000037  0.000036   \n",
       "4  2016-01-01 01:00:00 2016-01-01 01:15:00  0.000034  0.000035  0.000037   \n",
       "5  2016-01-01 01:15:00 2016-01-01 01:30:00  0.000032  0.000034  0.000038   \n",
       "6  2016-01-01 01:30:00 2016-01-01 01:45:00  0.000030  0.000033  0.000038   \n",
       "7  2016-01-01 01:45:00 2016-01-01 02:00:00  0.000027  0.000032  0.000037   \n",
       "8  2016-01-01 02:00:00 2016-01-01 02:15:00  0.000026  0.000032  0.000034   \n",
       "9  2016-01-01 02:15:00 2016-01-01 02:30:00  0.000024  0.000031  0.000032   \n",
       "10 2016-01-01 02:30:00 2016-01-01 02:45:00  0.000023  0.000030  0.000030   \n",
       "11 2016-01-01 02:45:00 2016-01-01 03:00:00  0.000021  0.000028  0.000029   \n",
       "12 2016-01-01 03:00:00 2016-01-01 03:15:00  0.000020  0.000027  0.000027   \n",
       "13 2016-01-01 03:15:00 2016-01-01 03:30:00  0.000018  0.000027  0.000025   \n",
       "14 2016-01-01 03:30:00 2016-01-01 03:45:00  0.000017  0.000024  0.000025   \n",
       "\n",
       "         E2A       E2B       E3A       E3B       E3C       E3D      E4A  \n",
       "0   0.000023  0.000025  0.000020  0.000020  0.000020  0.000025  0.00006  \n",
       "1   0.000022  0.000025  0.000020  0.000021  0.000021  0.000025  0.00006  \n",
       "2   0.000022  0.000025  0.000020  0.000021  0.000021  0.000025  0.00006  \n",
       "3   0.000022  0.000025  0.000020  0.000021  0.000021  0.000025  0.00006  \n",
       "4   0.000023  0.000025  0.000020  0.000021  0.000021  0.000025  0.00006  \n",
       "5   0.000023  0.000024  0.000020  0.000021  0.000021  0.000025  0.00006  \n",
       "6   0.000022  0.000024  0.000020  0.000021  0.000021  0.000025  0.00006  \n",
       "7   0.000021  0.000023  0.000020  0.000021  0.000021  0.000025  0.00006  \n",
       "8   0.000020  0.000022  0.000020  0.000021  0.000021  0.000025  0.00006  \n",
       "9   0.000020  0.000022  0.000020  0.000021  0.000021  0.000025  0.00006  \n",
       "10  0.000019  0.000021  0.000019  0.000021  0.000021  0.000025  0.00006  \n",
       "11  0.000019  0.000020  0.000020  0.000020  0.000020  0.000025  0.00006  \n",
       "12  0.000019  0.000020  0.000020  0.000020  0.000020  0.000025  0.00006  \n",
       "13  0.000019  0.000019  0.000020  0.000020  0.000020  0.000025  0.00006  \n",
       "14  0.000018  0.000019  0.000019  0.000020  0.000020  0.000025  0.00006  "
      ],
      "text/html": "<div>\n<style scoped>\n    .dataframe tbody tr th:only-of-type {\n        vertical-align: middle;\n    }\n\n    .dataframe tbody tr th {\n        vertical-align: top;\n    }\n\n    .dataframe thead th {\n        text-align: right;\n    }\n</style>\n<table border=\"1\" class=\"dataframe\">\n  <thead>\n    <tr style=\"text-align: right;\">\n      <th></th>\n      <th>Start</th>\n      <th>End</th>\n      <th>E1A</th>\n      <th>E1B</th>\n      <th>E1C</th>\n      <th>E2A</th>\n      <th>E2B</th>\n      <th>E3A</th>\n      <th>E3B</th>\n      <th>E3C</th>\n      <th>E3D</th>\n      <th>E4A</th>\n    </tr>\n  </thead>\n  <tbody>\n    <tr>\n      <th>0</th>\n      <td>2016-01-01 00:00:00</td>\n      <td>2016-01-01 00:15:00</td>\n      <td>0.000040</td>\n      <td>0.000041</td>\n      <td>0.000037</td>\n      <td>0.000023</td>\n      <td>0.000025</td>\n      <td>0.000020</td>\n      <td>0.000020</td>\n      <td>0.000020</td>\n      <td>0.000025</td>\n      <td>0.00006</td>\n    </tr>\n    <tr>\n      <th>1</th>\n      <td>2016-01-01 00:15:00</td>\n      <td>2016-01-01 00:30:00</td>\n      <td>0.000039</td>\n      <td>0.000039</td>\n      <td>0.000035</td>\n      <td>0.000022</td>\n      <td>0.000025</td>\n      <td>0.000020</td>\n      <td>0.000021</td>\n      <td>0.000021</td>\n      <td>0.000025</td>\n      <td>0.00006</td>\n    </tr>\n    <tr>\n      <th>2</th>\n      <td>2016-01-01 00:30:00</td>\n      <td>2016-01-01 00:45:00</td>\n      <td>0.000037</td>\n      <td>0.000038</td>\n      <td>0.000034</td>\n      <td>0.000022</td>\n      <td>0.000025</td>\n      <td>0.000020</td>\n      <td>0.000021</td>\n      <td>0.000021</td>\n      <td>0.000025</td>\n      <td>0.00006</td>\n    </tr>\n    <tr>\n      <th>3</th>\n      <td>2016-01-01 00:45:00</td>\n      <td>2016-01-01 01:00:00</td>\n      <td>0.000036</td>\n      <td>0.000037</td>\n      <td>0.000036</td>\n      <td>0.000022</td>\n      <td>0.000025</td>\n      <td>0.000020</td>\n      <td>0.000021</td>\n      <td>0.000021</td>\n      <td>0.000025</td>\n      <td>0.00006</td>\n    </tr>\n    <tr>\n      <th>4</th>\n      <td>2016-01-01 01:00:00</td>\n      <td>2016-01-01 01:15:00</td>\n      <td>0.000034</td>\n      <td>0.000035</td>\n      <td>0.000037</td>\n      <td>0.000023</td>\n      <td>0.000025</td>\n      <td>0.000020</td>\n      <td>0.000021</td>\n      <td>0.000021</td>\n      <td>0.000025</td>\n      <td>0.00006</td>\n    </tr>\n    <tr>\n      <th>5</th>\n      <td>2016-01-01 01:15:00</td>\n      <td>2016-01-01 01:30:00</td>\n      <td>0.000032</td>\n      <td>0.000034</td>\n      <td>0.000038</td>\n      <td>0.000023</td>\n      <td>0.000024</td>\n      <td>0.000020</td>\n      <td>0.000021</td>\n      <td>0.000021</td>\n      <td>0.000025</td>\n      <td>0.00006</td>\n    </tr>\n    <tr>\n      <th>6</th>\n      <td>2016-01-01 01:30:00</td>\n      <td>2016-01-01 01:45:00</td>\n      <td>0.000030</td>\n      <td>0.000033</td>\n      <td>0.000038</td>\n      <td>0.000022</td>\n      <td>0.000024</td>\n      <td>0.000020</td>\n      <td>0.000021</td>\n      <td>0.000021</td>\n      <td>0.000025</td>\n      <td>0.00006</td>\n    </tr>\n    <tr>\n      <th>7</th>\n      <td>2016-01-01 01:45:00</td>\n      <td>2016-01-01 02:00:00</td>\n      <td>0.000027</td>\n      <td>0.000032</td>\n      <td>0.000037</td>\n      <td>0.000021</td>\n      <td>0.000023</td>\n      <td>0.000020</td>\n      <td>0.000021</td>\n      <td>0.000021</td>\n      <td>0.000025</td>\n      <td>0.00006</td>\n    </tr>\n    <tr>\n      <th>8</th>\n      <td>2016-01-01 02:00:00</td>\n      <td>2016-01-01 02:15:00</td>\n      <td>0.000026</td>\n      <td>0.000032</td>\n      <td>0.000034</td>\n      <td>0.000020</td>\n      <td>0.000022</td>\n      <td>0.000020</td>\n      <td>0.000021</td>\n      <td>0.000021</td>\n      <td>0.000025</td>\n      <td>0.00006</td>\n    </tr>\n    <tr>\n      <th>9</th>\n      <td>2016-01-01 02:15:00</td>\n      <td>2016-01-01 02:30:00</td>\n      <td>0.000024</td>\n      <td>0.000031</td>\n      <td>0.000032</td>\n      <td>0.000020</td>\n      <td>0.000022</td>\n      <td>0.000020</td>\n      <td>0.000021</td>\n      <td>0.000021</td>\n      <td>0.000025</td>\n      <td>0.00006</td>\n    </tr>\n    <tr>\n      <th>10</th>\n      <td>2016-01-01 02:30:00</td>\n      <td>2016-01-01 02:45:00</td>\n      <td>0.000023</td>\n      <td>0.000030</td>\n      <td>0.000030</td>\n      <td>0.000019</td>\n      <td>0.000021</td>\n      <td>0.000019</td>\n      <td>0.000021</td>\n      <td>0.000021</td>\n      <td>0.000025</td>\n      <td>0.00006</td>\n    </tr>\n    <tr>\n      <th>11</th>\n      <td>2016-01-01 02:45:00</td>\n      <td>2016-01-01 03:00:00</td>\n      <td>0.000021</td>\n      <td>0.000028</td>\n      <td>0.000029</td>\n      <td>0.000019</td>\n      <td>0.000020</td>\n      <td>0.000020</td>\n      <td>0.000020</td>\n      <td>0.000020</td>\n      <td>0.000025</td>\n      <td>0.00006</td>\n    </tr>\n    <tr>\n      <th>12</th>\n      <td>2016-01-01 03:00:00</td>\n      <td>2016-01-01 03:15:00</td>\n      <td>0.000020</td>\n      <td>0.000027</td>\n      <td>0.000027</td>\n      <td>0.000019</td>\n      <td>0.000020</td>\n      <td>0.000020</td>\n      <td>0.000020</td>\n      <td>0.000020</td>\n      <td>0.000025</td>\n      <td>0.00006</td>\n    </tr>\n    <tr>\n      <th>13</th>\n      <td>2016-01-01 03:15:00</td>\n      <td>2016-01-01 03:30:00</td>\n      <td>0.000018</td>\n      <td>0.000027</td>\n      <td>0.000025</td>\n      <td>0.000019</td>\n      <td>0.000019</td>\n      <td>0.000020</td>\n      <td>0.000020</td>\n      <td>0.000020</td>\n      <td>0.000025</td>\n      <td>0.00006</td>\n    </tr>\n    <tr>\n      <th>14</th>\n      <td>2016-01-01 03:30:00</td>\n      <td>2016-01-01 03:45:00</td>\n      <td>0.000017</td>\n      <td>0.000024</td>\n      <td>0.000025</td>\n      <td>0.000018</td>\n      <td>0.000019</td>\n      <td>0.000019</td>\n      <td>0.000020</td>\n      <td>0.000020</td>\n      <td>0.000025</td>\n      <td>0.00006</td>\n    </tr>\n  </tbody>\n</table>\n</div>"
     },
     "metadata": {},
     "execution_count": 77
    }
   ],
   "source": [
    "combined_df.head(15)"
   ]
  },
  {
   "cell_type": "code",
   "execution_count": 79,
   "metadata": {},
   "outputs": [
    {
     "output_type": "execute_result",
     "data": {
      "text/plain": [
       "                    Start                 End       E1A       E1B       E1C  \\\n",
       "35126 2016-12-31 21:30:00 2016-12-31 21:45:00  0.000049  0.000046  0.000050   \n",
       "35127 2016-12-31 21:45:00 2016-12-31 22:00:00  0.000049  0.000045  0.000051   \n",
       "35128 2016-12-31 22:00:00 2016-12-31 22:15:00  0.000048  0.000044  0.000051   \n",
       "35129 2016-12-31 22:15:00 2016-12-31 22:30:00  0.000046  0.000044  0.000049   \n",
       "35130 2016-12-31 22:30:00 2016-12-31 22:45:00  0.000044  0.000044  0.000046   \n",
       "35131 2016-12-31 22:45:00 2016-12-31 23:00:00  0.000042  0.000044  0.000043   \n",
       "35132 2016-12-31 23:00:00 2016-12-31 23:15:00  0.000041  0.000042  0.000039   \n",
       "35133 2016-12-31 23:15:00 2016-12-31 23:30:00  0.000041  0.000041  0.000039   \n",
       "35134 2016-12-31 23:30:00 2016-12-31 23:45:00  0.000040  0.000041  0.000038   \n",
       "35135 2016-12-31 23:45:00 2017-01-01 00:00:00  0.000040  0.000040  0.000037   \n",
       "35136 2017-01-01 00:00:00 2017-01-01 00:15:00  0.000040  0.000041  0.000037   \n",
       "35137 2017-01-01 00:15:00 2017-01-01 00:30:00  0.000039  0.000040  0.000035   \n",
       "35138 2017-01-01 00:30:00 2017-01-01 00:45:00  0.000037  0.000038  0.000034   \n",
       "35139 2017-01-01 00:45:00 2017-01-01 01:00:00  0.000036  0.000037  0.000036   \n",
       "35140 2017-01-01 01:00:00 2017-01-01 01:15:00  0.000034  0.000035  0.000037   \n",
       "35141 2017-01-01 01:15:00 2017-01-01 01:30:00  0.000032  0.000034  0.000038   \n",
       "35142 2017-01-01 01:30:00 2017-01-01 01:45:00  0.000030  0.000033  0.000038   \n",
       "35143 2017-01-01 01:45:00 2017-01-01 02:00:00  0.000027  0.000032  0.000037   \n",
       "35144 2017-01-01 02:00:00 2017-01-01 02:15:00  0.000026  0.000032  0.000034   \n",
       "35145 2017-01-01 02:15:00 2017-01-01 02:30:00  0.000024  0.000031  0.000032   \n",
       "\n",
       "            E2A       E2B       E3A       E3B       E3C       E3D      E4A  \n",
       "35126  0.000029  0.000024  0.000020  0.000022  0.000022  0.000027  0.00006  \n",
       "35127  0.000027  0.000024  0.000020  0.000022  0.000022  0.000027  0.00006  \n",
       "35128  0.000027  0.000024  0.000020  0.000021  0.000021  0.000026  0.00006  \n",
       "35129  0.000026  0.000023  0.000019  0.000021  0.000021  0.000026  0.00006  \n",
       "35130  0.000026  0.000023  0.000020  0.000021  0.000021  0.000026  0.00006  \n",
       "35131  0.000025  0.000022  0.000020  0.000021  0.000021  0.000026  0.00006  \n",
       "35132  0.000026  0.000023  0.000020  0.000021  0.000021  0.000026  0.00006  \n",
       "35133  0.000027  0.000023  0.000019  0.000021  0.000021  0.000026  0.00006  \n",
       "35134  0.000028  0.000023  0.000019  0.000020  0.000020  0.000026  0.00006  \n",
       "35135  0.000028  0.000023  0.000019  0.000020  0.000020  0.000025  0.00006  \n",
       "35136  0.000023  0.000025  0.000020  0.000020  0.000020  0.000025  0.00006  \n",
       "35137  0.000022  0.000025  0.000020  0.000021  0.000021  0.000025  0.00006  \n",
       "35138  0.000022  0.000025  0.000020  0.000021  0.000021  0.000025  0.00006  \n",
       "35139  0.000022  0.000025  0.000020  0.000021  0.000021  0.000025  0.00006  \n",
       "35140  0.000023  0.000025  0.000020  0.000021  0.000021  0.000025  0.00006  \n",
       "35141  0.000023  0.000024  0.000020  0.000021  0.000021  0.000025  0.00006  \n",
       "35142  0.000022  0.000024  0.000020  0.000021  0.000021  0.000025  0.00006  \n",
       "35143  0.000021  0.000023  0.000020  0.000021  0.000021  0.000025  0.00006  \n",
       "35144  0.000020  0.000022  0.000020  0.000021  0.000021  0.000025  0.00006  \n",
       "35145  0.000020  0.000022  0.000020  0.000021  0.000021  0.000025  0.00006  "
      ],
      "text/html": "<div>\n<style scoped>\n    .dataframe tbody tr th:only-of-type {\n        vertical-align: middle;\n    }\n\n    .dataframe tbody tr th {\n        vertical-align: top;\n    }\n\n    .dataframe thead th {\n        text-align: right;\n    }\n</style>\n<table border=\"1\" class=\"dataframe\">\n  <thead>\n    <tr style=\"text-align: right;\">\n      <th></th>\n      <th>Start</th>\n      <th>End</th>\n      <th>E1A</th>\n      <th>E1B</th>\n      <th>E1C</th>\n      <th>E2A</th>\n      <th>E2B</th>\n      <th>E3A</th>\n      <th>E3B</th>\n      <th>E3C</th>\n      <th>E3D</th>\n      <th>E4A</th>\n    </tr>\n  </thead>\n  <tbody>\n    <tr>\n      <th>35126</th>\n      <td>2016-12-31 21:30:00</td>\n      <td>2016-12-31 21:45:00</td>\n      <td>0.000049</td>\n      <td>0.000046</td>\n      <td>0.000050</td>\n      <td>0.000029</td>\n      <td>0.000024</td>\n      <td>0.000020</td>\n      <td>0.000022</td>\n      <td>0.000022</td>\n      <td>0.000027</td>\n      <td>0.00006</td>\n    </tr>\n    <tr>\n      <th>35127</th>\n      <td>2016-12-31 21:45:00</td>\n      <td>2016-12-31 22:00:00</td>\n      <td>0.000049</td>\n      <td>0.000045</td>\n      <td>0.000051</td>\n      <td>0.000027</td>\n      <td>0.000024</td>\n      <td>0.000020</td>\n      <td>0.000022</td>\n      <td>0.000022</td>\n      <td>0.000027</td>\n      <td>0.00006</td>\n    </tr>\n    <tr>\n      <th>35128</th>\n      <td>2016-12-31 22:00:00</td>\n      <td>2016-12-31 22:15:00</td>\n      <td>0.000048</td>\n      <td>0.000044</td>\n      <td>0.000051</td>\n      <td>0.000027</td>\n      <td>0.000024</td>\n      <td>0.000020</td>\n      <td>0.000021</td>\n      <td>0.000021</td>\n      <td>0.000026</td>\n      <td>0.00006</td>\n    </tr>\n    <tr>\n      <th>35129</th>\n      <td>2016-12-31 22:15:00</td>\n      <td>2016-12-31 22:30:00</td>\n      <td>0.000046</td>\n      <td>0.000044</td>\n      <td>0.000049</td>\n      <td>0.000026</td>\n      <td>0.000023</td>\n      <td>0.000019</td>\n      <td>0.000021</td>\n      <td>0.000021</td>\n      <td>0.000026</td>\n      <td>0.00006</td>\n    </tr>\n    <tr>\n      <th>35130</th>\n      <td>2016-12-31 22:30:00</td>\n      <td>2016-12-31 22:45:00</td>\n      <td>0.000044</td>\n      <td>0.000044</td>\n      <td>0.000046</td>\n      <td>0.000026</td>\n      <td>0.000023</td>\n      <td>0.000020</td>\n      <td>0.000021</td>\n      <td>0.000021</td>\n      <td>0.000026</td>\n      <td>0.00006</td>\n    </tr>\n    <tr>\n      <th>35131</th>\n      <td>2016-12-31 22:45:00</td>\n      <td>2016-12-31 23:00:00</td>\n      <td>0.000042</td>\n      <td>0.000044</td>\n      <td>0.000043</td>\n      <td>0.000025</td>\n      <td>0.000022</td>\n      <td>0.000020</td>\n      <td>0.000021</td>\n      <td>0.000021</td>\n      <td>0.000026</td>\n      <td>0.00006</td>\n    </tr>\n    <tr>\n      <th>35132</th>\n      <td>2016-12-31 23:00:00</td>\n      <td>2016-12-31 23:15:00</td>\n      <td>0.000041</td>\n      <td>0.000042</td>\n      <td>0.000039</td>\n      <td>0.000026</td>\n      <td>0.000023</td>\n      <td>0.000020</td>\n      <td>0.000021</td>\n      <td>0.000021</td>\n      <td>0.000026</td>\n      <td>0.00006</td>\n    </tr>\n    <tr>\n      <th>35133</th>\n      <td>2016-12-31 23:15:00</td>\n      <td>2016-12-31 23:30:00</td>\n      <td>0.000041</td>\n      <td>0.000041</td>\n      <td>0.000039</td>\n      <td>0.000027</td>\n      <td>0.000023</td>\n      <td>0.000019</td>\n      <td>0.000021</td>\n      <td>0.000021</td>\n      <td>0.000026</td>\n      <td>0.00006</td>\n    </tr>\n    <tr>\n      <th>35134</th>\n      <td>2016-12-31 23:30:00</td>\n      <td>2016-12-31 23:45:00</td>\n      <td>0.000040</td>\n      <td>0.000041</td>\n      <td>0.000038</td>\n      <td>0.000028</td>\n      <td>0.000023</td>\n      <td>0.000019</td>\n      <td>0.000020</td>\n      <td>0.000020</td>\n      <td>0.000026</td>\n      <td>0.00006</td>\n    </tr>\n    <tr>\n      <th>35135</th>\n      <td>2016-12-31 23:45:00</td>\n      <td>2017-01-01 00:00:00</td>\n      <td>0.000040</td>\n      <td>0.000040</td>\n      <td>0.000037</td>\n      <td>0.000028</td>\n      <td>0.000023</td>\n      <td>0.000019</td>\n      <td>0.000020</td>\n      <td>0.000020</td>\n      <td>0.000025</td>\n      <td>0.00006</td>\n    </tr>\n    <tr>\n      <th>35136</th>\n      <td>2017-01-01 00:00:00</td>\n      <td>2017-01-01 00:15:00</td>\n      <td>0.000040</td>\n      <td>0.000041</td>\n      <td>0.000037</td>\n      <td>0.000023</td>\n      <td>0.000025</td>\n      <td>0.000020</td>\n      <td>0.000020</td>\n      <td>0.000020</td>\n      <td>0.000025</td>\n      <td>0.00006</td>\n    </tr>\n    <tr>\n      <th>35137</th>\n      <td>2017-01-01 00:15:00</td>\n      <td>2017-01-01 00:30:00</td>\n      <td>0.000039</td>\n      <td>0.000040</td>\n      <td>0.000035</td>\n      <td>0.000022</td>\n      <td>0.000025</td>\n      <td>0.000020</td>\n      <td>0.000021</td>\n      <td>0.000021</td>\n      <td>0.000025</td>\n      <td>0.00006</td>\n    </tr>\n    <tr>\n      <th>35138</th>\n      <td>2017-01-01 00:30:00</td>\n      <td>2017-01-01 00:45:00</td>\n      <td>0.000037</td>\n      <td>0.000038</td>\n      <td>0.000034</td>\n      <td>0.000022</td>\n      <td>0.000025</td>\n      <td>0.000020</td>\n      <td>0.000021</td>\n      <td>0.000021</td>\n      <td>0.000025</td>\n      <td>0.00006</td>\n    </tr>\n    <tr>\n      <th>35139</th>\n      <td>2017-01-01 00:45:00</td>\n      <td>2017-01-01 01:00:00</td>\n      <td>0.000036</td>\n      <td>0.000037</td>\n      <td>0.000036</td>\n      <td>0.000022</td>\n      <td>0.000025</td>\n      <td>0.000020</td>\n      <td>0.000021</td>\n      <td>0.000021</td>\n      <td>0.000025</td>\n      <td>0.00006</td>\n    </tr>\n    <tr>\n      <th>35140</th>\n      <td>2017-01-01 01:00:00</td>\n      <td>2017-01-01 01:15:00</td>\n      <td>0.000034</td>\n      <td>0.000035</td>\n      <td>0.000037</td>\n      <td>0.000023</td>\n      <td>0.000025</td>\n      <td>0.000020</td>\n      <td>0.000021</td>\n      <td>0.000021</td>\n      <td>0.000025</td>\n      <td>0.00006</td>\n    </tr>\n    <tr>\n      <th>35141</th>\n      <td>2017-01-01 01:15:00</td>\n      <td>2017-01-01 01:30:00</td>\n      <td>0.000032</td>\n      <td>0.000034</td>\n      <td>0.000038</td>\n      <td>0.000023</td>\n      <td>0.000024</td>\n      <td>0.000020</td>\n      <td>0.000021</td>\n      <td>0.000021</td>\n      <td>0.000025</td>\n      <td>0.00006</td>\n    </tr>\n    <tr>\n      <th>35142</th>\n      <td>2017-01-01 01:30:00</td>\n      <td>2017-01-01 01:45:00</td>\n      <td>0.000030</td>\n      <td>0.000033</td>\n      <td>0.000038</td>\n      <td>0.000022</td>\n      <td>0.000024</td>\n      <td>0.000020</td>\n      <td>0.000021</td>\n      <td>0.000021</td>\n      <td>0.000025</td>\n      <td>0.00006</td>\n    </tr>\n    <tr>\n      <th>35143</th>\n      <td>2017-01-01 01:45:00</td>\n      <td>2017-01-01 02:00:00</td>\n      <td>0.000027</td>\n      <td>0.000032</td>\n      <td>0.000037</td>\n      <td>0.000021</td>\n      <td>0.000023</td>\n      <td>0.000020</td>\n      <td>0.000021</td>\n      <td>0.000021</td>\n      <td>0.000025</td>\n      <td>0.00006</td>\n    </tr>\n    <tr>\n      <th>35144</th>\n      <td>2017-01-01 02:00:00</td>\n      <td>2017-01-01 02:15:00</td>\n      <td>0.000026</td>\n      <td>0.000032</td>\n      <td>0.000034</td>\n      <td>0.000020</td>\n      <td>0.000022</td>\n      <td>0.000020</td>\n      <td>0.000021</td>\n      <td>0.000021</td>\n      <td>0.000025</td>\n      <td>0.00006</td>\n    </tr>\n    <tr>\n      <th>35145</th>\n      <td>2017-01-01 02:15:00</td>\n      <td>2017-01-01 02:30:00</td>\n      <td>0.000024</td>\n      <td>0.000031</td>\n      <td>0.000032</td>\n      <td>0.000020</td>\n      <td>0.000022</td>\n      <td>0.000020</td>\n      <td>0.000021</td>\n      <td>0.000021</td>\n      <td>0.000025</td>\n      <td>0.00006</td>\n    </tr>\n  </tbody>\n</table>\n</div>"
     },
     "metadata": {},
     "execution_count": 79
    }
   ],
   "source": [
    "# Bereken de index van de jaarovergang van 2016 naar 2017 om te controleren of de sortering heeft gewerkt\n",
    "end_of_year = 4 * 24 * 366\n",
    "combined_df[end_of_year-10:end_of_year+10]"
   ]
  },
  {
   "cell_type": "code",
   "execution_count": 80,
   "metadata": {},
   "outputs": [],
   "source": [
    "# data locatie als we hier komen is 'temp_voor_EDU_files'\n",
    "data_location = '../../data/processed'\n",
    "\n",
    "# Ga naar de folder waarin de processed data staat\n",
    "# Eenmaal chdir uitgevoerd blijft de current directory uiteraard 'processed'\n",
    "if 'processed' not in os.getcwd():\n",
    "    os.chdir(data_location)"
   ]
  },
  {
   "cell_type": "code",
   "execution_count": 81,
   "metadata": {},
   "outputs": [],
   "source": [
    "try:\n",
    "    os.remove('nedu_files.h5')\n",
    "except:\n",
    "    print ('File nog in gebruik of niet gevonden')\n",
    "\n",
    "store = pd.HDFStore('nedu_files.h5')\n",
    "store['nedu_files'] = combined_df\n",
    "store.close()"
   ]
  },
  {
   "cell_type": "code",
   "execution_count": 82,
   "metadata": {},
   "outputs": [],
   "source": [
    "# Gooi de temporary directory weg. Het dataframe is gemaakt en opgeslagen\n",
    "data_location = '../../notebooks'\n",
    "\n",
    "# Ga terug naar de notebooks directory\n",
    "if 'notebooks' not in os.getcwd():\n",
    "    os.chdir(data_location)"
   ]
  },
  {
   "cell_type": "code",
   "execution_count": 83,
   "metadata": {},
   "outputs": [],
   "source": [
    "import shutil\n",
    "\n",
    "try:\n",
    "    # Gooi de tijdelijke directory weg. Het dataframe is gemaakt en opgeslagen\n",
    "    shutil.rmtree(tmp_directory)\n",
    "except OSError as e:\n",
    "    print(f\"Error: {tmp_directory} : {e.strerror}\")"
   ]
  },
  {
   "cell_type": "code",
   "execution_count": null,
   "metadata": {},
   "outputs": [],
   "source": []
  }
 ],
 "metadata": {
  "kernelspec": {
   "display_name": "Python 3",
   "language": "python",
   "name": "python3"
  },
  "language_info": {
   "codemirror_mode": {
    "name": "ipython",
    "version": 3
   },
   "file_extension": ".py",
   "mimetype": "text/x-python",
   "name": "python",
   "nbconvert_exporter": "python",
   "pygments_lexer": "ipython3",
   "version": "3.8.5-final"
  }
 },
 "nbformat": 4,
 "nbformat_minor": 4
}