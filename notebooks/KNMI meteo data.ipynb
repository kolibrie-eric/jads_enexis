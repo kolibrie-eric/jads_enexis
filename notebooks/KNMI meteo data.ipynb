{
 "cells": [
  {
   "source": [
    "# Maak CSV bestanden\n",
    "De volgende cel maak van de zipfiles een serie CSV bestanden. Het is lastig om de daadwerkelijke directory te bepalen waarin het jupyter notebook staat. De eerste keer dat een notebook geopend wordt, nemen we aan\n",
    "dat de huidige directory de directory van het notebook is. Wanneer de cell hieronder gerund is, is de huidige directory veranderd in die waar de Meteo data staat. De CSV bestanden hebben dezelfde naam als de gezipte\n",
    "meteo bestanden, maar dan met extensie csv."
   ],
   "cell_type": "markdown",
   "metadata": {}
  },
  {
   "cell_type": "code",
   "execution_count": 2,
   "metadata": {
    "tags": []
   },
   "outputs": [
    {
     "output_type": "stream",
     "name": "stdout",
     "text": [
      "etmgeg_209.csv gemaakt\n",
      "etmgeg_210.csv gemaakt\n",
      "etmgeg_215.csv gemaakt\n",
      "etmgeg_225.csv gemaakt\n",
      "etmgeg_235.csv gemaakt\n",
      "etmgeg_240.csv gemaakt\n",
      "etmgeg_242.csv gemaakt\n",
      "etmgeg_248.csv gemaakt\n",
      "etmgeg_249.csv gemaakt\n",
      "etmgeg_251.csv gemaakt\n",
      "etmgeg_257.csv gemaakt\n",
      "etmgeg_258.csv gemaakt\n",
      "etmgeg_260.csv gemaakt\n",
      "etmgeg_265.csv gemaakt\n",
      "etmgeg_267.csv gemaakt\n",
      "etmgeg_269.csv gemaakt\n",
      "etmgeg_270.csv gemaakt\n",
      "etmgeg_273.csv gemaakt\n",
      "etmgeg_275.csv gemaakt\n",
      "etmgeg_277.csv gemaakt\n",
      "etmgeg_278.csv gemaakt\n",
      "etmgeg_279.csv gemaakt\n",
      "etmgeg_280.csv gemaakt\n",
      "etmgeg_283.csv gemaakt\n",
      "etmgeg_285.csv gemaakt\n",
      "etmgeg_286.csv gemaakt\n",
      "etmgeg_290.csv gemaakt\n",
      "etmgeg_308.csv gemaakt\n",
      "etmgeg_310.csv gemaakt\n",
      "etmgeg_311.csv gemaakt\n",
      "etmgeg_312.csv gemaakt\n",
      "etmgeg_313.csv gemaakt\n",
      "etmgeg_315.csv gemaakt\n",
      "etmgeg_316.csv gemaakt\n",
      "etmgeg_319.csv gemaakt\n",
      "etmgeg_323.csv gemaakt\n",
      "etmgeg_324.csv gemaakt\n",
      "etmgeg_330.csv gemaakt\n",
      "etmgeg_331.csv gemaakt\n",
      "etmgeg_340.csv gemaakt\n",
      "etmgeg_343.csv gemaakt\n",
      "etmgeg_344.csv gemaakt\n",
      "etmgeg_348.csv gemaakt\n",
      "etmgeg_350.csv gemaakt\n",
      "etmgeg_356.csv gemaakt\n",
      "etmgeg_370.csv gemaakt\n",
      "etmgeg_375.csv gemaakt\n",
      "etmgeg_377.csv gemaakt\n",
      "etmgeg_380.csv gemaakt\n",
      "etmgeg_391.csv gemaakt\n"
     ]
    }
   ],
   "source": [
    "import zipfile, glob, os\n",
    "\n",
    "# data locatie als het notebook voor de eerste keer wordt opgestart is 'notebooks'\n",
    "data_location = '../data/Historische meteo data'\n",
    "\n",
    "# Ga naar de folder waarin de meteo data staat\n",
    "# Eenmaal chdir uitgevoerd blijft de current directory uiteraard 'Historische meteo data'\n",
    "if 'Historische meteo data' not in os.getcwd():\n",
    "    os.chdir(data_location)\n",
    "\n",
    "# lees de inhoud van de zip file en geef dit terug als (een in memory) string\n",
    "def extract_zip (file):\n",
    "    file = zipfile.ZipFile(file)\n",
    "    return file.read(file.namelist()[0]).decode('UTF-8')\n",
    "\n",
    "# Ga door alle bestanden heen en maak er een dataframe van\n",
    "for file in glob.glob('etmgeg*.zip'):\n",
    "    # extract in memory\n",
    "    contents = extract_zip(file)\n",
    "\n",
    "    # haal de uitleg weg\n",
    "    list = contents.split(\"# STN\")\n",
    "    csv_contents = 'STN' + list[1]\n",
    "\n",
    "    # schrijf naar csv file\n",
    "    fname = file.split('.')[0] + \".csv\"\n",
    "    print (fname + \" gemaakt\")\n",
    "    f = open (fname, 'w')\n",
    "    f.write(csv_contents)\n",
    "    f.close()\n"
   ]
  },
  {
   "source": [
    "# Lees CSV bestanden\n",
    "Lees de meteo csv bestanden in 1 dataframe. De volgende features zijn te vinden in de meteo data:\n",
    "\n",
    "STN       = Nummer van de locatie (209 = IJmond, 210 = Valkenburg zh, 370 = Eindhoven, .. zie https://www.knmi.nl/nederland-nu/klimatologie/daggegevens)  \n",
    "YYYYMMDD  = Datum (YYYY=jaar MM=maand DD=dag) / Date (YYYY=year MM=month DD=day)  \n",
    "DDVEC     = Vectorgemiddelde windrichting in graden (360=noord, 90=oost, 180=zuid, 270=west, 0=windstil/variabel). Zie http://www.knmi.nl/kennis-en-datacentrum/achtergrond/klimatologische-brochures-en-boeken / Vector mean wind direction in degrees (360=north, 90=east, 180=south, 270=west, 0=calm/variable)  \n",
    "FHVEC     = Vectorgemiddelde windsnelheid (in 0.1 m/s). Zie http://www.knmi.nl/kennis-en-datacentrum/achtergrond/klimatologische-brochures-en-boeken / Vector mean windspeed (in 0.1 m/s)  \n",
    "FG        = Etmaalgemiddelde windsnelheid (in 0.1 m/s) / Daily mean windspeed (in 0.1 m/s)  \n",
    "FHX       = Hoogste uurgemiddelde windsnelheid (in 0.1 m/s) / Maximum hourly mean windspeed (in 0.1 m/s)  \n",
    "FHXH      = Uurvak waarin FHX is gemeten / Hourly division in which FHX was measured  \n",
    "FHN       = Laagste uurgemiddelde windsnelheid (in 0.1 m/s) / Minimum hourly mean windspeed (in 0.1 m/s)  \n",
    "FHNH      = Uurvak waarin FHN is gemeten / Hourly division in which FHN was measured  \n",
    "FXX       = Hoogste windstoot (in 0.1 m/s) / Maximum wind gust (in 0.1 m/s)  \n",
    "FXXH      = Uurvak waarin FXX is gemeten / Hourly division in which FXX was measured  \n",
    "TG        = Etmaalgemiddelde temperatuur (in 0.1 graden Celsius) / Daily mean temperature in (0.1 degrees Celsius)  \n",
    "TN        = Minimum temperatuur (in 0.1 graden Celsius) / Minimum temperature (in 0.1 degrees Celsius)  \n",
    "TNH       = Uurvak waarin TN is gemeten / Hourly division in which TN was measured  \n",
    "TX        = Maximum temperatuur (in 0.1 graden Celsius) / Maximum temperature (in 0.1 degrees Celsius)  \n",
    "TXH       = Uurvak waarin TX is gemeten / Hourly division in which TX was measured  \n",
    "T10N      = Minimum temperatuur op 10 cm hoogte (in 0.1 graden Celsius) / Minimum temperature at 10 cm above surface (in 0.1 degrees Celsius)  \n",
    "T10NH     = 6-uurs tijdvak waarin T10N is gemeten / 6-hourly division in which T10N was measured; 6=0-6 UT, 12=6-12 UT, 18=12-18 UT, 24=18-24 UT   \n",
    "SQ        = Zonneschijnduur (in 0.1 uur) berekend uit de globale straling (-1 voor <0.05 uur) / Sunshine duration (in 0.1 hour) calculated from global radiation (-1 for <0.05 hour)  \n",
    "SP        = Percentage van de langst mogelijke zonneschijnduur / Percentage of maximum potential sunshine duration  \n",
    "Q         = Globale straling (in J/cm2) / Global radiation (in J/cm2)  \n",
    "DR        = Duur van de neerslag (in 0.1 uur) / Precipitation duration (in 0.1 hour)  \n",
    "RH        = Etmaalsom van de neerslag (in 0.1 mm) (-1 voor <0.05 mm) / Daily precipitation amount (in 0.1 mm) (-1 for <0.05 mm)  \n",
    "RHX       = Hoogste uursom van de neerslag (in 0.1 mm) (-1 voor <0.05 mm) / Maximum hourly precipitation amount (in 0.1 mm) (-1 for <0.05 mm)  \n",
    "RHXH      = Uurvak waarin RHX is gemeten / Hourly division in which RHX was measured  \n",
    "PG        = Etmaalgemiddelde luchtdruk herleid tot zeeniveau (in 0.1 hPa) berekend uit 24 uurwaarden / Daily mean sea level pressure (in 0.1 hPa) calculated from 24 hourly values  \n",
    "PX        = Hoogste uurwaarde van de luchtdruk herleid tot zeeniveau (in 0.1 hPa) / Maximum hourly sea level pressure (in 0.1 hPa)  \n",
    "PXH       = Uurvak waarin PX is gemeten / Hourly division in which PX was measured  \n",
    "PN        = Laagste uurwaarde van de luchtdruk herleid tot zeeniveau (in 0.1 hPa) / Minimum hourly sea level pressure (in 0.1 hPa)  \n",
    "PNH       = Uurvak waarin PN is gemeten / Hourly division in which PN was measured  \n",
    "VVN       = Minimum opgetreden zicht / Minimum visibility; 0: <100 m, 1:100-200 m, 2:200-300 m,..., 49:4900-5000 m, 50:5-6 km, 56:6-7 km, 57:7-8 km,..., 79:29-30 km, 80:30-35 km, 81:35-40 km,..., 89: >70 km)  \n",
    "VVNH      = Uurvak waarin VVN is gemeten / Hourly division in which VVN was measured  \n",
    "VVX       = Maximum opgetreden zicht / Maximum visibility; 0: <100 m, 1:100-200 m, 2:200-300 m,..., 49:4900-5000 m, 50:5-6 km, 56:6-7 km, 57:7-8 km,..., 79:29-30 km, 80:30-35 km, 81:35-40 km,..., 89: >70 km)  \n",
    "VVXH      = Uurvak waarin VVX is gemeten / Hourly division in which VVX was measured  \n",
    "NG        = Etmaalgemiddelde bewolking (bedekkingsgraad van de bovenlucht in achtsten, 9=bovenlucht onzichtbaar) / Mean daily cloud cover (in octants, 9=sky invisible)  \n",
    "UG        = Etmaalgemiddelde relatieve vochtigheid (in procenten) / Daily mean relative atmospheric humidity (in percents)  \n",
    "UX        = Maximale relatieve vochtigheid (in procenten) / Maximum relative atmospheric humidity (in percents)  \n",
    "UXH       = Uurvak waarin UX is gemeten / Hourly division in which UX was measured  \n",
    "UN        = Minimale relatieve vochtigheid (in procenten) / Minimum relative atmospheric humidity (in percents)  \n",
    "UNH       = Uurvak waarin UN is gemeten / Hourly division in which UN was measured  \n",
    "EV24      = Referentiegewasverdamping (Makkink) (in 0.1 mm) / Potential evapotranspiration (Makkink) (in 0.1 mm)  "
   ],
   "cell_type": "markdown",
   "metadata": {}
  },
  {
   "cell_type": "code",
   "execution_count": 38,
   "metadata": {
    "tags": []
   },
   "outputs": [
    {
     "output_type": "stream",
     "name": "stdout",
     "text": [
      "Lezen etmgeg_209.csv\n",
      "Lezen etmgeg_210.csv\n",
      "Lezen etmgeg_215.csv\n",
      "Lezen etmgeg_225.csv\n",
      "Lezen etmgeg_235.csv\n",
      "Lezen etmgeg_240.csv\n",
      "Lezen etmgeg_242.csv\n",
      "Lezen etmgeg_248.csv\n",
      "Lezen etmgeg_249.csv\n",
      "Lezen etmgeg_251.csv\n",
      "Lezen etmgeg_257.csv\n",
      "Lezen etmgeg_258.csv\n",
      "Lezen etmgeg_260.csv\n",
      "Lezen etmgeg_265.csv\n",
      "Lezen etmgeg_267.csv\n",
      "Lezen etmgeg_269.csv\n",
      "Lezen etmgeg_270.csv\n",
      "Lezen etmgeg_273.csv\n",
      "Lezen etmgeg_275.csv\n",
      "Lezen etmgeg_277.csv\n",
      "Lezen etmgeg_278.csv\n",
      "Lezen etmgeg_279.csv\n",
      "Lezen etmgeg_280.csv\n",
      "Lezen etmgeg_283.csv\n",
      "Lezen etmgeg_285.csv\n",
      "Lezen etmgeg_286.csv\n",
      "Lezen etmgeg_290.csv\n",
      "Lezen etmgeg_308.csv\n",
      "Lezen etmgeg_310.csv\n",
      "Lezen etmgeg_311.csv\n",
      "Lezen etmgeg_312.csv\n",
      "Lezen etmgeg_313.csv\n",
      "Lezen etmgeg_315.csv\n",
      "Lezen etmgeg_316.csv\n",
      "Lezen etmgeg_319.csv\n",
      "Lezen etmgeg_323.csv\n",
      "Lezen etmgeg_324.csv\n",
      "Lezen etmgeg_330.csv\n",
      "Lezen etmgeg_331.csv\n",
      "Lezen etmgeg_340.csv\n",
      "Lezen etmgeg_343.csv\n",
      "Lezen etmgeg_344.csv\n",
      "Lezen etmgeg_348.csv\n",
      "Lezen etmgeg_350.csv\n",
      "Lezen etmgeg_356.csv\n",
      "Lezen etmgeg_370.csv\n",
      "Lezen etmgeg_375.csv\n",
      "Lezen etmgeg_377.csv\n",
      "Lezen etmgeg_380.csv\n",
      "Lezen etmgeg_391.csv\n",
      "Dataframe klaar\n"
     ]
    }
   ],
   "source": [
    "import pandas as pd\n",
    "import glob, os\n",
    "\n",
    "combined_df = None\n",
    "for file in glob.glob('etmgeg*.csv'):\n",
    "    print (\"Lezen \" + file)\n",
    "    df = pd.read_csv(file)\n",
    "    if combined_df is None:\n",
    "        combined_df = df.copy()\n",
    "    else:\n",
    "        combined_df = combined_df.append(df)\n",
    "# Verwijder alle whitespaces\n",
    "combined_df.columns = combined_df.columns.str.strip()\n",
    "print (\"Dataframe klaar\")"
   ]
  },
  {
   "cell_type": "code",
   "execution_count": 39,
   "metadata": {},
   "outputs": [
    {
     "output_type": "stream",
     "name": "stdout",
     "text": [
      "<class 'pandas.core.frame.DataFrame'>\nInt64Index: 839717 entries, 0 to 11168\nData columns (total 41 columns):\n #   Column    Non-Null Count   Dtype \n---  ------    --------------   ----- \n 0   STN       839717 non-null  int64 \n 1   YYYYMMDD  839717 non-null  int64 \n 2   DDVEC     839717 non-null  object\n 3   FHVEC     839717 non-null  object\n 4   FG        839717 non-null  object\n 5   FHX       839717 non-null  object\n 6   FHXH      839717 non-null  object\n 7   FHN       839717 non-null  object\n 8   FHNH      839717 non-null  object\n 9   FXX       839717 non-null  object\n 10  FXXH      839717 non-null  object\n 11  TG        839717 non-null  object\n 12  TN        839717 non-null  object\n 13  TNH       839717 non-null  object\n 14  TX        839717 non-null  object\n 15  TXH       839717 non-null  object\n 16  T10N      839717 non-null  object\n 17  T10NH     839717 non-null  object\n 18  SQ        839717 non-null  object\n 19  SP        839717 non-null  object\n 20  Q         839717 non-null  object\n 21  DR        839717 non-null  object\n 22  RH        839717 non-null  object\n 23  RHX       839717 non-null  object\n 24  RHXH      839717 non-null  object\n 25  PG        839717 non-null  object\n 26  PX        839717 non-null  object\n 27  PXH       839717 non-null  object\n 28  PN        839717 non-null  object\n 29  PNH       839717 non-null  object\n 30  VVN       839717 non-null  object\n 31  VVNH      839717 non-null  object\n 32  VVX       839717 non-null  object\n 33  VVXH      839717 non-null  object\n 34  NG        839717 non-null  object\n 35  UG        839717 non-null  object\n 36  UX        839717 non-null  object\n 37  UXH       839717 non-null  object\n 38  UN        839717 non-null  object\n 39  UNH       839717 non-null  object\n 40  EV24      839717 non-null  object\ndtypes: int64(2), object(39)\nmemory usage: 269.1+ MB\n"
     ]
    }
   ],
   "source": [
    "combined_df.info()"
   ]
  },
  {
   "source": [
    "Welke periode zit er in het dataframe?"
   ],
   "cell_type": "markdown",
   "metadata": {}
  },
  {
   "cell_type": "code",
   "execution_count": 40,
   "metadata": {},
   "outputs": [
    {
     "output_type": "stream",
     "name": "stdout",
     "text": [
      "Periode: 19010101 tot 20210127\n"
     ]
    }
   ],
   "source": [
    "periode_eind = combined_df[\"YYYYMMDD\"].max()\n",
    "periode_start = combined_df[\"YYYYMMDD\"].min()\n",
    "print (f\"Periode: {periode_start} tot {periode_eind}\")"
   ]
  },
  {
   "source": [
    "Check of er NaN value in het dataframe zitten"
   ],
   "cell_type": "markdown",
   "metadata": {}
  },
  {
   "cell_type": "code",
   "execution_count": 41,
   "metadata": {},
   "outputs": [
    {
     "output_type": "execute_result",
     "data": {
      "text/plain": [
       "STN         0\n",
       "YYYYMMDD    0\n",
       "DDVEC       0\n",
       "FHVEC       0\n",
       "FG          0\n",
       "FHX         0\n",
       "FHXH        0\n",
       "FHN         0\n",
       "FHNH        0\n",
       "FXX         0\n",
       "FXXH        0\n",
       "TG          0\n",
       "TN          0\n",
       "TNH         0\n",
       "TX          0\n",
       "TXH         0\n",
       "T10N        0\n",
       "T10NH       0\n",
       "SQ          0\n",
       "SP          0\n",
       "Q           0\n",
       "DR          0\n",
       "RH          0\n",
       "RHX         0\n",
       "RHXH        0\n",
       "PG          0\n",
       "PX          0\n",
       "PXH         0\n",
       "PN          0\n",
       "PNH         0\n",
       "VVN         0\n",
       "VVNH        0\n",
       "VVX         0\n",
       "VVXH        0\n",
       "NG          0\n",
       "UG          0\n",
       "UX          0\n",
       "UXH         0\n",
       "UN          0\n",
       "UNH         0\n",
       "EV24        0\n",
       "dtype: int64"
      ]
     },
     "metadata": {},
     "execution_count": 41
    }
   ],
   "source": [
    "combined_df.isna().sum()\n"
   ]
  },
  {
   "source": [
    "Check of alle stations in het dataframe zitten"
   ],
   "cell_type": "markdown",
   "metadata": {}
  },
  {
   "cell_type": "code",
   "execution_count": 42,
   "metadata": {},
   "outputs": [
    {
     "output_type": "execute_result",
     "data": {
      "text/plain": [
       "array([209, 210, 215, 225, 235, 240, 242, 248, 249, 251, 257, 258, 260,\n",
       "       265, 267, 269, 270, 273, 275, 277, 278, 279, 280, 283, 285, 286,\n",
       "       290, 308, 310, 311, 312, 313, 315, 316, 319, 323, 324, 330, 331,\n",
       "       340, 343, 344, 348, 350, 356, 370, 375, 377, 380, 391], dtype=int64)"
      ]
     },
     "metadata": {},
     "execution_count": 42
    }
   ],
   "source": [
    "combined_df.STN.unique()"
   ]
  },
  {
   "source": [
    "Check of er temperatuurdata in het dataframe zit"
   ],
   "cell_type": "markdown",
   "metadata": {}
  },
  {
   "cell_type": "code",
   "execution_count": 45,
   "metadata": {},
   "outputs": [
    {
     "output_type": "execute_result",
     "data": {
      "text/plain": [
       "0           35\n",
       "1           27\n",
       "2           17\n",
       "3           25\n",
       "4           95\n",
       "         ...  \n",
       "25590       51\n",
       "25591       46\n",
       "25592       47\n",
       "25593       66\n",
       "25594       63\n",
       "Name: TX, Length: 25595, dtype: object"
      ]
     },
     "metadata": {},
     "execution_count": 45
    }
   ],
   "source": [
    "combined_df.loc[combined_df.STN == 370].TX"
   ]
  },
  {
   "source": [
    "# Sla Dataframe op\n",
    "Sla het dataframe, gemaakt in stap 2, op als ht5 bestand dan snel en efficient is terug te lezen van de harddisk. Als de volgende cell deze error geeft: *ImportError: Missing optional dependency 'tables'.  Use pip or conda to install tables*, installeer dan pytables in je conda omgeving. Het ht5 formaat heeft de neiging om te groeien, iedere keer als het dataframe wordt bijgewerkt. Je zou dan een repack moeten doen van de file. Net zo snel om het bestand weg te gooien, en opnieuw te maken."
   ],
   "cell_type": "markdown",
   "metadata": {}
  },
  {
   "cell_type": "code",
   "execution_count": 46,
   "metadata": {},
   "outputs": [],
   "source": [
    "try:\n",
    "    os.remove('meteo_data.h5')\n",
    "except:\n",
    "    print ('File nog in gebruik of niet gevonden')\n",
    "\n",
    "store = pd.HDFStore('meteo_data.h5')\n",
    "store['meteo_data'] = combined_df\n",
    "store.close()"
   ]
  }
 ],
 "metadata": {
  "kernelspec": {
   "name": "python3",
   "display_name": "Python 3.8.5 64-bit ('JADS': conda)",
   "metadata": {
    "interpreter": {
     "hash": "a717e39e2ce076df9fbd5e1b1a18e8c570b37198a49b13a5670db8bdee762f3b"
    }
   }
  },
  "language_info": {
   "codemirror_mode": {
    "name": "ipython",
    "version": 3
   },
   "file_extension": ".py",
   "mimetype": "text/x-python",
   "name": "python",
   "nbconvert_exporter": "python",
   "pygments_lexer": "ipython3",
   "version": "3.8.5-final"
  }
 },
 "nbformat": 4,
 "nbformat_minor": 2
}