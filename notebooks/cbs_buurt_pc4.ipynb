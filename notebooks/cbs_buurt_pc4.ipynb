{
 "cells": [
  {
   "cell_type": "markdown",
   "id": "attempted-walker",
   "metadata": {},
   "source": [
    "# CBS Buurtcode koppelen aan PC4"
   ]
  },
  {
   "cell_type": "code",
   "execution_count": 1,
   "id": "documented-premises",
   "metadata": {},
   "outputs": [],
   "source": [
    "import pandas as pd\n",
    "import numpy as np\n",
    "import os\n",
    "import glob\n",
    "import zipfile"
   ]
  },
  {
   "cell_type": "code",
   "execution_count": 3,
   "id": "extraordinary-girlfriend",
   "metadata": {},
   "outputs": [],
   "source": [
    "# show all columns in the dataframe\n",
    "pd.set_option('max_columns', None)"
   ]
  },
  {
   "cell_type": "code",
   "execution_count": 2,
   "id": "negative-oracle",
   "metadata": {},
   "outputs": [],
   "source": [
    "# variables used in script\n",
    "data_location = '../data/raw'\n",
    "\n",
    "if 'raqw' not in os.getcwd():\n",
    "    os.chdir(data_location)"
   ]
  },
  {
   "cell_type": "code",
   "execution_count": 4,
   "id": "auburn-contrary",
   "metadata": {},
   "outputs": [],
   "source": [
    "file = 'pc6-gwb2020.csv'"
   ]
  },
  {
   "cell_type": "code",
   "execution_count": 5,
   "id": "fantastic-scholarship",
   "metadata": {},
   "outputs": [],
   "source": [
    "df_brt = pd.read_csv(file, sep=';', thousands='.', decimal=',',  encoding= 'utf-8')"
   ]
  },
  {
   "cell_type": "code",
   "execution_count": 7,
   "id": "transsexual-halloween",
   "metadata": {},
   "outputs": [],
   "source": [
    "# 4 cijferige postcode uit PC6 halen\n",
    "df_brt['PC4'] = df_brt['PC6'].astype(str).str[0:4]"
   ]
  },
  {
   "cell_type": "code",
   "execution_count": 8,
   "id": "dramatic-mason",
   "metadata": {},
   "outputs": [
    {
     "data": {
      "text/html": [
       "<div>\n",
       "<style scoped>\n",
       "    .dataframe tbody tr th:only-of-type {\n",
       "        vertical-align: middle;\n",
       "    }\n",
       "\n",
       "    .dataframe tbody tr th {\n",
       "        vertical-align: top;\n",
       "    }\n",
       "\n",
       "    .dataframe thead th {\n",
       "        text-align: right;\n",
       "    }\n",
       "</style>\n",
       "<table border=\"1\" class=\"dataframe\">\n",
       "  <thead>\n",
       "    <tr style=\"text-align: right;\">\n",
       "      <th></th>\n",
       "      <th>PC6</th>\n",
       "      <th>Buurt2020</th>\n",
       "      <th>Wijk2020</th>\n",
       "      <th>Gemeente2020</th>\n",
       "      <th>PC4</th>\n",
       "    </tr>\n",
       "  </thead>\n",
       "  <tbody>\n",
       "    <tr>\n",
       "      <th>0</th>\n",
       "      <td>1011AB</td>\n",
       "      <td>3630400</td>\n",
       "      <td>36304</td>\n",
       "      <td>363</td>\n",
       "      <td>1011</td>\n",
       "    </tr>\n",
       "    <tr>\n",
       "      <th>1</th>\n",
       "      <td>1011AC</td>\n",
       "      <td>3630400</td>\n",
       "      <td>36304</td>\n",
       "      <td>363</td>\n",
       "      <td>1011</td>\n",
       "    </tr>\n",
       "    <tr>\n",
       "      <th>2</th>\n",
       "      <td>1011AD</td>\n",
       "      <td>3630400</td>\n",
       "      <td>36304</td>\n",
       "      <td>363</td>\n",
       "      <td>1011</td>\n",
       "    </tr>\n",
       "    <tr>\n",
       "      <th>3</th>\n",
       "      <td>1011AE</td>\n",
       "      <td>3630400</td>\n",
       "      <td>36304</td>\n",
       "      <td>363</td>\n",
       "      <td>1011</td>\n",
       "    </tr>\n",
       "    <tr>\n",
       "      <th>4</th>\n",
       "      <td>1011AG</td>\n",
       "      <td>3630403</td>\n",
       "      <td>36304</td>\n",
       "      <td>363</td>\n",
       "      <td>1011</td>\n",
       "    </tr>\n",
       "  </tbody>\n",
       "</table>\n",
       "</div>"
      ],
      "text/plain": [
       "      PC6  Buurt2020  Wijk2020  Gemeente2020   PC4\n",
       "0  1011AB    3630400     36304           363  1011\n",
       "1  1011AC    3630400     36304           363  1011\n",
       "2  1011AD    3630400     36304           363  1011\n",
       "3  1011AE    3630400     36304           363  1011\n",
       "4  1011AG    3630403     36304           363  1011"
      ]
     },
     "execution_count": 8,
     "metadata": {},
     "output_type": "execute_result"
    }
   ],
   "source": [
    "df_brt.head()"
   ]
  },
  {
   "cell_type": "code",
   "execution_count": 21,
   "id": "frank-parts",
   "metadata": {},
   "outputs": [],
   "source": [
    "# meest voorkomende PC4 per buurtcode\n",
    "df2 = pd.DataFrame(df_brt.groupby(['Buurt2020'])['PC4'].agg(lambda x:x.value_counts().index[0])).reset_index()"
   ]
  },
  {
   "cell_type": "code",
   "execution_count": 22,
   "id": "associate-focus",
   "metadata": {},
   "outputs": [
    {
     "data": {
      "text/html": [
       "<div>\n",
       "<style scoped>\n",
       "    .dataframe tbody tr th:only-of-type {\n",
       "        vertical-align: middle;\n",
       "    }\n",
       "\n",
       "    .dataframe tbody tr th {\n",
       "        vertical-align: top;\n",
       "    }\n",
       "\n",
       "    .dataframe thead th {\n",
       "        text-align: right;\n",
       "    }\n",
       "</style>\n",
       "<table border=\"1\" class=\"dataframe\">\n",
       "  <thead>\n",
       "    <tr style=\"text-align: right;\">\n",
       "      <th></th>\n",
       "      <th>Buurt2020</th>\n",
       "      <th>PC4</th>\n",
       "    </tr>\n",
       "  </thead>\n",
       "  <tbody>\n",
       "    <tr>\n",
       "      <th>0</th>\n",
       "      <td>30000</td>\n",
       "      <td>9901</td>\n",
       "    </tr>\n",
       "    <tr>\n",
       "      <th>1</th>\n",
       "      <td>30001</td>\n",
       "      <td>9903</td>\n",
       "    </tr>\n",
       "    <tr>\n",
       "      <th>2</th>\n",
       "      <td>30002</td>\n",
       "      <td>9902</td>\n",
       "    </tr>\n",
       "    <tr>\n",
       "      <th>3</th>\n",
       "      <td>30007</td>\n",
       "      <td>9902</td>\n",
       "    </tr>\n",
       "    <tr>\n",
       "      <th>4</th>\n",
       "      <td>30008</td>\n",
       "      <td>9902</td>\n",
       "    </tr>\n",
       "  </tbody>\n",
       "</table>\n",
       "</div>"
      ],
      "text/plain": [
       "   Buurt2020   PC4\n",
       "0      30000  9901\n",
       "1      30001  9903\n",
       "2      30002  9902\n",
       "3      30007  9902\n",
       "4      30008  9902"
      ]
     },
     "execution_count": 22,
     "metadata": {},
     "output_type": "execute_result"
    }
   ],
   "source": [
    "df2.head()"
   ]
  },
  {
   "cell_type": "code",
   "execution_count": 23,
   "id": "english-occurrence",
   "metadata": {},
   "outputs": [
    {
     "data": {
      "text/plain": [
       "19660800    1\n",
       "3030701     1\n",
       "19521201    1\n",
       "5031602     1\n",
       "15070900    1\n",
       "           ..\n",
       "17083200    1\n",
       "2440002     1\n",
       "1411908     1\n",
       "1770309     1\n",
       "9570303     1\n",
       "Name: Buurt2020, Length: 13729, dtype: int64"
      ]
     },
     "execution_count": 23,
     "metadata": {},
     "output_type": "execute_result"
    }
   ],
   "source": [
    "df2['Buurt2020'].value_counts()"
   ]
  },
  {
   "cell_type": "markdown",
   "id": "whole-intake",
   "metadata": {},
   "source": [
    "# ht5 file opslaan"
   ]
  },
  {
   "cell_type": "code",
   "execution_count": 24,
   "id": "parallel-domain",
   "metadata": {},
   "outputs": [],
   "source": [
    "# data locatie om de ht5 file op te slaan\n",
    "data_processed_location = '../processed'\n",
    "\n",
    "if 'processed' not in os.getcwd():\n",
    "    os.chdir(data_processed_location)"
   ]
  },
  {
   "cell_type": "code",
   "execution_count": 26,
   "id": "tired-tours",
   "metadata": {},
   "outputs": [],
   "source": [
    "try:\n",
    "    os.remove('cbs_buurt_pc4.h5')\n",
    "except:\n",
    "    print ('File nog in gebruik of niet gevonden')\n",
    "\n",
    "store = pd.HDFStore('cbs_buurt_pc4.h5')\n",
    "store['cbs_buurt_pc4'] = df2\n",
    "store.close()"
   ]
  }
 ],
 "metadata": {
  "kernelspec": {
   "display_name": "Python [conda env:jads_enexis] *",
   "language": "python",
   "name": "conda-env-jads_enexis-py"
  },
  "language_info": {
   "codemirror_mode": {
    "name": "ipython",
    "version": 3
   },
   "file_extension": ".py",
   "mimetype": "text/x-python",
   "name": "python",
   "nbconvert_exporter": "python",
   "pygments_lexer": "ipython3",
   "version": "3.8.5"
  }
 },
 "nbformat": 4,
 "nbformat_minor": 5
}
