{
 "cells": [
  {
   "cell_type": "markdown",
   "metadata": {},
   "source": [
    "# Master dataframe en functie om forecast 2021 2023 van verbruik te maken\n",
    "\n"
   ]
  },
  {
   "cell_type": "code",
   "execution_count": 2,
   "metadata": {},
   "outputs": [],
   "source": [
    "import pandas as pd\n",
    "import numpy as np\n",
    "import os\n",
    "import matplotlib.pyplot as plt\n",
    "import time\n",
    "\n",
    "# show all columns in the dataframe\n",
    "pd.set_option('max_columns', None)"
   ]
  },
  {
   "cell_type": "code",
   "execution_count": 3,
   "metadata": {},
   "outputs": [],
   "source": [
    "# extra imports \n",
    "\n",
    "#!pip install altair\n",
    "import altair as alt\n",
    "\n",
    "\n",
    "import warnings\n",
    "warnings.filterwarnings(\"ignore\")"
   ]
  },
  {
   "cell_type": "markdown",
   "metadata": {},
   "source": [
    "# Define functions "
   ]
  },
  {
   "cell_type": "code",
   "execution_count": 4,
   "metadata": {},
   "outputs": [],
   "source": [
    "# Define function that returns a low, mid or high prediction of SJV_TOTAAL for each PC6 for the years 2021-2023 on the basis\n",
    "# of the electricity consumption in period 2010-2020. Default prediction type is 'mid'. \n",
    "\n",
    "def predict_verbruik(df_input, predict_type='mid'):\n",
    "\n",
    "    df_output = df_input\n",
    "\n",
    "    return (df_output)"
   ]
  },
  {
   "cell_type": "markdown",
   "metadata": {},
   "source": [
    "# Set directory"
   ]
  },
  {
   "cell_type": "code",
   "execution_count": 5,
   "metadata": {},
   "outputs": [],
   "source": [
    "# variables used in script\n",
    "data_processed_location = '../data/processed'\n",
    "\n",
    "if 'processed' not in os.getcwd():\n",
    "    os.chdir(data_processed_location)"
   ]
  },
  {
   "cell_type": "markdown",
   "metadata": {},
   "source": [
    "# Read dataframes"
   ]
  },
  {
   "cell_type": "code",
   "execution_count": 6,
   "metadata": {},
   "outputs": [],
   "source": [
    "# kleinverbruikgegevens gegevens inlezen\n",
    "df_verbruik = pd.read_hdf('kleinverbruikgegevens_data.h5')\n",
    "\n",
    "# Fix problem with postcodes\n",
    "df_verbruik['POSTCODE_VAN'] = df_verbruik['POSTCODE_VAN'].str.replace(\" \",\"\")\n",
    "df_verbruik['POSTCODE_TOT'] = df_verbruik['POSTCODE_TOT'].str.replace(\" \",\"\")\n",
    "\n",
    "# mapping van PC4 buurt naar RES regio\n",
    "df_pc4_res = pd.read_hdf('pc4_res.h5')\n"
   ]
  },
  {
   "cell_type": "markdown",
   "metadata": {},
   "source": [
    "# Merge in RES definitie"
   ]
  },
  {
   "cell_type": "code",
   "execution_count": 7,
   "metadata": {
    "scrolled": true
   },
   "outputs": [],
   "source": [
    "# Change type of PC4 for merge\n",
    "df_verbruik['PC4'] = df_verbruik['PC4'].astype('int64') \n",
    "\n",
    "# Merge in RES \n",
    "df_verbruik = pd.merge(df_verbruik, df_pc4_res, on=['PC4'], how='left')\n"
   ]
  },
  {
   "cell_type": "markdown",
   "metadata": {},
   "source": [
    "# QC plot for 3 PC6's"
   ]
  },
  {
   "cell_type": "code",
   "execution_count": 10,
   "metadata": {},
   "outputs": [
    {
     "data": {
      "text/html": [
       "\n",
       "<div id=\"altair-viz-825b7fb919694e39a9cc5cc085df7e49\"></div>\n",
       "<script type=\"text/javascript\">\n",
       "  (function(spec, embedOpt){\n",
       "    let outputDiv = document.currentScript.previousElementSibling;\n",
       "    if (outputDiv.id !== \"altair-viz-825b7fb919694e39a9cc5cc085df7e49\") {\n",
       "      outputDiv = document.getElementById(\"altair-viz-825b7fb919694e39a9cc5cc085df7e49\");\n",
       "    }\n",
       "    const paths = {\n",
       "      \"vega\": \"https://cdn.jsdelivr.net/npm//vega@5?noext\",\n",
       "      \"vega-lib\": \"https://cdn.jsdelivr.net/npm//vega-lib?noext\",\n",
       "      \"vega-lite\": \"https://cdn.jsdelivr.net/npm//vega-lite@4.8.1?noext\",\n",
       "      \"vega-embed\": \"https://cdn.jsdelivr.net/npm//vega-embed@6?noext\",\n",
       "    };\n",
       "\n",
       "    function loadScript(lib) {\n",
       "      return new Promise(function(resolve, reject) {\n",
       "        var s = document.createElement('script');\n",
       "        s.src = paths[lib];\n",
       "        s.async = true;\n",
       "        s.onload = () => resolve(paths[lib]);\n",
       "        s.onerror = () => reject(`Error loading script: ${paths[lib]}`);\n",
       "        document.getElementsByTagName(\"head\")[0].appendChild(s);\n",
       "      });\n",
       "    }\n",
       "\n",
       "    function showError(err) {\n",
       "      outputDiv.innerHTML = `<div class=\"error\" style=\"color:red;\">${err}</div>`;\n",
       "      throw err;\n",
       "    }\n",
       "\n",
       "    function displayChart(vegaEmbed) {\n",
       "      vegaEmbed(outputDiv, spec, embedOpt)\n",
       "        .catch(err => showError(`Javascript Error: ${err.message}<br>This usually means there's a typo in your chart specification. See the javascript console for the full traceback.`));\n",
       "    }\n",
       "\n",
       "    if(typeof define === \"function\" && define.amd) {\n",
       "      requirejs.config({paths});\n",
       "      require([\"vega-embed\"], displayChart, err => showError(`Error loading script: ${err.message}`));\n",
       "    } else if (typeof vegaEmbed === \"function\") {\n",
       "      displayChart(vegaEmbed);\n",
       "    } else {\n",
       "      loadScript(\"vega\")\n",
       "        .then(() => loadScript(\"vega-lite\"))\n",
       "        .then(() => loadScript(\"vega-embed\"))\n",
       "        .catch(showError)\n",
       "        .then(() => displayChart(vegaEmbed));\n",
       "    }\n",
       "  })({\"config\": {\"view\": {\"continuousWidth\": 400, \"continuousHeight\": 300}}, \"hconcat\": [{\"data\": {\"name\": \"data-d034d497a2ae1cf0dae5f84cc7a7e389\"}, \"mark\": {\"type\": \"line\", \"clip\": true}, \"encoding\": {\"x\": {\"type\": \"temporal\", \"field\": \"JAAR\"}, \"y\": {\"type\": \"quantitative\", \"field\": \"SJV_TOTAAL\"}}, \"height\": 250, \"width\": 250}, {\"data\": {\"name\": \"data-64f4e9fe13433f271477fa284e826b60\"}, \"mark\": {\"type\": \"line\", \"clip\": true}, \"encoding\": {\"x\": {\"type\": \"temporal\", \"field\": \"JAAR\"}, \"y\": {\"type\": \"quantitative\", \"field\": \"SJV_TOTAAL\"}}, \"height\": 250, \"width\": 250}, {\"data\": {\"name\": \"data-5270e98cefd06d71dcf2e3ada185ed24\"}, \"mark\": {\"type\": \"line\", \"clip\": true}, \"encoding\": {\"x\": {\"type\": \"temporal\", \"field\": \"JAAR\"}, \"y\": {\"type\": \"quantitative\", \"field\": \"SJV_TOTAAL\"}}, \"height\": 250, \"width\": 250}], \"$schema\": \"https://vega.github.io/schema/vega-lite/v4.8.1.json\", \"datasets\": {\"data-d034d497a2ae1cf0dae5f84cc7a7e389\": [{\"index\": 0, \"NETBEHEERDER\": \"Enexis B.V.\", \"NETGEBIED\": \"ENEXIS\", \"STRAATNAAM\": \"Sasdijk\", \"POSTCODE_VAN\": \"4251AB\", \"POSTCODE_TOT\": \"4251AB\", \"WOONPLAATS\": \"WERKENDAM\", \"LANDCODE\": \"NL\", \"PRODUCTSOORT\": \"ELK\", \"VERBRUIKSSEGMENT\": \"KVB\", \"LEVERINGSRICHTING_PERC\": 100.0, \"AANSLUITINGEN_AANTAL\": 16, \"FYSIEKE_STATUS_PERC\": 100, \"SOORT_AANSLUITING_PERC\": 0.0, \"SOORT_AANSLUITING\": \"1X25\", \"SJV_GEMIDDELD\": 4282.0, \"SJV_LAAG_TARIEF_PERC\": 25.0, \"SLIMME_METER_PERC\": 0.0, \"JAAR\": 2010, \"PC4\": 4251, \"SJV_TOTAAL\": 69.0, \"RES\": \"West-Brabant\"}, {\"index\": 107377, \"NETBEHEERDER\": \"Enexis B.V.\", \"NETGEBIED\": \"ENEXIS\", \"STRAATNAAM\": \"Sasdijk\", \"POSTCODE_VAN\": \"4251AB\", \"POSTCODE_TOT\": \"4251AB\", \"WOONPLAATS\": \"WERKENDAM\", \"LANDCODE\": \"NL\", \"PRODUCTSOORT\": \"ELK\", \"VERBRUIKSSEGMENT\": \"KVB\", \"LEVERINGSRICHTING_PERC\": 100.0, \"AANSLUITINGEN_AANTAL\": 16, \"FYSIEKE_STATUS_PERC\": 100, \"SOORT_AANSLUITING_PERC\": 50.0, \"SOORT_AANSLUITING\": \"1X25\", \"SJV_GEMIDDELD\": 4961.0, \"SJV_LAAG_TARIEF_PERC\": 34.0, \"SLIMME_METER_PERC\": 0.0, \"JAAR\": 2011, \"PC4\": 4251, \"SJV_TOTAAL\": 79.0, \"RES\": \"West-Brabant\"}, {\"index\": 215676, \"NETBEHEERDER\": \"Enexis B.V.\", \"NETGEBIED\": \"ENEXIS\", \"STRAATNAAM\": \"Sasdijk\", \"POSTCODE_VAN\": \"4251AB\", \"POSTCODE_TOT\": \"4251AB\", \"WOONPLAATS\": \"WERKENDAM\", \"LANDCODE\": \"NL\", \"PRODUCTSOORT\": \"ELK\", \"VERBRUIKSSEGMENT\": \"KVB\", \"LEVERINGSRICHTING_PERC\": 100.0, \"AANSLUITINGEN_AANTAL\": 16, \"FYSIEKE_STATUS_PERC\": 100, \"SOORT_AANSLUITING_PERC\": 50.0, \"SOORT_AANSLUITING\": \"1X25\", \"SJV_GEMIDDELD\": 5369.0, \"SJV_LAAG_TARIEF_PERC\": 37.0, \"SLIMME_METER_PERC\": 0.0, \"JAAR\": 2012, \"PC4\": 4251, \"SJV_TOTAAL\": 86.0, \"RES\": \"West-Brabant\"}, {\"index\": 325484, \"NETBEHEERDER\": \"Enexis B.V.\", \"NETGEBIED\": \"ENEXIS\", \"STRAATNAAM\": \"Sasdijk\", \"POSTCODE_VAN\": \"4251AB\", \"POSTCODE_TOT\": \"4251AB\", \"WOONPLAATS\": \"WERKENDAM\", \"LANDCODE\": \"NL\", \"PRODUCTSOORT\": \"ELK\", \"VERBRUIKSSEGMENT\": \"KVB\", \"LEVERINGSRICHTING_PERC\": 100.0, \"AANSLUITINGEN_AANTAL\": 16, \"FYSIEKE_STATUS_PERC\": 100, \"SOORT_AANSLUITING_PERC\": 50.0, \"SOORT_AANSLUITING\": \"1X25\", \"SJV_GEMIDDELD\": 4597.0, \"SJV_LAAG_TARIEF_PERC\": 31.0, \"SLIMME_METER_PERC\": 0.0, \"JAAR\": 2013, \"PC4\": 4251, \"SJV_TOTAAL\": 74.0, \"RES\": \"West-Brabant\"}, {\"index\": 438732, \"NETBEHEERDER\": \"Enexis B.V.\", \"NETGEBIED\": \"ENEXIS\", \"STRAATNAAM\": \"Sasdijk\", \"POSTCODE_VAN\": \"4251AB\", \"POSTCODE_TOT\": \"4251AB\", \"WOONPLAATS\": \"WERKENDAM\", \"LANDCODE\": \"NL\", \"PRODUCTSOORT\": \"ELK\", \"VERBRUIKSSEGMENT\": \"KVB\", \"LEVERINGSRICHTING_PERC\": 100.0, \"AANSLUITINGEN_AANTAL\": 16, \"FYSIEKE_STATUS_PERC\": 100, \"SOORT_AANSLUITING_PERC\": 50.0, \"SOORT_AANSLUITING\": \"1X25\", \"SJV_GEMIDDELD\": 4589.0, \"SJV_LAAG_TARIEF_PERC\": 18.0, \"SLIMME_METER_PERC\": 0.0, \"JAAR\": 2014, \"PC4\": 4251, \"SJV_TOTAAL\": 73.0, \"RES\": \"West-Brabant\"}, {\"index\": 552376, \"NETBEHEERDER\": \"Enexis B.V.\", \"NETGEBIED\": \"ENEXIS\", \"STRAATNAAM\": \"Sasdijk\", \"POSTCODE_VAN\": \"4251AB\", \"POSTCODE_TOT\": \"4251AB\", \"WOONPLAATS\": \"WERKENDAM\", \"LANDCODE\": \"NL\", \"PRODUCTSOORT\": \"ELK\", \"VERBRUIKSSEGMENT\": \"KVB\", \"LEVERINGSRICHTING_PERC\": 100.0, \"AANSLUITINGEN_AANTAL\": 16, \"FYSIEKE_STATUS_PERC\": 100, \"SOORT_AANSLUITING_PERC\": 50.0, \"SOORT_AANSLUITING\": \"1X25\", \"SJV_GEMIDDELD\": 4716.0, \"SJV_LAAG_TARIEF_PERC\": 27.0, \"SLIMME_METER_PERC\": 6.0, \"JAAR\": 2015, \"PC4\": 4251, \"SJV_TOTAAL\": 75.0, \"RES\": \"West-Brabant\"}, {\"index\": 666365, \"NETBEHEERDER\": \"Enexis B.V.\", \"NETGEBIED\": \"ENEXIS\", \"STRAATNAAM\": \"Sasdijk\", \"POSTCODE_VAN\": \"4251AB\", \"POSTCODE_TOT\": \"4251AB\", \"WOONPLAATS\": \"WERKENDAM\", \"LANDCODE\": \"NL\", \"PRODUCTSOORT\": \"ELK\", \"VERBRUIKSSEGMENT\": \"KVB\", \"LEVERINGSRICHTING_PERC\": 100.0, \"AANSLUITINGEN_AANTAL\": 15, \"FYSIEKE_STATUS_PERC\": 100, \"SOORT_AANSLUITING_PERC\": 47.0, \"SOORT_AANSLUITING\": \"1x25\", \"SJV_GEMIDDELD\": 4728.0, \"SJV_LAAG_TARIEF_PERC\": 29.0, \"SLIMME_METER_PERC\": 7.0, \"JAAR\": 2016, \"PC4\": 4251, \"SJV_TOTAAL\": 71.0, \"RES\": \"West-Brabant\"}, {\"index\": 776943, \"NETBEHEERDER\": \"Enexis B.V.\", \"NETGEBIED\": \"ENEXIS\", \"STRAATNAAM\": \"Sasdijk\", \"POSTCODE_VAN\": \"4251AB\", \"POSTCODE_TOT\": \"4251AB\", \"WOONPLAATS\": \"WERKENDAM\", \"LANDCODE\": \"NL\", \"PRODUCTSOORT\": \"ELK\", \"VERBRUIKSSEGMENT\": \"KVB\", \"LEVERINGSRICHTING_PERC\": 100.0, \"AANSLUITINGEN_AANTAL\": 16, \"FYSIEKE_STATUS_PERC\": 100, \"SOORT_AANSLUITING_PERC\": 44.0, \"SOORT_AANSLUITING\": \"1x25\", \"SJV_GEMIDDELD\": 4946.0, \"SJV_LAAG_TARIEF_PERC\": 30.0, \"SLIMME_METER_PERC\": 13.0, \"JAAR\": 2017, \"PC4\": 4251, \"SJV_TOTAAL\": 79.0, \"RES\": \"West-Brabant\"}, {\"index\": 892517, \"NETBEHEERDER\": \"Enexis B.V.\", \"NETGEBIED\": \"ENEXIS\", \"STRAATNAAM\": \"Sasdijk\", \"POSTCODE_VAN\": \"4251AB\", \"POSTCODE_TOT\": \"4251AB\", \"WOONPLAATS\": \"WERKENDAM\", \"LANDCODE\": \"NL\", \"PRODUCTSOORT\": \"ELK\", \"VERBRUIKSSEGMENT\": \"KVB\", \"LEVERINGSRICHTING_PERC\": 100.0, \"AANSLUITINGEN_AANTAL\": 17, \"FYSIEKE_STATUS_PERC\": 100, \"SOORT_AANSLUITING_PERC\": 41.18, \"SOORT_AANSLUITING\": \"1x25\", \"SJV_GEMIDDELD\": 4149.24, \"SJV_LAAG_TARIEF_PERC\": 28.33, \"SLIMME_METER_PERC\": 29.41, \"JAAR\": 2018, \"PC4\": 4251, \"SJV_TOTAAL\": 71.0, \"RES\": \"West-Brabant\"}, {\"index\": 1016680, \"NETBEHEERDER\": \"Enexis B.V.\", \"NETGEBIED\": \"ENEXIS\", \"STRAATNAAM\": \"Sasdijk\", \"POSTCODE_VAN\": \"4251AB\", \"POSTCODE_TOT\": \"4251AB\", \"WOONPLAATS\": \"WERKENDAM\", \"LANDCODE\": \"NL\", \"PRODUCTSOORT\": \"ELK\", \"VERBRUIKSSEGMENT\": \"KVB\", \"LEVERINGSRICHTING_PERC\": 100.0, \"AANSLUITINGEN_AANTAL\": 17, \"FYSIEKE_STATUS_PERC\": 100, \"SOORT_AANSLUITING_PERC\": 41.18, \"SOORT_AANSLUITING\": \"1x25\", \"SJV_GEMIDDELD\": 4614.24, \"SJV_LAAG_TARIEF_PERC\": 34.24, \"SLIMME_METER_PERC\": 41.18, \"JAAR\": 2019, \"PC4\": 4251, \"SJV_TOTAAL\": 78.0, \"RES\": \"West-Brabant\"}, {\"index\": 1141266, \"NETBEHEERDER\": \"Enexis B.V.\", \"NETGEBIED\": \"ENEXIS\", \"STRAATNAAM\": \"Sasdijk\", \"POSTCODE_VAN\": \"4251AB\", \"POSTCODE_TOT\": \"4251AB\", \"WOONPLAATS\": \"WERKENDAM\", \"LANDCODE\": \"NL\", \"PRODUCTSOORT\": \"ELK\", \"VERBRUIKSSEGMENT\": \"KVB\", \"LEVERINGSRICHTING_PERC\": 94.12, \"AANSLUITINGEN_AANTAL\": 17, \"FYSIEKE_STATUS_PERC\": 100, \"SOORT_AANSLUITING_PERC\": 41.18, \"SOORT_AANSLUITING\": \"1x25\", \"SJV_GEMIDDELD\": 4022.88, \"SJV_LAAG_TARIEF_PERC\": 35.36, \"SLIMME_METER_PERC\": 47.06, \"JAAR\": 2020, \"PC4\": 4251, \"SJV_TOTAAL\": 68.0, \"RES\": \"West-Brabant\"}, {\"index\": 1266143, \"NETBEHEERDER\": \"Enexis B.V.\", \"NETGEBIED\": \"ENEXIS\", \"STRAATNAAM\": \"Sasdijk\", \"POSTCODE_VAN\": \"4251AB\", \"POSTCODE_TOT\": \"4251AB\", \"WOONPLAATS\": \"WERKENDAM\", \"LANDCODE\": \"NL\", \"PRODUCTSOORT\": \"ELK\", \"VERBRUIKSSEGMENT\": \"KVB\", \"LEVERINGSRICHTING_PERC\": 85.71, \"AANSLUITINGEN_AANTAL\": 14, \"FYSIEKE_STATUS_PERC\": 100, \"SOORT_AANSLUITING_PERC\": 50.0, \"SOORT_AANSLUITING\": \"3x25\", \"SJV_GEMIDDELD\": 4206.43, \"SJV_LAAG_TARIEF_PERC\": 49.69, \"SLIMME_METER_PERC\": 71.43, \"JAAR\": 2021, \"PC4\": 4251, \"SJV_TOTAAL\": 59.0, \"RES\": \"West-Brabant\"}], \"data-64f4e9fe13433f271477fa284e826b60\": [{\"index\": 58955, \"NETBEHEERDER\": \"Enexis B.V.\", \"NETGEBIED\": \"ENEXIS\", \"STRAATNAAM\": \"Apollolaan\", \"POSTCODE_VAN\": \"6373HA\", \"POSTCODE_TOT\": \"6373HA\", \"WOONPLAATS\": \"LANDGRAAF\", \"LANDCODE\": \"NL\", \"PRODUCTSOORT\": \"ELK\", \"VERBRUIKSSEGMENT\": \"KVB\", \"LEVERINGSRICHTING_PERC\": 100.0, \"AANSLUITINGEN_AANTAL\": 20, \"FYSIEKE_STATUS_PERC\": 100, \"SOORT_AANSLUITING_PERC\": 0.0, \"SOORT_AANSLUITING\": \"1X25\", \"SJV_GEMIDDELD\": 3756.0, \"SJV_LAAG_TARIEF_PERC\": 47.0, \"SLIMME_METER_PERC\": 0.0, \"JAAR\": 2010, \"PC4\": 6373, \"SJV_TOTAAL\": 75.0, \"RES\": \"Zuid-Limburg\"}, {\"index\": 166855, \"NETBEHEERDER\": \"Enexis B.V.\", \"NETGEBIED\": \"ENEXIS\", \"STRAATNAAM\": \"Apollolaan\", \"POSTCODE_VAN\": \"6373HA\", \"POSTCODE_TOT\": \"6373HA\", \"WOONPLAATS\": \"LANDGRAAF\", \"LANDCODE\": \"NL\", \"PRODUCTSOORT\": \"ELK\", \"VERBRUIKSSEGMENT\": \"KVB\", \"LEVERINGSRICHTING_PERC\": 100.0, \"AANSLUITINGEN_AANTAL\": 20, \"FYSIEKE_STATUS_PERC\": 100, \"SOORT_AANSLUITING_PERC\": 55.0, \"SOORT_AANSLUITING\": \"1X25\", \"SJV_GEMIDDELD\": 3618.0, \"SJV_LAAG_TARIEF_PERC\": 46.0, \"SLIMME_METER_PERC\": 0.0, \"JAAR\": 2011, \"PC4\": 6373, \"SJV_TOTAAL\": 72.0, \"RES\": \"Zuid-Limburg\"}, {\"index\": 275877, \"NETBEHEERDER\": \"Enexis B.V.\", \"NETGEBIED\": \"ENEXIS\", \"STRAATNAAM\": \"Apollolaan\", \"POSTCODE_VAN\": \"6373HA\", \"POSTCODE_TOT\": \"6373HA\", \"WOONPLAATS\": \"LANDGRAAF\", \"LANDCODE\": \"NL\", \"PRODUCTSOORT\": \"ELK\", \"VERBRUIKSSEGMENT\": \"KVB\", \"LEVERINGSRICHTING_PERC\": 100.0, \"AANSLUITINGEN_AANTAL\": 20, \"FYSIEKE_STATUS_PERC\": 100, \"SOORT_AANSLUITING_PERC\": 50.0, \"SOORT_AANSLUITING\": \"1X25\", \"SJV_GEMIDDELD\": 3658.0, \"SJV_LAAG_TARIEF_PERC\": 44.0, \"SLIMME_METER_PERC\": 0.0, \"JAAR\": 2012, \"PC4\": 6373, \"SJV_TOTAAL\": 73.0, \"RES\": \"Zuid-Limburg\"}, {\"index\": 386531, \"NETBEHEERDER\": \"Enexis B.V.\", \"NETGEBIED\": \"ENEXIS\", \"STRAATNAAM\": \"Apollolaan\", \"POSTCODE_VAN\": \"6373HA\", \"POSTCODE_TOT\": \"6373HA\", \"WOONPLAATS\": \"LANDGRAAF\", \"LANDCODE\": \"NL\", \"PRODUCTSOORT\": \"ELK\", \"VERBRUIKSSEGMENT\": \"KVB\", \"LEVERINGSRICHTING_PERC\": 100.0, \"AANSLUITINGEN_AANTAL\": 22, \"FYSIEKE_STATUS_PERC\": 100, \"SOORT_AANSLUITING_PERC\": 55.0, \"SOORT_AANSLUITING\": \"1X25\", \"SJV_GEMIDDELD\": 3464.0, \"SJV_LAAG_TARIEF_PERC\": 46.0, \"SLIMME_METER_PERC\": 0.0, \"JAAR\": 2013, \"PC4\": 6373, \"SJV_TOTAAL\": 76.0, \"RES\": \"Zuid-Limburg\"}, {\"index\": 499997, \"NETBEHEERDER\": \"Enexis B.V.\", \"NETGEBIED\": \"ENEXIS\", \"STRAATNAAM\": \"Apollolaan\", \"POSTCODE_VAN\": \"6373HA\", \"POSTCODE_TOT\": \"6373HA\", \"WOONPLAATS\": \"LANDGRAAF\", \"LANDCODE\": \"NL\", \"PRODUCTSOORT\": \"ELK\", \"VERBRUIKSSEGMENT\": \"KVB\", \"LEVERINGSRICHTING_PERC\": 100.0, \"AANSLUITINGEN_AANTAL\": 22, \"FYSIEKE_STATUS_PERC\": 100, \"SOORT_AANSLUITING_PERC\": 50.0, \"SOORT_AANSLUITING\": \"1X25\", \"SJV_GEMIDDELD\": 3402.0, \"SJV_LAAG_TARIEF_PERC\": 45.0, \"SLIMME_METER_PERC\": 9.0, \"JAAR\": 2014, \"PC4\": 6373, \"SJV_TOTAAL\": 75.0, \"RES\": \"Zuid-Limburg\"}, {\"index\": 613828, \"NETBEHEERDER\": \"Enexis B.V.\", \"NETGEBIED\": \"ENEXIS\", \"STRAATNAAM\": \"Apollolaan\", \"POSTCODE_VAN\": \"6373HA\", \"POSTCODE_TOT\": \"6373HA\", \"WOONPLAATS\": \"LANDGRAAF\", \"LANDCODE\": \"NL\", \"PRODUCTSOORT\": \"ELK\", \"VERBRUIKSSEGMENT\": \"KVB\", \"LEVERINGSRICHTING_PERC\": 100.0, \"AANSLUITINGEN_AANTAL\": 22, \"FYSIEKE_STATUS_PERC\": 100, \"SOORT_AANSLUITING_PERC\": 50.0, \"SOORT_AANSLUITING\": \"1X25\", \"SJV_GEMIDDELD\": 3093.0, \"SJV_LAAG_TARIEF_PERC\": 45.0, \"SLIMME_METER_PERC\": 9.0, \"JAAR\": 2015, \"PC4\": 6373, \"SJV_TOTAAL\": 68.0, \"RES\": \"Zuid-Limburg\"}, {\"index\": 727949, \"NETBEHEERDER\": \"Enexis B.V.\", \"NETGEBIED\": \"ENEXIS\", \"STRAATNAAM\": \"Apollolaan\", \"POSTCODE_VAN\": \"6373HA\", \"POSTCODE_TOT\": \"6373HA\", \"WOONPLAATS\": \"LANDGRAAF\", \"LANDCODE\": \"NL\", \"PRODUCTSOORT\": \"ELK\", \"VERBRUIKSSEGMENT\": \"KVB\", \"LEVERINGSRICHTING_PERC\": 95.0, \"AANSLUITINGEN_AANTAL\": 22, \"FYSIEKE_STATUS_PERC\": 100, \"SOORT_AANSLUITING_PERC\": 50.0, \"SOORT_AANSLUITING\": \"1x25\", \"SJV_GEMIDDELD\": 3094.0, \"SJV_LAAG_TARIEF_PERC\": 47.0, \"SLIMME_METER_PERC\": 14.0, \"JAAR\": 2016, \"PC4\": 6373, \"SJV_TOTAAL\": 68.0, \"RES\": \"Zuid-Limburg\"}, {\"index\": 843361, \"NETBEHEERDER\": \"Enexis B.V.\", \"NETGEBIED\": \"ENEXIS\", \"STRAATNAAM\": \"Apollolaan\", \"POSTCODE_VAN\": \"6373HA\", \"POSTCODE_TOT\": \"6373HA\", \"WOONPLAATS\": \"LANDGRAAF\", \"LANDCODE\": \"NL\", \"PRODUCTSOORT\": \"ELK\", \"VERBRUIKSSEGMENT\": \"KVB\", \"LEVERINGSRICHTING_PERC\": 95.0, \"AANSLUITINGEN_AANTAL\": 22, \"FYSIEKE_STATUS_PERC\": 100, \"SOORT_AANSLUITING_PERC\": 55.0, \"SOORT_AANSLUITING\": \"1x25\", \"SJV_GEMIDDELD\": 3174.0, \"SJV_LAAG_TARIEF_PERC\": 46.0, \"SLIMME_METER_PERC\": 18.0, \"JAAR\": 2017, \"PC4\": 6373, \"SJV_TOTAAL\": 70.0, \"RES\": \"Zuid-Limburg\"}, {\"index\": 963920, \"NETBEHEERDER\": \"Enexis B.V.\", \"NETGEBIED\": \"ENEXIS\", \"STRAATNAAM\": \"Apollolaan\", \"POSTCODE_VAN\": \"6373HA\", \"POSTCODE_TOT\": \"6373HA\", \"WOONPLAATS\": \"LANDGRAAF\", \"LANDCODE\": \"NL\", \"PRODUCTSOORT\": \"ELK\", \"VERBRUIKSSEGMENT\": \"KVB\", \"LEVERINGSRICHTING_PERC\": 90.91, \"AANSLUITINGEN_AANTAL\": 22, \"FYSIEKE_STATUS_PERC\": 100, \"SOORT_AANSLUITING_PERC\": 50.0, \"SOORT_AANSLUITING\": \"1x25\", \"SJV_GEMIDDELD\": 3156.09, \"SJV_LAAG_TARIEF_PERC\": 45.33, \"SLIMME_METER_PERC\": 22.73, \"JAAR\": 2018, \"PC4\": 6373, \"SJV_TOTAAL\": 69.0, \"RES\": \"Zuid-Limburg\"}, {\"index\": 1088356, \"NETBEHEERDER\": \"Enexis B.V.\", \"NETGEBIED\": \"ENEXIS\", \"STRAATNAAM\": \"Apollolaan\", \"POSTCODE_VAN\": \"6373HA\", \"POSTCODE_TOT\": \"6373HA\", \"WOONPLAATS\": \"LANDGRAAF\", \"LANDCODE\": \"NL\", \"PRODUCTSOORT\": \"ELK\", \"VERBRUIKSSEGMENT\": \"KVB\", \"LEVERINGSRICHTING_PERC\": 68.18, \"AANSLUITINGEN_AANTAL\": 22, \"FYSIEKE_STATUS_PERC\": 100, \"SOORT_AANSLUITING_PERC\": 54.55, \"SOORT_AANSLUITING\": \"1x35\", \"SJV_GEMIDDELD\": 2994.0, \"SJV_LAAG_TARIEF_PERC\": 54.21, \"SLIMME_METER_PERC\": 72.73, \"JAAR\": 2019, \"PC4\": 6373, \"SJV_TOTAAL\": 66.0, \"RES\": \"Zuid-Limburg\"}, {\"index\": 1213100, \"NETBEHEERDER\": \"Enexis B.V.\", \"NETGEBIED\": \"ENEXIS\", \"STRAATNAAM\": \"Apollolaan\", \"POSTCODE_VAN\": \"6373HA\", \"POSTCODE_TOT\": \"6373HA\", \"WOONPLAATS\": \"LANDGRAAF\", \"LANDCODE\": \"NL\", \"PRODUCTSOORT\": \"ELK\", \"VERBRUIKSSEGMENT\": \"KVB\", \"LEVERINGSRICHTING_PERC\": 68.18, \"AANSLUITINGEN_AANTAL\": 22, \"FYSIEKE_STATUS_PERC\": 100, \"SOORT_AANSLUITING_PERC\": 59.09, \"SOORT_AANSLUITING\": \"1x35\", \"SJV_GEMIDDELD\": 2839.73, \"SJV_LAAG_TARIEF_PERC\": 53.15, \"SLIMME_METER_PERC\": 72.73, \"JAAR\": 2020, \"PC4\": 6373, \"SJV_TOTAAL\": 62.0, \"RES\": \"Zuid-Limburg\"}, {\"index\": 1338240, \"NETBEHEERDER\": \"Enexis B.V.\", \"NETGEBIED\": \"ENEXIS\", \"STRAATNAAM\": \"Apollolaan\", \"POSTCODE_VAN\": \"6373HA\", \"POSTCODE_TOT\": \"6373HA\", \"WOONPLAATS\": \"LANDGRAAF\", \"LANDCODE\": \"NL\", \"PRODUCTSOORT\": \"ELK\", \"VERBRUIKSSEGMENT\": \"KVB\", \"LEVERINGSRICHTING_PERC\": 45.45, \"AANSLUITINGEN_AANTAL\": 22, \"FYSIEKE_STATUS_PERC\": 100, \"SOORT_AANSLUITING_PERC\": 59.09, \"SOORT_AANSLUITING\": \"1x35\", \"SJV_GEMIDDELD\": 2742.23, \"SJV_LAAG_TARIEF_PERC\": 54.01, \"SLIMME_METER_PERC\": 72.73, \"JAAR\": 2021, \"PC4\": 6373, \"SJV_TOTAAL\": 60.0, \"RES\": \"Zuid-Limburg\"}], \"data-5270e98cefd06d71dcf2e3ada185ed24\": [{\"index\": 107373, \"NETBEHEERDER\": \"Enexis B.V.\", \"NETGEBIED\": \"ENEXIS\", \"STRAATNAAM\": \"Jacob Tilbusscherweg\", \"POSTCODE_VAN\": \"9998XB\", \"POSTCODE_TOT\": \"9998XB\", \"WOONPLAATS\": \"ROTTUM GN\", \"LANDCODE\": \"NL\", \"PRODUCTSOORT\": \"ELK\", \"VERBRUIKSSEGMENT\": \"KVB\", \"LEVERINGSRICHTING_PERC\": 100.0, \"AANSLUITINGEN_AANTAL\": 19, \"FYSIEKE_STATUS_PERC\": 100, \"SOORT_AANSLUITING_PERC\": 0.0, \"SOORT_AANSLUITING\": \"3X25\", \"SJV_GEMIDDELD\": 10191.0, \"SJV_LAAG_TARIEF_PERC\": 45.0, \"SLIMME_METER_PERC\": 0.0, \"JAAR\": 2010, \"PC4\": 9998, \"SJV_TOTAAL\": 194.0, \"RES\": \"Groningen\"}, {\"index\": 215672, \"NETBEHEERDER\": \"Enexis B.V.\", \"NETGEBIED\": \"ENEXIS\", \"STRAATNAAM\": \"Jacob Tilbusscherweg\", \"POSTCODE_VAN\": \"9998XB\", \"POSTCODE_TOT\": \"9998XB\", \"WOONPLAATS\": \"ROTTUM GN\", \"LANDCODE\": \"NL\", \"PRODUCTSOORT\": \"ELK\", \"VERBRUIKSSEGMENT\": \"KVB\", \"LEVERINGSRICHTING_PERC\": 100.0, \"AANSLUITINGEN_AANTAL\": 19, \"FYSIEKE_STATUS_PERC\": 100, \"SOORT_AANSLUITING_PERC\": 53.0, \"SOORT_AANSLUITING\": \"3X25\", \"SJV_GEMIDDELD\": 8421.0, \"SJV_LAAG_TARIEF_PERC\": 48.0, \"SLIMME_METER_PERC\": 0.0, \"JAAR\": 2011, \"PC4\": 9998, \"SJV_TOTAAL\": 160.0, \"RES\": \"Groningen\"}, {\"index\": 325480, \"NETBEHEERDER\": \"Enexis\", \"NETGEBIED\": \"ENEXIS\", \"STRAATNAAM\": \"Jacob Tilbusscherweg\", \"POSTCODE_VAN\": \"9998XB\", \"POSTCODE_TOT\": \"9998XB\", \"WOONPLAATS\": \"ROTTUM GN\", \"LANDCODE\": \"NL\", \"PRODUCTSOORT\": \"ELK\", \"VERBRUIKSSEGMENT\": \"KVB\", \"LEVERINGSRICHTING_PERC\": 100.0, \"AANSLUITINGEN_AANTAL\": 19, \"FYSIEKE_STATUS_PERC\": 100, \"SOORT_AANSLUITING_PERC\": 53.0, \"SOORT_AANSLUITING\": \"3X25\", \"SJV_GEMIDDELD\": 8958.0, \"SJV_LAAG_TARIEF_PERC\": 44.0, \"SLIMME_METER_PERC\": 0.0, \"JAAR\": 2012, \"PC4\": 9998, \"SJV_TOTAAL\": 170.0, \"RES\": \"Groningen\"}, {\"index\": 438728, \"NETBEHEERDER\": \"Enexis\", \"NETGEBIED\": \"ENEXIS\", \"STRAATNAAM\": \"Jacob Tilbusscherweg\", \"POSTCODE_VAN\": \"9998XB\", \"POSTCODE_TOT\": \"9998XB\", \"WOONPLAATS\": \"ROTTUM GN\", \"LANDCODE\": \"NL\", \"PRODUCTSOORT\": \"ELK\", \"VERBRUIKSSEGMENT\": \"KVB\", \"LEVERINGSRICHTING_PERC\": 100.0, \"AANSLUITINGEN_AANTAL\": 21, \"FYSIEKE_STATUS_PERC\": 100, \"SOORT_AANSLUITING_PERC\": 52.0, \"SOORT_AANSLUITING\": \"3X25\", \"SJV_GEMIDDELD\": 7985.0, \"SJV_LAAG_TARIEF_PERC\": 45.0, \"SLIMME_METER_PERC\": 0.0, \"JAAR\": 2013, \"PC4\": 9998, \"SJV_TOTAAL\": 168.0, \"RES\": \"Groningen\"}, {\"index\": 552372, \"NETBEHEERDER\": \"Enexis\", \"NETGEBIED\": \"ENEXIS\", \"STRAATNAAM\": \"Jacob Tilbusscherweg\", \"POSTCODE_VAN\": \"9998XB\", \"POSTCODE_TOT\": \"9998XB\", \"WOONPLAATS\": \"ROTTUM GN\", \"LANDCODE\": \"NL\", \"PRODUCTSOORT\": \"ELK\", \"VERBRUIKSSEGMENT\": \"KVB\", \"LEVERINGSRICHTING_PERC\": 100.0, \"AANSLUITINGEN_AANTAL\": 21, \"FYSIEKE_STATUS_PERC\": 100, \"SOORT_AANSLUITING_PERC\": 52.0, \"SOORT_AANSLUITING\": \"3X25\", \"SJV_GEMIDDELD\": 7823.0, \"SJV_LAAG_TARIEF_PERC\": 45.0, \"SLIMME_METER_PERC\": 5.0, \"JAAR\": 2014, \"PC4\": 9998, \"SJV_TOTAAL\": 164.0, \"RES\": \"Groningen\"}, {\"index\": 666361, \"NETBEHEERDER\": \"Enexis\", \"NETGEBIED\": \"ENEXIS\", \"STRAATNAAM\": \"Jacob Tilbusscherweg\", \"POSTCODE_VAN\": \"9998XB\", \"POSTCODE_TOT\": \"9998XB\", \"WOONPLAATS\": \"ROTTUM GN\", \"LANDCODE\": \"NL\", \"PRODUCTSOORT\": \"ELK\", \"VERBRUIKSSEGMENT\": \"KVB\", \"LEVERINGSRICHTING_PERC\": 95.0, \"AANSLUITINGEN_AANTAL\": 21, \"FYSIEKE_STATUS_PERC\": 100, \"SOORT_AANSLUITING_PERC\": 52.0, \"SOORT_AANSLUITING\": \"3X25\", \"SJV_GEMIDDELD\": 7830.0, \"SJV_LAAG_TARIEF_PERC\": 44.0, \"SLIMME_METER_PERC\": 19.0, \"JAAR\": 2015, \"PC4\": 9998, \"SJV_TOTAAL\": 164.0, \"RES\": \"Groningen\"}, {\"index\": 776938, \"NETBEHEERDER\": \"Enexis B.V.\", \"NETGEBIED\": \"ENEXIS\", \"STRAATNAAM\": \"Jacob Tilbusscherweg\", \"POSTCODE_VAN\": \"9998XB\", \"POSTCODE_TOT\": \"9998XB\", \"WOONPLAATS\": \"ROTTUM GN\", \"LANDCODE\": \"NL\", \"PRODUCTSOORT\": \"ELK\", \"VERBRUIKSSEGMENT\": \"KVB\", \"LEVERINGSRICHTING_PERC\": 85.0, \"AANSLUITINGEN_AANTAL\": 20, \"FYSIEKE_STATUS_PERC\": 100, \"SOORT_AANSLUITING_PERC\": 50.0, \"SOORT_AANSLUITING\": \"3x25\", \"SJV_GEMIDDELD\": 7786.0, \"SJV_LAAG_TARIEF_PERC\": 45.0, \"SLIMME_METER_PERC\": 20.0, \"JAAR\": 2016, \"PC4\": 9998, \"SJV_TOTAAL\": 156.0, \"RES\": \"Groningen\"}, {\"index\": 892512, \"NETBEHEERDER\": \"Enexis B.V.\", \"NETGEBIED\": \"ENEXIS\", \"STRAATNAAM\": \"Jacob Tilbusscherweg\", \"POSTCODE_VAN\": \"9998XB\", \"POSTCODE_TOT\": \"9998XB\", \"WOONPLAATS\": \"ROTTUM GN\", \"LANDCODE\": \"NL\", \"PRODUCTSOORT\": \"ELK\", \"VERBRUIKSSEGMENT\": \"KVB\", \"LEVERINGSRICHTING_PERC\": 81.0, \"AANSLUITINGEN_AANTAL\": 21, \"FYSIEKE_STATUS_PERC\": 100, \"SOORT_AANSLUITING_PERC\": 52.0, \"SOORT_AANSLUITING\": \"3x25\", \"SJV_GEMIDDELD\": 7428.0, \"SJV_LAAG_TARIEF_PERC\": 57.0, \"SLIMME_METER_PERC\": 33.0, \"JAAR\": 2017, \"PC4\": 9998, \"SJV_TOTAAL\": 156.0, \"RES\": \"Groningen\"}, {\"index\": 1016674, \"NETBEHEERDER\": \"Enexis B.V.\", \"NETGEBIED\": \"ENEXIS\", \"STRAATNAAM\": \"Jacob Tilbusscherweg\", \"POSTCODE_VAN\": \"9998XB\", \"POSTCODE_TOT\": \"9998XB\", \"WOONPLAATS\": \"ROTTUM GN\", \"LANDCODE\": \"NL\", \"PRODUCTSOORT\": \"ELK\", \"VERBRUIKSSEGMENT\": \"KVB\", \"LEVERINGSRICHTING_PERC\": 76.19, \"AANSLUITINGEN_AANTAL\": 21, \"FYSIEKE_STATUS_PERC\": 100, \"SOORT_AANSLUITING_PERC\": 52.38, \"SOORT_AANSLUITING\": \"3x25\", \"SJV_GEMIDDELD\": 7307.86, \"SJV_LAAG_TARIEF_PERC\": 50.38, \"SLIMME_METER_PERC\": 76.19, \"JAAR\": 2018, \"PC4\": 9998, \"SJV_TOTAAL\": 153.0, \"RES\": \"Groningen\"}, {\"index\": 1141260, \"NETBEHEERDER\": \"Enexis B.V.\", \"NETGEBIED\": \"ENEXIS\", \"STRAATNAAM\": \"Jacob Tilbusscherweg\", \"POSTCODE_VAN\": \"9998XB\", \"POSTCODE_TOT\": \"9998XB\", \"WOONPLAATS\": \"ROTTUM GN\", \"LANDCODE\": \"NL\", \"PRODUCTSOORT\": \"ELK\", \"VERBRUIKSSEGMENT\": \"KVB\", \"LEVERINGSRICHTING_PERC\": 76.19, \"AANSLUITINGEN_AANTAL\": 21, \"FYSIEKE_STATUS_PERC\": 100, \"SOORT_AANSLUITING_PERC\": 57.14, \"SOORT_AANSLUITING\": \"3x25\", \"SJV_GEMIDDELD\": 7034.57, \"SJV_LAAG_TARIEF_PERC\": 47.49, \"SLIMME_METER_PERC\": 76.19, \"JAAR\": 2019, \"PC4\": 9998, \"SJV_TOTAAL\": 148.0, \"RES\": \"Groningen\"}, {\"index\": 1266137, \"NETBEHEERDER\": \"Enexis B.V.\", \"NETGEBIED\": \"ENEXIS\", \"STRAATNAAM\": \"Jacob Tilbusscherweg\", \"POSTCODE_VAN\": \"9998XB\", \"POSTCODE_TOT\": \"9998XB\", \"WOONPLAATS\": \"ROTTUM GN\", \"LANDCODE\": \"NL\", \"PRODUCTSOORT\": \"ELK\", \"VERBRUIKSSEGMENT\": \"KVB\", \"LEVERINGSRICHTING_PERC\": 76.19, \"AANSLUITINGEN_AANTAL\": 21, \"FYSIEKE_STATUS_PERC\": 100, \"SOORT_AANSLUITING_PERC\": 61.9, \"SOORT_AANSLUITING\": \"3x25\", \"SJV_GEMIDDELD\": 7128.76, \"SJV_LAAG_TARIEF_PERC\": 46.84, \"SLIMME_METER_PERC\": 76.19, \"JAAR\": 2020, \"PC4\": 9998, \"SJV_TOTAAL\": 150.0, \"RES\": \"Groningen\"}, {\"index\": 1391385, \"NETBEHEERDER\": \"Enexis B.V.\", \"NETGEBIED\": \"ENEXIS\", \"STRAATNAAM\": \"Jacob Tilbusscherweg\", \"POSTCODE_VAN\": \"9998XB\", \"POSTCODE_TOT\": \"9998XB\", \"WOONPLAATS\": \"ROTTUM GN\", \"LANDCODE\": \"NL\", \"PRODUCTSOORT\": \"ELK\", \"VERBRUIKSSEGMENT\": \"KVB\", \"LEVERINGSRICHTING_PERC\": 66.67, \"AANSLUITINGEN_AANTAL\": 21, \"FYSIEKE_STATUS_PERC\": 100, \"SOORT_AANSLUITING_PERC\": 61.9, \"SOORT_AANSLUITING\": \"3x25\", \"SJV_GEMIDDELD\": 7390.48, \"SJV_LAAG_TARIEF_PERC\": 46.48, \"SLIMME_METER_PERC\": 85.71, \"JAAR\": 2021, \"PC4\": 9998, \"SJV_TOTAAL\": 155.0, \"RES\": \"Groningen\"}]}}, {\"mode\": \"vega-lite\"});\n",
       "</script>"
      ],
      "text/plain": [
       "alt.HConcatChart(...)"
      ]
     },
     "execution_count": 10,
     "metadata": {},
     "output_type": "execute_result"
    }
   ],
   "source": [
    "df1 =df_verbruik[df_verbruik['POSTCODE_VAN'] == '4251AB']\n",
    "df2 =df_verbruik[df_verbruik['POSTCODE_VAN'] == '6373HA']\n",
    "df3 =df_verbruik[df_verbruik['POSTCODE_VAN'] == '9998XB']\n",
    "\n",
    "\n",
    "pc6_1 = alt.Chart(df1.reset_index()).mark_line(clip=True).encode(\n",
    "                     alt.X('JAAR:T'),\n",
    "                     alt.Y('SJV_TOTAAL:Q'),\n",
    "                     ).properties(width=250,height=250)\n",
    "    \n",
    "pc6_2 = alt.Chart(df2.reset_index()).mark_line(clip=True).encode(\n",
    "                     alt.X('JAAR:T'),\n",
    "                     alt.Y('SJV_TOTAAL:Q'),\n",
    "                     ).properties(width=250,height=250)\n",
    "\n",
    "pc6_3 = alt.Chart(df3.reset_index()).mark_line(clip=True).encode(\n",
    "                     alt.X('JAAR:T'),\n",
    "                     alt.Y('SJV_TOTAAL:Q'),\n",
    "                     ).properties(width=250,height=250)\n",
    "\n",
    "\n",
    "pc6_1 | pc6_2 | pc6_3"
   ]
  },
  {
   "cell_type": "markdown",
   "metadata": {},
   "source": [
    "# Call predictie function voor low, mid, high forecast"
   ]
  },
  {
   "cell_type": "code",
   "execution_count": 8,
   "metadata": {},
   "outputs": [],
   "source": [
    "# predict low case scenario voor 2021-2023 per PC6 \n",
    "df_verbruik_low = predict_verbruik(df_verbruik, 'low')\n",
    "\n",
    "# predict mid case scenario voor 2021-2023 per PC6 \n",
    "df_verbruik_mid = predict_verbruik(df_verbruik, 'mid')\n",
    "\n",
    "# predict high case scenario voor 2021-2023 per PC6 \n",
    "df_verbruik_high = predict_verbruik(df_verbruik, 'high')\n",
    "                     "
   ]
  },
  {
   "cell_type": "markdown",
   "metadata": {},
   "source": [
    "# QC plot for low, mid , high prediction for 3 PC6's {NEED TO ADD L/M/H]¶"
   ]
  },
  {
   "cell_type": "code",
   "execution_count": 12,
   "metadata": {},
   "outputs": [
    {
     "data": {
      "text/html": [
       "\n",
       "<div id=\"altair-viz-f2bfc060de504f238ed166da6ebaf41a\"></div>\n",
       "<script type=\"text/javascript\">\n",
       "  (function(spec, embedOpt){\n",
       "    let outputDiv = document.currentScript.previousElementSibling;\n",
       "    if (outputDiv.id !== \"altair-viz-f2bfc060de504f238ed166da6ebaf41a\") {\n",
       "      outputDiv = document.getElementById(\"altair-viz-f2bfc060de504f238ed166da6ebaf41a\");\n",
       "    }\n",
       "    const paths = {\n",
       "      \"vega\": \"https://cdn.jsdelivr.net/npm//vega@5?noext\",\n",
       "      \"vega-lib\": \"https://cdn.jsdelivr.net/npm//vega-lib?noext\",\n",
       "      \"vega-lite\": \"https://cdn.jsdelivr.net/npm//vega-lite@4.8.1?noext\",\n",
       "      \"vega-embed\": \"https://cdn.jsdelivr.net/npm//vega-embed@6?noext\",\n",
       "    };\n",
       "\n",
       "    function loadScript(lib) {\n",
       "      return new Promise(function(resolve, reject) {\n",
       "        var s = document.createElement('script');\n",
       "        s.src = paths[lib];\n",
       "        s.async = true;\n",
       "        s.onload = () => resolve(paths[lib]);\n",
       "        s.onerror = () => reject(`Error loading script: ${paths[lib]}`);\n",
       "        document.getElementsByTagName(\"head\")[0].appendChild(s);\n",
       "      });\n",
       "    }\n",
       "\n",
       "    function showError(err) {\n",
       "      outputDiv.innerHTML = `<div class=\"error\" style=\"color:red;\">${err}</div>`;\n",
       "      throw err;\n",
       "    }\n",
       "\n",
       "    function displayChart(vegaEmbed) {\n",
       "      vegaEmbed(outputDiv, spec, embedOpt)\n",
       "        .catch(err => showError(`Javascript Error: ${err.message}<br>This usually means there's a typo in your chart specification. See the javascript console for the full traceback.`));\n",
       "    }\n",
       "\n",
       "    if(typeof define === \"function\" && define.amd) {\n",
       "      requirejs.config({paths});\n",
       "      require([\"vega-embed\"], displayChart, err => showError(`Error loading script: ${err.message}`));\n",
       "    } else if (typeof vegaEmbed === \"function\") {\n",
       "      displayChart(vegaEmbed);\n",
       "    } else {\n",
       "      loadScript(\"vega\")\n",
       "        .then(() => loadScript(\"vega-lite\"))\n",
       "        .then(() => loadScript(\"vega-embed\"))\n",
       "        .catch(showError)\n",
       "        .then(() => displayChart(vegaEmbed));\n",
       "    }\n",
       "  })({\"config\": {\"view\": {\"continuousWidth\": 400, \"continuousHeight\": 300}}, \"hconcat\": [{\"data\": {\"name\": \"data-d034d497a2ae1cf0dae5f84cc7a7e389\"}, \"mark\": {\"type\": \"line\", \"clip\": true}, \"encoding\": {\"x\": {\"type\": \"temporal\", \"field\": \"JAAR\"}, \"y\": {\"type\": \"quantitative\", \"field\": \"SJV_TOTAAL\"}}, \"height\": 250, \"width\": 250}, {\"data\": {\"name\": \"data-64f4e9fe13433f271477fa284e826b60\"}, \"mark\": {\"type\": \"line\", \"clip\": true}, \"encoding\": {\"x\": {\"type\": \"temporal\", \"field\": \"JAAR\"}, \"y\": {\"type\": \"quantitative\", \"field\": \"SJV_TOTAAL\"}}, \"height\": 250, \"width\": 250}, {\"data\": {\"name\": \"data-5270e98cefd06d71dcf2e3ada185ed24\"}, \"mark\": {\"type\": \"line\", \"clip\": true}, \"encoding\": {\"x\": {\"type\": \"temporal\", \"field\": \"JAAR\"}, \"y\": {\"type\": \"quantitative\", \"field\": \"SJV_TOTAAL\"}}, \"height\": 250, \"width\": 250}], \"$schema\": \"https://vega.github.io/schema/vega-lite/v4.8.1.json\", \"datasets\": {\"data-d034d497a2ae1cf0dae5f84cc7a7e389\": [{\"index\": 0, \"NETBEHEERDER\": \"Enexis B.V.\", \"NETGEBIED\": \"ENEXIS\", \"STRAATNAAM\": \"Sasdijk\", \"POSTCODE_VAN\": \"4251AB\", \"POSTCODE_TOT\": \"4251AB\", \"WOONPLAATS\": \"WERKENDAM\", \"LANDCODE\": \"NL\", \"PRODUCTSOORT\": \"ELK\", \"VERBRUIKSSEGMENT\": \"KVB\", \"LEVERINGSRICHTING_PERC\": 100.0, \"AANSLUITINGEN_AANTAL\": 16, \"FYSIEKE_STATUS_PERC\": 100, \"SOORT_AANSLUITING_PERC\": 0.0, \"SOORT_AANSLUITING\": \"1X25\", \"SJV_GEMIDDELD\": 4282.0, \"SJV_LAAG_TARIEF_PERC\": 25.0, \"SLIMME_METER_PERC\": 0.0, \"JAAR\": 2010, \"PC4\": 4251, \"SJV_TOTAAL\": 69.0, \"RES\": \"West-Brabant\"}, {\"index\": 107377, \"NETBEHEERDER\": \"Enexis B.V.\", \"NETGEBIED\": \"ENEXIS\", \"STRAATNAAM\": \"Sasdijk\", \"POSTCODE_VAN\": \"4251AB\", \"POSTCODE_TOT\": \"4251AB\", \"WOONPLAATS\": \"WERKENDAM\", \"LANDCODE\": \"NL\", \"PRODUCTSOORT\": \"ELK\", \"VERBRUIKSSEGMENT\": \"KVB\", \"LEVERINGSRICHTING_PERC\": 100.0, \"AANSLUITINGEN_AANTAL\": 16, \"FYSIEKE_STATUS_PERC\": 100, \"SOORT_AANSLUITING_PERC\": 50.0, \"SOORT_AANSLUITING\": \"1X25\", \"SJV_GEMIDDELD\": 4961.0, \"SJV_LAAG_TARIEF_PERC\": 34.0, \"SLIMME_METER_PERC\": 0.0, \"JAAR\": 2011, \"PC4\": 4251, \"SJV_TOTAAL\": 79.0, \"RES\": \"West-Brabant\"}, {\"index\": 215676, \"NETBEHEERDER\": \"Enexis B.V.\", \"NETGEBIED\": \"ENEXIS\", \"STRAATNAAM\": \"Sasdijk\", \"POSTCODE_VAN\": \"4251AB\", \"POSTCODE_TOT\": \"4251AB\", \"WOONPLAATS\": \"WERKENDAM\", \"LANDCODE\": \"NL\", \"PRODUCTSOORT\": \"ELK\", \"VERBRUIKSSEGMENT\": \"KVB\", \"LEVERINGSRICHTING_PERC\": 100.0, \"AANSLUITINGEN_AANTAL\": 16, \"FYSIEKE_STATUS_PERC\": 100, \"SOORT_AANSLUITING_PERC\": 50.0, \"SOORT_AANSLUITING\": \"1X25\", \"SJV_GEMIDDELD\": 5369.0, \"SJV_LAAG_TARIEF_PERC\": 37.0, \"SLIMME_METER_PERC\": 0.0, \"JAAR\": 2012, \"PC4\": 4251, \"SJV_TOTAAL\": 86.0, \"RES\": \"West-Brabant\"}, {\"index\": 325484, \"NETBEHEERDER\": \"Enexis B.V.\", \"NETGEBIED\": \"ENEXIS\", \"STRAATNAAM\": \"Sasdijk\", \"POSTCODE_VAN\": \"4251AB\", \"POSTCODE_TOT\": \"4251AB\", \"WOONPLAATS\": \"WERKENDAM\", \"LANDCODE\": \"NL\", \"PRODUCTSOORT\": \"ELK\", \"VERBRUIKSSEGMENT\": \"KVB\", \"LEVERINGSRICHTING_PERC\": 100.0, \"AANSLUITINGEN_AANTAL\": 16, \"FYSIEKE_STATUS_PERC\": 100, \"SOORT_AANSLUITING_PERC\": 50.0, \"SOORT_AANSLUITING\": \"1X25\", \"SJV_GEMIDDELD\": 4597.0, \"SJV_LAAG_TARIEF_PERC\": 31.0, \"SLIMME_METER_PERC\": 0.0, \"JAAR\": 2013, \"PC4\": 4251, \"SJV_TOTAAL\": 74.0, \"RES\": \"West-Brabant\"}, {\"index\": 438732, \"NETBEHEERDER\": \"Enexis B.V.\", \"NETGEBIED\": \"ENEXIS\", \"STRAATNAAM\": \"Sasdijk\", \"POSTCODE_VAN\": \"4251AB\", \"POSTCODE_TOT\": \"4251AB\", \"WOONPLAATS\": \"WERKENDAM\", \"LANDCODE\": \"NL\", \"PRODUCTSOORT\": \"ELK\", \"VERBRUIKSSEGMENT\": \"KVB\", \"LEVERINGSRICHTING_PERC\": 100.0, \"AANSLUITINGEN_AANTAL\": 16, \"FYSIEKE_STATUS_PERC\": 100, \"SOORT_AANSLUITING_PERC\": 50.0, \"SOORT_AANSLUITING\": \"1X25\", \"SJV_GEMIDDELD\": 4589.0, \"SJV_LAAG_TARIEF_PERC\": 18.0, \"SLIMME_METER_PERC\": 0.0, \"JAAR\": 2014, \"PC4\": 4251, \"SJV_TOTAAL\": 73.0, \"RES\": \"West-Brabant\"}, {\"index\": 552376, \"NETBEHEERDER\": \"Enexis B.V.\", \"NETGEBIED\": \"ENEXIS\", \"STRAATNAAM\": \"Sasdijk\", \"POSTCODE_VAN\": \"4251AB\", \"POSTCODE_TOT\": \"4251AB\", \"WOONPLAATS\": \"WERKENDAM\", \"LANDCODE\": \"NL\", \"PRODUCTSOORT\": \"ELK\", \"VERBRUIKSSEGMENT\": \"KVB\", \"LEVERINGSRICHTING_PERC\": 100.0, \"AANSLUITINGEN_AANTAL\": 16, \"FYSIEKE_STATUS_PERC\": 100, \"SOORT_AANSLUITING_PERC\": 50.0, \"SOORT_AANSLUITING\": \"1X25\", \"SJV_GEMIDDELD\": 4716.0, \"SJV_LAAG_TARIEF_PERC\": 27.0, \"SLIMME_METER_PERC\": 6.0, \"JAAR\": 2015, \"PC4\": 4251, \"SJV_TOTAAL\": 75.0, \"RES\": \"West-Brabant\"}, {\"index\": 666365, \"NETBEHEERDER\": \"Enexis B.V.\", \"NETGEBIED\": \"ENEXIS\", \"STRAATNAAM\": \"Sasdijk\", \"POSTCODE_VAN\": \"4251AB\", \"POSTCODE_TOT\": \"4251AB\", \"WOONPLAATS\": \"WERKENDAM\", \"LANDCODE\": \"NL\", \"PRODUCTSOORT\": \"ELK\", \"VERBRUIKSSEGMENT\": \"KVB\", \"LEVERINGSRICHTING_PERC\": 100.0, \"AANSLUITINGEN_AANTAL\": 15, \"FYSIEKE_STATUS_PERC\": 100, \"SOORT_AANSLUITING_PERC\": 47.0, \"SOORT_AANSLUITING\": \"1x25\", \"SJV_GEMIDDELD\": 4728.0, \"SJV_LAAG_TARIEF_PERC\": 29.0, \"SLIMME_METER_PERC\": 7.0, \"JAAR\": 2016, \"PC4\": 4251, \"SJV_TOTAAL\": 71.0, \"RES\": \"West-Brabant\"}, {\"index\": 776943, \"NETBEHEERDER\": \"Enexis B.V.\", \"NETGEBIED\": \"ENEXIS\", \"STRAATNAAM\": \"Sasdijk\", \"POSTCODE_VAN\": \"4251AB\", \"POSTCODE_TOT\": \"4251AB\", \"WOONPLAATS\": \"WERKENDAM\", \"LANDCODE\": \"NL\", \"PRODUCTSOORT\": \"ELK\", \"VERBRUIKSSEGMENT\": \"KVB\", \"LEVERINGSRICHTING_PERC\": 100.0, \"AANSLUITINGEN_AANTAL\": 16, \"FYSIEKE_STATUS_PERC\": 100, \"SOORT_AANSLUITING_PERC\": 44.0, \"SOORT_AANSLUITING\": \"1x25\", \"SJV_GEMIDDELD\": 4946.0, \"SJV_LAAG_TARIEF_PERC\": 30.0, \"SLIMME_METER_PERC\": 13.0, \"JAAR\": 2017, \"PC4\": 4251, \"SJV_TOTAAL\": 79.0, \"RES\": \"West-Brabant\"}, {\"index\": 892517, \"NETBEHEERDER\": \"Enexis B.V.\", \"NETGEBIED\": \"ENEXIS\", \"STRAATNAAM\": \"Sasdijk\", \"POSTCODE_VAN\": \"4251AB\", \"POSTCODE_TOT\": \"4251AB\", \"WOONPLAATS\": \"WERKENDAM\", \"LANDCODE\": \"NL\", \"PRODUCTSOORT\": \"ELK\", \"VERBRUIKSSEGMENT\": \"KVB\", \"LEVERINGSRICHTING_PERC\": 100.0, \"AANSLUITINGEN_AANTAL\": 17, \"FYSIEKE_STATUS_PERC\": 100, \"SOORT_AANSLUITING_PERC\": 41.18, \"SOORT_AANSLUITING\": \"1x25\", \"SJV_GEMIDDELD\": 4149.24, \"SJV_LAAG_TARIEF_PERC\": 28.33, \"SLIMME_METER_PERC\": 29.41, \"JAAR\": 2018, \"PC4\": 4251, \"SJV_TOTAAL\": 71.0, \"RES\": \"West-Brabant\"}, {\"index\": 1016680, \"NETBEHEERDER\": \"Enexis B.V.\", \"NETGEBIED\": \"ENEXIS\", \"STRAATNAAM\": \"Sasdijk\", \"POSTCODE_VAN\": \"4251AB\", \"POSTCODE_TOT\": \"4251AB\", \"WOONPLAATS\": \"WERKENDAM\", \"LANDCODE\": \"NL\", \"PRODUCTSOORT\": \"ELK\", \"VERBRUIKSSEGMENT\": \"KVB\", \"LEVERINGSRICHTING_PERC\": 100.0, \"AANSLUITINGEN_AANTAL\": 17, \"FYSIEKE_STATUS_PERC\": 100, \"SOORT_AANSLUITING_PERC\": 41.18, \"SOORT_AANSLUITING\": \"1x25\", \"SJV_GEMIDDELD\": 4614.24, \"SJV_LAAG_TARIEF_PERC\": 34.24, \"SLIMME_METER_PERC\": 41.18, \"JAAR\": 2019, \"PC4\": 4251, \"SJV_TOTAAL\": 78.0, \"RES\": \"West-Brabant\"}, {\"index\": 1141266, \"NETBEHEERDER\": \"Enexis B.V.\", \"NETGEBIED\": \"ENEXIS\", \"STRAATNAAM\": \"Sasdijk\", \"POSTCODE_VAN\": \"4251AB\", \"POSTCODE_TOT\": \"4251AB\", \"WOONPLAATS\": \"WERKENDAM\", \"LANDCODE\": \"NL\", \"PRODUCTSOORT\": \"ELK\", \"VERBRUIKSSEGMENT\": \"KVB\", \"LEVERINGSRICHTING_PERC\": 94.12, \"AANSLUITINGEN_AANTAL\": 17, \"FYSIEKE_STATUS_PERC\": 100, \"SOORT_AANSLUITING_PERC\": 41.18, \"SOORT_AANSLUITING\": \"1x25\", \"SJV_GEMIDDELD\": 4022.88, \"SJV_LAAG_TARIEF_PERC\": 35.36, \"SLIMME_METER_PERC\": 47.06, \"JAAR\": 2020, \"PC4\": 4251, \"SJV_TOTAAL\": 68.0, \"RES\": \"West-Brabant\"}, {\"index\": 1266143, \"NETBEHEERDER\": \"Enexis B.V.\", \"NETGEBIED\": \"ENEXIS\", \"STRAATNAAM\": \"Sasdijk\", \"POSTCODE_VAN\": \"4251AB\", \"POSTCODE_TOT\": \"4251AB\", \"WOONPLAATS\": \"WERKENDAM\", \"LANDCODE\": \"NL\", \"PRODUCTSOORT\": \"ELK\", \"VERBRUIKSSEGMENT\": \"KVB\", \"LEVERINGSRICHTING_PERC\": 85.71, \"AANSLUITINGEN_AANTAL\": 14, \"FYSIEKE_STATUS_PERC\": 100, \"SOORT_AANSLUITING_PERC\": 50.0, \"SOORT_AANSLUITING\": \"3x25\", \"SJV_GEMIDDELD\": 4206.43, \"SJV_LAAG_TARIEF_PERC\": 49.69, \"SLIMME_METER_PERC\": 71.43, \"JAAR\": 2021, \"PC4\": 4251, \"SJV_TOTAAL\": 59.0, \"RES\": \"West-Brabant\"}], \"data-64f4e9fe13433f271477fa284e826b60\": [{\"index\": 58955, \"NETBEHEERDER\": \"Enexis B.V.\", \"NETGEBIED\": \"ENEXIS\", \"STRAATNAAM\": \"Apollolaan\", \"POSTCODE_VAN\": \"6373HA\", \"POSTCODE_TOT\": \"6373HA\", \"WOONPLAATS\": \"LANDGRAAF\", \"LANDCODE\": \"NL\", \"PRODUCTSOORT\": \"ELK\", \"VERBRUIKSSEGMENT\": \"KVB\", \"LEVERINGSRICHTING_PERC\": 100.0, \"AANSLUITINGEN_AANTAL\": 20, \"FYSIEKE_STATUS_PERC\": 100, \"SOORT_AANSLUITING_PERC\": 0.0, \"SOORT_AANSLUITING\": \"1X25\", \"SJV_GEMIDDELD\": 3756.0, \"SJV_LAAG_TARIEF_PERC\": 47.0, \"SLIMME_METER_PERC\": 0.0, \"JAAR\": 2010, \"PC4\": 6373, \"SJV_TOTAAL\": 75.0, \"RES\": \"Zuid-Limburg\"}, {\"index\": 166855, \"NETBEHEERDER\": \"Enexis B.V.\", \"NETGEBIED\": \"ENEXIS\", \"STRAATNAAM\": \"Apollolaan\", \"POSTCODE_VAN\": \"6373HA\", \"POSTCODE_TOT\": \"6373HA\", \"WOONPLAATS\": \"LANDGRAAF\", \"LANDCODE\": \"NL\", \"PRODUCTSOORT\": \"ELK\", \"VERBRUIKSSEGMENT\": \"KVB\", \"LEVERINGSRICHTING_PERC\": 100.0, \"AANSLUITINGEN_AANTAL\": 20, \"FYSIEKE_STATUS_PERC\": 100, \"SOORT_AANSLUITING_PERC\": 55.0, \"SOORT_AANSLUITING\": \"1X25\", \"SJV_GEMIDDELD\": 3618.0, \"SJV_LAAG_TARIEF_PERC\": 46.0, \"SLIMME_METER_PERC\": 0.0, \"JAAR\": 2011, \"PC4\": 6373, \"SJV_TOTAAL\": 72.0, \"RES\": \"Zuid-Limburg\"}, {\"index\": 275877, \"NETBEHEERDER\": \"Enexis B.V.\", \"NETGEBIED\": \"ENEXIS\", \"STRAATNAAM\": \"Apollolaan\", \"POSTCODE_VAN\": \"6373HA\", \"POSTCODE_TOT\": \"6373HA\", \"WOONPLAATS\": \"LANDGRAAF\", \"LANDCODE\": \"NL\", \"PRODUCTSOORT\": \"ELK\", \"VERBRUIKSSEGMENT\": \"KVB\", \"LEVERINGSRICHTING_PERC\": 100.0, \"AANSLUITINGEN_AANTAL\": 20, \"FYSIEKE_STATUS_PERC\": 100, \"SOORT_AANSLUITING_PERC\": 50.0, \"SOORT_AANSLUITING\": \"1X25\", \"SJV_GEMIDDELD\": 3658.0, \"SJV_LAAG_TARIEF_PERC\": 44.0, \"SLIMME_METER_PERC\": 0.0, \"JAAR\": 2012, \"PC4\": 6373, \"SJV_TOTAAL\": 73.0, \"RES\": \"Zuid-Limburg\"}, {\"index\": 386531, \"NETBEHEERDER\": \"Enexis B.V.\", \"NETGEBIED\": \"ENEXIS\", \"STRAATNAAM\": \"Apollolaan\", \"POSTCODE_VAN\": \"6373HA\", \"POSTCODE_TOT\": \"6373HA\", \"WOONPLAATS\": \"LANDGRAAF\", \"LANDCODE\": \"NL\", \"PRODUCTSOORT\": \"ELK\", \"VERBRUIKSSEGMENT\": \"KVB\", \"LEVERINGSRICHTING_PERC\": 100.0, \"AANSLUITINGEN_AANTAL\": 22, \"FYSIEKE_STATUS_PERC\": 100, \"SOORT_AANSLUITING_PERC\": 55.0, \"SOORT_AANSLUITING\": \"1X25\", \"SJV_GEMIDDELD\": 3464.0, \"SJV_LAAG_TARIEF_PERC\": 46.0, \"SLIMME_METER_PERC\": 0.0, \"JAAR\": 2013, \"PC4\": 6373, \"SJV_TOTAAL\": 76.0, \"RES\": \"Zuid-Limburg\"}, {\"index\": 499997, \"NETBEHEERDER\": \"Enexis B.V.\", \"NETGEBIED\": \"ENEXIS\", \"STRAATNAAM\": \"Apollolaan\", \"POSTCODE_VAN\": \"6373HA\", \"POSTCODE_TOT\": \"6373HA\", \"WOONPLAATS\": \"LANDGRAAF\", \"LANDCODE\": \"NL\", \"PRODUCTSOORT\": \"ELK\", \"VERBRUIKSSEGMENT\": \"KVB\", \"LEVERINGSRICHTING_PERC\": 100.0, \"AANSLUITINGEN_AANTAL\": 22, \"FYSIEKE_STATUS_PERC\": 100, \"SOORT_AANSLUITING_PERC\": 50.0, \"SOORT_AANSLUITING\": \"1X25\", \"SJV_GEMIDDELD\": 3402.0, \"SJV_LAAG_TARIEF_PERC\": 45.0, \"SLIMME_METER_PERC\": 9.0, \"JAAR\": 2014, \"PC4\": 6373, \"SJV_TOTAAL\": 75.0, \"RES\": \"Zuid-Limburg\"}, {\"index\": 613828, \"NETBEHEERDER\": \"Enexis B.V.\", \"NETGEBIED\": \"ENEXIS\", \"STRAATNAAM\": \"Apollolaan\", \"POSTCODE_VAN\": \"6373HA\", \"POSTCODE_TOT\": \"6373HA\", \"WOONPLAATS\": \"LANDGRAAF\", \"LANDCODE\": \"NL\", \"PRODUCTSOORT\": \"ELK\", \"VERBRUIKSSEGMENT\": \"KVB\", \"LEVERINGSRICHTING_PERC\": 100.0, \"AANSLUITINGEN_AANTAL\": 22, \"FYSIEKE_STATUS_PERC\": 100, \"SOORT_AANSLUITING_PERC\": 50.0, \"SOORT_AANSLUITING\": \"1X25\", \"SJV_GEMIDDELD\": 3093.0, \"SJV_LAAG_TARIEF_PERC\": 45.0, \"SLIMME_METER_PERC\": 9.0, \"JAAR\": 2015, \"PC4\": 6373, \"SJV_TOTAAL\": 68.0, \"RES\": \"Zuid-Limburg\"}, {\"index\": 727949, \"NETBEHEERDER\": \"Enexis B.V.\", \"NETGEBIED\": \"ENEXIS\", \"STRAATNAAM\": \"Apollolaan\", \"POSTCODE_VAN\": \"6373HA\", \"POSTCODE_TOT\": \"6373HA\", \"WOONPLAATS\": \"LANDGRAAF\", \"LANDCODE\": \"NL\", \"PRODUCTSOORT\": \"ELK\", \"VERBRUIKSSEGMENT\": \"KVB\", \"LEVERINGSRICHTING_PERC\": 95.0, \"AANSLUITINGEN_AANTAL\": 22, \"FYSIEKE_STATUS_PERC\": 100, \"SOORT_AANSLUITING_PERC\": 50.0, \"SOORT_AANSLUITING\": \"1x25\", \"SJV_GEMIDDELD\": 3094.0, \"SJV_LAAG_TARIEF_PERC\": 47.0, \"SLIMME_METER_PERC\": 14.0, \"JAAR\": 2016, \"PC4\": 6373, \"SJV_TOTAAL\": 68.0, \"RES\": \"Zuid-Limburg\"}, {\"index\": 843361, \"NETBEHEERDER\": \"Enexis B.V.\", \"NETGEBIED\": \"ENEXIS\", \"STRAATNAAM\": \"Apollolaan\", \"POSTCODE_VAN\": \"6373HA\", \"POSTCODE_TOT\": \"6373HA\", \"WOONPLAATS\": \"LANDGRAAF\", \"LANDCODE\": \"NL\", \"PRODUCTSOORT\": \"ELK\", \"VERBRUIKSSEGMENT\": \"KVB\", \"LEVERINGSRICHTING_PERC\": 95.0, \"AANSLUITINGEN_AANTAL\": 22, \"FYSIEKE_STATUS_PERC\": 100, \"SOORT_AANSLUITING_PERC\": 55.0, \"SOORT_AANSLUITING\": \"1x25\", \"SJV_GEMIDDELD\": 3174.0, \"SJV_LAAG_TARIEF_PERC\": 46.0, \"SLIMME_METER_PERC\": 18.0, \"JAAR\": 2017, \"PC4\": 6373, \"SJV_TOTAAL\": 70.0, \"RES\": \"Zuid-Limburg\"}, {\"index\": 963920, \"NETBEHEERDER\": \"Enexis B.V.\", \"NETGEBIED\": \"ENEXIS\", \"STRAATNAAM\": \"Apollolaan\", \"POSTCODE_VAN\": \"6373HA\", \"POSTCODE_TOT\": \"6373HA\", \"WOONPLAATS\": \"LANDGRAAF\", \"LANDCODE\": \"NL\", \"PRODUCTSOORT\": \"ELK\", \"VERBRUIKSSEGMENT\": \"KVB\", \"LEVERINGSRICHTING_PERC\": 90.91, \"AANSLUITINGEN_AANTAL\": 22, \"FYSIEKE_STATUS_PERC\": 100, \"SOORT_AANSLUITING_PERC\": 50.0, \"SOORT_AANSLUITING\": \"1x25\", \"SJV_GEMIDDELD\": 3156.09, \"SJV_LAAG_TARIEF_PERC\": 45.33, \"SLIMME_METER_PERC\": 22.73, \"JAAR\": 2018, \"PC4\": 6373, \"SJV_TOTAAL\": 69.0, \"RES\": \"Zuid-Limburg\"}, {\"index\": 1088356, \"NETBEHEERDER\": \"Enexis B.V.\", \"NETGEBIED\": \"ENEXIS\", \"STRAATNAAM\": \"Apollolaan\", \"POSTCODE_VAN\": \"6373HA\", \"POSTCODE_TOT\": \"6373HA\", \"WOONPLAATS\": \"LANDGRAAF\", \"LANDCODE\": \"NL\", \"PRODUCTSOORT\": \"ELK\", \"VERBRUIKSSEGMENT\": \"KVB\", \"LEVERINGSRICHTING_PERC\": 68.18, \"AANSLUITINGEN_AANTAL\": 22, \"FYSIEKE_STATUS_PERC\": 100, \"SOORT_AANSLUITING_PERC\": 54.55, \"SOORT_AANSLUITING\": \"1x35\", \"SJV_GEMIDDELD\": 2994.0, \"SJV_LAAG_TARIEF_PERC\": 54.21, \"SLIMME_METER_PERC\": 72.73, \"JAAR\": 2019, \"PC4\": 6373, \"SJV_TOTAAL\": 66.0, \"RES\": \"Zuid-Limburg\"}, {\"index\": 1213100, \"NETBEHEERDER\": \"Enexis B.V.\", \"NETGEBIED\": \"ENEXIS\", \"STRAATNAAM\": \"Apollolaan\", \"POSTCODE_VAN\": \"6373HA\", \"POSTCODE_TOT\": \"6373HA\", \"WOONPLAATS\": \"LANDGRAAF\", \"LANDCODE\": \"NL\", \"PRODUCTSOORT\": \"ELK\", \"VERBRUIKSSEGMENT\": \"KVB\", \"LEVERINGSRICHTING_PERC\": 68.18, \"AANSLUITINGEN_AANTAL\": 22, \"FYSIEKE_STATUS_PERC\": 100, \"SOORT_AANSLUITING_PERC\": 59.09, \"SOORT_AANSLUITING\": \"1x35\", \"SJV_GEMIDDELD\": 2839.73, \"SJV_LAAG_TARIEF_PERC\": 53.15, \"SLIMME_METER_PERC\": 72.73, \"JAAR\": 2020, \"PC4\": 6373, \"SJV_TOTAAL\": 62.0, \"RES\": \"Zuid-Limburg\"}, {\"index\": 1338240, \"NETBEHEERDER\": \"Enexis B.V.\", \"NETGEBIED\": \"ENEXIS\", \"STRAATNAAM\": \"Apollolaan\", \"POSTCODE_VAN\": \"6373HA\", \"POSTCODE_TOT\": \"6373HA\", \"WOONPLAATS\": \"LANDGRAAF\", \"LANDCODE\": \"NL\", \"PRODUCTSOORT\": \"ELK\", \"VERBRUIKSSEGMENT\": \"KVB\", \"LEVERINGSRICHTING_PERC\": 45.45, \"AANSLUITINGEN_AANTAL\": 22, \"FYSIEKE_STATUS_PERC\": 100, \"SOORT_AANSLUITING_PERC\": 59.09, \"SOORT_AANSLUITING\": \"1x35\", \"SJV_GEMIDDELD\": 2742.23, \"SJV_LAAG_TARIEF_PERC\": 54.01, \"SLIMME_METER_PERC\": 72.73, \"JAAR\": 2021, \"PC4\": 6373, \"SJV_TOTAAL\": 60.0, \"RES\": \"Zuid-Limburg\"}], \"data-5270e98cefd06d71dcf2e3ada185ed24\": [{\"index\": 107373, \"NETBEHEERDER\": \"Enexis B.V.\", \"NETGEBIED\": \"ENEXIS\", \"STRAATNAAM\": \"Jacob Tilbusscherweg\", \"POSTCODE_VAN\": \"9998XB\", \"POSTCODE_TOT\": \"9998XB\", \"WOONPLAATS\": \"ROTTUM GN\", \"LANDCODE\": \"NL\", \"PRODUCTSOORT\": \"ELK\", \"VERBRUIKSSEGMENT\": \"KVB\", \"LEVERINGSRICHTING_PERC\": 100.0, \"AANSLUITINGEN_AANTAL\": 19, \"FYSIEKE_STATUS_PERC\": 100, \"SOORT_AANSLUITING_PERC\": 0.0, \"SOORT_AANSLUITING\": \"3X25\", \"SJV_GEMIDDELD\": 10191.0, \"SJV_LAAG_TARIEF_PERC\": 45.0, \"SLIMME_METER_PERC\": 0.0, \"JAAR\": 2010, \"PC4\": 9998, \"SJV_TOTAAL\": 194.0, \"RES\": \"Groningen\"}, {\"index\": 215672, \"NETBEHEERDER\": \"Enexis B.V.\", \"NETGEBIED\": \"ENEXIS\", \"STRAATNAAM\": \"Jacob Tilbusscherweg\", \"POSTCODE_VAN\": \"9998XB\", \"POSTCODE_TOT\": \"9998XB\", \"WOONPLAATS\": \"ROTTUM GN\", \"LANDCODE\": \"NL\", \"PRODUCTSOORT\": \"ELK\", \"VERBRUIKSSEGMENT\": \"KVB\", \"LEVERINGSRICHTING_PERC\": 100.0, \"AANSLUITINGEN_AANTAL\": 19, \"FYSIEKE_STATUS_PERC\": 100, \"SOORT_AANSLUITING_PERC\": 53.0, \"SOORT_AANSLUITING\": \"3X25\", \"SJV_GEMIDDELD\": 8421.0, \"SJV_LAAG_TARIEF_PERC\": 48.0, \"SLIMME_METER_PERC\": 0.0, \"JAAR\": 2011, \"PC4\": 9998, \"SJV_TOTAAL\": 160.0, \"RES\": \"Groningen\"}, {\"index\": 325480, \"NETBEHEERDER\": \"Enexis\", \"NETGEBIED\": \"ENEXIS\", \"STRAATNAAM\": \"Jacob Tilbusscherweg\", \"POSTCODE_VAN\": \"9998XB\", \"POSTCODE_TOT\": \"9998XB\", \"WOONPLAATS\": \"ROTTUM GN\", \"LANDCODE\": \"NL\", \"PRODUCTSOORT\": \"ELK\", \"VERBRUIKSSEGMENT\": \"KVB\", \"LEVERINGSRICHTING_PERC\": 100.0, \"AANSLUITINGEN_AANTAL\": 19, \"FYSIEKE_STATUS_PERC\": 100, \"SOORT_AANSLUITING_PERC\": 53.0, \"SOORT_AANSLUITING\": \"3X25\", \"SJV_GEMIDDELD\": 8958.0, \"SJV_LAAG_TARIEF_PERC\": 44.0, \"SLIMME_METER_PERC\": 0.0, \"JAAR\": 2012, \"PC4\": 9998, \"SJV_TOTAAL\": 170.0, \"RES\": \"Groningen\"}, {\"index\": 438728, \"NETBEHEERDER\": \"Enexis\", \"NETGEBIED\": \"ENEXIS\", \"STRAATNAAM\": \"Jacob Tilbusscherweg\", \"POSTCODE_VAN\": \"9998XB\", \"POSTCODE_TOT\": \"9998XB\", \"WOONPLAATS\": \"ROTTUM GN\", \"LANDCODE\": \"NL\", \"PRODUCTSOORT\": \"ELK\", \"VERBRUIKSSEGMENT\": \"KVB\", \"LEVERINGSRICHTING_PERC\": 100.0, \"AANSLUITINGEN_AANTAL\": 21, \"FYSIEKE_STATUS_PERC\": 100, \"SOORT_AANSLUITING_PERC\": 52.0, \"SOORT_AANSLUITING\": \"3X25\", \"SJV_GEMIDDELD\": 7985.0, \"SJV_LAAG_TARIEF_PERC\": 45.0, \"SLIMME_METER_PERC\": 0.0, \"JAAR\": 2013, \"PC4\": 9998, \"SJV_TOTAAL\": 168.0, \"RES\": \"Groningen\"}, {\"index\": 552372, \"NETBEHEERDER\": \"Enexis\", \"NETGEBIED\": \"ENEXIS\", \"STRAATNAAM\": \"Jacob Tilbusscherweg\", \"POSTCODE_VAN\": \"9998XB\", \"POSTCODE_TOT\": \"9998XB\", \"WOONPLAATS\": \"ROTTUM GN\", \"LANDCODE\": \"NL\", \"PRODUCTSOORT\": \"ELK\", \"VERBRUIKSSEGMENT\": \"KVB\", \"LEVERINGSRICHTING_PERC\": 100.0, \"AANSLUITINGEN_AANTAL\": 21, \"FYSIEKE_STATUS_PERC\": 100, \"SOORT_AANSLUITING_PERC\": 52.0, \"SOORT_AANSLUITING\": \"3X25\", \"SJV_GEMIDDELD\": 7823.0, \"SJV_LAAG_TARIEF_PERC\": 45.0, \"SLIMME_METER_PERC\": 5.0, \"JAAR\": 2014, \"PC4\": 9998, \"SJV_TOTAAL\": 164.0, \"RES\": \"Groningen\"}, {\"index\": 666361, \"NETBEHEERDER\": \"Enexis\", \"NETGEBIED\": \"ENEXIS\", \"STRAATNAAM\": \"Jacob Tilbusscherweg\", \"POSTCODE_VAN\": \"9998XB\", \"POSTCODE_TOT\": \"9998XB\", \"WOONPLAATS\": \"ROTTUM GN\", \"LANDCODE\": \"NL\", \"PRODUCTSOORT\": \"ELK\", \"VERBRUIKSSEGMENT\": \"KVB\", \"LEVERINGSRICHTING_PERC\": 95.0, \"AANSLUITINGEN_AANTAL\": 21, \"FYSIEKE_STATUS_PERC\": 100, \"SOORT_AANSLUITING_PERC\": 52.0, \"SOORT_AANSLUITING\": \"3X25\", \"SJV_GEMIDDELD\": 7830.0, \"SJV_LAAG_TARIEF_PERC\": 44.0, \"SLIMME_METER_PERC\": 19.0, \"JAAR\": 2015, \"PC4\": 9998, \"SJV_TOTAAL\": 164.0, \"RES\": \"Groningen\"}, {\"index\": 776938, \"NETBEHEERDER\": \"Enexis B.V.\", \"NETGEBIED\": \"ENEXIS\", \"STRAATNAAM\": \"Jacob Tilbusscherweg\", \"POSTCODE_VAN\": \"9998XB\", \"POSTCODE_TOT\": \"9998XB\", \"WOONPLAATS\": \"ROTTUM GN\", \"LANDCODE\": \"NL\", \"PRODUCTSOORT\": \"ELK\", \"VERBRUIKSSEGMENT\": \"KVB\", \"LEVERINGSRICHTING_PERC\": 85.0, \"AANSLUITINGEN_AANTAL\": 20, \"FYSIEKE_STATUS_PERC\": 100, \"SOORT_AANSLUITING_PERC\": 50.0, \"SOORT_AANSLUITING\": \"3x25\", \"SJV_GEMIDDELD\": 7786.0, \"SJV_LAAG_TARIEF_PERC\": 45.0, \"SLIMME_METER_PERC\": 20.0, \"JAAR\": 2016, \"PC4\": 9998, \"SJV_TOTAAL\": 156.0, \"RES\": \"Groningen\"}, {\"index\": 892512, \"NETBEHEERDER\": \"Enexis B.V.\", \"NETGEBIED\": \"ENEXIS\", \"STRAATNAAM\": \"Jacob Tilbusscherweg\", \"POSTCODE_VAN\": \"9998XB\", \"POSTCODE_TOT\": \"9998XB\", \"WOONPLAATS\": \"ROTTUM GN\", \"LANDCODE\": \"NL\", \"PRODUCTSOORT\": \"ELK\", \"VERBRUIKSSEGMENT\": \"KVB\", \"LEVERINGSRICHTING_PERC\": 81.0, \"AANSLUITINGEN_AANTAL\": 21, \"FYSIEKE_STATUS_PERC\": 100, \"SOORT_AANSLUITING_PERC\": 52.0, \"SOORT_AANSLUITING\": \"3x25\", \"SJV_GEMIDDELD\": 7428.0, \"SJV_LAAG_TARIEF_PERC\": 57.0, \"SLIMME_METER_PERC\": 33.0, \"JAAR\": 2017, \"PC4\": 9998, \"SJV_TOTAAL\": 156.0, \"RES\": \"Groningen\"}, {\"index\": 1016674, \"NETBEHEERDER\": \"Enexis B.V.\", \"NETGEBIED\": \"ENEXIS\", \"STRAATNAAM\": \"Jacob Tilbusscherweg\", \"POSTCODE_VAN\": \"9998XB\", \"POSTCODE_TOT\": \"9998XB\", \"WOONPLAATS\": \"ROTTUM GN\", \"LANDCODE\": \"NL\", \"PRODUCTSOORT\": \"ELK\", \"VERBRUIKSSEGMENT\": \"KVB\", \"LEVERINGSRICHTING_PERC\": 76.19, \"AANSLUITINGEN_AANTAL\": 21, \"FYSIEKE_STATUS_PERC\": 100, \"SOORT_AANSLUITING_PERC\": 52.38, \"SOORT_AANSLUITING\": \"3x25\", \"SJV_GEMIDDELD\": 7307.86, \"SJV_LAAG_TARIEF_PERC\": 50.38, \"SLIMME_METER_PERC\": 76.19, \"JAAR\": 2018, \"PC4\": 9998, \"SJV_TOTAAL\": 153.0, \"RES\": \"Groningen\"}, {\"index\": 1141260, \"NETBEHEERDER\": \"Enexis B.V.\", \"NETGEBIED\": \"ENEXIS\", \"STRAATNAAM\": \"Jacob Tilbusscherweg\", \"POSTCODE_VAN\": \"9998XB\", \"POSTCODE_TOT\": \"9998XB\", \"WOONPLAATS\": \"ROTTUM GN\", \"LANDCODE\": \"NL\", \"PRODUCTSOORT\": \"ELK\", \"VERBRUIKSSEGMENT\": \"KVB\", \"LEVERINGSRICHTING_PERC\": 76.19, \"AANSLUITINGEN_AANTAL\": 21, \"FYSIEKE_STATUS_PERC\": 100, \"SOORT_AANSLUITING_PERC\": 57.14, \"SOORT_AANSLUITING\": \"3x25\", \"SJV_GEMIDDELD\": 7034.57, \"SJV_LAAG_TARIEF_PERC\": 47.49, \"SLIMME_METER_PERC\": 76.19, \"JAAR\": 2019, \"PC4\": 9998, \"SJV_TOTAAL\": 148.0, \"RES\": \"Groningen\"}, {\"index\": 1266137, \"NETBEHEERDER\": \"Enexis B.V.\", \"NETGEBIED\": \"ENEXIS\", \"STRAATNAAM\": \"Jacob Tilbusscherweg\", \"POSTCODE_VAN\": \"9998XB\", \"POSTCODE_TOT\": \"9998XB\", \"WOONPLAATS\": \"ROTTUM GN\", \"LANDCODE\": \"NL\", \"PRODUCTSOORT\": \"ELK\", \"VERBRUIKSSEGMENT\": \"KVB\", \"LEVERINGSRICHTING_PERC\": 76.19, \"AANSLUITINGEN_AANTAL\": 21, \"FYSIEKE_STATUS_PERC\": 100, \"SOORT_AANSLUITING_PERC\": 61.9, \"SOORT_AANSLUITING\": \"3x25\", \"SJV_GEMIDDELD\": 7128.76, \"SJV_LAAG_TARIEF_PERC\": 46.84, \"SLIMME_METER_PERC\": 76.19, \"JAAR\": 2020, \"PC4\": 9998, \"SJV_TOTAAL\": 150.0, \"RES\": \"Groningen\"}, {\"index\": 1391385, \"NETBEHEERDER\": \"Enexis B.V.\", \"NETGEBIED\": \"ENEXIS\", \"STRAATNAAM\": \"Jacob Tilbusscherweg\", \"POSTCODE_VAN\": \"9998XB\", \"POSTCODE_TOT\": \"9998XB\", \"WOONPLAATS\": \"ROTTUM GN\", \"LANDCODE\": \"NL\", \"PRODUCTSOORT\": \"ELK\", \"VERBRUIKSSEGMENT\": \"KVB\", \"LEVERINGSRICHTING_PERC\": 66.67, \"AANSLUITINGEN_AANTAL\": 21, \"FYSIEKE_STATUS_PERC\": 100, \"SOORT_AANSLUITING_PERC\": 61.9, \"SOORT_AANSLUITING\": \"3x25\", \"SJV_GEMIDDELD\": 7390.48, \"SJV_LAAG_TARIEF_PERC\": 46.48, \"SLIMME_METER_PERC\": 85.71, \"JAAR\": 2021, \"PC4\": 9998, \"SJV_TOTAAL\": 155.0, \"RES\": \"Groningen\"}]}}, {\"mode\": \"vega-lite\"});\n",
       "</script>"
      ],
      "text/plain": [
       "alt.HConcatChart(...)"
      ]
     },
     "execution_count": 12,
     "metadata": {},
     "output_type": "execute_result"
    }
   ],
   "source": [
    "df1 =df_verbruik[df_verbruik['POSTCODE_VAN'] == '4251AB']\n",
    "df2 =df_verbruik[df_verbruik['POSTCODE_VAN'] == '6373HA']\n",
    "df3 =df_verbruik[df_verbruik['POSTCODE_VAN'] == '9998XB']\n",
    "\n",
    "\n",
    "pc6_1 = alt.Chart(df1.reset_index()).mark_line(clip=True).encode(\n",
    "                     alt.X('JAAR:T'),\n",
    "                     alt.Y('SJV_TOTAAL:Q'),\n",
    "                     ).properties(width=250,height=250)\n",
    "    \n",
    "pc6_2 = alt.Chart(df2.reset_index()).mark_line(clip=True).encode(\n",
    "                     alt.X('JAAR:T'),\n",
    "                     alt.Y('SJV_TOTAAL:Q'),\n",
    "                     ).properties(width=250,height=250)\n",
    "\n",
    "pc6_3 = alt.Chart(df3.reset_index()).mark_line(clip=True).encode(\n",
    "                     alt.X('JAAR:T'),\n",
    "                     alt.Y('SJV_TOTAAL:Q'),\n",
    "                     ).properties(width=250,height=250)\n",
    "\n",
    "\n",
    "pc6_1 | pc6_2 | pc6_3"
   ]
  },
  {
   "cell_type": "code",
   "execution_count": null,
   "metadata": {},
   "outputs": [],
   "source": []
  }
 ],
 "metadata": {
  "kernelspec": {
   "display_name": "Python 3",
   "language": "python",
   "name": "python3"
  },
  "language_info": {
   "codemirror_mode": {
    "name": "ipython",
    "version": 3
   },
   "file_extension": ".py",
   "mimetype": "text/x-python",
   "name": "python",
   "nbconvert_exporter": "python",
   "pygments_lexer": "ipython3",
   "version": "3.8.5"
  }
 },
 "nbformat": 4,
 "nbformat_minor": 5
}
