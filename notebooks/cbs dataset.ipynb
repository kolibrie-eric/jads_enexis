{
 "cells": [
  {
   "cell_type": "code",
   "execution_count": 1,
   "id": "pretty-france",
   "metadata": {},
   "outputs": [],
   "source": [
    "import pandas as pd\n",
    "import numpy as np\n",
    "import os"
   ]
  },
  {
   "cell_type": "code",
   "execution_count": 2,
   "id": "usual-secret",
   "metadata": {},
   "outputs": [],
   "source": [
    "# show all columns in the dataframe\n",
    "pd.set_option('max_columns', None)"
   ]
  },
  {
   "cell_type": "code",
   "execution_count": 3,
   "id": "recognized-texas",
   "metadata": {},
   "outputs": [],
   "source": [
    "# variables used in script\n",
    "# data locatie als het notebook voor de eerste keer wordt opgestart is 'notebooks'\n",
    "data_location = '../data/raw/'\n",
    "\n",
    "if 'raw' not in os.getcwd():\n",
    "    os.chdir(data_location)"
   ]
  },
  {
   "cell_type": "code",
   "execution_count": 4,
   "id": "informational-longer",
   "metadata": {},
   "outputs": [],
   "source": [
    "# file names\n",
    "files = ['CBS_PC4_2015_v2.csv',\n",
    "         'CBS_PC4_2016_v2.csv',\n",
    "         'CBS_PC4_2017_v3.csv',\n",
    "         'CBS_PC4_2018_v2.csv',\n",
    "         'CBS_PC4_2019_v1.csv']"
   ]
  },
  {
   "cell_type": "code",
   "execution_count": 7,
   "id": "minor-scientist",
   "metadata": {},
   "outputs": [
    {
     "name": "stdout",
     "output_type": "stream",
     "text": [
      "load file: CBS_PC4_2015_v2.csv\n",
      "load file: CBS_PC4_2016_v2.csv\n",
      "load file: CBS_PC4_2017_v3.csv\n",
      "load file: CBS_PC4_2018_v2.csv\n",
      "load file: CBS_PC4_2019_v1.csv\n"
     ]
    }
   ],
   "source": [
    "def load_data(files):\n",
    "    df = pd.DataFrame()\n",
    "    for j in files:\n",
    "        print('load file: ' + j)\n",
    "        appenddata = pd.read_csv(j)\n",
    "        appenddata['JAAR'] = j[8:12] # jaar uit file name halen\n",
    "        appenddata.columns = appenddata.columns.str.rstrip() # indien column names trailing spaces hebben\n",
    "        df = df.append(appenddata,ignore_index=True)\n",
    "    return df\n",
    "\n",
    "df = load_data(files)\n",
    "df['PC4'] = df['PC4'].astype('int64')\n",
    "df['JAAR'] = df['JAAR'].astype('int64')"
   ]
  },
  {
   "cell_type": "code",
   "execution_count": 8,
   "id": "spare-drawing",
   "metadata": {},
   "outputs": [],
   "source": [
    "# overbodige columns nog verwijderen"
   ]
  },
  {
   "cell_type": "code",
   "execution_count": 9,
   "id": "exotic-subject",
   "metadata": {},
   "outputs": [
    {
     "name": "stderr",
     "output_type": "stream",
     "text": [
      "C:\\Users\\MarcelKoolwijk\\anaconda3\\envs\\jads_enexis\\lib\\site-packages\\IPython\\core\\interactiveshell.py:3427: PerformanceWarning: \n",
      "your performance may suffer as PyTables will pickle object types that it cannot\n",
      "map directly to c-types [inferred_type->mixed,key->block2_values] [items->Index(['M_INKHH'], dtype='object')]\n",
      "\n",
      "  exec(code_obj, self.user_global_ns, self.user_ns)\n"
     ]
    }
   ],
   "source": [
    "# data locatie om de ht5 file op te slaan\n",
    "data_processed_location = '../processed'\n",
    "\n",
    "if 'processed' not in os.getcwd():\n",
    "    os.chdir(data_processed_location)\n",
    "    \n",
    "try:\n",
    "    os.remove('cbs_data.h5')\n",
    "except:\n",
    "    print ('File nog in gebruik of niet gevonden')\n",
    "\n",
    "store = pd.HDFStore('cbs_data.h5')\n",
    "store['cbs_data'] = df\n",
    "store.close()"
   ]
  },
  {
   "cell_type": "code",
   "execution_count": null,
   "id": "thousand-lotus",
   "metadata": {},
   "outputs": [],
   "source": []
  }
 ],
 "metadata": {
  "kernelspec": {
   "display_name": "Python [conda env:jads_enexis] *",
   "language": "python",
   "name": "conda-env-jads_enexis-py"
  },
  "language_info": {
   "codemirror_mode": {
    "name": "ipython",
    "version": 3
   },
   "file_extension": ".py",
   "mimetype": "text/x-python",
   "name": "python",
   "nbconvert_exporter": "python",
   "pygments_lexer": "ipython3",
   "version": "3.8.5"
  }
 },
 "nbformat": 4,
 "nbformat_minor": 5
}
